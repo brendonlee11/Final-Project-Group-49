{
 "cells": [
  {
   "cell_type": "markdown",
   "metadata": {},
   "source": [
    "Final Project\n",
    "\n",
    "Group Members: Brendon Lee (email here), Carly Ukalovic (cju8@pitt.edu), Judge Murwin (jwm110@pitt.edu)"
   ]
  },
  {
   "cell_type": "code",
   "execution_count": null,
   "metadata": {},
   "outputs": [],
   "source": []
  }
 ],
 "metadata": {
  "kernelspec": {
   "display_name": "Python 3",
   "language": "python",
   "name": "python3"
  },
  "language_info": {
   "codemirror_mode": {
    "name": "ipython",
    "version": 3
   },
   "file_extension": ".py",
   "mimetype": "text/x-python",
   "name": "python",
   "nbconvert_exporter": "python",
   "pygments_lexer": "ipython3",
   
   
   "version": "3.8.3"
  }
 },
 "nbformat": 4,
 "nbformat_minor": 4
}
{
 "cells": [
  {
   "cell_type": "markdown",
   "metadata": {},
   "source": [
    "# Introduction"
   ]
  },
  {
   "cell_type": "markdown",
   "metadata": {},
   "source": [
    "As I searched through the many datasets provided by WPRDC, I came across 311 data. I found this to be the most interesting to me as it is mobile requests made by people in the neighborhoods of Pittsburgh. Not only was I interested in finding out what type of 311 calls were made but what neighborhoods had the most and least. I specifically looked at the neighborhoods and the amount of requests made. Overall, this helped me find the safest neighborhood in Pittsburgh in terms of quieteness, since a neighborhood with a low amount of 311 requests is a quieter neighborhood than one with more requests. "
   ]
  },
  {
   "cell_type": "markdown",
   "metadata": {},
   "source": [
    "Import"
   ]
  },
  {
   "cell_type": "code",
   "execution_count": 8,
   "metadata": {},
   "outputs": [],
   "source": [
    "import pandas as pd\n",
    "import numpy as np\n",
    "import geopandas as gpd\n",
    "%matplotlib inline\n",
    "import matplotlib.pyplot as plt"
   ]
  },
  {
   "cell_type": "markdown",
   "metadata": {},
   "source": [
    "# 311 Dataset"
   ]
  },
  {
   "cell_type": "markdown",
   "metadata": {},
   "source": [
    "311 service requests in Pittsburgh. Requests are collected from the following: phone calls, tweets, emails, a form on the City website, and through the 311 mobile application"
   ]
  },
  {
   "cell_type": "code",
   "execution_count": 9,
   "metadata": {},
   "outputs": [
    {
     "data": {
      "text/html": [
       "<div>\n",
       "<style scoped>\n",
       "    .dataframe tbody tr th:only-of-type {\n",
       "        vertical-align: middle;\n",
       "    }\n",
       "\n",
       "    .dataframe tbody tr th {\n",
       "        vertical-align: top;\n",
       "    }\n",
       "\n",
       "    .dataframe thead th {\n",
       "        text-align: right;\n",
       "    }\n",
       "</style>\n",
       "<table border=\"1\" class=\"dataframe\">\n",
       "  <thead>\n",
       "    <tr style=\"text-align: right;\">\n",
       "      <th></th>\n",
       "      <th>CREATED_ON</th>\n",
       "      <th>REQUEST_TYPE</th>\n",
       "      <th>REQUEST_ORIGIN</th>\n",
       "      <th>STATUS</th>\n",
       "      <th>DEPARTMENT</th>\n",
       "      <th>NEIGHBORHOOD</th>\n",
       "      <th>COUNCIL_DISTRICT</th>\n",
       "      <th>WARD</th>\n",
       "      <th>TRACT</th>\n",
       "      <th>PUBLIC_WORKS_DIVISION</th>\n",
       "      <th>PLI_DIVISION</th>\n",
       "      <th>POLICE_ZONE</th>\n",
       "      <th>FIRE_ZONE</th>\n",
       "      <th>X</th>\n",
       "      <th>Y</th>\n",
       "      <th>GEO_ACCURACY</th>\n",
       "    </tr>\n",
       "    <tr>\n",
       "      <th>REQUEST_ID</th>\n",
       "      <th></th>\n",
       "      <th></th>\n",
       "      <th></th>\n",
       "      <th></th>\n",
       "      <th></th>\n",
       "      <th></th>\n",
       "      <th></th>\n",
       "      <th></th>\n",
       "      <th></th>\n",
       "      <th></th>\n",
       "      <th></th>\n",
       "      <th></th>\n",
       "      <th></th>\n",
       "      <th></th>\n",
       "      <th></th>\n",
       "      <th></th>\n",
       "    </tr>\n",
       "  </thead>\n",
       "  <tbody>\n",
       "    <tr>\n",
       "      <th>203364.0</th>\n",
       "      <td>2017-12-15T14:53:00</td>\n",
       "      <td>Street Obstruction/Closure</td>\n",
       "      <td>Call Center</td>\n",
       "      <td>1</td>\n",
       "      <td>DOMI - Permits</td>\n",
       "      <td>Central Northside</td>\n",
       "      <td>1.0</td>\n",
       "      <td>22.0</td>\n",
       "      <td>4.200322e+10</td>\n",
       "      <td>1.0</td>\n",
       "      <td>22.0</td>\n",
       "      <td>1.0</td>\n",
       "      <td>1-7</td>\n",
       "      <td>-80.016716</td>\n",
       "      <td>40.454144</td>\n",
       "      <td>EXACT</td>\n",
       "    </tr>\n",
       "    <tr>\n",
       "      <th>200800.0</th>\n",
       "      <td>2017-11-29T09:54:00</td>\n",
       "      <td>Graffiti</td>\n",
       "      <td>Control Panel</td>\n",
       "      <td>1</td>\n",
       "      <td>Police - Zones 1-6</td>\n",
       "      <td>South Side Flats</td>\n",
       "      <td>3.0</td>\n",
       "      <td>16.0</td>\n",
       "      <td>4.200316e+10</td>\n",
       "      <td>3.0</td>\n",
       "      <td>16.0</td>\n",
       "      <td>3.0</td>\n",
       "      <td>4-24</td>\n",
       "      <td>-79.969952</td>\n",
       "      <td>40.429243</td>\n",
       "      <td>APPROXIMATE</td>\n",
       "    </tr>\n",
       "    <tr>\n",
       "      <th>201310.0</th>\n",
       "      <td>2017-12-01T13:23:00</td>\n",
       "      <td>Litter</td>\n",
       "      <td>Call Center</td>\n",
       "      <td>1</td>\n",
       "      <td>DPW - Street Maintenance</td>\n",
       "      <td>Troy Hill</td>\n",
       "      <td>1.0</td>\n",
       "      <td>24.0</td>\n",
       "      <td>4.200324e+10</td>\n",
       "      <td>1.0</td>\n",
       "      <td>24.0</td>\n",
       "      <td>1.0</td>\n",
       "      <td>1-2</td>\n",
       "      <td>-79.985859</td>\n",
       "      <td>40.459716</td>\n",
       "      <td>EXACT</td>\n",
       "    </tr>\n",
       "    <tr>\n",
       "      <th>200171.0</th>\n",
       "      <td>2017-11-22T14:54:00</td>\n",
       "      <td>Water Main Break</td>\n",
       "      <td>Call Center</td>\n",
       "      <td>1</td>\n",
       "      <td>Pittsburgh Water and Sewer Authority</td>\n",
       "      <td>Banksville</td>\n",
       "      <td>2.0</td>\n",
       "      <td>20.0</td>\n",
       "      <td>4.200320e+10</td>\n",
       "      <td>5.0</td>\n",
       "      <td>20.0</td>\n",
       "      <td>6.0</td>\n",
       "      <td>4-9</td>\n",
       "      <td>-80.034210</td>\n",
       "      <td>40.406969</td>\n",
       "      <td>EXACT</td>\n",
       "    </tr>\n",
       "    <tr>\n",
       "      <th>193043.0</th>\n",
       "      <td>2017-10-12T12:46:00</td>\n",
       "      <td>Guide Rail</td>\n",
       "      <td>Call Center</td>\n",
       "      <td>1</td>\n",
       "      <td>DPW - Construction Division</td>\n",
       "      <td>East Hills</td>\n",
       "      <td>9.0</td>\n",
       "      <td>13.0</td>\n",
       "      <td>4.200313e+10</td>\n",
       "      <td>2.0</td>\n",
       "      <td>13.0</td>\n",
       "      <td>5.0</td>\n",
       "      <td>3-19</td>\n",
       "      <td>-79.876582</td>\n",
       "      <td>40.451226</td>\n",
       "      <td>EXACT</td>\n",
       "    </tr>\n",
       "    <tr>\n",
       "      <th>...</th>\n",
       "      <td>...</td>\n",
       "      <td>...</td>\n",
       "      <td>...</td>\n",
       "      <td>...</td>\n",
       "      <td>...</td>\n",
       "      <td>...</td>\n",
       "      <td>...</td>\n",
       "      <td>...</td>\n",
       "      <td>...</td>\n",
       "      <td>...</td>\n",
       "      <td>...</td>\n",
       "      <td>...</td>\n",
       "      <td>...</td>\n",
       "      <td>...</td>\n",
       "      <td>...</td>\n",
       "      <td>...</td>\n",
       "    </tr>\n",
       "    <tr>\n",
       "      <th>585669.0</th>\n",
       "      <td>2021-12-07T16:54:00</td>\n",
       "      <td>City Facility</td>\n",
       "      <td>Call Center</td>\n",
       "      <td>0</td>\n",
       "      <td>DPW - Facilities</td>\n",
       "      <td>Brighton Heights</td>\n",
       "      <td>1.0</td>\n",
       "      <td>27.0</td>\n",
       "      <td>4.200327e+10</td>\n",
       "      <td>1.0</td>\n",
       "      <td>27.0</td>\n",
       "      <td>1.0</td>\n",
       "      <td>1-14</td>\n",
       "      <td>-80.035896</td>\n",
       "      <td>40.479149</td>\n",
       "      <td>EXACT</td>\n",
       "    </tr>\n",
       "    <tr>\n",
       "      <th>585670.0</th>\n",
       "      <td>2021-12-07T16:57:00</td>\n",
       "      <td>Question</td>\n",
       "      <td>Call Center</td>\n",
       "      <td>1</td>\n",
       "      <td>311</td>\n",
       "      <td>NaN</td>\n",
       "      <td>NaN</td>\n",
       "      <td>NaN</td>\n",
       "      <td>NaN</td>\n",
       "      <td>NaN</td>\n",
       "      <td>NaN</td>\n",
       "      <td>NaN</td>\n",
       "      <td>NaN</td>\n",
       "      <td>NaN</td>\n",
       "      <td>NaN</td>\n",
       "      <td>OUT_OF_BOUNDS</td>\n",
       "    </tr>\n",
       "    <tr>\n",
       "      <th>585671.0</th>\n",
       "      <td>2021-12-07T17:02:00</td>\n",
       "      <td>Weeds/Debris</td>\n",
       "      <td>Call Center</td>\n",
       "      <td>0</td>\n",
       "      <td>Permits, Licenses and Inspections</td>\n",
       "      <td>Swisshelm Park</td>\n",
       "      <td>5.0</td>\n",
       "      <td>14.0</td>\n",
       "      <td>4.200314e+10</td>\n",
       "      <td>3.0</td>\n",
       "      <td>14.0</td>\n",
       "      <td>4.0</td>\n",
       "      <td>2-19</td>\n",
       "      <td>-79.898695</td>\n",
       "      <td>40.420577</td>\n",
       "      <td>EXACT</td>\n",
       "    </tr>\n",
       "    <tr>\n",
       "      <th>585672.0</th>\n",
       "      <td>2021-12-07T17:04:00</td>\n",
       "      <td>Fence</td>\n",
       "      <td>Call Center</td>\n",
       "      <td>0</td>\n",
       "      <td>DOMI - Construction</td>\n",
       "      <td>Brookline</td>\n",
       "      <td>4.0</td>\n",
       "      <td>19.0</td>\n",
       "      <td>4.200319e+10</td>\n",
       "      <td>5.0</td>\n",
       "      <td>19.0</td>\n",
       "      <td>6.0</td>\n",
       "      <td>4-26</td>\n",
       "      <td>-80.026374</td>\n",
       "      <td>40.397909</td>\n",
       "      <td>EXACT</td>\n",
       "    </tr>\n",
       "    <tr>\n",
       "      <th>585673.0</th>\n",
       "      <td>2021-12-07T17:05:00</td>\n",
       "      <td>Abandoned Vehicle (parked on street)</td>\n",
       "      <td>Call Center</td>\n",
       "      <td>0</td>\n",
       "      <td>Police - AVU</td>\n",
       "      <td>East Hills</td>\n",
       "      <td>9.0</td>\n",
       "      <td>13.0</td>\n",
       "      <td>4.200313e+10</td>\n",
       "      <td>2.0</td>\n",
       "      <td>13.0</td>\n",
       "      <td>5.0</td>\n",
       "      <td>3-19</td>\n",
       "      <td>-79.871421</td>\n",
       "      <td>40.453169</td>\n",
       "      <td>APPROXIMATE</td>\n",
       "    </tr>\n",
       "  </tbody>\n",
       "</table>\n",
       "<p>567690 rows × 16 columns</p>\n",
       "</div>"
      ],
      "text/plain": [
       "                     CREATED_ON                          REQUEST_TYPE  \\\n",
       "REQUEST_ID                                                              \n",
       "203364.0    2017-12-15T14:53:00            Street Obstruction/Closure   \n",
       "200800.0    2017-11-29T09:54:00                              Graffiti   \n",
       "201310.0    2017-12-01T13:23:00                                Litter   \n",
       "200171.0    2017-11-22T14:54:00                      Water Main Break   \n",
       "193043.0    2017-10-12T12:46:00                            Guide Rail   \n",
       "...                         ...                                   ...   \n",
       "585669.0    2021-12-07T16:54:00                         City Facility   \n",
       "585670.0    2021-12-07T16:57:00                              Question   \n",
       "585671.0    2021-12-07T17:02:00                          Weeds/Debris   \n",
       "585672.0    2021-12-07T17:04:00                                 Fence   \n",
       "585673.0    2021-12-07T17:05:00  Abandoned Vehicle (parked on street)   \n",
       "\n",
       "           REQUEST_ORIGIN  STATUS                            DEPARTMENT  \\\n",
       "REQUEST_ID                                                                \n",
       "203364.0      Call Center       1                        DOMI - Permits   \n",
       "200800.0    Control Panel       1                    Police - Zones 1-6   \n",
       "201310.0      Call Center       1              DPW - Street Maintenance   \n",
       "200171.0      Call Center       1  Pittsburgh Water and Sewer Authority   \n",
       "193043.0      Call Center       1           DPW - Construction Division   \n",
       "...                   ...     ...                                   ...   \n",
       "585669.0      Call Center       0                      DPW - Facilities   \n",
       "585670.0      Call Center       1                                   311   \n",
       "585671.0      Call Center       0     Permits, Licenses and Inspections   \n",
       "585672.0      Call Center       0                   DOMI - Construction   \n",
       "585673.0      Call Center       0                          Police - AVU   \n",
       "\n",
       "                 NEIGHBORHOOD  COUNCIL_DISTRICT  WARD         TRACT  \\\n",
       "REQUEST_ID                                                            \n",
       "203364.0    Central Northside               1.0  22.0  4.200322e+10   \n",
       "200800.0     South Side Flats               3.0  16.0  4.200316e+10   \n",
       "201310.0            Troy Hill               1.0  24.0  4.200324e+10   \n",
       "200171.0           Banksville               2.0  20.0  4.200320e+10   \n",
       "193043.0           East Hills               9.0  13.0  4.200313e+10   \n",
       "...                       ...               ...   ...           ...   \n",
       "585669.0     Brighton Heights               1.0  27.0  4.200327e+10   \n",
       "585670.0                  NaN               NaN   NaN           NaN   \n",
       "585671.0       Swisshelm Park               5.0  14.0  4.200314e+10   \n",
       "585672.0            Brookline               4.0  19.0  4.200319e+10   \n",
       "585673.0           East Hills               9.0  13.0  4.200313e+10   \n",
       "\n",
       "            PUBLIC_WORKS_DIVISION  PLI_DIVISION  POLICE_ZONE FIRE_ZONE  \\\n",
       "REQUEST_ID                                                               \n",
       "203364.0                      1.0          22.0          1.0       1-7   \n",
       "200800.0                      3.0          16.0          3.0      4-24   \n",
       "201310.0                      1.0          24.0          1.0       1-2   \n",
       "200171.0                      5.0          20.0          6.0       4-9   \n",
       "193043.0                      2.0          13.0          5.0      3-19   \n",
       "...                           ...           ...          ...       ...   \n",
       "585669.0                      1.0          27.0          1.0      1-14   \n",
       "585670.0                      NaN           NaN          NaN       NaN   \n",
       "585671.0                      3.0          14.0          4.0      2-19   \n",
       "585672.0                      5.0          19.0          6.0      4-26   \n",
       "585673.0                      2.0          13.0          5.0      3-19   \n",
       "\n",
       "                    X          Y   GEO_ACCURACY  \n",
       "REQUEST_ID                                       \n",
       "203364.0   -80.016716  40.454144          EXACT  \n",
       "200800.0   -79.969952  40.429243    APPROXIMATE  \n",
       "201310.0   -79.985859  40.459716          EXACT  \n",
       "200171.0   -80.034210  40.406969          EXACT  \n",
       "193043.0   -79.876582  40.451226          EXACT  \n",
       "...               ...        ...            ...  \n",
       "585669.0   -80.035896  40.479149          EXACT  \n",
       "585670.0          NaN        NaN  OUT_OF_BOUNDS  \n",
       "585671.0   -79.898695  40.420577          EXACT  \n",
       "585672.0   -80.026374  40.397909          EXACT  \n",
       "585673.0   -79.871421  40.453169    APPROXIMATE  \n",
       "\n",
       "[567690 rows x 16 columns]"
      ]
     },
     "execution_count": 9,
     "metadata": {},
     "output_type": "execute_result"
    }
   ],
   "source": [
    "# importing data\n",
    "pgh_311_data = pd.read_csv('https://data.wprdc.org/datastore/dump/76fda9d0-69be-4dd5-8108-0de7907fc5a4', index_col = \"REQUEST_ID\")\n",
    "pgh_311_data"
   ]
  },
  {
   "cell_type": "markdown",
   "metadata": {},
   "source": [
    "# Neighborhood with the most 311 call requests"
   ]
  },
  {
   "cell_type": "code",
   "execution_count": 14,
   "metadata": {},
   "outputs": [
    {
     "data": {
      "text/plain": [
       "Brookline               22791\n",
       "Carrick                 21773\n",
       "Squirrel Hill South     18925\n",
       "South Side Slopes       18522\n",
       "South Side Flats        16852\n",
       "                        ...  \n",
       "East Carnegie             533\n",
       "Northview Heights         527\n",
       "Glen Hazel                370\n",
       "Arlington Heights         113\n",
       "Mount Oliver Borough       61\n",
       "Name: NEIGHBORHOOD, Length: 91, dtype: int64"
      ]
     },
     "execution_count": 14,
     "metadata": {},
     "output_type": "execute_result"
    }
   ],
   "source": [
    "pgh_311_data['NEIGHBORHOOD'].value_counts().sort_values(ascending = False)"
   ]
  },
  {
   "cell_type": "markdown",
   "metadata": {},
   "source": [
    "Since we want the most up to date information on the status of the 311 requests where 0 = new, according to the Data Dictionary, we will filter out the dataset"
   ]
  },
  {
   "cell_type": "code",
   "execution_count": 15,
   "metadata": {},
   "outputs": [
    {
     "data": {
      "text/html": [
       "<div>\n",
       "<style scoped>\n",
       "    .dataframe tbody tr th:only-of-type {\n",
       "        vertical-align: middle;\n",
       "    }\n",
       "\n",
       "    .dataframe tbody tr th {\n",
       "        vertical-align: top;\n",
       "    }\n",
       "\n",
       "    .dataframe thead th {\n",
       "        text-align: right;\n",
       "    }\n",
       "</style>\n",
       "<table border=\"1\" class=\"dataframe\">\n",
       "  <thead>\n",
       "    <tr style=\"text-align: right;\">\n",
       "      <th></th>\n",
       "      <th>CREATED_ON</th>\n",
       "      <th>REQUEST_TYPE</th>\n",
       "      <th>REQUEST_ORIGIN</th>\n",
       "      <th>STATUS</th>\n",
       "      <th>DEPARTMENT</th>\n",
       "      <th>NEIGHBORHOOD</th>\n",
       "      <th>COUNCIL_DISTRICT</th>\n",
       "      <th>WARD</th>\n",
       "      <th>TRACT</th>\n",
       "      <th>PUBLIC_WORKS_DIVISION</th>\n",
       "      <th>PLI_DIVISION</th>\n",
       "      <th>POLICE_ZONE</th>\n",
       "      <th>FIRE_ZONE</th>\n",
       "      <th>X</th>\n",
       "      <th>Y</th>\n",
       "      <th>GEO_ACCURACY</th>\n",
       "    </tr>\n",
       "    <tr>\n",
       "      <th>REQUEST_ID</th>\n",
       "      <th></th>\n",
       "      <th></th>\n",
       "      <th></th>\n",
       "      <th></th>\n",
       "      <th></th>\n",
       "      <th></th>\n",
       "      <th></th>\n",
       "      <th></th>\n",
       "      <th></th>\n",
       "      <th></th>\n",
       "      <th></th>\n",
       "      <th></th>\n",
       "      <th></th>\n",
       "      <th></th>\n",
       "      <th></th>\n",
       "      <th></th>\n",
       "    </tr>\n",
       "  </thead>\n",
       "  <tbody>\n",
       "    <tr>\n",
       "      <th>179176.0</th>\n",
       "      <td>2017-08-14T14:00:00</td>\n",
       "      <td>Neighborhood Issues</td>\n",
       "      <td>Control Panel</td>\n",
       "      <td>0</td>\n",
       "      <td>NaN</td>\n",
       "      <td>Middle Hill</td>\n",
       "      <td>6.0</td>\n",
       "      <td>5.0</td>\n",
       "      <td>4.200305e+10</td>\n",
       "      <td>3.0</td>\n",
       "      <td>5.0</td>\n",
       "      <td>2.0</td>\n",
       "      <td>2-1</td>\n",
       "      <td>-79.977726</td>\n",
       "      <td>40.446142</td>\n",
       "      <td>APPROXIMATE</td>\n",
       "    </tr>\n",
       "    <tr>\n",
       "      <th>182748.0</th>\n",
       "      <td>2017-08-28T12:49:00</td>\n",
       "      <td>Abandoned Vehicle (parked on street)</td>\n",
       "      <td>Control Panel</td>\n",
       "      <td>0</td>\n",
       "      <td>Police - AVU</td>\n",
       "      <td>Brighton Heights</td>\n",
       "      <td>1.0</td>\n",
       "      <td>27.0</td>\n",
       "      <td>4.200327e+10</td>\n",
       "      <td>1.0</td>\n",
       "      <td>27.0</td>\n",
       "      <td>1.0</td>\n",
       "      <td>1-14</td>\n",
       "      <td>-80.029944</td>\n",
       "      <td>40.486596</td>\n",
       "      <td>APPROXIMATE</td>\n",
       "    </tr>\n",
       "    <tr>\n",
       "      <th>184662.0</th>\n",
       "      <td>2017-09-05T13:49:00</td>\n",
       "      <td>Abandoned Vehicle (parked on street)</td>\n",
       "      <td>Call Center</td>\n",
       "      <td>0</td>\n",
       "      <td>Police - AVU</td>\n",
       "      <td>Marshall-Shadeland</td>\n",
       "      <td>1.0</td>\n",
       "      <td>27.0</td>\n",
       "      <td>4.200327e+10</td>\n",
       "      <td>1.0</td>\n",
       "      <td>27.0</td>\n",
       "      <td>1.0</td>\n",
       "      <td>1-14</td>\n",
       "      <td>-80.027634</td>\n",
       "      <td>40.470334</td>\n",
       "      <td>APPROXIMATE</td>\n",
       "    </tr>\n",
       "    <tr>\n",
       "      <th>167825.0</th>\n",
       "      <td>2017-07-06T15:26:00</td>\n",
       "      <td>Illegal Dumping</td>\n",
       "      <td>Control Panel</td>\n",
       "      <td>0</td>\n",
       "      <td>DOMI - Permits</td>\n",
       "      <td>East Allegheny</td>\n",
       "      <td>1.0</td>\n",
       "      <td>23.0</td>\n",
       "      <td>4.200356e+10</td>\n",
       "      <td>1.0</td>\n",
       "      <td>23.0</td>\n",
       "      <td>1.0</td>\n",
       "      <td>1-20</td>\n",
       "      <td>-79.997763</td>\n",
       "      <td>40.452695</td>\n",
       "      <td>APPROXIMATE</td>\n",
       "    </tr>\n",
       "    <tr>\n",
       "      <th>170189.0</th>\n",
       "      <td>2017-07-14T15:37:00</td>\n",
       "      <td>Mayor's Office</td>\n",
       "      <td>Call Center</td>\n",
       "      <td>0</td>\n",
       "      <td>311</td>\n",
       "      <td>Bloomfield</td>\n",
       "      <td>7.0</td>\n",
       "      <td>8.0</td>\n",
       "      <td>4.200308e+10</td>\n",
       "      <td>2.0</td>\n",
       "      <td>8.0</td>\n",
       "      <td>5.0</td>\n",
       "      <td>2-23</td>\n",
       "      <td>-79.948119</td>\n",
       "      <td>40.455066</td>\n",
       "      <td>APPROXIMATE</td>\n",
       "    </tr>\n",
       "    <tr>\n",
       "      <th>...</th>\n",
       "      <td>...</td>\n",
       "      <td>...</td>\n",
       "      <td>...</td>\n",
       "      <td>...</td>\n",
       "      <td>...</td>\n",
       "      <td>...</td>\n",
       "      <td>...</td>\n",
       "      <td>...</td>\n",
       "      <td>...</td>\n",
       "      <td>...</td>\n",
       "      <td>...</td>\n",
       "      <td>...</td>\n",
       "      <td>...</td>\n",
       "      <td>...</td>\n",
       "      <td>...</td>\n",
       "      <td>...</td>\n",
       "    </tr>\n",
       "    <tr>\n",
       "      <th>585668.0</th>\n",
       "      <td>2021-12-07T16:43:00</td>\n",
       "      <td>Misconduct/City Employee</td>\n",
       "      <td>Call Center</td>\n",
       "      <td>0</td>\n",
       "      <td>OMI</td>\n",
       "      <td>Brookline</td>\n",
       "      <td>4.0</td>\n",
       "      <td>32.0</td>\n",
       "      <td>4.200332e+10</td>\n",
       "      <td>5.0</td>\n",
       "      <td>32.0</td>\n",
       "      <td>6.0</td>\n",
       "      <td>4-25</td>\n",
       "      <td>-80.002462</td>\n",
       "      <td>40.398879</td>\n",
       "      <td>APPROXIMATE</td>\n",
       "    </tr>\n",
       "    <tr>\n",
       "      <th>585669.0</th>\n",
       "      <td>2021-12-07T16:54:00</td>\n",
       "      <td>City Facility</td>\n",
       "      <td>Call Center</td>\n",
       "      <td>0</td>\n",
       "      <td>DPW - Facilities</td>\n",
       "      <td>Brighton Heights</td>\n",
       "      <td>1.0</td>\n",
       "      <td>27.0</td>\n",
       "      <td>4.200327e+10</td>\n",
       "      <td>1.0</td>\n",
       "      <td>27.0</td>\n",
       "      <td>1.0</td>\n",
       "      <td>1-14</td>\n",
       "      <td>-80.035896</td>\n",
       "      <td>40.479149</td>\n",
       "      <td>EXACT</td>\n",
       "    </tr>\n",
       "    <tr>\n",
       "      <th>585671.0</th>\n",
       "      <td>2021-12-07T17:02:00</td>\n",
       "      <td>Weeds/Debris</td>\n",
       "      <td>Call Center</td>\n",
       "      <td>0</td>\n",
       "      <td>Permits, Licenses and Inspections</td>\n",
       "      <td>Swisshelm Park</td>\n",
       "      <td>5.0</td>\n",
       "      <td>14.0</td>\n",
       "      <td>4.200314e+10</td>\n",
       "      <td>3.0</td>\n",
       "      <td>14.0</td>\n",
       "      <td>4.0</td>\n",
       "      <td>2-19</td>\n",
       "      <td>-79.898695</td>\n",
       "      <td>40.420577</td>\n",
       "      <td>EXACT</td>\n",
       "    </tr>\n",
       "    <tr>\n",
       "      <th>585672.0</th>\n",
       "      <td>2021-12-07T17:04:00</td>\n",
       "      <td>Fence</td>\n",
       "      <td>Call Center</td>\n",
       "      <td>0</td>\n",
       "      <td>DOMI - Construction</td>\n",
       "      <td>Brookline</td>\n",
       "      <td>4.0</td>\n",
       "      <td>19.0</td>\n",
       "      <td>4.200319e+10</td>\n",
       "      <td>5.0</td>\n",
       "      <td>19.0</td>\n",
       "      <td>6.0</td>\n",
       "      <td>4-26</td>\n",
       "      <td>-80.026374</td>\n",
       "      <td>40.397909</td>\n",
       "      <td>EXACT</td>\n",
       "    </tr>\n",
       "    <tr>\n",
       "      <th>585673.0</th>\n",
       "      <td>2021-12-07T17:05:00</td>\n",
       "      <td>Abandoned Vehicle (parked on street)</td>\n",
       "      <td>Call Center</td>\n",
       "      <td>0</td>\n",
       "      <td>Police - AVU</td>\n",
       "      <td>East Hills</td>\n",
       "      <td>9.0</td>\n",
       "      <td>13.0</td>\n",
       "      <td>4.200313e+10</td>\n",
       "      <td>2.0</td>\n",
       "      <td>13.0</td>\n",
       "      <td>5.0</td>\n",
       "      <td>3-19</td>\n",
       "      <td>-79.871421</td>\n",
       "      <td>40.453169</td>\n",
       "      <td>APPROXIMATE</td>\n",
       "    </tr>\n",
       "  </tbody>\n",
       "</table>\n",
       "<p>31945 rows × 16 columns</p>\n",
       "</div>"
      ],
      "text/plain": [
       "                     CREATED_ON                          REQUEST_TYPE  \\\n",
       "REQUEST_ID                                                              \n",
       "179176.0    2017-08-14T14:00:00                   Neighborhood Issues   \n",
       "182748.0    2017-08-28T12:49:00  Abandoned Vehicle (parked on street)   \n",
       "184662.0    2017-09-05T13:49:00  Abandoned Vehicle (parked on street)   \n",
       "167825.0    2017-07-06T15:26:00                       Illegal Dumping   \n",
       "170189.0    2017-07-14T15:37:00                        Mayor's Office   \n",
       "...                         ...                                   ...   \n",
       "585668.0    2021-12-07T16:43:00              Misconduct/City Employee   \n",
       "585669.0    2021-12-07T16:54:00                         City Facility   \n",
       "585671.0    2021-12-07T17:02:00                          Weeds/Debris   \n",
       "585672.0    2021-12-07T17:04:00                                 Fence   \n",
       "585673.0    2021-12-07T17:05:00  Abandoned Vehicle (parked on street)   \n",
       "\n",
       "           REQUEST_ORIGIN  STATUS                         DEPARTMENT  \\\n",
       "REQUEST_ID                                                             \n",
       "179176.0    Control Panel       0                                NaN   \n",
       "182748.0    Control Panel       0                       Police - AVU   \n",
       "184662.0      Call Center       0                       Police - AVU   \n",
       "167825.0    Control Panel       0                     DOMI - Permits   \n",
       "170189.0      Call Center       0                                311   \n",
       "...                   ...     ...                                ...   \n",
       "585668.0      Call Center       0                                OMI   \n",
       "585669.0      Call Center       0                   DPW - Facilities   \n",
       "585671.0      Call Center       0  Permits, Licenses and Inspections   \n",
       "585672.0      Call Center       0                DOMI - Construction   \n",
       "585673.0      Call Center       0                       Police - AVU   \n",
       "\n",
       "                  NEIGHBORHOOD  COUNCIL_DISTRICT  WARD         TRACT  \\\n",
       "REQUEST_ID                                                             \n",
       "179176.0           Middle Hill               6.0   5.0  4.200305e+10   \n",
       "182748.0      Brighton Heights               1.0  27.0  4.200327e+10   \n",
       "184662.0    Marshall-Shadeland               1.0  27.0  4.200327e+10   \n",
       "167825.0        East Allegheny               1.0  23.0  4.200356e+10   \n",
       "170189.0            Bloomfield               7.0   8.0  4.200308e+10   \n",
       "...                        ...               ...   ...           ...   \n",
       "585668.0             Brookline               4.0  32.0  4.200332e+10   \n",
       "585669.0      Brighton Heights               1.0  27.0  4.200327e+10   \n",
       "585671.0        Swisshelm Park               5.0  14.0  4.200314e+10   \n",
       "585672.0             Brookline               4.0  19.0  4.200319e+10   \n",
       "585673.0            East Hills               9.0  13.0  4.200313e+10   \n",
       "\n",
       "            PUBLIC_WORKS_DIVISION  PLI_DIVISION  POLICE_ZONE FIRE_ZONE  \\\n",
       "REQUEST_ID                                                               \n",
       "179176.0                      3.0           5.0          2.0       2-1   \n",
       "182748.0                      1.0          27.0          1.0      1-14   \n",
       "184662.0                      1.0          27.0          1.0      1-14   \n",
       "167825.0                      1.0          23.0          1.0      1-20   \n",
       "170189.0                      2.0           8.0          5.0      2-23   \n",
       "...                           ...           ...          ...       ...   \n",
       "585668.0                      5.0          32.0          6.0      4-25   \n",
       "585669.0                      1.0          27.0          1.0      1-14   \n",
       "585671.0                      3.0          14.0          4.0      2-19   \n",
       "585672.0                      5.0          19.0          6.0      4-26   \n",
       "585673.0                      2.0          13.0          5.0      3-19   \n",
       "\n",
       "                    X          Y GEO_ACCURACY  \n",
       "REQUEST_ID                                     \n",
       "179176.0   -79.977726  40.446142  APPROXIMATE  \n",
       "182748.0   -80.029944  40.486596  APPROXIMATE  \n",
       "184662.0   -80.027634  40.470334  APPROXIMATE  \n",
       "167825.0   -79.997763  40.452695  APPROXIMATE  \n",
       "170189.0   -79.948119  40.455066  APPROXIMATE  \n",
       "...               ...        ...          ...  \n",
       "585668.0   -80.002462  40.398879  APPROXIMATE  \n",
       "585669.0   -80.035896  40.479149        EXACT  \n",
       "585671.0   -79.898695  40.420577        EXACT  \n",
       "585672.0   -80.026374  40.397909        EXACT  \n",
       "585673.0   -79.871421  40.453169  APPROXIMATE  \n",
       "\n",
       "[31945 rows x 16 columns]"
      ]
     },
     "execution_count": 15,
     "metadata": {},
     "output_type": "execute_result"
    }
   ],
   "source": [
    "filtered_pgh_311_data = pgh_311_data[pgh_311_data.STATUS == 0]\n",
    "filtered_pgh_311_data"
   ]
  },
  {
   "cell_type": "markdown",
   "metadata": {},
   "source": [
    "Then we will find the neighborhoods with the most requests as of recently"
   ]
  },
  {
   "cell_type": "code",
   "execution_count": 16,
   "metadata": {},
   "outputs": [
    {
     "data": {
      "text/plain": [
       "Carrick                      1290\n",
       "Brookline                    1205\n",
       "Squirrel Hill South           982\n",
       "Central Business District     859\n",
       "Mount Washington              833\n",
       "                             ... \n",
       "Ridgemont                      26\n",
       "Northview Heights              25\n",
       "Chartiers City                 17\n",
       "Mount Oliver Borough            3\n",
       "Arlington Heights               2\n",
       "Name: NEIGHBORHOOD, Length: 91, dtype: int64"
      ]
     },
     "execution_count": 16,
     "metadata": {},
     "output_type": "execute_result"
    }
   ],
   "source": [
    "requests = filtered_pgh_311_data['NEIGHBORHOOD'].value_counts().sort_values(ascending = False)\n",
    "requests"
   ]
  },
  {
   "cell_type": "markdown",
   "metadata": {},
   "source": [
    "# The 10 neighborhoods with the greatest number of calls"
   ]
  },
  {
   "cell_type": "code",
   "execution_count": 21,
   "metadata": {},
   "outputs": [
    {
     "data": {
      "text/plain": [
       "Text(0, 0.5, 'Number of Requests')"
      ]
     },
     "execution_count": 21,
     "metadata": {},
     "output_type": "execute_result"
    },
    {
     "data": {
      "image/png": "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\n",
      "text/plain": [
       "<Figure size 432x288 with 1 Axes>"
      ]
     },
     "metadata": {
      "needs_background": "light"
     },
     "output_type": "display_data"
    }
   ],
   "source": [
    "requests.head(10).plot.bar()\n",
    "plt.title(\"Top 10 Neighborhoods with the Greatest Number of Calls\")\n",
    "plt.xlabel(\"Neighborhood\")\n",
    "plt.ylabel(\"Number of Requests\")"
   ]
  },
  {
   "cell_type": "markdown",
   "metadata": {},
   "source": [
    "# The 10 neighborhoods with the least number of calls"
   ]
  },
  {
   "cell_type": "code",
   "execution_count": 22,
   "metadata": {},
   "outputs": [
    {
     "data": {
      "text/plain": [
       "Text(0, 0.5, 'Number of Requests')"
      ]
     },
     "execution_count": 22,
     "metadata": {},
     "output_type": "execute_result"
    },
    {
     "data": {
      "image/png": "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\n",
      "text/plain": [
       "<Figure size 432x288 with 1 Axes>"
      ]
     },
     "metadata": {
      "needs_background": "light"
     },
     "output_type": "display_data"
    }
   ],
   "source": [
    "requests.tail(10).plot.bar()\n",
    "plt.title(\"Top 10 Neighborhoods with the Least Number of Calls\")\n",
    "plt.xlabel(\"Neighborhood\")\n",
    "plt.ylabel(\"Number of Requests\")"
   ]
  },
  {
   "cell_type": "markdown",
   "metadata": {},
   "source": [
    "# Comparison"
   ]
  },
  {
   "cell_type": "markdown",
   "metadata": {},
   "source": [
    "Comparing the greatest and least 10 neighborhoods"
   ]
  },
  {
   "cell_type": "code",
   "execution_count": 25,
   "metadata": {},
   "outputs": [
    {
     "data": {
      "text/plain": [
       "Text(0, 0.5, 'Number of Requests')"
      ]
     },
     "execution_count": 25,
     "metadata": {},
     "output_type": "execute_result"
    },
    {
     "data": {
      "image/png": "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\n",
      "text/plain": [
       "<Figure size 432x288 with 1 Axes>"
      ]
     },
     "metadata": {
      "needs_background": "light"
     },
     "output_type": "display_data"
    }
   ],
   "source": [
    "greatestandleast = requests.head(10).append(requests.tail(10))\n",
    "greatestandleast.plot.bar()\n",
    "plt.title(\"the greatest 10 and least 10 neighborhoods\")\n",
    "plt.xlabel(\"Neighborhood\")\n",
    "plt.ylabel(\"Number of Requests\")"
   ]
  },
  {
   "cell_type": "code",
   "execution_count": 26,
   "metadata": {},
   "outputs": [
    {
     "data": {
      "text/plain": [
       "2"
      ]
     },
     "execution_count": 26,
     "metadata": {},
     "output_type": "execute_result"
    }
   ],
   "source": [
    "query_mask = filtered_pgh_311_data['NEIGHBORHOOD'] == \"Arlington Heights\"\n",
    "arlingtonheights = filtered_pgh_311_data[query_mask]\n",
    "arlingtonheights[\"REQUEST_TYPE\"].count()"
   ]
  },
  {
   "cell_type": "markdown",
   "metadata": {},
   "source": [
    "This query mask is to emphasize that Arlington Heights had only two requests, the least amount out of all the neighborhoods in the dataset "
   ]
  },
  {
   "cell_type": "markdown",
   "metadata": {},
   "source": [
    "# Conclusion"
   ]
  },
  {
   "cell_type": "markdown",
   "metadata": {},
   "source": [
    "As shown in the plot above, Arlington Heights has the least amount of 311 calls throughout the Pittsburgh neighborhoods. This is considered the \"best\" neighborhood since \"best\" is in terms of safety. Since a low amount of 311 calls/reports = quiet and quiet = safe. Since our group decided to do a ranking system 1-5 to find the safest neighborhood overall, with 5 the being safest, my rankings are as follows:\n",
    "\n",
    "5: Arlington Heights\n",
    "4: Mount Oliver Borough\n",
    "3: Chartiers City\n",
    "2: Northview Heights\n",
    "1: Ridgemont"
   ]
  },
  {
   "cell_type": "code",
   "execution_count": null,
   "metadata": {},
   "outputs": [],
   "source": []
  }
 ],
 "metadata": {
  "kernelspec": {
   "display_name": "Python 3",
   "language": "python",
   "name": "python3"
  },
  "language_info": {
   "codemirror_mode": {
    "name": "ipython",
    "version": 3
   },
   "file_extension": ".py",
   "mimetype": "text/x-python",
   "name": "python",
   "nbconvert_exporter": "python",
   "pygments_lexer": "ipython3",
   "version": "3.8.3"
  }
 },
 "nbformat": 4,
 "nbformat_minor": 4
}
