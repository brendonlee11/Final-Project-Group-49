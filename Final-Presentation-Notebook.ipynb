{
 "cells": [
  {
   "cell_type": "markdown",
   "metadata": {},
   "source": [
    "As I searched through the many datasets provided by WPRDC, I came across 311 data. I found this to be the most interesting to me as it is mobile requests made by people in the neighborhoods of Pittsburgh. Not only was I interested in finding out what type of 311 calls were made but what neighborhoods had the most and least. I specifically looked at the neighborhoods and the amount of requests made. Overall, this helped me find the safest neighborhood in Pittsburgh in terms of quieteness, since a neighborhood with a low amount of 311 requests is a quieter neighborhood than one with more requests. "
   ]
  },
  {
   "cell_type": "markdown",
   "metadata": {},
   "source": [
    "Import"
   ]
  },
  {
   "cell_type": "code",
   "execution_count": 8,
   "metadata": {},
   "outputs": [],
   "source": [
    "import pandas as pd\n",
    "import numpy as np\n",
    "import geopandas as gpd\n",
    "%matplotlib inline\n",
    "import matplotlib.pyplot as plt"
   ]
  },
  {
   "cell_type": "markdown",
   "metadata": {},
   "source": [
    "# 311 Dataset"
   ]
  },
  {
   "cell_type": "markdown",
   "metadata": {},
   "source": [
    "311 service requests in Pittsburgh. Requests are collected from the following: phone calls, tweets, emails, a form on the City website, and through the 311 mobile application"
   ]
  },
  {
   "cell_type": "code",
   "execution_count": 9,
   "metadata": {},
   "outputs": [
    {
     "data": {
      "text/html": [
       "<div>\n",
       "<style scoped>\n",
       "    .dataframe tbody tr th:only-of-type {\n",
       "        vertical-align: middle;\n",
       "    }\n",
       "\n",
       "    .dataframe tbody tr th {\n",
       "        vertical-align: top;\n",
       "    }\n",
       "\n",
       "    .dataframe thead th {\n",
       "        text-align: right;\n",
       "    }\n",
       "</style>\n",
       "<table border=\"1\" class=\"dataframe\">\n",
       "  <thead>\n",
       "    <tr style=\"text-align: right;\">\n",
       "      <th></th>\n",
       "      <th>CREATED_ON</th>\n",
       "      <th>REQUEST_TYPE</th>\n",
       "      <th>REQUEST_ORIGIN</th>\n",
       "      <th>STATUS</th>\n",
       "      <th>DEPARTMENT</th>\n",
       "      <th>NEIGHBORHOOD</th>\n",
       "      <th>COUNCIL_DISTRICT</th>\n",
       "      <th>WARD</th>\n",
       "      <th>TRACT</th>\n",
       "      <th>PUBLIC_WORKS_DIVISION</th>\n",
       "      <th>PLI_DIVISION</th>\n",
       "      <th>POLICE_ZONE</th>\n",
       "      <th>FIRE_ZONE</th>\n",
       "      <th>X</th>\n",
       "      <th>Y</th>\n",
       "      <th>GEO_ACCURACY</th>\n",
       "    </tr>\n",
       "    <tr>\n",
       "      <th>REQUEST_ID</th>\n",
       "      <th></th>\n",
       "      <th></th>\n",
       "      <th></th>\n",
       "      <th></th>\n",
       "      <th></th>\n",
       "      <th></th>\n",
       "      <th></th>\n",
       "      <th></th>\n",
       "      <th></th>\n",
       "      <th></th>\n",
       "      <th></th>\n",
       "      <th></th>\n",
       "      <th></th>\n",
       "      <th></th>\n",
       "      <th></th>\n",
       "      <th></th>\n",
       "    </tr>\n",
       "  </thead>\n",
       "  <tbody>\n",
       "    <tr>\n",
       "      <th>203364.0</th>\n",
       "      <td>2017-12-15T14:53:00</td>\n",
       "      <td>Street Obstruction/Closure</td>\n",
       "      <td>Call Center</td>\n",
       "      <td>1</td>\n",
       "      <td>DOMI - Permits</td>\n",
       "      <td>Central Northside</td>\n",
       "      <td>1.0</td>\n",
       "      <td>22.0</td>\n",
       "      <td>4.200322e+10</td>\n",
       "      <td>1.0</td>\n",
       "      <td>22.0</td>\n",
       "      <td>1.0</td>\n",
       "      <td>1-7</td>\n",
       "      <td>-80.016716</td>\n",
       "      <td>40.454144</td>\n",
       "      <td>EXACT</td>\n",
       "    </tr>\n",
       "    <tr>\n",
       "      <th>200800.0</th>\n",
       "      <td>2017-11-29T09:54:00</td>\n",
       "      <td>Graffiti</td>\n",
       "      <td>Control Panel</td>\n",
       "      <td>1</td>\n",
       "      <td>Police - Zones 1-6</td>\n",
       "      <td>South Side Flats</td>\n",
       "      <td>3.0</td>\n",
       "      <td>16.0</td>\n",
       "      <td>4.200316e+10</td>\n",
       "      <td>3.0</td>\n",
       "      <td>16.0</td>\n",
       "      <td>3.0</td>\n",
       "      <td>4-24</td>\n",
       "      <td>-79.969952</td>\n",
       "      <td>40.429243</td>\n",
       "      <td>APPROXIMATE</td>\n",
       "    </tr>\n",
       "    <tr>\n",
       "      <th>201310.0</th>\n",
       "      <td>2017-12-01T13:23:00</td>\n",
       "      <td>Litter</td>\n",
       "      <td>Call Center</td>\n",
       "      <td>1</td>\n",
       "      <td>DPW - Street Maintenance</td>\n",
       "      <td>Troy Hill</td>\n",
       "      <td>1.0</td>\n",
       "      <td>24.0</td>\n",
       "      <td>4.200324e+10</td>\n",
       "      <td>1.0</td>\n",
       "      <td>24.0</td>\n",
       "      <td>1.0</td>\n",
       "      <td>1-2</td>\n",
       "      <td>-79.985859</td>\n",
       "      <td>40.459716</td>\n",
       "      <td>EXACT</td>\n",
       "    </tr>\n",
       "    <tr>\n",
       "      <th>200171.0</th>\n",
       "      <td>2017-11-22T14:54:00</td>\n",
       "      <td>Water Main Break</td>\n",
       "      <td>Call Center</td>\n",
       "      <td>1</td>\n",
       "      <td>Pittsburgh Water and Sewer Authority</td>\n",
       "      <td>Banksville</td>\n",
       "      <td>2.0</td>\n",
       "      <td>20.0</td>\n",
       "      <td>4.200320e+10</td>\n",
       "      <td>5.0</td>\n",
       "      <td>20.0</td>\n",
       "      <td>6.0</td>\n",
       "      <td>4-9</td>\n",
       "      <td>-80.034210</td>\n",
       "      <td>40.406969</td>\n",
       "      <td>EXACT</td>\n",
       "    </tr>\n",
       "    <tr>\n",
       "      <th>193043.0</th>\n",
       "      <td>2017-10-12T12:46:00</td>\n",
       "      <td>Guide Rail</td>\n",
       "      <td>Call Center</td>\n",
       "      <td>1</td>\n",
       "      <td>DPW - Construction Division</td>\n",
       "      <td>East Hills</td>\n",
       "      <td>9.0</td>\n",
       "      <td>13.0</td>\n",
       "      <td>4.200313e+10</td>\n",
       "      <td>2.0</td>\n",
       "      <td>13.0</td>\n",
       "      <td>5.0</td>\n",
       "      <td>3-19</td>\n",
       "      <td>-79.876582</td>\n",
       "      <td>40.451226</td>\n",
       "      <td>EXACT</td>\n",
       "    </tr>\n",
       "    <tr>\n",
       "      <th>...</th>\n",
       "      <td>...</td>\n",
       "      <td>...</td>\n",
       "      <td>...</td>\n",
       "      <td>...</td>\n",
       "      <td>...</td>\n",
       "      <td>...</td>\n",
       "      <td>...</td>\n",
       "      <td>...</td>\n",
       "      <td>...</td>\n",
       "      <td>...</td>\n",
       "      <td>...</td>\n",
       "      <td>...</td>\n",
       "      <td>...</td>\n",
       "      <td>...</td>\n",
       "      <td>...</td>\n",
       "      <td>...</td>\n",
       "    </tr>\n",
       "    <tr>\n",
       "      <th>585669.0</th>\n",
       "      <td>2021-12-07T16:54:00</td>\n",
       "      <td>City Facility</td>\n",
       "      <td>Call Center</td>\n",
       "      <td>0</td>\n",
       "      <td>DPW - Facilities</td>\n",
       "      <td>Brighton Heights</td>\n",
       "      <td>1.0</td>\n",
       "      <td>27.0</td>\n",
       "      <td>4.200327e+10</td>\n",
       "      <td>1.0</td>\n",
       "      <td>27.0</td>\n",
       "      <td>1.0</td>\n",
       "      <td>1-14</td>\n",
       "      <td>-80.035896</td>\n",
       "      <td>40.479149</td>\n",
       "      <td>EXACT</td>\n",
       "    </tr>\n",
       "    <tr>\n",
       "      <th>585670.0</th>\n",
       "      <td>2021-12-07T16:57:00</td>\n",
       "      <td>Question</td>\n",
       "      <td>Call Center</td>\n",
       "      <td>1</td>\n",
       "      <td>311</td>\n",
       "      <td>NaN</td>\n",
       "      <td>NaN</td>\n",
       "      <td>NaN</td>\n",
       "      <td>NaN</td>\n",
       "      <td>NaN</td>\n",
       "      <td>NaN</td>\n",
       "      <td>NaN</td>\n",
       "      <td>NaN</td>\n",
       "      <td>NaN</td>\n",
       "      <td>NaN</td>\n",
       "      <td>OUT_OF_BOUNDS</td>\n",
       "    </tr>\n",
       "    <tr>\n",
       "      <th>585671.0</th>\n",
       "      <td>2021-12-07T17:02:00</td>\n",
       "      <td>Weeds/Debris</td>\n",
       "      <td>Call Center</td>\n",
       "      <td>0</td>\n",
       "      <td>Permits, Licenses and Inspections</td>\n",
       "      <td>Swisshelm Park</td>\n",
       "      <td>5.0</td>\n",
       "      <td>14.0</td>\n",
       "      <td>4.200314e+10</td>\n",
       "      <td>3.0</td>\n",
       "      <td>14.0</td>\n",
       "      <td>4.0</td>\n",
       "      <td>2-19</td>\n",
       "      <td>-79.898695</td>\n",
       "      <td>40.420577</td>\n",
       "      <td>EXACT</td>\n",
       "    </tr>\n",
       "    <tr>\n",
       "      <th>585672.0</th>\n",
       "      <td>2021-12-07T17:04:00</td>\n",
       "      <td>Fence</td>\n",
       "      <td>Call Center</td>\n",
       "      <td>0</td>\n",
       "      <td>DOMI - Construction</td>\n",
       "      <td>Brookline</td>\n",
       "      <td>4.0</td>\n",
       "      <td>19.0</td>\n",
       "      <td>4.200319e+10</td>\n",
       "      <td>5.0</td>\n",
       "      <td>19.0</td>\n",
       "      <td>6.0</td>\n",
       "      <td>4-26</td>\n",
       "      <td>-80.026374</td>\n",
       "      <td>40.397909</td>\n",
       "      <td>EXACT</td>\n",
       "    </tr>\n",
       "    <tr>\n",
       "      <th>585673.0</th>\n",
       "      <td>2021-12-07T17:05:00</td>\n",
       "      <td>Abandoned Vehicle (parked on street)</td>\n",
       "      <td>Call Center</td>\n",
       "      <td>0</td>\n",
       "      <td>Police - AVU</td>\n",
       "      <td>East Hills</td>\n",
       "      <td>9.0</td>\n",
       "      <td>13.0</td>\n",
       "      <td>4.200313e+10</td>\n",
       "      <td>2.0</td>\n",
       "      <td>13.0</td>\n",
       "      <td>5.0</td>\n",
       "      <td>3-19</td>\n",
       "      <td>-79.871421</td>\n",
       "      <td>40.453169</td>\n",
       "      <td>APPROXIMATE</td>\n",
       "    </tr>\n",
       "  </tbody>\n",
       "</table>\n",
       "<p>567690 rows × 16 columns</p>\n",
       "</div>"
      ],
      "text/plain": [
       "                     CREATED_ON                          REQUEST_TYPE  \\\n",
       "REQUEST_ID                                                              \n",
       "203364.0    2017-12-15T14:53:00            Street Obstruction/Closure   \n",
       "200800.0    2017-11-29T09:54:00                              Graffiti   \n",
       "201310.0    2017-12-01T13:23:00                                Litter   \n",
       "200171.0    2017-11-22T14:54:00                      Water Main Break   \n",
       "193043.0    2017-10-12T12:46:00                            Guide Rail   \n",
       "...                         ...                                   ...   \n",
       "585669.0    2021-12-07T16:54:00                         City Facility   \n",
       "585670.0    2021-12-07T16:57:00                              Question   \n",
       "585671.0    2021-12-07T17:02:00                          Weeds/Debris   \n",
       "585672.0    2021-12-07T17:04:00                                 Fence   \n",
       "585673.0    2021-12-07T17:05:00  Abandoned Vehicle (parked on street)   \n",
       "\n",
       "           REQUEST_ORIGIN  STATUS                            DEPARTMENT  \\\n",
       "REQUEST_ID                                                                \n",
       "203364.0      Call Center       1                        DOMI - Permits   \n",
       "200800.0    Control Panel       1                    Police - Zones 1-6   \n",
       "201310.0      Call Center       1              DPW - Street Maintenance   \n",
       "200171.0      Call Center       1  Pittsburgh Water and Sewer Authority   \n",
       "193043.0      Call Center       1           DPW - Construction Division   \n",
       "...                   ...     ...                                   ...   \n",
       "585669.0      Call Center       0                      DPW - Facilities   \n",
       "585670.0      Call Center       1                                   311   \n",
       "585671.0      Call Center       0     Permits, Licenses and Inspections   \n",
       "585672.0      Call Center       0                   DOMI - Construction   \n",
       "585673.0      Call Center       0                          Police - AVU   \n",
       "\n",
       "                 NEIGHBORHOOD  COUNCIL_DISTRICT  WARD         TRACT  \\\n",
       "REQUEST_ID                                                            \n",
       "203364.0    Central Northside               1.0  22.0  4.200322e+10   \n",
       "200800.0     South Side Flats               3.0  16.0  4.200316e+10   \n",
       "201310.0            Troy Hill               1.0  24.0  4.200324e+10   \n",
       "200171.0           Banksville               2.0  20.0  4.200320e+10   \n",
       "193043.0           East Hills               9.0  13.0  4.200313e+10   \n",
       "...                       ...               ...   ...           ...   \n",
       "585669.0     Brighton Heights               1.0  27.0  4.200327e+10   \n",
       "585670.0                  NaN               NaN   NaN           NaN   \n",
       "585671.0       Swisshelm Park               5.0  14.0  4.200314e+10   \n",
       "585672.0            Brookline               4.0  19.0  4.200319e+10   \n",
       "585673.0           East Hills               9.0  13.0  4.200313e+10   \n",
       "\n",
       "            PUBLIC_WORKS_DIVISION  PLI_DIVISION  POLICE_ZONE FIRE_ZONE  \\\n",
       "REQUEST_ID                                                               \n",
       "203364.0                      1.0          22.0          1.0       1-7   \n",
       "200800.0                      3.0          16.0          3.0      4-24   \n",
       "201310.0                      1.0          24.0          1.0       1-2   \n",
       "200171.0                      5.0          20.0          6.0       4-9   \n",
       "193043.0                      2.0          13.0          5.0      3-19   \n",
       "...                           ...           ...          ...       ...   \n",
       "585669.0                      1.0          27.0          1.0      1-14   \n",
       "585670.0                      NaN           NaN          NaN       NaN   \n",
       "585671.0                      3.0          14.0          4.0      2-19   \n",
       "585672.0                      5.0          19.0          6.0      4-26   \n",
       "585673.0                      2.0          13.0          5.0      3-19   \n",
       "\n",
       "                    X          Y   GEO_ACCURACY  \n",
       "REQUEST_ID                                       \n",
       "203364.0   -80.016716  40.454144          EXACT  \n",
       "200800.0   -79.969952  40.429243    APPROXIMATE  \n",
       "201310.0   -79.985859  40.459716          EXACT  \n",
       "200171.0   -80.034210  40.406969          EXACT  \n",
       "193043.0   -79.876582  40.451226          EXACT  \n",
       "...               ...        ...            ...  \n",
       "585669.0   -80.035896  40.479149          EXACT  \n",
       "585670.0          NaN        NaN  OUT_OF_BOUNDS  \n",
       "585671.0   -79.898695  40.420577          EXACT  \n",
       "585672.0   -80.026374  40.397909          EXACT  \n",
       "585673.0   -79.871421  40.453169    APPROXIMATE  \n",
       "\n",
       "[567690 rows x 16 columns]"
      ]
     },
     "execution_count": 9,
     "metadata": {},
     "output_type": "execute_result"
    }
   ],
   "source": [
    "# importing data\n",
    "pgh_311_data = pd.read_csv('https://data.wprdc.org/datastore/dump/76fda9d0-69be-4dd5-8108-0de7907fc5a4', index_col = \"REQUEST_ID\")\n",
    "pgh_311_data"
   ]
  },
  {
   "cell_type": "markdown",
   "metadata": {},
   "source": [
    "# Neighborhood with the most 311 call requests"
   ]
  },
  {
   "cell_type": "code",
   "execution_count": 14,
   "metadata": {},
   "outputs": [
    {
     "data": {
      "text/plain": [
       "Brookline               22791\n",
       "Carrick                 21773\n",
       "Squirrel Hill South     18925\n",
       "South Side Slopes       18522\n",
       "South Side Flats        16852\n",
       "                        ...  \n",
       "East Carnegie             533\n",
       "Northview Heights         527\n",
       "Glen Hazel                370\n",
       "Arlington Heights         113\n",
       "Mount Oliver Borough       61\n",
       "Name: NEIGHBORHOOD, Length: 91, dtype: int64"
      ]
     },
     "execution_count": 14,
     "metadata": {},
     "output_type": "execute_result"
    }
   ],
   "source": [
    "pgh_311_data['NEIGHBORHOOD'].value_counts().sort_values(ascending = False)"
   ]
  },
  {
   "cell_type": "markdown",
   "metadata": {},
   "source": [
    "Since we want the most up to date information on the status of the 311 requests where 0 = new, according to the Data Dictionary, we will filter out the dataset"
   ]
  },
  {
   "cell_type": "code",
   "execution_count": 15,
   "metadata": {},
   "outputs": [
    {
     "data": {
      "text/html": [
       "<div>\n",
       "<style scoped>\n",
       "    .dataframe tbody tr th:only-of-type {\n",
       "        vertical-align: middle;\n",
       "    }\n",
       "\n",
       "    .dataframe tbody tr th {\n",
       "        vertical-align: top;\n",
       "    }\n",
       "\n",
       "    .dataframe thead th {\n",
       "        text-align: right;\n",
       "    }\n",
       "</style>\n",
       "<table border=\"1\" class=\"dataframe\">\n",
       "  <thead>\n",
       "    <tr style=\"text-align: right;\">\n",
       "      <th></th>\n",
       "      <th>CREATED_ON</th>\n",
       "      <th>REQUEST_TYPE</th>\n",
       "      <th>REQUEST_ORIGIN</th>\n",
       "      <th>STATUS</th>\n",
       "      <th>DEPARTMENT</th>\n",
       "      <th>NEIGHBORHOOD</th>\n",
       "      <th>COUNCIL_DISTRICT</th>\n",
       "      <th>WARD</th>\n",
       "      <th>TRACT</th>\n",
       "      <th>PUBLIC_WORKS_DIVISION</th>\n",
       "      <th>PLI_DIVISION</th>\n",
       "      <th>POLICE_ZONE</th>\n",
       "      <th>FIRE_ZONE</th>\n",
       "      <th>X</th>\n",
       "      <th>Y</th>\n",
       "      <th>GEO_ACCURACY</th>\n",
       "    </tr>\n",
       "    <tr>\n",
       "      <th>REQUEST_ID</th>\n",
       "      <th></th>\n",
       "      <th></th>\n",
       "      <th></th>\n",
       "      <th></th>\n",
       "      <th></th>\n",
       "      <th></th>\n",
       "      <th></th>\n",
       "      <th></th>\n",
       "      <th></th>\n",
       "      <th></th>\n",
       "      <th></th>\n",
       "      <th></th>\n",
       "      <th></th>\n",
       "      <th></th>\n",
       "      <th></th>\n",
       "      <th></th>\n",
       "    </tr>\n",
       "  </thead>\n",
       "  <tbody>\n",
       "    <tr>\n",
       "      <th>179176.0</th>\n",
       "      <td>2017-08-14T14:00:00</td>\n",
       "      <td>Neighborhood Issues</td>\n",
       "      <td>Control Panel</td>\n",
       "      <td>0</td>\n",
       "      <td>NaN</td>\n",
       "      <td>Middle Hill</td>\n",
       "      <td>6.0</td>\n",
       "      <td>5.0</td>\n",
       "      <td>4.200305e+10</td>\n",
       "      <td>3.0</td>\n",
       "      <td>5.0</td>\n",
       "      <td>2.0</td>\n",
       "      <td>2-1</td>\n",
       "      <td>-79.977726</td>\n",
       "      <td>40.446142</td>\n",
       "      <td>APPROXIMATE</td>\n",
       "    </tr>\n",
       "    <tr>\n",
       "      <th>182748.0</th>\n",
       "      <td>2017-08-28T12:49:00</td>\n",
       "      <td>Abandoned Vehicle (parked on street)</td>\n",
       "      <td>Control Panel</td>\n",
       "      <td>0</td>\n",
       "      <td>Police - AVU</td>\n",
       "      <td>Brighton Heights</td>\n",
       "      <td>1.0</td>\n",
       "      <td>27.0</td>\n",
       "      <td>4.200327e+10</td>\n",
       "      <td>1.0</td>\n",
       "      <td>27.0</td>\n",
       "      <td>1.0</td>\n",
       "      <td>1-14</td>\n",
       "      <td>-80.029944</td>\n",
       "      <td>40.486596</td>\n",
       "      <td>APPROXIMATE</td>\n",
       "    </tr>\n",
       "    <tr>\n",
       "      <th>184662.0</th>\n",
       "      <td>2017-09-05T13:49:00</td>\n",
       "      <td>Abandoned Vehicle (parked on street)</td>\n",
       "      <td>Call Center</td>\n",
       "      <td>0</td>\n",
       "      <td>Police - AVU</td>\n",
       "      <td>Marshall-Shadeland</td>\n",
       "      <td>1.0</td>\n",
       "      <td>27.0</td>\n",
       "      <td>4.200327e+10</td>\n",
       "      <td>1.0</td>\n",
       "      <td>27.0</td>\n",
       "      <td>1.0</td>\n",
       "      <td>1-14</td>\n",
       "      <td>-80.027634</td>\n",
       "      <td>40.470334</td>\n",
       "      <td>APPROXIMATE</td>\n",
       "    </tr>\n",
       "    <tr>\n",
       "      <th>167825.0</th>\n",
       "      <td>2017-07-06T15:26:00</td>\n",
       "      <td>Illegal Dumping</td>\n",
       "      <td>Control Panel</td>\n",
       "      <td>0</td>\n",
       "      <td>DOMI - Permits</td>\n",
       "      <td>East Allegheny</td>\n",
       "      <td>1.0</td>\n",
       "      <td>23.0</td>\n",
       "      <td>4.200356e+10</td>\n",
       "      <td>1.0</td>\n",
       "      <td>23.0</td>\n",
       "      <td>1.0</td>\n",
       "      <td>1-20</td>\n",
       "      <td>-79.997763</td>\n",
       "      <td>40.452695</td>\n",
       "      <td>APPROXIMATE</td>\n",
       "    </tr>\n",
       "    <tr>\n",
       "      <th>170189.0</th>\n",
       "      <td>2017-07-14T15:37:00</td>\n",
       "      <td>Mayor's Office</td>\n",
       "      <td>Call Center</td>\n",
       "      <td>0</td>\n",
       "      <td>311</td>\n",
       "      <td>Bloomfield</td>\n",
       "      <td>7.0</td>\n",
       "      <td>8.0</td>\n",
       "      <td>4.200308e+10</td>\n",
       "      <td>2.0</td>\n",
       "      <td>8.0</td>\n",
       "      <td>5.0</td>\n",
       "      <td>2-23</td>\n",
       "      <td>-79.948119</td>\n",
       "      <td>40.455066</td>\n",
       "      <td>APPROXIMATE</td>\n",
       "    </tr>\n",
       "    <tr>\n",
       "      <th>...</th>\n",
       "      <td>...</td>\n",
       "      <td>...</td>\n",
       "      <td>...</td>\n",
       "      <td>...</td>\n",
       "      <td>...</td>\n",
       "      <td>...</td>\n",
       "      <td>...</td>\n",
       "      <td>...</td>\n",
       "      <td>...</td>\n",
       "      <td>...</td>\n",
       "      <td>...</td>\n",
       "      <td>...</td>\n",
       "      <td>...</td>\n",
       "      <td>...</td>\n",
       "      <td>...</td>\n",
       "      <td>...</td>\n",
       "    </tr>\n",
       "    <tr>\n",
       "      <th>585668.0</th>\n",
       "      <td>2021-12-07T16:43:00</td>\n",
       "      <td>Misconduct/City Employee</td>\n",
       "      <td>Call Center</td>\n",
       "      <td>0</td>\n",
       "      <td>OMI</td>\n",
       "      <td>Brookline</td>\n",
       "      <td>4.0</td>\n",
       "      <td>32.0</td>\n",
       "      <td>4.200332e+10</td>\n",
       "      <td>5.0</td>\n",
       "      <td>32.0</td>\n",
       "      <td>6.0</td>\n",
       "      <td>4-25</td>\n",
       "      <td>-80.002462</td>\n",
       "      <td>40.398879</td>\n",
       "      <td>APPROXIMATE</td>\n",
       "    </tr>\n",
       "    <tr>\n",
       "      <th>585669.0</th>\n",
       "      <td>2021-12-07T16:54:00</td>\n",
       "      <td>City Facility</td>\n",
       "      <td>Call Center</td>\n",
       "      <td>0</td>\n",
       "      <td>DPW - Facilities</td>\n",
       "      <td>Brighton Heights</td>\n",
       "      <td>1.0</td>\n",
       "      <td>27.0</td>\n",
       "      <td>4.200327e+10</td>\n",
       "      <td>1.0</td>\n",
       "      <td>27.0</td>\n",
       "      <td>1.0</td>\n",
       "      <td>1-14</td>\n",
       "      <td>-80.035896</td>\n",
       "      <td>40.479149</td>\n",
       "      <td>EXACT</td>\n",
       "    </tr>\n",
       "    <tr>\n",
       "      <th>585671.0</th>\n",
       "      <td>2021-12-07T17:02:00</td>\n",
       "      <td>Weeds/Debris</td>\n",
       "      <td>Call Center</td>\n",
       "      <td>0</td>\n",
       "      <td>Permits, Licenses and Inspections</td>\n",
       "      <td>Swisshelm Park</td>\n",
       "      <td>5.0</td>\n",
       "      <td>14.0</td>\n",
       "      <td>4.200314e+10</td>\n",
       "      <td>3.0</td>\n",
       "      <td>14.0</td>\n",
       "      <td>4.0</td>\n",
       "      <td>2-19</td>\n",
       "      <td>-79.898695</td>\n",
       "      <td>40.420577</td>\n",
       "      <td>EXACT</td>\n",
       "    </tr>\n",
       "    <tr>\n",
       "      <th>585672.0</th>\n",
       "      <td>2021-12-07T17:04:00</td>\n",
       "      <td>Fence</td>\n",
       "      <td>Call Center</td>\n",
       "      <td>0</td>\n",
       "      <td>DOMI - Construction</td>\n",
       "      <td>Brookline</td>\n",
       "      <td>4.0</td>\n",
       "      <td>19.0</td>\n",
       "      <td>4.200319e+10</td>\n",
       "      <td>5.0</td>\n",
       "      <td>19.0</td>\n",
       "      <td>6.0</td>\n",
       "      <td>4-26</td>\n",
       "      <td>-80.026374</td>\n",
       "      <td>40.397909</td>\n",
       "      <td>EXACT</td>\n",
       "    </tr>\n",
       "    <tr>\n",
       "      <th>585673.0</th>\n",
       "      <td>2021-12-07T17:05:00</td>\n",
       "      <td>Abandoned Vehicle (parked on street)</td>\n",
       "      <td>Call Center</td>\n",
       "      <td>0</td>\n",
       "      <td>Police - AVU</td>\n",
       "      <td>East Hills</td>\n",
       "      <td>9.0</td>\n",
       "      <td>13.0</td>\n",
       "      <td>4.200313e+10</td>\n",
       "      <td>2.0</td>\n",
       "      <td>13.0</td>\n",
       "      <td>5.0</td>\n",
       "      <td>3-19</td>\n",
       "      <td>-79.871421</td>\n",
       "      <td>40.453169</td>\n",
       "      <td>APPROXIMATE</td>\n",
       "    </tr>\n",
       "  </tbody>\n",
       "</table>\n",
       "<p>31945 rows × 16 columns</p>\n",
       "</div>"
      ],
      "text/plain": [
       "                     CREATED_ON                          REQUEST_TYPE  \\\n",
       "REQUEST_ID                                                              \n",
       "179176.0    2017-08-14T14:00:00                   Neighborhood Issues   \n",
       "182748.0    2017-08-28T12:49:00  Abandoned Vehicle (parked on street)   \n",
       "184662.0    2017-09-05T13:49:00  Abandoned Vehicle (parked on street)   \n",
       "167825.0    2017-07-06T15:26:00                       Illegal Dumping   \n",
       "170189.0    2017-07-14T15:37:00                        Mayor's Office   \n",
       "...                         ...                                   ...   \n",
       "585668.0    2021-12-07T16:43:00              Misconduct/City Employee   \n",
       "585669.0    2021-12-07T16:54:00                         City Facility   \n",
       "585671.0    2021-12-07T17:02:00                          Weeds/Debris   \n",
       "585672.0    2021-12-07T17:04:00                                 Fence   \n",
       "585673.0    2021-12-07T17:05:00  Abandoned Vehicle (parked on street)   \n",
       "\n",
       "           REQUEST_ORIGIN  STATUS                         DEPARTMENT  \\\n",
       "REQUEST_ID                                                             \n",
       "179176.0    Control Panel       0                                NaN   \n",
       "182748.0    Control Panel       0                       Police - AVU   \n",
       "184662.0      Call Center       0                       Police - AVU   \n",
       "167825.0    Control Panel       0                     DOMI - Permits   \n",
       "170189.0      Call Center       0                                311   \n",
       "...                   ...     ...                                ...   \n",
       "585668.0      Call Center       0                                OMI   \n",
       "585669.0      Call Center       0                   DPW - Facilities   \n",
       "585671.0      Call Center       0  Permits, Licenses and Inspections   \n",
       "585672.0      Call Center       0                DOMI - Construction   \n",
       "585673.0      Call Center       0                       Police - AVU   \n",
       "\n",
       "                  NEIGHBORHOOD  COUNCIL_DISTRICT  WARD         TRACT  \\\n",
       "REQUEST_ID                                                             \n",
       "179176.0           Middle Hill               6.0   5.0  4.200305e+10   \n",
       "182748.0      Brighton Heights               1.0  27.0  4.200327e+10   \n",
       "184662.0    Marshall-Shadeland               1.0  27.0  4.200327e+10   \n",
       "167825.0        East Allegheny               1.0  23.0  4.200356e+10   \n",
       "170189.0            Bloomfield               7.0   8.0  4.200308e+10   \n",
       "...                        ...               ...   ...           ...   \n",
       "585668.0             Brookline               4.0  32.0  4.200332e+10   \n",
       "585669.0      Brighton Heights               1.0  27.0  4.200327e+10   \n",
       "585671.0        Swisshelm Park               5.0  14.0  4.200314e+10   \n",
       "585672.0             Brookline               4.0  19.0  4.200319e+10   \n",
       "585673.0            East Hills               9.0  13.0  4.200313e+10   \n",
       "\n",
       "            PUBLIC_WORKS_DIVISION  PLI_DIVISION  POLICE_ZONE FIRE_ZONE  \\\n",
       "REQUEST_ID                                                               \n",
       "179176.0                      3.0           5.0          2.0       2-1   \n",
       "182748.0                      1.0          27.0          1.0      1-14   \n",
       "184662.0                      1.0          27.0          1.0      1-14   \n",
       "167825.0                      1.0          23.0          1.0      1-20   \n",
       "170189.0                      2.0           8.0          5.0      2-23   \n",
       "...                           ...           ...          ...       ...   \n",
       "585668.0                      5.0          32.0          6.0      4-25   \n",
       "585669.0                      1.0          27.0          1.0      1-14   \n",
       "585671.0                      3.0          14.0          4.0      2-19   \n",
       "585672.0                      5.0          19.0          6.0      4-26   \n",
       "585673.0                      2.0          13.0          5.0      3-19   \n",
       "\n",
       "                    X          Y GEO_ACCURACY  \n",
       "REQUEST_ID                                     \n",
       "179176.0   -79.977726  40.446142  APPROXIMATE  \n",
       "182748.0   -80.029944  40.486596  APPROXIMATE  \n",
       "184662.0   -80.027634  40.470334  APPROXIMATE  \n",
       "167825.0   -79.997763  40.452695  APPROXIMATE  \n",
       "170189.0   -79.948119  40.455066  APPROXIMATE  \n",
       "...               ...        ...          ...  \n",
       "585668.0   -80.002462  40.398879  APPROXIMATE  \n",
       "585669.0   -80.035896  40.479149        EXACT  \n",
       "585671.0   -79.898695  40.420577        EXACT  \n",
       "585672.0   -80.026374  40.397909        EXACT  \n",
       "585673.0   -79.871421  40.453169  APPROXIMATE  \n",
       "\n",
       "[31945 rows x 16 columns]"
      ]
     },
     "execution_count": 15,
     "metadata": {},
     "output_type": "execute_result"
    }
   ],
   "source": [
    "filtered_pgh_311_data = pgh_311_data[pgh_311_data.STATUS == 0]\n",
    "filtered_pgh_311_data"
   ]
  },
  {
   "cell_type": "markdown",
   "metadata": {},
   "source": [
    "Then we will find the neighborhoods with the most requests as of recently"
   ]
  },
  {
   "cell_type": "code",
   "execution_count": 16,
   "metadata": {},
   "outputs": [
    {
     "data": {
      "text/plain": [
       "Carrick                      1290\n",
       "Brookline                    1205\n",
       "Squirrel Hill South           982\n",
       "Central Business District     859\n",
       "Mount Washington              833\n",
       "                             ... \n",
       "Ridgemont                      26\n",
       "Northview Heights              25\n",
       "Chartiers City                 17\n",
       "Mount Oliver Borough            3\n",
       "Arlington Heights               2\n",
       "Name: NEIGHBORHOOD, Length: 91, dtype: int64"
      ]
     },
     "execution_count": 16,
     "metadata": {},
     "output_type": "execute_result"
    }
   ],
   "source": [
    "requests = filtered_pgh_311_data['NEIGHBORHOOD'].value_counts().sort_values(ascending = False)\n",
    "requests"
   ]
  },
  {
   "cell_type": "markdown",
   "metadata": {},
   "source": [
    "# Plot all Neighborhoods and their Request Count"
   ]
  },
  {
   "cell_type": "code",
   "execution_count": 27,
   "metadata": {},
   "outputs": [
    {
     "data": {
      "text/plain": [
       "<matplotlib.axes._subplots.AxesSubplot at 0x7f3f769a0e80>"
      ]
     },
     "execution_count": 27,
     "metadata": {},
     "output_type": "execute_result"
    },
    {
     "data": {
      "image/png": "[encoded data removed]",
      "text/plain": [
       "<Figure size 432x288 with 1 Axes>"
      ]
     },
     "metadata": {
      "needs_background": "light"
     },
     "output_type": "display_data"
    }
   ],
   "source": [
    "requests.plot.bar()"
   ]
  },
  {
   "cell_type": "markdown",
   "metadata": {},
   "source": [
    "This graph is disorganized so now we will filter it out by looking at the greatest and least ten neighborhoods regarding 311 request counts"
   ]
  },
  {
   "cell_type": "markdown",
   "metadata": {},
   "source": [
    "# The 10 neighborhoods with the greatest number of calls"
   ]
  },
  {
   "cell_type": "code",
   "execution_count": 21,
   "metadata": {},
   "outputs": [
    {
     "data": {
      "text/plain": [
       "Text(0, 0.5, 'Number of Requests')"
      ]
     },
     "execution_count": 21,
     "metadata": {},
     "output_type": "execute_result"
    },
    {
     "data": {
      "image/png": "[encoded data removed]",
      "text/plain": [
       "<Figure size 432x288 with 1 Axes>"
      ]
     },
     "metadata": {
      "needs_background": "light"
     },
     "output_type": "display_data"
    }
   ],
   "source": [
    "requests.head(10).plot.bar()\n",
    "plt.title(\"Top 10 Neighborhoods with the Greatest Number of Calls\")\n",
    "plt.xlabel(\"Neighborhood\")\n",
    "plt.ylabel(\"Number of Requests\")"
   ]
  },
  {
   "cell_type": "markdown",
   "metadata": {},
   "source": [
    "# The 10 neighborhoods with the least number of calls"
   ]
  },
  {
   "cell_type": "code",
   "execution_count": 22,
   "metadata": {},
   "outputs": [
    {
     "data": {
      "text/plain": [
       "Text(0, 0.5, 'Number of Requests')"
      ]
     },
     "execution_count": 22,
     "metadata": {},
     "output_type": "execute_result"
    },
    {
     "data": {
      "image/png": "[encoded data removed]",
      "text/plain": [
       "<Figure size 432x288 with 1 Axes>"
      ]
     },
     "metadata": {
      "needs_background": "light"
     },
     "output_type": "display_data"
    }
   ],
   "source": [
    "requests.tail(10).plot.bar()\n",
    "plt.title(\"Top 10 Neighborhoods with the Least Number of Calls\")\n",
    "plt.xlabel(\"Neighborhood\")\n",
    "plt.ylabel(\"Number of Requests\")"
   ]
  },
  {
   "cell_type": "markdown",
   "metadata": {},
   "source": [
    "# Comparison"
   ]
  },
  {
   "cell_type": "markdown",
   "metadata": {},
   "source": [
    "Comparing the greatest and least 10 neighborhoods"
   ]
  },
  {
   "cell_type": "code",
   "execution_count": 25,
   "metadata": {},
   "outputs": [
    {
     "data": {
      "text/plain": [
       "Text(0, 0.5, 'Number of Requests')"
      ]
     },
     "execution_count": 25,
     "metadata": {},
     "output_type": "execute_result"
    },
    {
     "data": {
      "image/png": "[encoded data removed]",
      "text/plain": [
       "<Figure size 432x288 with 1 Axes>"
      ]
     },
     "metadata": {
      "needs_background": "light"
     },
     "output_type": "display_data"
    }
   ],
   "source": [
    "greatestandleast = requests.head(10).append(requests.tail(10))\n",
    "greatestandleast.plot.bar()\n",
    "plt.title(\"the greatest 10 and least 10 neighborhoods\")\n",
    "plt.xlabel(\"Neighborhood\")\n",
    "plt.ylabel(\"Number of Requests\")"
   ]
  },
  {
   "cell_type": "code",
   "execution_count": 26,
   "metadata": {},
   "outputs": [
    {
     "data": {
      "text/plain": [
       "2"
      ]
     },
     "execution_count": 26,
     "metadata": {},
     "output_type": "execute_result"
    }
   ],
   "source": [
    "query_mask = filtered_pgh_311_data['NEIGHBORHOOD'] == \"Arlington Heights\"\n",
    "arlingtonheights = filtered_pgh_311_data[query_mask]\n",
    "arlingtonheights[\"REQUEST_TYPE\"].count()"
   ]
  },
  {
   "cell_type": "markdown",
   "metadata": {},
   "source": [
    "This query mask is to emphasize that Arlington Heights had only two requests, the least amount out of all the neighborhoods in the dataset "
   ]
  },
  {
   "cell_type": "markdown",
   "metadata": {},
   "source": [
    "# Conclusion"
   ]
  },
  {
   "cell_type": "markdown",
   "metadata": {},
   "source": [
    "As shown in the plot above, Arlington Heights has the least amount of 311 calls throughout the Pittsburgh neighborhoods. This is considered the \"best\" neighborhood since \"best\" is in terms of safety. Since a low amount of 311 calls/reports = quiet and quiet = safe. Since our group decided to do a ranking system 1-5 to find the safest neighborhood overall, with 5 the being safest, my rankings are as follows:\n",
    "\n",
    "5: Arlington Heights\n",
    "4: Mount Oliver Borough\n",
    "3: Chartiers City\n",
    "2: Northview Heights\n",
    "1: Ridgemont"
   ]
  },
  {
   "cell_type": "code",
   "execution_count": null,
   "metadata": {},
   "outputs": [],
   "source": []
  },
  {
   "cell_type": "markdown",
   "metadata": {},
   "source": [
    "# Introduction\n",
    "\n",
    "### Choosing COVID-19 Cases Metric\n",
    "\n",
    "For my metric, I chose to the best neighborhood based on how many COVID-19 cases that neighborhood has recorded in the past month. In other words, the \"best\" neighborhood would have the least number of COVID-19 cases.\n",
    "\n",
    "The particular dataset I imported updated its COVID cases monthly, so I made sure to keep up to date with the correct data.\n",
    "\n",
    "I think this metric is very insightful as to the safety of each neighborhood/municipality throughout Pittsburgh because it is relevant to all of us today, since the COVID outbreak occured relatively recently. In addition, many people who are looking for homes think of safety as their number one priority, so residing in a neighborhood that is relatively safe is important to many homeowners and people.\n",
    "\n",
    "When searching through the datasets, I wanted to find a dataset that was relevant and pertained to many, if not all of us today. So, I actively searched for a dataset related to COVID-19 cases in the Pittsburgh Area. Eventually I came across a dataset that satisfied me, but there was one immediate issue upon opening it. Instead of by sectioning the different areas of Pittsburgh off by neighborhood, this dataset recorded COVID cases across the state of Pennsylvania by county. Although this information could be useful, it was not the dataset I was looking for. So, I found the next COVID-related dataset available on WPRDC, and found one that was more helpful. Now, this dataset sectioned the different areas of Pittsburgh off by neighborhoods, AND municipalities. Naturally, I consulted Google to see what the difference between neighborhood and municipality was. No matter how much I searched, I struggled to find the difference. So, I conducted my analysis with the assumption that neighborhood and municipalities were similar enough to the extent where I could utilize both."
   ]
  },
  {
   "cell_type": "markdown",
   "metadata": {},
   "source": [
    "## Importation"
   ]
  },
  {
   "cell_type": "code",
   "execution_count": 10,
   "metadata": {},
   "outputs": [
    {
     "data": {
      "text/html": [
       "<div>\n",
       "<style scoped>\n",
       "    .dataframe tbody tr th:only-of-type {\n",
       "        vertical-align: middle;\n",
       "    }\n",
       "\n",
       "    .dataframe tbody tr th {\n",
       "        vertical-align: top;\n",
       "    }\n",
       "\n",
       "    .dataframe thead th {\n",
       "        text-align: right;\n",
       "    }\n",
       "</style>\n",
       "<table border=\"1\" class=\"dataframe\">\n",
       "  <thead>\n",
       "    <tr style=\"text-align: right;\">\n",
       "      <th></th>\n",
       "      <th>neighborhood_municipality</th>\n",
       "      <th>individuals_tested</th>\n",
       "      <th>cases</th>\n",
       "      <th>deaths</th>\n",
       "      <th>hospitalizations</th>\n",
       "      <th>tests</th>\n",
       "      <th>postives</th>\n",
       "      <th>ag_tests</th>\n",
       "      <th>positive_ag_tests</th>\n",
       "      <th>pcr_tests</th>\n",
       "      <th>positive_pcr_tests</th>\n",
       "      <th>update_date</th>\n",
       "    </tr>\n",
       "  </thead>\n",
       "  <tbody>\n",
       "    <tr>\n",
       "      <th>0</th>\n",
       "      <td>Aleppo</td>\n",
       "      <td>929</td>\n",
       "      <td>161</td>\n",
       "      <td>11</td>\n",
       "      <td>14</td>\n",
       "      <td>3909</td>\n",
       "      <td>202</td>\n",
       "      <td>2172</td>\n",
       "      <td>71</td>\n",
       "      <td>1739</td>\n",
       "      <td>131</td>\n",
       "      <td>2021-11-15</td>\n",
       "    </tr>\n",
       "    <tr>\n",
       "      <th>1</th>\n",
       "      <td>Allegheny Center (Pittsburgh)</td>\n",
       "      <td>790</td>\n",
       "      <td>136</td>\n",
       "      <td>6</td>\n",
       "      <td>7</td>\n",
       "      <td>1767</td>\n",
       "      <td>163</td>\n",
       "      <td>247</td>\n",
       "      <td>20</td>\n",
       "      <td>1521</td>\n",
       "      <td>143</td>\n",
       "      <td>2021-11-15</td>\n",
       "    </tr>\n",
       "    <tr>\n",
       "      <th>2</th>\n",
       "      <td>Allegheny West (Pittsburgh)</td>\n",
       "      <td>304</td>\n",
       "      <td>40</td>\n",
       "      <td>0</td>\n",
       "      <td>2</td>\n",
       "      <td>803</td>\n",
       "      <td>45</td>\n",
       "      <td>144</td>\n",
       "      <td>8</td>\n",
       "      <td>659</td>\n",
       "      <td>37</td>\n",
       "      <td>2021-11-15</td>\n",
       "    </tr>\n",
       "    <tr>\n",
       "      <th>3</th>\n",
       "      <td>Allentown (Pittsburgh)</td>\n",
       "      <td>1151</td>\n",
       "      <td>247</td>\n",
       "      <td>1</td>\n",
       "      <td>26</td>\n",
       "      <td>3451</td>\n",
       "      <td>289</td>\n",
       "      <td>806</td>\n",
       "      <td>44</td>\n",
       "      <td>2643</td>\n",
       "      <td>245</td>\n",
       "      <td>2021-11-15</td>\n",
       "    </tr>\n",
       "    <tr>\n",
       "      <th>4</th>\n",
       "      <td>Arlington (Pittsburgh)</td>\n",
       "      <td>873</td>\n",
       "      <td>206</td>\n",
       "      <td>5</td>\n",
       "      <td>16</td>\n",
       "      <td>3014</td>\n",
       "      <td>242</td>\n",
       "      <td>694</td>\n",
       "      <td>65</td>\n",
       "      <td>2316</td>\n",
       "      <td>177</td>\n",
       "      <td>2021-11-15</td>\n",
       "    </tr>\n",
       "    <tr>\n",
       "      <th>...</th>\n",
       "      <td>...</td>\n",
       "      <td>...</td>\n",
       "      <td>...</td>\n",
       "      <td>...</td>\n",
       "      <td>...</td>\n",
       "      <td>...</td>\n",
       "      <td>...</td>\n",
       "      <td>...</td>\n",
       "      <td>...</td>\n",
       "      <td>...</td>\n",
       "      <td>...</td>\n",
       "      <td>...</td>\n",
       "    </tr>\n",
       "    <tr>\n",
       "      <th>216</th>\n",
       "      <td>Whitehall</td>\n",
       "      <td>8649</td>\n",
       "      <td>2016</td>\n",
       "      <td>61</td>\n",
       "      <td>144</td>\n",
       "      <td>27849</td>\n",
       "      <td>2391</td>\n",
       "      <td>5439</td>\n",
       "      <td>712</td>\n",
       "      <td>22393</td>\n",
       "      <td>1666</td>\n",
       "      <td>2021-11-15</td>\n",
       "    </tr>\n",
       "    <tr>\n",
       "      <th>217</th>\n",
       "      <td>Wilkins</td>\n",
       "      <td>3444</td>\n",
       "      <td>673</td>\n",
       "      <td>12</td>\n",
       "      <td>55</td>\n",
       "      <td>9925</td>\n",
       "      <td>767</td>\n",
       "      <td>2203</td>\n",
       "      <td>214</td>\n",
       "      <td>7726</td>\n",
       "      <td>547</td>\n",
       "      <td>2021-11-15</td>\n",
       "    </tr>\n",
       "    <tr>\n",
       "      <th>218</th>\n",
       "      <td>Wilkinsburg</td>\n",
       "      <td>8561</td>\n",
       "      <td>1494</td>\n",
       "      <td>38</td>\n",
       "      <td>200</td>\n",
       "      <td>26645</td>\n",
       "      <td>1720</td>\n",
       "      <td>4523</td>\n",
       "      <td>271</td>\n",
       "      <td>22121</td>\n",
       "      <td>1446</td>\n",
       "      <td>2021-11-15</td>\n",
       "    </tr>\n",
       "    <tr>\n",
       "      <th>219</th>\n",
       "      <td>Wilmerding</td>\n",
       "      <td>873</td>\n",
       "      <td>207</td>\n",
       "      <td>1</td>\n",
       "      <td>15</td>\n",
       "      <td>2504</td>\n",
       "      <td>227</td>\n",
       "      <td>575</td>\n",
       "      <td>60</td>\n",
       "      <td>1931</td>\n",
       "      <td>167</td>\n",
       "      <td>2021-11-15</td>\n",
       "    </tr>\n",
       "    <tr>\n",
       "      <th>220</th>\n",
       "      <td>Windgap (Pittsburgh)</td>\n",
       "      <td>653</td>\n",
       "      <td>147</td>\n",
       "      <td>1</td>\n",
       "      <td>10</td>\n",
       "      <td>1960</td>\n",
       "      <td>170</td>\n",
       "      <td>418</td>\n",
       "      <td>46</td>\n",
       "      <td>1538</td>\n",
       "      <td>123</td>\n",
       "      <td>2021-11-15</td>\n",
       "    </tr>\n",
       "  </tbody>\n",
       "</table>\n",
       "<p>221 rows × 12 columns</p>\n",
       "</div>"
      ],
      "text/plain": [
       "         neighborhood_municipality  individuals_tested  cases  deaths  \\\n",
       "0                           Aleppo                 929    161      11   \n",
       "1    Allegheny Center (Pittsburgh)                 790    136       6   \n",
       "2      Allegheny West (Pittsburgh)                 304     40       0   \n",
       "3           Allentown (Pittsburgh)                1151    247       1   \n",
       "4           Arlington (Pittsburgh)                 873    206       5   \n",
       "..                             ...                 ...    ...     ...   \n",
       "216                      Whitehall                8649   2016      61   \n",
       "217                        Wilkins                3444    673      12   \n",
       "218                    Wilkinsburg                8561   1494      38   \n",
       "219                     Wilmerding                 873    207       1   \n",
       "220           Windgap (Pittsburgh)                 653    147       1   \n",
       "\n",
       "     hospitalizations  tests  postives  ag_tests  positive_ag_tests  \\\n",
       "0                  14   3909       202      2172                 71   \n",
       "1                   7   1767       163       247                 20   \n",
       "2                   2    803        45       144                  8   \n",
       "3                  26   3451       289       806                 44   \n",
       "4                  16   3014       242       694                 65   \n",
       "..                ...    ...       ...       ...                ...   \n",
       "216               144  27849      2391      5439                712   \n",
       "217                55   9925       767      2203                214   \n",
       "218               200  26645      1720      4523                271   \n",
       "219                15   2504       227       575                 60   \n",
       "220                10   1960       170       418                 46   \n",
       "\n",
       "     pcr_tests  positive_pcr_tests update_date  \n",
       "0         1739                 131  2021-11-15  \n",
       "1         1521                 143  2021-11-15  \n",
       "2          659                  37  2021-11-15  \n",
       "3         2643                 245  2021-11-15  \n",
       "4         2316                 177  2021-11-15  \n",
       "..         ...                 ...         ...  \n",
       "216      22393                1666  2021-11-15  \n",
       "217       7726                 547  2021-11-15  \n",
       "218      22121                1446  2021-11-15  \n",
       "219       1931                 167  2021-11-15  \n",
       "220       1538                 123  2021-11-15  \n",
       "\n",
       "[221 rows x 12 columns]"
      ]
     },
     "execution_count": 10,
     "metadata": {},
     "output_type": "execute_result"
    }
   ],
   "source": [
    "import pandas as pd\n",
    "import numpy as np\n",
    "%matplotlib inline\n",
    "import matplotlib.pyplot as plt\n",
    "import geopandas as gp\n",
    "#initializing pandas, numpy, matplotlib, and geopandas\n",
    "\n",
    "\n",
    "#Doing best neighborhoods based on least number of Covid cases by neighborhood\n",
    "#fewest cases\n",
    "\n",
    "\n",
    "cases = pd.read_csv(\"covid-19.csv\")\n",
    "\n",
    "cases"
   ]
  },
  {
   "cell_type": "code",
   "execution_count": 9,
   "metadata": {},
   "outputs": [
    {
     "data": {
      "text/plain": [
       "199     4\n",
       "91      5\n",
       "195     6\n",
       "41     10\n",
       "5      16\n",
       "185    21\n",
       "175    22\n",
       "163    25\n",
       "68     25\n",
       "208    28\n",
       "Name: cases, dtype: int64"
      ]
     },
     "execution_count": 9,
     "metadata": {},
     "output_type": "execute_result"
    }
   ],
   "source": [
    "sorted_cases = cases[\"cases\"].sort_values(ascending = True)\n",
    "\n",
    "TopCases = sorted_cases.iloc[:10]\n",
    "topcase = []\n",
    "topcase.append(TopCases)\n",
    "\n",
    "TopCases"
   ]
  },
  {
   "cell_type": "markdown",
   "metadata": {},
   "source": [
    "\n",
    "The first column of numbers correlate with the order in which the neighborhood/municipalities are presented on the csv file. The second column indicates the number of cases associated with each neighborhood/municipality within the dataset. The output above showcases the 10 neighborhoods/municipalities with the least number of COVID cases."
   ]
  },
  {
   "cell_type": "code",
   "execution_count": 13,
   "metadata": {},
   "outputs": [
    {
     "data": {
      "text/plain": [
       "190    0\n",
       "68     0\n",
       "154    0\n",
       "26     0\n",
       "62     0\n",
       "      ..\n",
       "37     4\n",
       "48     4\n",
       "134    4\n",
       "170    4\n",
       "55     4\n",
       "Name: deaths, Length: 111, dtype: int64"
      ]
     },
     "execution_count": 13,
     "metadata": {},
     "output_type": "execute_result"
    }
   ],
   "source": [
    "#Doing best neighborhoods based on least number of COVID related deaths by neighborhood\n",
    "#fewest deaths\n",
    "sorted_deaths = cases[\"deaths\"].sort_values(ascending = True)\n",
    "\n",
    "Top_Ten_Deaths = sorted_deaths.iloc[:10]\n",
    "Top_half_Deaths = sorted_deaths.iloc[:111]\n",
    "topDeath = []\n",
    "topDeath.append(Top_half_Deaths)\n",
    "\n",
    "Top_half_Deaths"
   ]
  },
  {
   "cell_type": "markdown",
   "metadata": {},
   "source": [
    "Even when observing the 111 neighborhoods with the lowest deaths related to COVID-19, the deaths reach 4. This is an indicator that at least half of the neighborhoods in the data set had COVID deaths in the past month spanning from 0-4 deaths, since there are 221 neighborhoods in total within the dataset.\n",
    "We will see later on that safest neighborhood by deaths is not a great metric."
   ]
  },
  {
   "cell_type": "markdown",
   "metadata": {},
   "source": [
    "## Average Number of Cases per Neighborhood/Municipality"
   ]
  },
  {
   "cell_type": "code",
   "execution_count": 3,
   "metadata": {},
   "outputs": [
    {
     "name": "stdout",
     "output_type": "stream",
     "text": [
      "622.7692307692307\n"
     ]
    }
   ],
   "source": [
    "#Average Cases per Neighborhoods across Pittsburgh\n",
    "total_cases = cases[\"cases\"].sum()\n",
    "avg_cases = total_cases/cases[\"neighborhood_municipality\"].count()\n",
    "print(avg_cases)"
   ]
  },
  {
   "cell_type": "markdown",
   "metadata": {},
   "source": [
    "# Graphics"
   ]
  },
  {
   "cell_type": "code",
   "execution_count": 32,
   "metadata": {},
   "outputs": [
    {
     "data": {
      "text/plain": [
       "<matplotlib.axes._subplots.AxesSubplot at 0x7fcf47465a00>"
      ]
     },
     "execution_count": 32,
     "metadata": {},
     "output_type": "execute_result"
    },
    {
     "data": {
      "image/png": "[encoded data removed]",
      "text/plain": [
       "<Figure size 432x288 with 1 Axes>"
      ]
     },
     "metadata": {
      "needs_background": "light"
     },
     "output_type": "display_data"
    }
   ],
   "source": [
    "cases[\"cases\"].plot()"
   ]
  },
  {
   "cell_type": "markdown",
   "metadata": {},
   "source": [
    "### Safest Municipalities by COVID-19 Cases"
   ]
  },
  {
   "cell_type": "code",
   "execution_count": 24,
   "metadata": {},
   "outputs": [
    {
     "data": {
      "text/plain": [
       "Text(0, 0.5, 'Number of Cases')"
      ]
     },
     "execution_count": 24,
     "metadata": {},
     "output_type": "execute_result"
    },
    {
     "data": {
      "image/png": "[encoded data removed]",
      "text/plain": [
       "<Figure size 432x288 with 1 Axes>"
      ]
     },
     "metadata": {
      "needs_background": "light"
     },
     "output_type": "display_data"
    }
   ],
   "source": [
    "cases[\"cases\"].sort_values(ascending = False).tail(10).plot.bar(x = \"neighborhood_municipality\",y = \"cases\", rot = 90)\n",
    "#The number of COVID Cases on the y-axis, related to the number associated with each neighborhood (x-axis).\n",
    "plt.title(\"Top 10 Fewest COVID-19 Cases by Municipality\")\n",
    "plt.xlabel(\"Neighborhood Municipalities\")\n",
    "plt.ylabel(\"Number of Cases\")"
   ]
  },
  {
   "cell_type": "markdown",
   "metadata": {},
   "source": [
    "This graphical representation of the top 10 safest neighborhoods/municipalities by number of cases is not very pleasing to look at, specifically the X-axis being the index of the neighborhoods/municipalities rather than the name of the neighborhoods/municipalities themselves.\n",
    "\n",
    "So, I went through and looked up each of the 10 indices provided in the graphic above in the data file and manually entered the x-axis of the bar graph shown below, along with the exact number of cases associated with each neighborhood/municipality. This is not the most efficient method."
   ]
  },
  {
   "cell_type": "code",
   "execution_count": 17,
   "metadata": {},
   "outputs": [
    {
     "data": {
      "text/plain": [
       "Text(0, 0.5, 'Number of Cases')"
      ]
     },
     "execution_count": 17,
     "metadata": {},
     "output_type": "execute_result"
    },
    {
     "data": {
      "image/png": "[encoded data removed]",
      "text/plain": [
       "<Figure size 432x288 with 1 Axes>"
      ]
     },
     "metadata": {
      "needs_background": "light"
     },
     "output_type": "display_data"
    }
   ],
   "source": [
    "pd.Series([28, 25, 25, 22,21,16,10,6, 5, 4]   #Manually entered these values using the dataset\n",
    "          , index=[\"West End\", \"Esplen\",\"Rosslyn Farms\",\"South Shore\",\"St. Clair\",\n",
    "                   \"Arlington Heights\", \"Chateau\",\"Trafford\",\"Hays\",\"Undefined (Pittsburgh)\"]).plot.bar() #Manually entered names using the dataset\n",
    "plt.title(\"Top 10 Fewest COVID-19 Cases by Neighborhood/Municipality\")\n",
    "plt.xlabel(\"Neighborhood/Municipalities\")\n",
    "plt.ylabel(\"Number of Cases\")"
   ]
  },
  {
   "cell_type": "markdown",
   "metadata": {},
   "source": [
    "Here, we can observe that each of the top 10 safest neighborhoods/municipalities by number of COVID-19 cases barely reaches 30. However, the Undefined areas of Pittsburgh, or communities that do not belong to a particular neighborhood/municipality, have the fewest cases. Because we don't exactly know where \"undefined\" is, we must rule it out and resort to looking at the next safest neighborhood by COVID-cases, which is Hays. Hays boasts having only 5 cases in the past month. While it is close between Trafford and Hays, with 6 cases and 5 cases on record respectively, Hays takes the cake in having the fewest number of cases."
   ]
  },
  {
   "cell_type": "markdown",
   "metadata": {},
   "source": [
    "### Safest Municipalities by COVID-19-related Deaths"
   ]
  },
  {
   "cell_type": "code",
   "execution_count": 16,
   "metadata": {},
   "outputs": [
    {
     "data": {
      "text/plain": [
       "Text(0, 0.5, 'Amount of Deaths')"
      ]
     },
     "execution_count": 16,
     "metadata": {},
     "output_type": "execute_result"
    },
    {
     "data": {
      "image/png": "[encoded data removed]",
      "text/plain": [
       "<Figure size 1440x1440 with 1 Axes>"
      ]
     },
     "metadata": {
      "needs_background": "light"
     },
     "output_type": "display_data"
    }
   ],
   "source": [
    "Top_half_Deaths.plot(kind = \"bar\", ylim = [0, 5], figsize = (20,20))\n",
    "#This graph represents the Top 100 deaths, sorted by least to highest number of deaths related to COVID.\n",
    "plt.title(\"Lowest COVID-19 Deaths by Municipality\")\n",
    "plt.xlabel(\"Neighborhood/Municipalities\")\n",
    "plt.ylabel(\"Amount of Deaths\")"
   ]
  },
  {
   "cell_type": "markdown",
   "metadata": {},
   "source": [
    "As seen here, there is a tie between the top 10 safest neighborhoods/municipalities by COVID-19 deaths. Unfortunately, this submetric will not be a helpful way in portraying the safest neighborhoods/municipalities, at least for this dataset. In addition, this graph is not very pleasing to look at, even when enlarged."
   ]
  },
  {
   "cell_type": "markdown",
   "metadata": {},
   "source": [
    "### Heatmap of COVID-19 Cases in Pittsburgh Neighborhoods/Municipalities"
   ]
  },
  {
   "cell_type": "code",
   "execution_count": 5,
   "metadata": {},
   "outputs": [
    {
     "data": {
      "text/plain": [
       "neighborhood_municipality\n",
       "Penn Hills                        4588\n",
       "Bethel Park                       3698\n",
       "Monroeville                       3568\n",
       "Ross                              3546\n",
       "Plum                              3196\n",
       "                                  ... \n",
       "Arlington Heights (Pittsburgh)      16\n",
       "Chateau (Pittsburgh)                10\n",
       "Trafford                             6\n",
       "Haysville                            5\n",
       "Undefined (Pittsburgh)               4\n",
       "Name: cases, Length: 221, dtype: int64"
      ]
     },
     "execution_count": 5,
     "metadata": {},
     "output_type": "execute_result"
    }
   ],
   "source": [
    "num_cases = cases.groupby(\"neighborhood_municipality\").sum()[\"cases\"]\n",
    "num_cases.sort_values(ascending = False)"
   ]
  },
  {
   "cell_type": "code",
   "execution_count": 6,
   "metadata": {},
   "outputs": [],
   "source": [
    "neighborhoods = gp.read_file(\"Neighborhoods/Neighborhoods_.shp\") # read in the shapefile"
   ]
  },
  {
   "cell_type": "code",
   "execution_count": 8,
   "metadata": {},
   "outputs": [
    {
     "data": {
      "text/html": [
       "<div>\n",
       "<style scoped>\n",
       "    .dataframe tbody tr th:only-of-type {\n",
       "        vertical-align: middle;\n",
       "    }\n",
       "\n",
       "    .dataframe tbody tr th {\n",
       "        vertical-align: top;\n",
       "    }\n",
       "\n",
       "    .dataframe thead th {\n",
       "        text-align: right;\n",
       "    }\n",
       "</style>\n",
       "<table border=\"1\" class=\"dataframe\">\n",
       "  <thead>\n",
       "    <tr style=\"text-align: right;\">\n",
       "      <th></th>\n",
       "      <th>hood</th>\n",
       "      <th>cases</th>\n",
       "      <th>geometry</th>\n",
       "    </tr>\n",
       "  </thead>\n",
       "  <tbody>\n",
       "    <tr>\n",
       "      <th>0</th>\n",
       "      <td>Central Oakland</td>\n",
       "      <td>NaN</td>\n",
       "      <td>POLYGON ((-79.95304 40.44203, -79.95302 40.442...</td>\n",
       "    </tr>\n",
       "    <tr>\n",
       "      <th>1</th>\n",
       "      <td>North Oakland</td>\n",
       "      <td>NaN</td>\n",
       "      <td>POLYGON ((-79.95455 40.45882, -79.95427 40.458...</td>\n",
       "    </tr>\n",
       "    <tr>\n",
       "      <th>2</th>\n",
       "      <td>West Oakland</td>\n",
       "      <td>NaN</td>\n",
       "      <td>POLYGON ((-79.96230 40.44294, -79.96220 40.442...</td>\n",
       "    </tr>\n",
       "    <tr>\n",
       "      <th>3</th>\n",
       "      <td>Crawford-Roberts</td>\n",
       "      <td>NaN</td>\n",
       "      <td>POLYGON ((-79.98275 40.44641, -79.98273 40.446...</td>\n",
       "    </tr>\n",
       "    <tr>\n",
       "      <th>4</th>\n",
       "      <td>Strip District</td>\n",
       "      <td>NaN</td>\n",
       "      <td>POLYGON ((-79.97494 40.45629, -79.97484 40.456...</td>\n",
       "    </tr>\n",
       "    <tr>\n",
       "      <th>5</th>\n",
       "      <td>Central Business District</td>\n",
       "      <td>NaN</td>\n",
       "      <td>POLYGON ((-79.99238 40.44484, -79.99233 40.444...</td>\n",
       "    </tr>\n",
       "    <tr>\n",
       "      <th>6</th>\n",
       "      <td>Spring Hill-City View</td>\n",
       "      <td>NaN</td>\n",
       "      <td>POLYGON ((-79.99761 40.47460, -79.99761 40.474...</td>\n",
       "    </tr>\n",
       "    <tr>\n",
       "      <th>7</th>\n",
       "      <td>Perry South</td>\n",
       "      <td>NaN</td>\n",
       "      <td>POLYGON ((-80.01456 40.47727, -80.01462 40.477...</td>\n",
       "    </tr>\n",
       "    <tr>\n",
       "      <th>8</th>\n",
       "      <td>Summer Hill</td>\n",
       "      <td>NaN</td>\n",
       "      <td>POLYGON ((-80.01087 40.50097, -80.01073 40.499...</td>\n",
       "    </tr>\n",
       "    <tr>\n",
       "      <th>9</th>\n",
       "      <td>Northview Heights</td>\n",
       "      <td>NaN</td>\n",
       "      <td>POLYGON ((-80.00327 40.48271, -80.00326 40.482...</td>\n",
       "    </tr>\n",
       "  </tbody>\n",
       "</table>\n",
       "</div>"
      ],
      "text/plain": [
       "                        hood  cases  \\\n",
       "0            Central Oakland    NaN   \n",
       "1              North Oakland    NaN   \n",
       "2               West Oakland    NaN   \n",
       "3           Crawford-Roberts    NaN   \n",
       "4             Strip District    NaN   \n",
       "5  Central Business District    NaN   \n",
       "6      Spring Hill-City View    NaN   \n",
       "7                Perry South    NaN   \n",
       "8                Summer Hill    NaN   \n",
       "9          Northview Heights    NaN   \n",
       "\n",
       "                                            geometry  \n",
       "0  POLYGON ((-79.95304 40.44203, -79.95302 40.442...  \n",
       "1  POLYGON ((-79.95455 40.45882, -79.95427 40.458...  \n",
       "2  POLYGON ((-79.96230 40.44294, -79.96220 40.442...  \n",
       "3  POLYGON ((-79.98275 40.44641, -79.98273 40.446...  \n",
       "4  POLYGON ((-79.97494 40.45629, -79.97484 40.456...  \n",
       "5  POLYGON ((-79.99238 40.44484, -79.99233 40.444...  \n",
       "6  POLYGON ((-79.99761 40.47460, -79.99761 40.474...  \n",
       "7  POLYGON ((-80.01456 40.47727, -80.01462 40.477...  \n",
       "8  POLYGON ((-80.01087 40.50097, -80.01073 40.499...  \n",
       "9  POLYGON ((-80.00327 40.48271, -80.00326 40.482...  "
      ]
     },
     "execution_count": 8,
     "metadata": {},
     "output_type": "execute_result"
    }
   ],
   "source": [
    "#Merging the two dataframes\n",
    "case_map = neighborhoods.merge(num_cases, how='left', left_on='hood', right_on='neighborhood_municipality')\n",
    "# look at the head to confirm it merged correctly\n",
    "case_map[['hood','cases','geometry']].head(10)\n"
   ]
  },
  {
   "cell_type": "markdown",
   "metadata": {},
   "source": [
    "### Is there correlation between Covid-19 Cases and Deaths?\n",
    "\n",
    "Something that I noticed while creating these two graphics above while using the sub-metrics of COVID-19 cases is that the neighborhoods/municipalities with higher cases also had higher rates of death. "
   ]
  },
  {
   "cell_type": "code",
   "execution_count": 10,
   "metadata": {},
   "outputs": [
    {
     "data": {
      "text/plain": [
       "<matplotlib.axes._subplots.AxesSubplot at 0x7fee40bf7cd0>"
      ]
     },
     "execution_count": 10,
     "metadata": {},
     "output_type": "execute_result"
    },
    {
     "data": {
      "image/png": "[encoded data removed]",
      "text/plain": [
       "<Figure size 432x288 with 1 Axes>"
      ]
     },
     "metadata": {
      "needs_background": "light"
     },
     "output_type": "display_data"
    }
   ],
   "source": [
    "cases.plot(kind='scatter', x='cases', y='deaths', title= \"COVID Cases vs. Deaths\")"
   ]
  },
  {
   "cell_type": "markdown",
   "metadata": {},
   "source": [
    "There seems to be somewhat of a moderately strong positive correlation between the two variables, cases & deaths."
   ]
  },
  {
   "cell_type": "code",
   "execution_count": 20,
   "metadata": {},
   "outputs": [
    {
     "data": {
      "text/plain": [
       "<matplotlib.axes._subplots.AxesSubplot at 0x7fee3e3471c0>"
      ]
     },
     "execution_count": 20,
     "metadata": {},
     "output_type": "execute_result"
    },
    {
     "data": {
      "image/png": "[encoded data removed]",
      "text/plain": [
       "<Figure size 432x288 with 1 Axes>"
      ]
     },
     "metadata": {
      "needs_background": "light"
     },
     "output_type": "display_data"
    }
   ],
   "source": [
    "cases.iloc[:30].plot(kind='scatter', x='cases', y='deaths', title= \"COVID Cases vs. Deaths\")"
   ]
  },
  {
   "cell_type": "markdown",
   "metadata": {},
   "source": [
    "The scatter plot shown here is a simplified version of the scatterplot above, showcasing the first 30 datapoints in the database."
   ]
  },
  {
   "cell_type": "markdown",
   "metadata": {},
   "source": [
    "# Analysis"
   ]
  },
  {
   "cell_type": "markdown",
   "metadata": {},
   "source": [
    "To give weighting to the metric of safest neighborhood/municipality by COVID-19 case, our group decided to rank our top 5 neighborhoods/municipalities by awarding them points based on their placing on the \"podium\". For my dataset, Hays was awarded 5 points, Trafford awarded 4 points, Chateau awarded 3 points, Arlington Heights was awarded 2 points, and St. Clair was awarded 1 points.\n",
    "\n",
    "The Standings are presented as stands:\n",
    "\n",
    "Hays: 5 points\n",
    "\n",
    "Trafford: 4 points\n",
    "\n",
    "Chateau: 3 points\n",
    "\n",
    "Arlington Heights: 2 points\n",
    "\n",
    "St. Clair: 1 point"
   ]
  },
  {
   "cell_type": "markdown",
   "metadata": {},
   "source": [
    "# Conclusion"
   ]
  },
  {
   "cell_type": "markdown",
   "metadata": {},
   "source": [
    "Although the metric I chose was not flawless, I do believe that it was sufficient in determining a clear winner for safest neighborhood.  As mentioned earlier, the neighborhood \"Hays\" took the win, when in reality, the homes that did not belong to a particular neighborhood/municipality actually are the safest options if we are thinking holistically. However, my top 5 safest neighborhoods, Hays, Trafford, Chateau, Arlington Heights, and St. Clair included Arlington Heights, which has already placed on the podium for a different metric. This determined that in multiple metrics, Arlington Heights was a top contender as one of the safest neighborhoods/municipalities in the Pittsburgh area."
   ]
  }
 ],
 "metadata": {
  "kernelspec": {
   "display_name": "Python 3",
   "language": "python",
   "name": "python3"
  },
  "language_info": {
   "codemirror_mode": {
    "name": "ipython",
    "version": 3
   },
   "file_extension": ".py",
   "mimetype": "text/x-python",
   "name": "python",
   "nbconvert_exporter": "python",
   "pygments_lexer": "ipython3",
   "version": "3.8.3"
  }
 },
 "nbformat": 4,
 "nbformat_minor": 4
}
