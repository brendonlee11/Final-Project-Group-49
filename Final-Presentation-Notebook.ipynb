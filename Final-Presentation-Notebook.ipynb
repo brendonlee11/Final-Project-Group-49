{
 "cells": [
  {
   "cell_type": "markdown",
   "metadata": {},
   "source": [
    "# Introduction"
   ]
  },
  {
   "cell_type": "markdown",
   "metadata": {},
   "source": [
    "As I searched through the many datasets provided by WPRDC, I came across 311 data. I found this to be the most interesting to me as it is mobile requests made by people in the neighborhoods of Pittsburgh. Not only was I interested in finding out what type of 311 calls were made but what neighborhoods had the most and least. I specifically looked at the neighborhoods and the amount of requests made. Overall, this helped me find the safest neighborhood in Pittsburgh in terms of quieteness, since a neighborhood with a low amount of 311 requests is a quieter neighborhood than one with more requests. "
   ]
  },
  {
   "cell_type": "markdown",
   "metadata": {},
   "source": [
    "Import"
   ]
  },
  {
   "cell_type": "code",
   "execution_count": 8,
   "metadata": {},
   "outputs": [],
   "source": [
    "import pandas as pd\n",
    "import numpy as np\n",
    "import geopandas as gpd\n",
    "%matplotlib inline\n",
    "import matplotlib.pyplot as plt"
   ]
  },
  {
   "cell_type": "markdown",
   "metadata": {},
   "source": [
    "# 311 Dataset"
   ]
  },
  {
   "cell_type": "markdown",
   "metadata": {},
   "source": [
    "311 service requests in Pittsburgh. Requests are collected from the following: phone calls, tweets, emails, a form on the City website, and through the 311 mobile application"
   ]
  },
  {
   "cell_type": "code",
   "execution_count": 9,
   "metadata": {},
   "outputs": [
    {
     "data": {
      "text/html": [
       "<div>\n",
       "<style scoped>\n",
       "    .dataframe tbody tr th:only-of-type {\n",
       "        vertical-align: middle;\n",
       "    }\n",
       "\n",
       "    .dataframe tbody tr th {\n",
       "        vertical-align: top;\n",
       "    }\n",
       "\n",
       "    .dataframe thead th {\n",
       "        text-align: right;\n",
       "    }\n",
       "</style>\n",
       "<table border=\"1\" class=\"dataframe\">\n",
       "  <thead>\n",
       "    <tr style=\"text-align: right;\">\n",
       "      <th></th>\n",
       "      <th>CREATED_ON</th>\n",
       "      <th>REQUEST_TYPE</th>\n",
       "      <th>REQUEST_ORIGIN</th>\n",
       "      <th>STATUS</th>\n",
       "      <th>DEPARTMENT</th>\n",
       "      <th>NEIGHBORHOOD</th>\n",
       "      <th>COUNCIL_DISTRICT</th>\n",
       "      <th>WARD</th>\n",
       "      <th>TRACT</th>\n",
       "      <th>PUBLIC_WORKS_DIVISION</th>\n",
       "      <th>PLI_DIVISION</th>\n",
       "      <th>POLICE_ZONE</th>\n",
       "      <th>FIRE_ZONE</th>\n",
       "      <th>X</th>\n",
       "      <th>Y</th>\n",
       "      <th>GEO_ACCURACY</th>\n",
       "    </tr>\n",
       "    <tr>\n",
       "      <th>REQUEST_ID</th>\n",
       "      <th></th>\n",
       "      <th></th>\n",
       "      <th></th>\n",
       "      <th></th>\n",
       "      <th></th>\n",
       "      <th></th>\n",
       "      <th></th>\n",
       "      <th></th>\n",
       "      <th></th>\n",
       "      <th></th>\n",
       "      <th></th>\n",
       "      <th></th>\n",
       "      <th></th>\n",
       "      <th></th>\n",
       "      <th></th>\n",
       "      <th></th>\n",
       "    </tr>\n",
       "  </thead>\n",
       "  <tbody>\n",
       "    <tr>\n",
       "      <th>203364.0</th>\n",
       "      <td>2017-12-15T14:53:00</td>\n",
       "      <td>Street Obstruction/Closure</td>\n",
       "      <td>Call Center</td>\n",
       "      <td>1</td>\n",
       "      <td>DOMI - Permits</td>\n",
       "      <td>Central Northside</td>\n",
       "      <td>1.0</td>\n",
       "      <td>22.0</td>\n",
       "      <td>4.200322e+10</td>\n",
       "      <td>1.0</td>\n",
       "      <td>22.0</td>\n",
       "      <td>1.0</td>\n",
       "      <td>1-7</td>\n",
       "      <td>-80.016716</td>\n",
       "      <td>40.454144</td>\n",
       "      <td>EXACT</td>\n",
       "    </tr>\n",
       "    <tr>\n",
       "      <th>200800.0</th>\n",
       "      <td>2017-11-29T09:54:00</td>\n",
       "      <td>Graffiti</td>\n",
       "      <td>Control Panel</td>\n",
       "      <td>1</td>\n",
       "      <td>Police - Zones 1-6</td>\n",
       "      <td>South Side Flats</td>\n",
       "      <td>3.0</td>\n",
       "      <td>16.0</td>\n",
       "      <td>4.200316e+10</td>\n",
       "      <td>3.0</td>\n",
       "      <td>16.0</td>\n",
       "      <td>3.0</td>\n",
       "      <td>4-24</td>\n",
       "      <td>-79.969952</td>\n",
       "      <td>40.429243</td>\n",
       "      <td>APPROXIMATE</td>\n",
       "    </tr>\n",
       "    <tr>\n",
       "      <th>201310.0</th>\n",
       "      <td>2017-12-01T13:23:00</td>\n",
       "      <td>Litter</td>\n",
       "      <td>Call Center</td>\n",
       "      <td>1</td>\n",
       "      <td>DPW - Street Maintenance</td>\n",
       "      <td>Troy Hill</td>\n",
       "      <td>1.0</td>\n",
       "      <td>24.0</td>\n",
       "      <td>4.200324e+10</td>\n",
       "      <td>1.0</td>\n",
       "      <td>24.0</td>\n",
       "      <td>1.0</td>\n",
       "      <td>1-2</td>\n",
       "      <td>-79.985859</td>\n",
       "      <td>40.459716</td>\n",
       "      <td>EXACT</td>\n",
       "    </tr>\n",
       "    <tr>\n",
       "      <th>200171.0</th>\n",
       "      <td>2017-11-22T14:54:00</td>\n",
       "      <td>Water Main Break</td>\n",
       "      <td>Call Center</td>\n",
       "      <td>1</td>\n",
       "      <td>Pittsburgh Water and Sewer Authority</td>\n",
       "      <td>Banksville</td>\n",
       "      <td>2.0</td>\n",
       "      <td>20.0</td>\n",
       "      <td>4.200320e+10</td>\n",
       "      <td>5.0</td>\n",
       "      <td>20.0</td>\n",
       "      <td>6.0</td>\n",
       "      <td>4-9</td>\n",
       "      <td>-80.034210</td>\n",
       "      <td>40.406969</td>\n",
       "      <td>EXACT</td>\n",
       "    </tr>\n",
       "    <tr>\n",
       "      <th>193043.0</th>\n",
       "      <td>2017-10-12T12:46:00</td>\n",
       "      <td>Guide Rail</td>\n",
       "      <td>Call Center</td>\n",
       "      <td>1</td>\n",
       "      <td>DPW - Construction Division</td>\n",
       "      <td>East Hills</td>\n",
       "      <td>9.0</td>\n",
       "      <td>13.0</td>\n",
       "      <td>4.200313e+10</td>\n",
       "      <td>2.0</td>\n",
       "      <td>13.0</td>\n",
       "      <td>5.0</td>\n",
       "      <td>3-19</td>\n",
       "      <td>-79.876582</td>\n",
       "      <td>40.451226</td>\n",
       "      <td>EXACT</td>\n",
       "    </tr>\n",
       "    <tr>\n",
       "      <th>...</th>\n",
       "      <td>...</td>\n",
       "      <td>...</td>\n",
       "      <td>...</td>\n",
       "      <td>...</td>\n",
       "      <td>...</td>\n",
       "      <td>...</td>\n",
       "      <td>...</td>\n",
       "      <td>...</td>\n",
       "      <td>...</td>\n",
       "      <td>...</td>\n",
       "      <td>...</td>\n",
       "      <td>...</td>\n",
       "      <td>...</td>\n",
       "      <td>...</td>\n",
       "      <td>...</td>\n",
       "      <td>...</td>\n",
       "    </tr>\n",
       "    <tr>\n",
       "      <th>585669.0</th>\n",
       "      <td>2021-12-07T16:54:00</td>\n",
       "      <td>City Facility</td>\n",
       "      <td>Call Center</td>\n",
       "      <td>0</td>\n",
       "      <td>DPW - Facilities</td>\n",
       "      <td>Brighton Heights</td>\n",
       "      <td>1.0</td>\n",
       "      <td>27.0</td>\n",
       "      <td>4.200327e+10</td>\n",
       "      <td>1.0</td>\n",
       "      <td>27.0</td>\n",
       "      <td>1.0</td>\n",
       "      <td>1-14</td>\n",
       "      <td>-80.035896</td>\n",
       "      <td>40.479149</td>\n",
       "      <td>EXACT</td>\n",
       "    </tr>\n",
       "    <tr>\n",
       "      <th>585670.0</th>\n",
       "      <td>2021-12-07T16:57:00</td>\n",
       "      <td>Question</td>\n",
       "      <td>Call Center</td>\n",
       "      <td>1</td>\n",
       "      <td>311</td>\n",
       "      <td>NaN</td>\n",
       "      <td>NaN</td>\n",
       "      <td>NaN</td>\n",
       "      <td>NaN</td>\n",
       "      <td>NaN</td>\n",
       "      <td>NaN</td>\n",
       "      <td>NaN</td>\n",
       "      <td>NaN</td>\n",
       "      <td>NaN</td>\n",
       "      <td>NaN</td>\n",
       "      <td>OUT_OF_BOUNDS</td>\n",
       "    </tr>\n",
       "    <tr>\n",
       "      <th>585671.0</th>\n",
       "      <td>2021-12-07T17:02:00</td>\n",
       "      <td>Weeds/Debris</td>\n",
       "      <td>Call Center</td>\n",
       "      <td>0</td>\n",
       "      <td>Permits, Licenses and Inspections</td>\n",
       "      <td>Swisshelm Park</td>\n",
       "      <td>5.0</td>\n",
       "      <td>14.0</td>\n",
       "      <td>4.200314e+10</td>\n",
       "      <td>3.0</td>\n",
       "      <td>14.0</td>\n",
       "      <td>4.0</td>\n",
       "      <td>2-19</td>\n",
       "      <td>-79.898695</td>\n",
       "      <td>40.420577</td>\n",
       "      <td>EXACT</td>\n",
       "    </tr>\n",
       "    <tr>\n",
       "      <th>585672.0</th>\n",
       "      <td>2021-12-07T17:04:00</td>\n",
       "      <td>Fence</td>\n",
       "      <td>Call Center</td>\n",
       "      <td>0</td>\n",
       "      <td>DOMI - Construction</td>\n",
       "      <td>Brookline</td>\n",
       "      <td>4.0</td>\n",
       "      <td>19.0</td>\n",
       "      <td>4.200319e+10</td>\n",
       "      <td>5.0</td>\n",
       "      <td>19.0</td>\n",
       "      <td>6.0</td>\n",
       "      <td>4-26</td>\n",
       "      <td>-80.026374</td>\n",
       "      <td>40.397909</td>\n",
       "      <td>EXACT</td>\n",
       "    </tr>\n",
       "    <tr>\n",
       "      <th>585673.0</th>\n",
       "      <td>2021-12-07T17:05:00</td>\n",
       "      <td>Abandoned Vehicle (parked on street)</td>\n",
       "      <td>Call Center</td>\n",
       "      <td>0</td>\n",
       "      <td>Police - AVU</td>\n",
       "      <td>East Hills</td>\n",
       "      <td>9.0</td>\n",
       "      <td>13.0</td>\n",
       "      <td>4.200313e+10</td>\n",
       "      <td>2.0</td>\n",
       "      <td>13.0</td>\n",
       "      <td>5.0</td>\n",
       "      <td>3-19</td>\n",
       "      <td>-79.871421</td>\n",
       "      <td>40.453169</td>\n",
       "      <td>APPROXIMATE</td>\n",
       "    </tr>\n",
       "  </tbody>\n",
       "</table>\n",
       "<p>567690 rows × 16 columns</p>\n",
       "</div>"
      ],
      "text/plain": [
       "                     CREATED_ON                          REQUEST_TYPE  \\\n",
       "REQUEST_ID                                                              \n",
       "203364.0    2017-12-15T14:53:00            Street Obstruction/Closure   \n",
       "200800.0    2017-11-29T09:54:00                              Graffiti   \n",
       "201310.0    2017-12-01T13:23:00                                Litter   \n",
       "200171.0    2017-11-22T14:54:00                      Water Main Break   \n",
       "193043.0    2017-10-12T12:46:00                            Guide Rail   \n",
       "...                         ...                                   ...   \n",
       "585669.0    2021-12-07T16:54:00                         City Facility   \n",
       "585670.0    2021-12-07T16:57:00                              Question   \n",
       "585671.0    2021-12-07T17:02:00                          Weeds/Debris   \n",
       "585672.0    2021-12-07T17:04:00                                 Fence   \n",
       "585673.0    2021-12-07T17:05:00  Abandoned Vehicle (parked on street)   \n",
       "\n",
       "           REQUEST_ORIGIN  STATUS                            DEPARTMENT  \\\n",
       "REQUEST_ID                                                                \n",
       "203364.0      Call Center       1                        DOMI - Permits   \n",
       "200800.0    Control Panel       1                    Police - Zones 1-6   \n",
       "201310.0      Call Center       1              DPW - Street Maintenance   \n",
       "200171.0      Call Center       1  Pittsburgh Water and Sewer Authority   \n",
       "193043.0      Call Center       1           DPW - Construction Division   \n",
       "...                   ...     ...                                   ...   \n",
       "585669.0      Call Center       0                      DPW - Facilities   \n",
       "585670.0      Call Center       1                                   311   \n",
       "585671.0      Call Center       0     Permits, Licenses and Inspections   \n",
       "585672.0      Call Center       0                   DOMI - Construction   \n",
       "585673.0      Call Center       0                          Police - AVU   \n",
       "\n",
       "                 NEIGHBORHOOD  COUNCIL_DISTRICT  WARD         TRACT  \\\n",
       "REQUEST_ID                                                            \n",
       "203364.0    Central Northside               1.0  22.0  4.200322e+10   \n",
       "200800.0     South Side Flats               3.0  16.0  4.200316e+10   \n",
       "201310.0            Troy Hill               1.0  24.0  4.200324e+10   \n",
       "200171.0           Banksville               2.0  20.0  4.200320e+10   \n",
       "193043.0           East Hills               9.0  13.0  4.200313e+10   \n",
       "...                       ...               ...   ...           ...   \n",
       "585669.0     Brighton Heights               1.0  27.0  4.200327e+10   \n",
       "585670.0                  NaN               NaN   NaN           NaN   \n",
       "585671.0       Swisshelm Park               5.0  14.0  4.200314e+10   \n",
       "585672.0            Brookline               4.0  19.0  4.200319e+10   \n",
       "585673.0           East Hills               9.0  13.0  4.200313e+10   \n",
       "\n",
       "            PUBLIC_WORKS_DIVISION  PLI_DIVISION  POLICE_ZONE FIRE_ZONE  \\\n",
       "REQUEST_ID                                                               \n",
       "203364.0                      1.0          22.0          1.0       1-7   \n",
       "200800.0                      3.0          16.0          3.0      4-24   \n",
       "201310.0                      1.0          24.0          1.0       1-2   \n",
       "200171.0                      5.0          20.0          6.0       4-9   \n",
       "193043.0                      2.0          13.0          5.0      3-19   \n",
       "...                           ...           ...          ...       ...   \n",
       "585669.0                      1.0          27.0          1.0      1-14   \n",
       "585670.0                      NaN           NaN          NaN       NaN   \n",
       "585671.0                      3.0          14.0          4.0      2-19   \n",
       "585672.0                      5.0          19.0          6.0      4-26   \n",
       "585673.0                      2.0          13.0          5.0      3-19   \n",
       "\n",
       "                    X          Y   GEO_ACCURACY  \n",
       "REQUEST_ID                                       \n",
       "203364.0   -80.016716  40.454144          EXACT  \n",
       "200800.0   -79.969952  40.429243    APPROXIMATE  \n",
       "201310.0   -79.985859  40.459716          EXACT  \n",
       "200171.0   -80.034210  40.406969          EXACT  \n",
       "193043.0   -79.876582  40.451226          EXACT  \n",
       "...               ...        ...            ...  \n",
       "585669.0   -80.035896  40.479149          EXACT  \n",
       "585670.0          NaN        NaN  OUT_OF_BOUNDS  \n",
       "585671.0   -79.898695  40.420577          EXACT  \n",
       "585672.0   -80.026374  40.397909          EXACT  \n",
       "585673.0   -79.871421  40.453169    APPROXIMATE  \n",
       "\n",
       "[567690 rows x 16 columns]"
      ]
     },
     "execution_count": 9,
     "metadata": {},
     "output_type": "execute_result"
    }
   ],
   "source": [
    "# importing data\n",
    "pgh_311_data = pd.read_csv('https://data.wprdc.org/datastore/dump/76fda9d0-69be-4dd5-8108-0de7907fc5a4', index_col = \"REQUEST_ID\")\n",
    "pgh_311_data"
   ]
  },
  {
   "cell_type": "markdown",
   "metadata": {},
   "source": [
    "# Neighborhood with the most 311 call requests"
   ]
  },
  {
   "cell_type": "code",
   "execution_count": 14,
   "metadata": {},
   "outputs": [
    {
     "data": {
      "text/plain": [
       "Brookline               22791\n",
       "Carrick                 21773\n",
       "Squirrel Hill South     18925\n",
       "South Side Slopes       18522\n",
       "South Side Flats        16852\n",
       "                        ...  \n",
       "East Carnegie             533\n",
       "Northview Heights         527\n",
       "Glen Hazel                370\n",
       "Arlington Heights         113\n",
       "Mount Oliver Borough       61\n",
       "Name: NEIGHBORHOOD, Length: 91, dtype: int64"
      ]
     },
     "execution_count": 14,
     "metadata": {},
     "output_type": "execute_result"
    }
   ],
   "source": [
    "pgh_311_data['NEIGHBORHOOD'].value_counts().sort_values(ascending = False)"
   ]
  },
  {
   "cell_type": "markdown",
   "metadata": {},
   "source": [
    "Since we want the most up to date information on the status of the 311 requests where 0 = new, according to the Data Dictionary, we will filter out the dataset"
   ]
  },
  {
   "cell_type": "code",
   "execution_count": 15,
   "metadata": {},
   "outputs": [
    {
     "data": {
      "text/html": [
       "<div>\n",
       "<style scoped>\n",
       "    .dataframe tbody tr th:only-of-type {\n",
       "        vertical-align: middle;\n",
       "    }\n",
       "\n",
       "    .dataframe tbody tr th {\n",
       "        vertical-align: top;\n",
       "    }\n",
       "\n",
       "    .dataframe thead th {\n",
       "        text-align: right;\n",
       "    }\n",
       "</style>\n",
       "<table border=\"1\" class=\"dataframe\">\n",
       "  <thead>\n",
       "    <tr style=\"text-align: right;\">\n",
       "      <th></th>\n",
       "      <th>CREATED_ON</th>\n",
       "      <th>REQUEST_TYPE</th>\n",
       "      <th>REQUEST_ORIGIN</th>\n",
       "      <th>STATUS</th>\n",
       "      <th>DEPARTMENT</th>\n",
       "      <th>NEIGHBORHOOD</th>\n",
       "      <th>COUNCIL_DISTRICT</th>\n",
       "      <th>WARD</th>\n",
       "      <th>TRACT</th>\n",
       "      <th>PUBLIC_WORKS_DIVISION</th>\n",
       "      <th>PLI_DIVISION</th>\n",
       "      <th>POLICE_ZONE</th>\n",
       "      <th>FIRE_ZONE</th>\n",
       "      <th>X</th>\n",
       "      <th>Y</th>\n",
       "      <th>GEO_ACCURACY</th>\n",
       "    </tr>\n",
       "    <tr>\n",
       "      <th>REQUEST_ID</th>\n",
       "      <th></th>\n",
       "      <th></th>\n",
       "      <th></th>\n",
       "      <th></th>\n",
       "      <th></th>\n",
       "      <th></th>\n",
       "      <th></th>\n",
       "      <th></th>\n",
       "      <th></th>\n",
       "      <th></th>\n",
       "      <th></th>\n",
       "      <th></th>\n",
       "      <th></th>\n",
       "      <th></th>\n",
       "      <th></th>\n",
       "      <th></th>\n",
       "    </tr>\n",
       "  </thead>\n",
       "  <tbody>\n",
       "    <tr>\n",
       "      <th>179176.0</th>\n",
       "      <td>2017-08-14T14:00:00</td>\n",
       "      <td>Neighborhood Issues</td>\n",
       "      <td>Control Panel</td>\n",
       "      <td>0</td>\n",
       "      <td>NaN</td>\n",
       "      <td>Middle Hill</td>\n",
       "      <td>6.0</td>\n",
       "      <td>5.0</td>\n",
       "      <td>4.200305e+10</td>\n",
       "      <td>3.0</td>\n",
       "      <td>5.0</td>\n",
       "      <td>2.0</td>\n",
       "      <td>2-1</td>\n",
       "      <td>-79.977726</td>\n",
       "      <td>40.446142</td>\n",
       "      <td>APPROXIMATE</td>\n",
       "    </tr>\n",
       "    <tr>\n",
       "      <th>182748.0</th>\n",
       "      <td>2017-08-28T12:49:00</td>\n",
       "      <td>Abandoned Vehicle (parked on street)</td>\n",
       "      <td>Control Panel</td>\n",
       "      <td>0</td>\n",
       "      <td>Police - AVU</td>\n",
       "      <td>Brighton Heights</td>\n",
       "      <td>1.0</td>\n",
       "      <td>27.0</td>\n",
       "      <td>4.200327e+10</td>\n",
       "      <td>1.0</td>\n",
       "      <td>27.0</td>\n",
       "      <td>1.0</td>\n",
       "      <td>1-14</td>\n",
       "      <td>-80.029944</td>\n",
       "      <td>40.486596</td>\n",
       "      <td>APPROXIMATE</td>\n",
       "    </tr>\n",
       "    <tr>\n",
       "      <th>184662.0</th>\n",
       "      <td>2017-09-05T13:49:00</td>\n",
       "      <td>Abandoned Vehicle (parked on street)</td>\n",
       "      <td>Call Center</td>\n",
       "      <td>0</td>\n",
       "      <td>Police - AVU</td>\n",
       "      <td>Marshall-Shadeland</td>\n",
       "      <td>1.0</td>\n",
       "      <td>27.0</td>\n",
       "      <td>4.200327e+10</td>\n",
       "      <td>1.0</td>\n",
       "      <td>27.0</td>\n",
       "      <td>1.0</td>\n",
       "      <td>1-14</td>\n",
       "      <td>-80.027634</td>\n",
       "      <td>40.470334</td>\n",
       "      <td>APPROXIMATE</td>\n",
       "    </tr>\n",
       "    <tr>\n",
       "      <th>167825.0</th>\n",
       "      <td>2017-07-06T15:26:00</td>\n",
       "      <td>Illegal Dumping</td>\n",
       "      <td>Control Panel</td>\n",
       "      <td>0</td>\n",
       "      <td>DOMI - Permits</td>\n",
       "      <td>East Allegheny</td>\n",
       "      <td>1.0</td>\n",
       "      <td>23.0</td>\n",
       "      <td>4.200356e+10</td>\n",
       "      <td>1.0</td>\n",
       "      <td>23.0</td>\n",
       "      <td>1.0</td>\n",
       "      <td>1-20</td>\n",
       "      <td>-79.997763</td>\n",
       "      <td>40.452695</td>\n",
       "      <td>APPROXIMATE</td>\n",
       "    </tr>\n",
       "    <tr>\n",
       "      <th>170189.0</th>\n",
       "      <td>2017-07-14T15:37:00</td>\n",
       "      <td>Mayor's Office</td>\n",
       "      <td>Call Center</td>\n",
       "      <td>0</td>\n",
       "      <td>311</td>\n",
       "      <td>Bloomfield</td>\n",
       "      <td>7.0</td>\n",
       "      <td>8.0</td>\n",
       "      <td>4.200308e+10</td>\n",
       "      <td>2.0</td>\n",
       "      <td>8.0</td>\n",
       "      <td>5.0</td>\n",
       "      <td>2-23</td>\n",
       "      <td>-79.948119</td>\n",
       "      <td>40.455066</td>\n",
       "      <td>APPROXIMATE</td>\n",
       "    </tr>\n",
       "    <tr>\n",
       "      <th>...</th>\n",
       "      <td>...</td>\n",
       "      <td>...</td>\n",
       "      <td>...</td>\n",
       "      <td>...</td>\n",
       "      <td>...</td>\n",
       "      <td>...</td>\n",
       "      <td>...</td>\n",
       "      <td>...</td>\n",
       "      <td>...</td>\n",
       "      <td>...</td>\n",
       "      <td>...</td>\n",
       "      <td>...</td>\n",
       "      <td>...</td>\n",
       "      <td>...</td>\n",
       "      <td>...</td>\n",
       "      <td>...</td>\n",
       "    </tr>\n",
       "    <tr>\n",
       "      <th>585668.0</th>\n",
       "      <td>2021-12-07T16:43:00</td>\n",
       "      <td>Misconduct/City Employee</td>\n",
       "      <td>Call Center</td>\n",
       "      <td>0</td>\n",
       "      <td>OMI</td>\n",
       "      <td>Brookline</td>\n",
       "      <td>4.0</td>\n",
       "      <td>32.0</td>\n",
       "      <td>4.200332e+10</td>\n",
       "      <td>5.0</td>\n",
       "      <td>32.0</td>\n",
       "      <td>6.0</td>\n",
       "      <td>4-25</td>\n",
       "      <td>-80.002462</td>\n",
       "      <td>40.398879</td>\n",
       "      <td>APPROXIMATE</td>\n",
       "    </tr>\n",
       "    <tr>\n",
       "      <th>585669.0</th>\n",
       "      <td>2021-12-07T16:54:00</td>\n",
       "      <td>City Facility</td>\n",
       "      <td>Call Center</td>\n",
       "      <td>0</td>\n",
       "      <td>DPW - Facilities</td>\n",
       "      <td>Brighton Heights</td>\n",
       "      <td>1.0</td>\n",
       "      <td>27.0</td>\n",
       "      <td>4.200327e+10</td>\n",
       "      <td>1.0</td>\n",
       "      <td>27.0</td>\n",
       "      <td>1.0</td>\n",
       "      <td>1-14</td>\n",
       "      <td>-80.035896</td>\n",
       "      <td>40.479149</td>\n",
       "      <td>EXACT</td>\n",
       "    </tr>\n",
       "    <tr>\n",
       "      <th>585671.0</th>\n",
       "      <td>2021-12-07T17:02:00</td>\n",
       "      <td>Weeds/Debris</td>\n",
       "      <td>Call Center</td>\n",
       "      <td>0</td>\n",
       "      <td>Permits, Licenses and Inspections</td>\n",
       "      <td>Swisshelm Park</td>\n",
       "      <td>5.0</td>\n",
       "      <td>14.0</td>\n",
       "      <td>4.200314e+10</td>\n",
       "      <td>3.0</td>\n",
       "      <td>14.0</td>\n",
       "      <td>4.0</td>\n",
       "      <td>2-19</td>\n",
       "      <td>-79.898695</td>\n",
       "      <td>40.420577</td>\n",
       "      <td>EXACT</td>\n",
       "    </tr>\n",
       "    <tr>\n",
       "      <th>585672.0</th>\n",
       "      <td>2021-12-07T17:04:00</td>\n",
       "      <td>Fence</td>\n",
       "      <td>Call Center</td>\n",
       "      <td>0</td>\n",
       "      <td>DOMI - Construction</td>\n",
       "      <td>Brookline</td>\n",
       "      <td>4.0</td>\n",
       "      <td>19.0</td>\n",
       "      <td>4.200319e+10</td>\n",
       "      <td>5.0</td>\n",
       "      <td>19.0</td>\n",
       "      <td>6.0</td>\n",
       "      <td>4-26</td>\n",
       "      <td>-80.026374</td>\n",
       "      <td>40.397909</td>\n",
       "      <td>EXACT</td>\n",
       "    </tr>\n",
       "    <tr>\n",
       "      <th>585673.0</th>\n",
       "      <td>2021-12-07T17:05:00</td>\n",
       "      <td>Abandoned Vehicle (parked on street)</td>\n",
       "      <td>Call Center</td>\n",
       "      <td>0</td>\n",
       "      <td>Police - AVU</td>\n",
       "      <td>East Hills</td>\n",
       "      <td>9.0</td>\n",
       "      <td>13.0</td>\n",
       "      <td>4.200313e+10</td>\n",
       "      <td>2.0</td>\n",
       "      <td>13.0</td>\n",
       "      <td>5.0</td>\n",
       "      <td>3-19</td>\n",
       "      <td>-79.871421</td>\n",
       "      <td>40.453169</td>\n",
       "      <td>APPROXIMATE</td>\n",
       "    </tr>\n",
       "  </tbody>\n",
       "</table>\n",
       "<p>31945 rows × 16 columns</p>\n",
       "</div>"
      ],
      "text/plain": [
       "                     CREATED_ON                          REQUEST_TYPE  \\\n",
       "REQUEST_ID                                                              \n",
       "179176.0    2017-08-14T14:00:00                   Neighborhood Issues   \n",
       "182748.0    2017-08-28T12:49:00  Abandoned Vehicle (parked on street)   \n",
       "184662.0    2017-09-05T13:49:00  Abandoned Vehicle (parked on street)   \n",
       "167825.0    2017-07-06T15:26:00                       Illegal Dumping   \n",
       "170189.0    2017-07-14T15:37:00                        Mayor's Office   \n",
       "...                         ...                                   ...   \n",
       "585668.0    2021-12-07T16:43:00              Misconduct/City Employee   \n",
       "585669.0    2021-12-07T16:54:00                         City Facility   \n",
       "585671.0    2021-12-07T17:02:00                          Weeds/Debris   \n",
       "585672.0    2021-12-07T17:04:00                                 Fence   \n",
       "585673.0    2021-12-07T17:05:00  Abandoned Vehicle (parked on street)   \n",
       "\n",
       "           REQUEST_ORIGIN  STATUS                         DEPARTMENT  \\\n",
       "REQUEST_ID                                                             \n",
       "179176.0    Control Panel       0                                NaN   \n",
       "182748.0    Control Panel       0                       Police - AVU   \n",
       "184662.0      Call Center       0                       Police - AVU   \n",
       "167825.0    Control Panel       0                     DOMI - Permits   \n",
       "170189.0      Call Center       0                                311   \n",
       "...                   ...     ...                                ...   \n",
       "585668.0      Call Center       0                                OMI   \n",
       "585669.0      Call Center       0                   DPW - Facilities   \n",
       "585671.0      Call Center       0  Permits, Licenses and Inspections   \n",
       "585672.0      Call Center       0                DOMI - Construction   \n",
       "585673.0      Call Center       0                       Police - AVU   \n",
       "\n",
       "                  NEIGHBORHOOD  COUNCIL_DISTRICT  WARD         TRACT  \\\n",
       "REQUEST_ID                                                             \n",
       "179176.0           Middle Hill               6.0   5.0  4.200305e+10   \n",
       "182748.0      Brighton Heights               1.0  27.0  4.200327e+10   \n",
       "184662.0    Marshall-Shadeland               1.0  27.0  4.200327e+10   \n",
       "167825.0        East Allegheny               1.0  23.0  4.200356e+10   \n",
       "170189.0            Bloomfield               7.0   8.0  4.200308e+10   \n",
       "...                        ...               ...   ...           ...   \n",
       "585668.0             Brookline               4.0  32.0  4.200332e+10   \n",
       "585669.0      Brighton Heights               1.0  27.0  4.200327e+10   \n",
       "585671.0        Swisshelm Park               5.0  14.0  4.200314e+10   \n",
       "585672.0             Brookline               4.0  19.0  4.200319e+10   \n",
       "585673.0            East Hills               9.0  13.0  4.200313e+10   \n",
       "\n",
       "            PUBLIC_WORKS_DIVISION  PLI_DIVISION  POLICE_ZONE FIRE_ZONE  \\\n",
       "REQUEST_ID                                                               \n",
       "179176.0                      3.0           5.0          2.0       2-1   \n",
       "182748.0                      1.0          27.0          1.0      1-14   \n",
       "184662.0                      1.0          27.0          1.0      1-14   \n",
       "167825.0                      1.0          23.0          1.0      1-20   \n",
       "170189.0                      2.0           8.0          5.0      2-23   \n",
       "...                           ...           ...          ...       ...   \n",
       "585668.0                      5.0          32.0          6.0      4-25   \n",
       "585669.0                      1.0          27.0          1.0      1-14   \n",
       "585671.0                      3.0          14.0          4.0      2-19   \n",
       "585672.0                      5.0          19.0          6.0      4-26   \n",
       "585673.0                      2.0          13.0          5.0      3-19   \n",
       "\n",
       "                    X          Y GEO_ACCURACY  \n",
       "REQUEST_ID                                     \n",
       "179176.0   -79.977726  40.446142  APPROXIMATE  \n",
       "182748.0   -80.029944  40.486596  APPROXIMATE  \n",
       "184662.0   -80.027634  40.470334  APPROXIMATE  \n",
       "167825.0   -79.997763  40.452695  APPROXIMATE  \n",
       "170189.0   -79.948119  40.455066  APPROXIMATE  \n",
       "...               ...        ...          ...  \n",
       "585668.0   -80.002462  40.398879  APPROXIMATE  \n",
       "585669.0   -80.035896  40.479149        EXACT  \n",
       "585671.0   -79.898695  40.420577        EXACT  \n",
       "585672.0   -80.026374  40.397909        EXACT  \n",
       "585673.0   -79.871421  40.453169  APPROXIMATE  \n",
       "\n",
       "[31945 rows x 16 columns]"
      ]
     },
     "execution_count": 15,
     "metadata": {},
     "output_type": "execute_result"
    }
   ],
   "source": [
    "filtered_pgh_311_data = pgh_311_data[pgh_311_data.STATUS == 0]\n",
    "filtered_pgh_311_data"
   ]
  },
  {
   "cell_type": "markdown",
   "metadata": {},
   "source": [
    "Then we will find the neighborhoods with the most requests as of recently"
   ]
  },
  {
   "cell_type": "code",
   "execution_count": 16,
   "metadata": {},
   "outputs": [
    {
     "data": {
      "text/plain": [
       "Carrick                      1290\n",
       "Brookline                    1205\n",
       "Squirrel Hill South           982\n",
       "Central Business District     859\n",
       "Mount Washington              833\n",
       "                             ... \n",
       "Ridgemont                      26\n",
       "Northview Heights              25\n",
       "Chartiers City                 17\n",
       "Mount Oliver Borough            3\n",
       "Arlington Heights               2\n",
       "Name: NEIGHBORHOOD, Length: 91, dtype: int64"
      ]
     },
     "execution_count": 16,
     "metadata": {},
     "output_type": "execute_result"
    }
   ],
   "source": [
    "requests = filtered_pgh_311_data['NEIGHBORHOOD'].value_counts().sort_values(ascending = False)\n",
    "requests"
   ]
  },
  {
   "cell_type": "markdown",
   "metadata": {},
   "source": [
    "# The 10 neighborhoods with the greatest number of calls"
   ]
  },
  {
   "cell_type": "code",
   "execution_count": 21,
   "metadata": {},
   "outputs": [
    {
     "data": {
      "text/plain": [
       "Text(0, 0.5, 'Number of Requests')"
      ]
     },
     "execution_count": 21,
     "metadata": {},
     "output_type": "execute_result"
    },
    {
     "data": {
      "image/png": "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\n",
      "text/plain": [
       "<Figure size 432x288 with 1 Axes>"
      ]
     },
     "metadata": {
      "needs_background": "light"
     },
     "output_type": "display_data"
    }
   ],
   "source": [
    "requests.head(10).plot.bar()\n",
    "plt.title(\"Top 10 Neighborhoods with the Greatest Number of Calls\")\n",
    "plt.xlabel(\"Neighborhood\")\n",
    "plt.ylabel(\"Number of Requests\")"
   ]
  },
  {
   "cell_type": "markdown",
   "metadata": {},
   "source": [
    "# The 10 neighborhoods with the least number of calls"
   ]
  },
  {
   "cell_type": "code",
   "execution_count": 22,
   "metadata": {},
   "outputs": [
    {
     "data": {
      "text/plain": [
       "Text(0, 0.5, 'Number of Requests')"
      ]
     },
     "execution_count": 22,
     "metadata": {},
     "output_type": "execute_result"
    },
    {
     "data": {
      "image/png": "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\n",
      "text/plain": [
       "<Figure size 432x288 with 1 Axes>"
      ]
     },
     "metadata": {
      "needs_background": "light"
     },
     "output_type": "display_data"
    }
   ],
   "source": [
    "requests.tail(10).plot.bar()\n",
    "plt.title(\"Top 10 Neighborhoods with the Least Number of Calls\")\n",
    "plt.xlabel(\"Neighborhood\")\n",
    "plt.ylabel(\"Number of Requests\")"
   ]
  },
  {
   "cell_type": "markdown",
   "metadata": {},
   "source": [
    "# Comparison"
   ]
  },
  {
   "cell_type": "markdown",
   "metadata": {},
   "source": [
    "Comparing the greatest and least 10 neighborhoods"
   ]
  },
  {
   "cell_type": "code",
   "execution_count": 25,
   "metadata": {},
   "outputs": [
    {
     "data": {
      "text/plain": [
       "Text(0, 0.5, 'Number of Requests')"
      ]
     },
     "execution_count": 25,
     "metadata": {},
     "output_type": "execute_result"
    },
    {
     "data": {
      "image/png": "iVBORw0KGgoAAAANSUhEUgAAAYsAAAGHCAYAAABBIn7wAAAABHNCSVQICAgIfAhkiAAAAAlwSFlzAAALEgAACxIB0t1+/AAAADh0RVh0U29mdHdhcmUAbWF0cGxvdGxpYiB2ZXJzaW9uMy4yLjIsIGh0dHA6Ly9tYXRwbG90bGliLm9yZy+WH4yJAAAgAElEQVR4nOydd7gkVfG/3w9LDktckZwkimBYBUFFARUEAREDoqCiYABB/YlgAhUV01dFFAEBURAEDGQFkaAk2SUHkZUgIAiSBSR+fn/Umb29s3NnumfuvXvZrfd55pnpcKpP93R3nVOnqo5skyRJkiTdmGtWVyBJkiQZ/6SySJIkSXqSyiJJkiTpSSqLJEmSpCepLJIkSZKepLJIkiRJepLKYhYgaWVJljT3rK5L0hxJB0g6dphtr5d051jXabwi6b+SVq25ryW9aJht75f0lxGs1/mSPjRS8rocZ0TrPStJZTEGSLpN0uazuh4jQbcHuqGcYV+4lX32kDRF0pOSftZh+2aS/ibpcUnnSVpp0Ho9H5D0M0kH9tjnq5KulfSMpAM6bH+PpNslPSbpd5KWGI262l7Y9i2jITsZW1JZzGFImjCr69CAfwEHAke1b5C0FPAb4IvAEsAU4FdjWrvxzTRgH+CM9g2SXgwcBrwPWBp4HPjxmNZuFpI9+v5IZTHKSPoFsCJwWumS71PZvJOkf0r6j6TPV8rMJWlfSf+QdL+kE7u1/CTtI+luSf+S9KFq67+0Qg+VdKakx4A3SFpW0q8l3SfpVkmfqMh6laRLJD1UZB4iad6y7cKy29XlXN5V1m8t6apS5mJJ61XkfVbSXZIelXRT6Q1sAXwOeFeRc3Wn87L9G9u/A+7vsHl74HrbJ9n+H3AAsL6ktYa5Rq3r+aikGyS9rbLt/ZL+Iuk7kh4s12TLyvZVJF1Qyp4DLDXcf9HhuP1ea0n6nqR7JT1SegnrStoN2AnYp1y704a5dsfYPgt4tMPmnYDTbF9o+7+Ewt1e0iLDnIMlfUTSzaWuP5KkyvYPSrqxXLs/VHt4bffikpJOK+dzuaQDNbOJZvPhjlMuyyGSHlb0KDdru86nSnpA0jRJH65sO0DSyZKOlfQI8P6yaSVJF5X/9WxFA6RVZhtJ15d6nC9p7cq2tcu6h8o+21S2LVnq8YikvwKrVSvf6T/tdM3HJbbzM8of4DZg88ryyoCBI4AFgPWBJ4G1y/a9gEuB5YH5iFbg8cPI3gK4B3gxsCBwbJH9orL9Z8DDwMZE42BBYCrwJWBeYFXgFuDNZf9XABsCc5d63gjsXTnedNll+WXAvcAGwARgl3K+8wFrAncAy1bOe7Xy+wDg2JrX70DgZ23rfgAc2rbuOuDtw8h4B7BsuQbvAh4Dlinb3g88DXy4nMNHiV6NyvZLgP8r5/Q64gXcse7A64E7y++5+r3WwJtL2cUAAWtX6vsz4MCa1+5Y4IC2dacAn21b91/gFcPIMHB6qcuKwH3AFmXbtkQvZu1yHl8ALu50vwAnlM+CwDrl3vhLzeO8H3gG+CQwT/kPHwaWKNsvJHpH8wMvLWU3rdxrTwPblf9kAeB84B/AGpXlg8r+a5T7443lWPuUc5y3LE8jGjvzApuW+2HNyjmeCCwErAvc1TrHbv/p8+GTPYtZy5dtP2H7auBqQmkAfAT4vO07bT9J3Ow7qHP3+Z3A0bavt/142bedU2xfZPs54CXAJNtfsf2Uw558BPBuANtTbV9q+xnbtxGKapMu57AbcJjty2w/a/sYQvFtCDxLvGDXkTSP7dts/6P+5enKwsTLosrDQMfWsaMH8i/bz9n+FXAz8KrKLrfbPsL2s8AxwDLA0pJWBF4JfNH2k7YvBDq25jvwSvq/1k+Xc1mLUFo32r675nF70ejaFQ6y/ZDtfwLnES9kiHv1G6V+zwBfB16qtvEjhfnz7cD+th+3fQNxneseB6JR8n3bT5f/8CZgK0krEI2hz9r+n+2rgJ8CO1fKXmL7d+X/f6KsO9r238vyiZVjvQs4w/Y5tp8GvkMolI2I+3rhUs+nbP+JUHA7Vs7xS7Yfs31d2zmO5n866qSymLXcU/n9OHETAqwE/LZ0cx8iWpzPEvbldpYlWmgt7uiwT3XdSsCyLdlF/udasiWtIel0SfeULvvX6W52WQn4dJu8FYjexDRgb0KB3SvpBEnLdpHVhP8CE9vWTaSz2QVJO2vIVPYQ0eqrntf0/6IoXYj/Y1ngQduPVfa9vWYd+77W5SV0CPAj4todLqn9fPul0bUrdLtXf1A5vweIVvNybeUnET2PXvfqcMcBuMuliV64nfh/lgUesP1o27ZqHZoca1kq/3FpZN1R5C0L3FHWtR+r0zlW5YzmfzrqpLIYG5qm9r0D2NL2YpXP/Lbv6rDv3YS5qsUKPY5/B3Brm+xFbL+lbD8U+Buwuu2JxMtNDM8dwNfa5C1o+3gA27+0/RripWLgmx3q1A/XM9QTQ9JChH34+vYdSyv3CGAPYEnbixEmq27n1eJuYPEiv8WKNes40LW2fbDtVxAmmzWAz7Q21Tz+cLRfu1WJHuDf+5B1B7B72zkuYPvitv3uI8xIve7VbizXNoaxImEu/BewRNuYy4qECahFk2v2L+J+BWKsodT1rrJtBUnVd2frWK1zXKFt21Alhv9Pxz2pLMaGfxP26rr8BPhaqysvaZKkbYfZ90TgA2XQbUFisLIbfwUeVQw8LyBpQhk4fWXZvgjwCPBfxWDxR3ucyxHARyRtUAbwFpK0laRFJK0paVNJ8wH/A54AnqvIWbntoZsBSXNLmp8YR5ggaf6KKe63wLqS3l72+RJwje2/dRC1EPGyuK/I/QDRs+iJ7dsJT6svS5pX0muAt9YpywDXWtIryzWdh7Cf/48Zr13X+0nSPOW6zAXMXa5dyxPuOOCtkl5blOBXgN+0tczr8hNgP4WHFZIWlfSO9p2Kee83wAGSFiznu3P7fj14AfCJcm7vIGz+Z9q+A7gY+EY5z/WAXYnxmn44kTBvbVau/6cJ0+rFwGVEL2SfUo/XE/fDCR3OcR1iDA/o+Z+Oe1JZjA3fAL5Quur/r8b+PwBOBc6W9Cgx2L1Bpx0dHi8HE/bdaWVfiJu70/7PAlsT9tlbgf8Q9t1Fyy7/D3gPYZI4gpndUQ8Ajinn8k7bU4iB4UOAB0sd3l/2nQ84qBzjHuJh369sO6l83y/pimGuwxcIBbMv8N7y+wvlPO4j7MNfK8fdgDIW0OGcbwC+SwxU/5sYt7lomGN24j1F/gPA/sDP6xQa8FpPLOseJEwZ9wPfLtuOJMaBHpL0u2EOfwRxvXYEPl9+v6/U63pirOE4YhxgEeBjdc6pwzn+lugtnlBMadcBWw6z+x7Eud8D/AI4nmHu02G4DFiduI5fA3aw3fKU25FwEvgX0ZDY3/YfG51MwfZNxP32w3KstwJvLWMUT5XlLcu2HwM7VxopexDmrHsIR4SjK6K7/afjnpa3RzKboHDxuw6Yrww4Jsm4RNI3gRfa3qXnzsksJ3sWswGS3iZpPkmLE62801JRJOMNSWtJWq+YK19FmIp+O6vrldQjlcXswe6EOeEfhNdU+zhDkowHFiFs+o8RJrfvEjEfyfOANEMlSZIkPcmeRZIkSdKT2TKh1lJLLeWVV155VlcjSZLkecXUqVP/Y3tSp22zpbJYeeWVmTJlyqyuRpIkyfMKScNmJ0gzVJIkSdKTVBZJkiRJT1JZJEmSJD1JZZEkSZL0JJVFkiRJ0pNUFkmSJElPUlkkSZIkPUllkSRJkvQklUWSJEnSk9kygrsTK+97Rtfttx201RjVJEmS5PlH9iySJEmSnqSySJIkSXqSyiJJkiTpSSqLJEmSpCepLJIkSZKepLJIkiRJepLKIkmSJOlJKoskSZKkJ6kskiRJkp6kskiSJEl6MmrKQtJRku6VdF1l3bcl/U3SNZJ+K2mxyrb9JE2TdJOkN1fWb1HWTZO072jVN0mSJBme0exZ/AzYom3dOcC6ttcD/g7sByBpHeDdwItLmR9LmiBpAvAjYEtgHWDHsm+SJEkyhoxaIkHbF0pauW3d2ZXFS4Edyu9tgRNsPwncKmka8KqybZrtWwAknVD2vWG06j0cvRIRQiYjTJJk9mVWjll8EDir/F4OuKOy7c6ybrj1MyFpN0lTJE257777RqG6SZIkcy6zRFlI+jzwDHDcSMm0fbjtybYnT5o0aaTEJkmSJMyC+SwkvR/YGtjMtsvqu4AVKrstX9bRZX2SJEkyRoxpz0LSFsA+wDa2H69sOhV4t6T5JK0CrA78FbgcWF3SKpLmJQbBTx3LOidJkiSj2LOQdDzwemApSXcC+xPeT/MB50gCuNT2R2xfL+lEYuD6GeDjtp8tcvYA/gBMAI6yff1o1TlJkiTpzGh6Q+3YYfWRXfb/GvC1DuvPBM4cwaolSZIkDckI7iRJkqQnqSySJEmSnqSySJIkSXqSyiJJkiTpSSqLJEmSpCepLJIkSZKepLJIkiRJepLKIkmSJOlJKoskSZKkJ6kskiRJkp6kskiSJEl6ksoiSZIk6UkqiyRJkqQnqSySJEmSnqSySJIkSXqSyiJJkiTpSSqLJEmSpCepLJIkSZKepLJIkiRJepLKIkmSJOlJKoskSZKkJ6kskiRJkp6kskiSJEl6MmrKQtJRku6VdF1l3RKSzpF0c/levKyXpIMlTZN0jaSXV8rsUva/WdIuo1XfJEmSZHhGs2fxM2CLtnX7AufaXh04tywDbAmsXj67AYdCKBdgf2AD4FXA/i0FkyRJkowdo6YsbF8IPNC2elvgmPL7GGC7yvqfO7gUWEzSMsCbgXNsP2D7QeAcZlZASZIkySgz1mMWS9u+u/y+B1i6/F4OuKOy351l3XDrZ0LSbpKmSJpy3333jWytkyRJ5nBm2QC3bQMeQXmH255se/KkSZNGSmySJEnC2CuLfxfzEuX73rL+LmCFyn7Ll3XDrU+SJEnGkLmb7CxpLmBh24/0ebxTgV2Ag8r3KZX1e0g6gRjMftj23ZL+AHy9Mqj9JmC/Po89y1l53zO6br/toK3GqCZJkiTN6NmzkPRLSRMlLQRcB9wg6TM1yh0PXAKsKelOSbsSSuKNkm4GNi/LAGcCtwDTgCOAjwHYfgD4KnB5+XylrEuSJEnGkDo9i3VsPyJpJ+Aswt11KvDtboVs7zjMps067Gvg48PIOQo4qkY9kyRJklGizpjFPJLmIdxcT7X99CjXKUmSJBln1FEWhwG3AQsBF0paCXh4NCuVJEmSjC/qKIvTbC9n+y3FXPRP4IOjXK8kSZJkHFFHWfy6ulAUxgmjU50kSZJkPDLsALektYAXA4tK2r6yaSIw/2hXLEmSJBk/dPOGWhPYGlgMeGtl/aPAh0ezUkmSJMn4YlhlYfsU4BRJr7Z9yRjWKUmSJBln1BmzeFsJyptH0rmS7pP03lGvWZIkSTJuqKMs3lTSe2xNuNC+COgZwZ0kSZLMPtQKyivfWwEn2c4YiyRJkjmMOuk+TpP0N+AJ4KOSJgH/G91qJUmSJOOJnj0L2/sCGwGTS6qPx4mZ7ZIkSZI5hDpZZxckssAeWlYtC0wezUolSZIk44s6YxZHA08RvQuIyYcOHLUaJUmSJOOOOspiNdvfAp4GsP04oFGtVZIkSTKuqKMsnpK0AGW+bEmrAU+Oaq2SJEmScUUdb6j9gd8DK0g6DtgYeP9oVipJkiQZX/RUFrbPkXQFsCFhftrL9n9GvWZJR3Ie7yRJZgU9lYWk15Wfj5bvdSRh+8LRq1aSJEkynqhjhqqm9pgfeBUxB/emo1KjJEmSZNxRxwxVTU+OpBWA749ajZIkSZJxR52eRTt3AmuPdEWSsSPHPZIkaUqdMYsfUtxmCVfblwJXjGalkiRJkvFFnZ7FlMrvZ4DjbV80yEElfRL4EKGErgU+ACxDzO29JDEm8j7bT0maD/g58ArgfuBdtm8b5PhJkiRJM+qMWRwzkgeUtBzwCWAd209IOhF4N/AW4Hu2T5D0E2BXIh/VrsCDtl8k6d3AN4F3jWSdkiRJku7UMUNdy5AZaoZNgG2v1+dxF5D0NLAgcDfhXfWesv0Y4ABCWWxbfgOcDBwiSbY71SlJkiQZBeqYoc4q378o3zuV70M77NsT23dJ+g7wT2KOjLMJs9NDtp8pu90JLFd+LwfcUco+I+lhwlQ1Q2CgpN2A3QBWXHHFfqqWJEmSDEOd3FBvtL2P7WvLZ19iqtXbbd/e9ICSFid6C6sQ6c4XArZoKqcd24fbnmx78qRJkwYVlyRJklSooywkaePKwkY1yw3H5sCttu8rkyn9hsg3tZikVk9neSIVOuV7hXLsuYFFiYHuJEmSZIyo89LfFfixpNsk3Qb8GPjgAMf8J7ChpAUlCdgMuAE4D9ih7LMLcEr5fWpZpmz/U45XJEmSjC11vKGmAutLWrQsPzzIAW1fJulkIlbjGeBK4HDgDOAESQeWdUeWIkcCv5A0DXiA8JxKZiG9gvogA/uSZHajjjfU0sDXgWVtbylpHeDVto/sUXRYbO9PpD6vcguRd6p93/8B7+j3WEmSJMng1DFD/Qz4AzEYDfB3YO/RqlCSJEky/qijLJayfSLwHIT7KvDsqNYqSZIkGVfUURaPSVqSoWlVNwQGGrdIkiRJnl/UCcr7FOGRtJqki4BJDHktJUmSJHMAdbyhrpC0CbAmkeLjJjoMRCdJkiSzL8MqC0kTgHcS6TbOsn29pK0JN9cFgJeNTRWTJEmSWU23nsWRROT0X4EfSvoXkSZ8P9u/G4vKJUmSJOODbspiMrCe7eckzQ/cA6xmO1NtJEmSzGF084Z6ynbLXfZ/wC2pKJIkSeZMuvUs1pJ0TfktwhvqGgabxyJJkiR5HtJNWaw9ZrVIkiRJxjXDKot+5qpIkiRJZk/qBOUlyYjTK3Ntnay1IyEjSZJ6DDKJUZIkSTKHMKyykHRu+f7m2FUnSZIkGY90M0MtU6ZQ3UbSCYQX1HRsXzGqNUuSJEnGDd2UxZeALxLzYf9f2zYDm45WpZIkSZLxRTdvqJOBkyV90fZXx7BOSTJm5CB5ktSjTtbZr0raBnhdWXW+7dNHt1pJkiTJeKLOHNzfIFKSH1dW7SVpI9ufG9WaJcnzgF49E8jeSTJ7UCfOYivgpa08UZKOAa4EUlkkSZLMIdSNs1is8nvR0ahIkiRJMn6p07P4BnClpPMI99nXAfuOaq2SJEmScUXPnoXt44ENgd8AvwZebftXgxxU0mKSTpb0N0k3Snq1pCUknSPp5vK9eNlXkg6WNE3SNZJePsixkyRJkubUMkPZvtv2qeVzzwgc9wfA722vBawP3Ej0Vs61vTpwLkO9ly2B1ctnN+DQETh+kiRJ0oAxzw0laVHClHUkgO2nbD8EbAscU3Y7Btiu/N4W+LmDS4HFJC0zxtVOkiSZo5kViQRXAe4DjpZ0paSfSloIWNr23WWfe4Cly+/lgDsq5e8s62ZA0m6Spkiact99941i9ZMkSeY8uioLSRMk/W2Ejzk38HLgUNsvAx6jbcDctomUIrWxfbjtybYnT5o0acQqmyRJkvRQFrafBW6StOIIHvNO4E7bl5Xlkwnl8e+Weal831u23wWsUCm/fFmXJEmSjBF1zFCLA9dLOlfSqa1PvwcsA+R3SFqzrNoMuAE4FdilrNsFOKX8PhXYuXhFbQg8XDFXJUmSJGNAnTiLL47CcfcEjpM0L3AL8AFCcZ0oaVfgduCdZd8zgbcA04DHy75JkiTJGFInkeAFklYCVrf9R0kLAhMGOajtq4DJHTZt1mFfAx8f5HhJkiTJYPQ0Q0n6MDGucFhZtRzwu9GsVJIkSTK+qDNm8XFgY+ARANs3Ay8YzUolSZIk44s6yuJJ20+1FiTNTUO31iRJkuT5TR1lcYGkzwELSHojcBJw2uhWK0mSJBlP1FEW+xIR19cCuxPeSV8YzUolSZIk44s63lDPlQmPLiPMTzcVD6UkSZJkDqHOtKpbAT8B/kHMZ7GKpN1tnzXalUuSJEnGB3WC8r4LvMH2NABJqwFnAKkskiRJ5hDqjFk82lIUhVuAR0epPkmSJMk4ZNiehaTty88pks4ETiTGLN4BXD4GdUuSJEnGCd3MUG+t/P43sEn5fR+wwKjVKEmSJBl3DKssbGfCviRJkgSo5w21CpElduXq/ra3Gb1qJUmSJOOJOt5QvyPmyz4NeG50q5MkSZKMR+ooi//ZPnjUa5IkSZKMW+ooix9I2h84G3iytdL2FaNWqyRJkmRcUUdZvAR4H7ApQ2Yol+UkSZJkDqCOsngHsGo1TXmSJEkyZ1Engvs6YLHRrkiSJEkyfqnTs1gM+Juky5lxzCJdZ5MkSeYQ6iiL/Ue9FkmSJMm4ps58FheMRUWSJEmS8UudCO5HGZpze15gHuAx2xNHs2JJkiTJ+KHnALftRWxPLMphAeDtwI8HPbCkCZKulHR6WV5F0mWSpkn6laR5y/r5yvK0sn3lQY+dJEmSNKOON9R0HPwOePMIHHsv4MbK8jeB79l+EfAgsGtZvyvwYFn/vbJfkiRJMob0VBaStq98dpB0EPC/QQ4qaXlgK+CnZVlEkN/JZZdjgO3K723LMmX7ZmX/JEmSZIyo4w1VndfiGeA24gU+CN8H9gEWKctLAg/ZfqYs3wksV34vB9wBYPsZSQ+X/f9TFShpN2A3gBVXXHHA6iVJkiRV6nhDjei8FpK2Bu61PVXS60dKru3DgcMBJk+e7B67J0mSJA3oNq3ql7qUs+2v9nnMjYFtJL0FmB+YCPwAWEzS3KV3sTxwV9n/LmAF4E5JcwOLAvf3eewkSZKkD7qNWTzW4QMx4PzZfg9oez/by9teGXg38CfbOwHnATuU3XYBTim/Ty3LlO1/sp09hyRJkjGk27Sq3239lrQI4b30AeAE4LvDlRuAzwInSDoQuJKYcIny/QtJ04AHCAWTJEmSjCFdxywkLQF8CtiJ8Eh6ue0HR+rgts8Hzi+/bwFe1WGf/xGZb5MkSZJZRLcxi28D2xODxi+x/d8xq1WSJEkyrug2ZvFpYFngC8C/JD1SPo9KemRsqpckSZKMB7qNWTSK7k6SJElmX1IhJEmSJD1JZZEkSZL0JJVFkiRJ0pNUFkmSJElPUlkkSZIkPUllkSRJkvQklUWSJEnSk1QWSZIkSU9SWSRJkiQ9SWWRJEmS9CSVRZIkSdKTVBZJkiRJT1JZJEmSJD1JZZEkSZL0JJVFkiRJ0pNUFkmSJElPUlkkSZIkPUllkSRJkvQklUWSJEnSk1QWSZIkSU9SWSRJkiQ9GXNlIWkFSedJukHS9ZL2KuuXkHSOpJvL9+JlvSQdLGmapGskvXys65wkSTKnMyt6Fs8An7a9DrAh8HFJ6wD7AufaXh04tywDbAmsXj67AYeOfZWTJEnmbMZcWdi+2/YV5fejwI3AcsC2wDFlt2OA7crvbYGfO7gUWEzSMmNc7SRJkjmaWTpmIWll4GXAZcDStu8um+4Bli6/lwPuqBS7s6xrl7WbpCmSptx3332jVuckSZI5kVmmLCQtDPwa2Nv2I9Vttg24iTzbh9uebHvypEmTRrCmSZIkySxRFpLmIRTFcbZ/U1b/u2VeKt/3lvV3AStUii9f1iVJkiRjxKzwhhJwJHCj7f+rbDoV2KX83gU4pbJ+5+IVtSHwcMVclSRJkowBc8+CY24MvA+4VtJVZd3ngIOAEyXtCtwOvLNsOxN4CzANeBz4wNhWN0mSJBlzZWH7L4CG2bxZh/0NfHxUK5UkSZJ0JSO4kyRJkp6kskiSJEl6ksoiSZIk6UkqiyRJkqQnqSySJEmSnqSySJIkSXqSyiJJkiTpSSqLJEmSpCepLJIkSZKepLJIkiRJepLKIkmSJOlJKoskSZKkJ6kskiRJkp6kskiSJEl6ksoiSZIk6UkqiyRJkqQnqSySJEmSnqSySJIkSXoyK+bgTpKkwsr7ntF1+20HbTVGNUmS4UllkSSzAalwktEmlUWSJMDgCqdX+ToykvFLKoskScYN2UMav6SySJJktiJ7SKPD80ZZSNoC+AEwAfip7YNmcZWSJEk6MjsqnOeF66ykCcCPgC2BdYAdJa0za2uVJEky5/B86Vm8Cphm+xYASScA2wI3zNJaJUmSjBIjMX4zkmNAsl1751mFpB2ALWx/qCy/D9jA9h6VfXYDdiuLawI39RC7FPCfAas2qIzxUIfxImM81GEkZIyHOowXGeOhDuNFxnioQx0ZK9me1GnD86Vn0RPbhwOH191f0hTbkwc55qAyxkMdxouM8VCHkZAxHuowXmSMhzqMFxnjoQ6DynhejFkAdwErVJaXL+uSJEmSMeD5oiwuB1aXtIqkeYF3A6fO4jolSZLMMTwvzFC2n5G0B/AHwnX2KNvXDyi2tslqFGWMhzqMFxnjoQ4jIWM81GG8yBgPdRgvMsZDHQaS8bwY4E6SJElmLc8XM1SSJEkyC0llkSRJkvQklUWSPM+RNJekd46DemxcZ92cQMk6MVsxxygLSeqwbr4+ZS0gac0+y06QtKykFVufhuXPrbOuhpyNJL1H0s6tT1MZgyDpW5ImSppH0rmS7pP03rGsw+yC7eeAffotL2mJbp8Gon5Yc123uqxR7ofryvJ6kr7QREYpN5DikrRXuT8l6UhJV0h6U4Mq3Czp24OmJRqB98U7JC1Sfn9B0m8kvbyvuswpA9ySjrL9wcrywsAptjdrKOetwHeAeW2vIumlwFdsb1Oj7J7A/sC/gefKatter0bZ+YEFgfOA1wMt5TcR+L3ttRqcwy+A1YCrgGcr9fhEzfLbd9tu+zc1ZFxl+6WS3gZsDXwKuND2+nXqUJHzVeBC4GLbjzUsO9B59HrobF/RsD7LAStR8VK0fWHNsgcRkbm/AqZfB9sP1Ch7K2CG7qkqtr1qj/KvBjYC9ga+V9k0EXhbk/9U0gXAZ4DDbL+srLvO9rp1ZZQyV9h+ea91XcpfbXt9SW8Gdge+CPyiQflFCBf/DxCN8qOAE2w/0uAc+n5fVGRcY3s9Sa8BDgS+DXzJ9gZ1ZbR4XrjOjhB3Svqx7Y9JWhw4AziiDzkHELmqzgewfZWkVWqW3QtY0/b9fRx3d+JhXBaYyvbVzp4AACAASURBVNCD/QhwSENZk4F13H9L4a3l+wXES+JPZfkNwMVAT2XB0L23FXCS7Yc7dP7qcAuwI3CwpEeBPxNK55QaZQc9j++W7/mJa3o18b+sB0wBXl3zHJD0TeBdRL6z6QqcUIR1eFf5/nhlnYGuL3oA23Xv3+GYF1iY+E8Xqax/BNihoawFbf+17V54pm7hiuKaJOlTlU0TCbf72qLK91sIJXF9J+vEcNh+lHi/HCFpE+CXwPcknQx81fa0GmIGeV+0aN1LWwGH2z5D0oF9SbI9x3yAbwE/IYL83t6njEvL95WVddfULHseMPeA57DnCFyHk4BlRkDO2VU5wDLAH2qWPQj4G3AlMA8wCbhsgLq8EPgE8E/g0bE6j7L/b4CXVJbXBU5uWIebgPkG/U8G/D8FvBf4YlleEXhVg/IrVX7PBUzsow5nEb3eK8ryDsBZDcpvQrTG7y7frc+ngNUbyDm63Bc3Ez36RYCpDcpPALYBflvu8U8BS5fz+XtNGSPxvjgdOIxoVC0GzAdc3Y+s2d4M1WZqENGd/Cvwe6hnMmmTdyRwLrAv8HbiBTWP7Y90KdNq4byYSHJ4BvBka7vt/2tw/I8Dx9l+qCwvDuxo+8cNZJwHvJS4DtV69DSltcm50fbaleW5gOur63qUXwJ42PazkhYCFrF9T8M6/JRIW/9volfxF+JF06Q1Ouh5XG/7xb3W9ZBxFvAO2/+tW6aU29T2n4YzqTW5vyUdSpg7NrW9drm3zrb9yprlfwl8hGjNXk605n9g+9sN6rAqETi2EfAgcCvwXtu31ZVR5Kxk+/YmZdrKz0U8I7fYfkjSksBytq+pWf4W4mV/pO2L27Yd7C4m3xF+XywIbAFca/tmScsQDZuz68poMSeYod7attxqyb6V6KY3UhbAnsDniT/veCKq/Ks9yrS65v8sn3nLh1KHJnzY9o9aC7YflPRhoLayIExpI8G5kv5AXAcIU8gf6xQsN/HHiNbrboR5bU2iJdSEJYlW3EPAA8B/miiKQt/nUbimKK1jy/JOQK2XSoXHgauKs0L1xdBrHGkTwnzWfp9D8/t7A9svl3RlOfaDivQ6dVnH9iOSdiJ6CPsSJtPaysIxDcHmpfEwl8Oc0w/zSTocWJkZx4A2rVn+HFfGM23fL+lEoO4Y5862/1JdIWlj2xfV+E+7vS+acpjt97UWbN8t6VtEr6kRs33PYjwh6R22T+q1roeMa4H1XP44hYveNU1asaXc0kCrxfhX2/c2KV+Rsz3w2rJ4oe3f1iz3K+JFsrPtdYvyuNj2S/usx9rAm4FPAhNsL9+w/NuA15XF2udRys4PfLRaHjjU9v8ayNil03rbx9SVMSiSLiNa9JcXpTGJ6Fm8rGb564nW+C+BQ2xf0BoorlH2vbaPbRtnmE6T1nSRdzVhcp7KkN0e21N7lBsRR5JBB9hHivZjlvfFtbYbe2nNCT0LACQdA+zVZr75riseUjXlrAH8P/prsexHjBf0WteN3wO/knRYWd69rKuNwif/28QgvYAfSvqM7ZObyIHpZo6mvTOA1Wy/S9KORc7jTQYQW0jamlBWryNssn8izFFNuZgYSDVhnqtNUQrfY0ZPoEbYPkbSAsCKtnvNxdIRSVsRpov5K3K/0kDEwYSN/QWSvkbY15u4rR4G3EYM9F8oaSVikLsOC5XvRbruVZ9nbB/aR7mBHElGcIAdSacxs+XhYcJ54rBujRFJ+wGfAxaQ1PoPBDxFn/mh5piehaQr21tIndbVkNO4xSJpS8Kr4p2Ea2OLiUTX/VUNjj8XcUO3usPnEHOSPzt8qY7n8MZWb6K0IP9YpwVY9n+UzuYzEa59E2vIuJg4h4tKK3Y14Pgm16LIOYRQDn+2/a8mZSsy2pXna4GeyrP08oZ9gNzMxbFvl+xS/idEi/gNwE+JF/1fbe9atw5FzlrE/yLgXNs3NinfQd7cfZgFB0bSAcC9hPKrmvV6uhKX8nvabhQjUsptQvRIPkK8J1o8Cpxm++YGsn5AOH5UzaOPEPfcxKp5qYuMb9jer+4xu8qag5TF1cDrbT9YlpcALrD9koZyptp+RcMy6xPd868AX6psehQ4r1WnsULStdXzLgro6qbXYsA6vJFota5D2E83Bt5v+/w+ZK1EeLr8sbTO525i6+5XeZbjDkuTAVZJU4FNgfPdR3yBhvzpW98LE15Er+1ZeEjGkcAPbV9VWXeA7QNqll8a+DqwrO0tFQFpr7Z9ZIM6HNxh9cPAFNdzh27JubXDartHzEibjI2Y2YLw85plBxpgLzIub3cuaK1r4kChAeJ3qswxZijCJ/4SSScRraYdgK/1Iec0SR+jQYvF9tXA1ZKO67eVJelE2+8crjXbpBUL/L7DgO5ZfdbrNcSL+mhJSxEeTZ0e1BmwfY6kK4ANif9jL9uNp4wsg/u7AUsQLpfLEy26JsGWc7WN2dxPjewG1ZdBJ4XV4PgAT3vmWJPnhtu5A0+U78clLUucwzIN6/BmYLKk71ZeittQ3yHiZ4TL6efL8t+JnnRtZUGY0NZiyDT7dsIjan1Jb7C9dx0hHjB2RMMErgJdlYWk75c6HiKp03PaxONwYUkr2v5nkb0iEc8CYU7qiSJY8930H78znTlGWdj+uaQpROsNYHvbN/QhqjUQ+ZmqeGoEPxEpADrdQHXK7lW+t66xb1dsf6YMTL+mrDq8yYBuC0n7E8FoaxIviXkJj6C6aRU2KXUw4aHWuA5EENqrgMsAHO6BL2goo5PyPLNu4RFSWNdLeg8wQdLqhEv2xT3KVDld0mKEOe0K4pr+tEF5CLPNG4BjJW1A3HNNxpGWsn1isZfjmIemtnm0sB6wccusqnDn/TNxn1xbV4ikeZjR6eB8ws7/dE0R/Qau/qJ8f6dhuU58GviLpH8Q/8MqwMcUnmJ1HR/eRgT2Pdlzz154FgT/jOWHEhhEPMgzfca4LktWPssRA2lfaVB+AmG2GrQe36yzroacq4ibuJ8AxR8T5qcPlM/vgR/1UYfLyveV5XvuunVok7M98H/l87Y+rsO8bdfh2oYyFiR6upcTA5hfA+bv8/+dD1i0j3LV+h9AxKzc0qD8+eXebgXUbUiYepvU4aZq3YFFgZva61dDzk+JF+qm5XM0MbZXt3xfgavEGMM6HdavA0zq879cv3wa3w+ExWDhfu6j9s+c0LP4JdEan8qM5htRv0cwIsFPnjls//vFVv2lTvt3KP+spOckLWr74TplhuGNwGfb1m3ZYV0vnrLtVm+ptHjqsimwtssdXbzV+pn98AJJLa+PNxKxG6f1Ieci4Gn68IYCnrT9VMuEJGluGsbP2H6cMN98vte+VYa7H8u2WvdlhelTFds+oNybn2xQ/tNFxmqSLiJenE3TfXyLiDc5n3hGXwd8vdxbTWJfXukZx5z+VMamulLxQFoEuEFS08DVH9I55mlJYozuPb3qUKlLe3LP9ct/2nPcRNIPifPoN35nJmZ7ZWF7a8VTvImL7a9PBg5+0oyJ5+YiurpN/4P/AtdKOocZE8b1/PMlfZR4ma4qqRo0tgjxsmzKiQoX3sWKKeaD1M+3NY0IyGvZ/Vco65qyL7ArYaLYnTAfNTK/dPCGaupK3LfCUmf3yOnUeDl1uh+nF6eBW7Pt/duWT6PGeUjamzCZXUE8J2sS1/Em1zf7tI55pKQzCdMiwOc85OX2mWGKdeJZSavZ/kep46pUvBe7MKj56EXuMHhs+8/FpNaE6uD2/IRZ8wp6jJsUppTvqVQaAYMwJ3lDzeABNIvqcF5l8RnCJ/07buBXr87BW67Z2lgUWBz4BvGSbfGoa7oUdpD5RuBNxMvhD7bPqVnuAuJhaLXiX0nc4A9D89Qjg9CvN1Sl/FyEwpp+HQiTR8+Hq7haDovtC+rUYSSQtCHRMl6bMKtNAP5re9Ee5b5DxBasRSjtiwjlcXHT+6o07HYCVrX9lTKo+0LbjXp7kjYjTE+3EP/JSsAHbJ/XteCASLrJdsfpC7ptqyl7MSJz7RZ9V3AA5iRlcQwRVXp5n+U7Rpa2cMMI036RtJftH/Ra10NGpzkKHm3aChyEQV+SI+kd1t6Q0CxwJS7HnZd44Zpolff0eCn35cNuc0+VtCvhmfb9BsefQnjOnET0encG1nBNP/1S/8mE4nh1+TzkBtHCGjA/VZus+YheDsT1rD3Iq86xRK2AuE870pJ0KncGMfZ2Ztv6LYFP2N6ybh06yJ4HuK6Jwhnm+Widx4EdTOPDMtuboSpsAOwk6XbCfNMKIKv7Uhk4srS07PdnyEPjAmKAu8n4wy5Au2J4f4d13biCMPs8SFyHxYB7JP2byD3VKyXCX2y/psMDVTsoz5EKYpCUIyPmHUaf3lAjrLC2Ijyopnu+SNrddi+X5p2IgeR2fkG8EGorCwDb0yRNcHgjHa3IE1U3qGsBItB00fL5Fw08mAqD5qcCaKW1eDNDcRKbF3t/3Ubd94E7iTFPEUp0NeLZOYoIvOvE3sAZxbTZeo4mE4qz0b3aZqKcQPT4TmwigxjgfpY4D4jzWBC4h3B17mbGnLE+c0LPonRtX8uQfXw6bhg4I2mJ9q61pFVcI7ZA0q+B6xhye3sfsL7trpPwlLI7EoNjr2HGdBYTgWfdYBInSUcQKbT/UJbfRPizH01kCe06MYqkVYdrWTWoQ19R0x3kfIromvcVvV2RU3Ul/rNruBJLWtb2vzRMcF6Te0vS34CtXeY5UES0n+EeuYjUJfdSU9OrpAuBzYkxn3uINN/v72WOUyTsezERZHoZcCmRyr9xsKkGzE9VkXMm8D9CWU2PV7H95ZrlZ7quGpqwq2u+q9KjeQ+Rqh7CceOXbpArrMip9r6fAW63fWdDGcPmqGpsmm93j5pdPzR0Zewi5yIqefoJbX9dzbJX1Vk3TNmViNbMJcQgYuvzchrmvO90LSjupnXqQ8nrT6SD6Pc6Xg28oLI8iT7y7BM9tesJBboHsHQfMnalwVwHlXItF9FfjMB9dXnbstrXDfdfdjpnYu6Epu67KzHUO9ifcCN+UY1yvyd6MT8j4k1eQmmI9nEddiIGZO8k3IdvIlK3N5XT2H26rfwlRHqeucrnnQzNZVPrmR2JT/kfty6fF/RR/moqc5IQPfmry+/arsj2nOE62+IKSa90n2MWFb5ORHFvRdhDf07c4HV4QtJrXFIXK+YEfqJHGWB6K/V2SZsDT9h+TpHUsDWo2IS7JX0WOKEsvwv4d+m614kanqt4/6zRaSzH9br6fUVNdzjWl4EvS1qPOI8LJN1pe/MGYlYEDpO0MmE6uJDoXVzVrRAwryKQbiN1cGF1M7fVKaU1fCJhengHcHlLbhdZ3ybMHp8mTCQAryjrG3n2eKgn9ARQqwVeym1Reu8vJnoFnwbWlfQAcInbvKx6yDpO4bLbyk+1nfvLT3WWpDe5j3kbCjsRpt0fE//HpcB7FdH5e/QpsxEdet/9JPz8EHCUIv2LiNxSH1K4In+jUX2KhpntKd38FxGmqH7GLKqytgP2IcYx3m777zXLrU8ol0XL8R8guvk9/b8rMqYSJpvFiV7O5US8Q12FhSItx/4MmV0uIl4ODxNZT7u6sEpaE9iOsM/+pH27a3T1JX2biNatjhNcY7tprEdL3guJF+y7iYHdfv7XBYAPE1mFl7PdNUuoItXJTkSrs9090W6Q0VjS0V02d5VVBk/3JcweJnpaB7n3eEer/EgmRFyeiODfiGgNL2l7sbrli4wJRIu6msuokdu7IuX8sUQD5GkajKeNFzSgl16brEUBPEB81pykLAayK2soyKXFZsRg5G1FTu0gF0kTS5nak7dXyrbsjXsCC9j+VsuW2lTWoEjasu4LaZjyb2coNUitcYIOMj5GvKwnEV48J7phGhdJXyj1WJiYHOsvpT531yy/qxskyxtvVJ4NEbOyvaW6vdczIukThHLYiHgxX1z5XGu7do6rcl/vT8x8+Cx9NuoUiQS3Lcev/ZKTtE95ptqfd6C/YLbi0bWCa86yVynXt5eeRnh+EJiDvKFaN7wib9D8PXbvxJS25a4eQ1UU6aevqTx0ewNvL55Ze7nG4PiM4vRqokXbSj/dNE/+IHNyVLmkvCja5dR6oGz/Gvh1w2O2swKwdw2TUTe2JwYQzyA81C5xAzdLRyBZ3xlKARSzlx1ImIB+T/S6Pmn72K4FRwDPmBDxyboNqAorE4r6k3UVbBf2InIZ1XbpHIY7iLHEpq3hlsmr/XlvhCICfRvifpgK3CvpIttdXfDbGCRn2UjPDzJH9Sy2ITLPLkskTFsJuNENZ5grsuYF1iiLPaNUFdHSGzom+NmaGDjcEXgZMXj35gbH3oSwCV9k+5uKyNS9G/Zs+ppFrIOciwlbbrvHybBJzjQCc2F0kDkSZouJRO/iNYQ5617br+leanrZjhlKG/4nLU+btxHmm08RM/Y1NjkMQifvmTE+/nmE6WWgOTAk/YxI5XMWfc5fXeQs6EjF0vT4V9p+maQPEb2K/VXSx9csLyIh5Stp6KU3WswxPQtinuwNCZvfyyS9AXhvUyGSXk+4vt5GvOBWkLSLu+eHd+WG256YxH0qMLWYUWrjCFa7oLJ8C5GhtAn9ziLWzvwNW0rYHrGWDoCkPYikd/9mSGGZaJnXlbEuMQ60CeETfwfNZtvrN0NpldazuBVwkmdOVz5qaMY0NAtIehkMZZu1fcXMpUaNW4DzFcFtfb/kibTmt9Ln/NWl934kYZpcsYw37m677vM6t6RlCBNpo3xfEC8MSWcWk1M/M1EC060IhxIec+sWR5BtbB/YVNacpCyedky6PpekuWyfJ6lRwFLhu8CbXFJ0lD/jeMIDZThUvBEeJ8Y6qonGapnEVPLka5hcQm6WHqPxnBzD8AtFTqjT68pRzLX9dKs3VgbL3wLc1meraW8GN1scRCiHgwl31aaR7NcBLyTiEvrl9OKE8QTw0TKY2cgvvx1JL6/5ov9u5fc9RM+3hRlK6z8W/LN8+nrJt2g5WfTbMyCC8t5McVywfbWk13UvMgNfJtK+/MX25cUCUHuWvMJIeHAeQeTUOgzA9jWSfkmYPBsxJymLh8oL+0LgOEn3UknE14B5XMnlZPvvijD8bnyfMFE8Qpi+pgCUFlzdF8xI5slv5ZfqZ06OKk8Rrn2fZ0iB9ZLze2Ks5WZJLyL82Y8Dtpa0ge19u5TtxB2UfFL9YnvQKPCl6C9DabUO+5Zxi4cd2YUfJwZoB+GjhHdXr2O/YcDjANMHp491nzM/FnPiGm7g2ddF1qA9A2zf0da7qzU3RzmPFaomp2IBeHvdYxc2INx1b6N/D84Fbf+17Tz6MvHN9sqivJCWJh68J4iUyzsRYxZ79iFyiqSfEm55FFldB8NsH1UGql5ABMm0uIeYy6EnrfEER5qMSeX3fQ3r3pI10CxiFT5NBG01meFucQ/NQ7wLMe/2nmUcaCozJjgcloqXR99miy4uo00fygNq7tepDvvY/lZZ3Mz2ScTBH5P0eeBz/cq23VNRjDBLE7EhrZQYf2himitKciVJ87pGXqweDNozuKM4Lbg0BvdiaPC7K+U8dgS+17DO7dQey+zCfxTZAFpTAexAnz3g2X6AW9LpwH62r21b/xLg67Zr50Yp5eYjZmebPugE/LiJ90y/KCah34PwHRfRQvih7a/ULD/wnBxt8s4mgqZqd/Org3yKOQ++bft3ZblrGoU2OV0DvVwv1qOjO3VFRpN0HSsxNK3qgsAE15gHvDqg3D643GSwWdK5bkv50mndaFMGZt9ENIImE0GGR7qkCq9R/udEVoRTmTEFf9OB6ctsb9AaaC7rmtxfSxFBeZsTz9rZhOdiLXOnpO8Rsz/+qu08Go3/lB5Rax71P7tBTFYpvypwOOHW/CAxjvNe27c1kQNzQM+CGNiZKcLZ9rWKiN1G2H5S0iHAOQxlBx31bK2lJb0xManLrWXdqsChkj5pu04rZuA5Odp4jJhY5TzqT6xyjSKl9V1EkOTZAIr0y7WpowxqyBiRObQ187Sqy1F/WlUN87vTcqdjz08khltK4c/fKjOx1GNMKQOz9xC95meI4NGTJZ1je58aIv5RPnMxmNtn3z0DgNJbHsQc1op7qjbkGo3/SNqLMCO2nstjJR1u+4d1ZRTz1+aKiO256jRghq3PHNCzuNn26sNsm2b7RQ3lvZ42byiglzfUwCiycL6x3eSjPhOtjVCdOs2t0ct1dgHiwV0GOKrVUioP9mq2fzFc2WHknUO4Hz9UlhcnEgs2cUee/rK3vZpiDuyf1G2VS7qKMg94pRVbK0nboD2L8kLZm3AJv4shZfEIcITtQ+qcQ0XecoSJtuqGXOveLnXZGfgPkYzwd7afVgST3Wx7tSZ1GYR+ewYaJhivRY+G0IiicLl/te3HyvJCRAxQT/OoRmFKhTmhZzFF0odtzzCDm8L/uVFcQaGxN5Q6zx8xnZpeSPN0GhuwfV+NAfb2+sxHDLatzIwvhVrmrMr+x6hhzIntJwjvo/b1rYjfpkxqKYoi50FF4GUTPk552RcZNzeUMci0qutLeoR4oS1QflOWe3rKOeYx+YGkPZu0ODsh6ZtE4NcNVOJFCKeQOiwBbN9uvnPkMavlRFAaP/sQeaamn78bBowO0DOojj9+mYgmb4wi/f7XgWVtbylpHeLF3yTSX8w4qN6KaK9DtVe2O8UbahDmBGWxN/BbSTsxY375eYG39SGvH2+o1vzfnf7oul5I3Qb8mg4GnkJ4EE2lYj5qSqdelnrHnIw0z0pa0SUIr5iTmnaXB51D+wL1Oa2qe+Sf6oWkVwJ3tBSFYt7mtxM50A6o2RBpsR3hhtzXPeEIPJsgaVnaAiRdPxngcYSdf2vgI4QTRGNHDkkHd1j9MDDF9inDlav2iiXt3a2X3IOfESn/WzEWfyfOq4myOBq4TFLLpXy7uuWrZlpJ242E2Xa2N0O1UAThTc8vb/tPfco5mtDwVW+oCW6QNK7P4z5LZ1dfEcFxtXsXkq6zvW7vPXvKmQq8p72XZbtbzMmIImkLYgDvApg+L8ZuLnN11JTxLeAhwoSyJ/Gyv8F2rWAqDTCt6qAoPI82t/2AwtvnBOIcXgqsbXuHBrLOIkx6/+2zLh0DJOuYTSoyptp+RZsjxOVuOFOeYo6NtYg0JBAK9FZgSeAW23vXkNF3NHurzm0D7I1zuCkCJqsR3Ff2UZcRicqfE3oWADjm3h2J+Xc/QpgtWrbLPzNjkN1MaMYI2U516+khMWgLtI2LJb2k08B/Q/rpZc2A+g+aah3z9+X6tmaL27uTua4H+xIv+2uJLvuZ7WbLHnV4TtKxRHqO2vOpjxATKr2HdwGHu+TcKmMpTXiccFg4l/oOC1VGIkCyZca8WzENwL8I81ZT1gM2dsz4h2K61j8TL95B7/s6PCZpSYZcVjekj3gg21cogjXXIeb4mGXMMcpiJFAE21ztmL2syQDRd7tsG7MIWQ3FFcwNfEDSLcRLod907Y1jTip12YgYBO07aKrIEbAFsKrtr0haUdKrbP+1gZidiEHx6QpC0ta2T69Zh22I4MR5gVUkvZSYLrdJVH2/TJA0tyOX0mbEQH2Lps/3qcycar0JAwdIAgcq0ml/Gvgh4dX1yT7kLE7cW636LEQ4MDwraVgzm2bMXbZg2xiSXT932aeIa7mawkV8ElCrl1fup4OJKQy+APyI6K2tLOmzdUxjmjGG6EVlsLx6Hs1T+M8pZqiRQtIpwJ5umKhuPKARjCso8vqOOVFMn7kDcGqlm97YPFZajM8Bm9peu3hDnd3EbCHpIWLcZceWbb1J172Y4zYFzm/qDTUoisC9txAeSCsCL7dtRTDqMbY37ipgZnkLEHOaNO4hSTqSmBBs0LxOAyNpV+JFez7xgnwdMeB8PDGW85nhS49YHeYmrodo4GKvSPT5DmLem/OA9WzfUpwuzq1zX430sw7Zs+iHxYHrFakdqsE2w7YiNcLBcP3ioTTtqwF3OmJGXk902Wun067IGyjmxH2mU2hjA8f8HlcWmQ8WD60m3EqYoU6WdIAjirpJFr+nPXPivzFphdn+WjEbLUMoydZx56JhhgJFKv3v0H8Pqe+8TorJsKbZPqxt/e7AKm6YBsaRNv5MwssN4HMemqd91BRFl2d9DUl1n/XnXCZUk3Sry3z3tu+VVCtVRz/KoBepLJrzxT7KjFgwnMLXun1a1bOavKSJOSQml9bn4YR31C9pm/SmRl1eT//eUAMFTVV4upgHW7bhSdSbGraKi214E+B4SRvQbI6Q6xXTq05QxGh8gv7cgPvC9qUd1tWavbGNA4iX6/lFxlWKwM+69Rgked+mhMtsO0cA11A/DUx7b/CO8v1CSS+sMz44ICPxrM9VeshzAc9pxmDLxlMPjxgeo4nHZ8cPkUCur4npBzjmVCJidzniJX0ScFxDGVeU730Ikxo0nLy9Upc1K8trAFMbXLvjCFvsvcS4x5J91GEnwjZ8F/A14CbCo6eJjDMqv+cixh+ea1B+wXLsy8vnQMJDbZbfow2vw6Xt9wIxaVfd8q8mYjT+WZbXJ8ySdcpe12Xb9Q3q0HJkuYQYLJ9S7tOniYC2sbqWq9RZN0zZ24icZ7d2+Nwyq+6P7FnUpHgzHEQMOn2VyAK7FNEK2Nn277uUHcloSjkmUdqVeBC/1YfXy9OKRGc7M9QCauTF1CrjPr2hPHg6hZac48qYwWZE62s71/fpb8nYqvL7OcJMUctUUXo1Zzgytzaet2CcMWgPaZDkfU9IWt1DSSYBKPV4om4Fyv+ApN8Q4zfXluV1aZDwsTxfF7bXpwG/Btp7OSfTfSoDAGyv3OcxR5VUFvU5hMgAuijRzdzS9qWS1iIGzYZVFoxsNKU04LSqRJK3jwBfs32rpFUYSoHehMbeUBqddApLAY/bPlrSJEmruMFUtcV09VnCPbFR1LDDu+Y5SYvaHtQTaFazJ6HwniTu6T8QDaPa8caEGwAAGbdJREFUuP9xqC8BZ0k6kBmDZ/cjXHKbsqYrruG2r5O0doPyKwKHKfLHTSWi2P/sHtP3lvfBi4FF28YtJtLfdM4DIWljQkm2Uri0vKGaTkeQ3lB1USWgRtKNtteubJseeFNDTu19hyk/8LSqI0U/3lAayie1MfFy/lVZfgcRCPeRhnXYn3iprGl7DUX08Elu4AWkyJ77K2Je8ulRw7Y/W7P8KcQUuecwo9PDmP8nsxJJJxMu5YcQczHsBUy2/e6a5dclenQtj7jrgO+4j3ggSccT/0W1IbOw7R0bylmASOb3/4Dl3CPeSdK2RKT1Nszohvwo4Z49ZmNZpT5/I1yP26dQbhwLk8qiJhq5VNIjNsexInJ4YduP9Nx5xnKrA99g5pZ049ZGv0i6FHiNy1zLxXz1Z9sbdi85k5yriBf1FR5yW60913HZf6CoYc2YULH1QMn9p4oYUzTM7IstXNMbSgOm9R5JFNl4P0q4zEL0DA61XWv2QUlfIBo0CwNXAn8h7s+ec0EU0+RnbX+9n7qPJCqp2kdCVpqh6jNQwreRQjEl4keIVsLlwERJP7D97QZijiYSpH0PeANhlqrtZaHhJw0CoOaLenGia96KPl64rGvKU7YtqeUNtVAfMvqKGi6tyOVt/6gs/5UIvjJh1nq+MBKzL47YONRIUJTC9+h/AqLtiRTrZxCpZC7p1mNuO/azkrYj4jr6oiic6x0BwINwXnFL/g0zxr409gpLZVGTXt3PbmhkoynXsf2IIjHiWYRL4VTCg6cuC9g+V5Ic/tgHlEHiL9UsP+g0pBDOAlcq5sJoBU0d0IecEyUdBiymSDX+QcLdsgn9Rg3vA1RNLPMSA5gLEwr5pE6Fxhu2LxgJOWXs58PMnM14VPOmtdXhRNvvHK5BU/dZc8TuTCR6F28EDpd0r+3X9Cja4iJFDFJfkx8VhXOTKkky+6TVq5hcFU8fWSNSWYwNI/FybTFPMdlsBxzimC+gcZbVYsK6WZH87S7iBVcLdwj4KSaI+13TrlkGo89i6Gb+rO176tahIuc7ikyvjxDRsl+yfU5DGa20Hg8TPa26zGv7jsryXxx5mh7os4czS+jQQ7qM6CEB7GP75JqiTiHGrf5IfwGWSNrY9kW91nVhr/I90DNXxk9eS8RNTCbiNf7cQMTAkx/RRwBwOx6h+dUhxyyed0j6BGHiuBrYivDaONb2a7sWnFHGK4kAuMUIb5dFgW+5Q3DXMOWHdSMGerkRr2X7bx2Cp4D+uscV2Y0U1qCeWeoyeZakf3gMJ/sZBEXuone3FF8ZB9qMyKd0tBtMAuWGWVU7yJhpTG8kxvlK42hH28fV3P90Qjn8GbjcYzAbZoc6bNJpfZOeYOkx78/Q2M0FRFR+Y8+97Fk8z7B9MJFkrMXtivTrPVHknLmofP5T3Es/0Ec1BnEj/hSR7K5TcsXaLa9uCks94l4qDDrRzWXqPLHW7kCTRIazmk49pPuB+xv2kE6X9BbbZzatQHEH3wiYpBnjkibSwDW8mI4+TgStnkp4qO1BmBivJgJBe2J7aw3lyepLUZTxr/ZJnGpPMGb7AnWY271hNY4ivMreWZbfR5hIO6Ye6kb2LJ5naIAZuErXeqPKZyEi0vUi4GLbl9Wsw4i4EQ+CpCkMKazDaVNYTevQT70Vid1+RwwctnpErwDmI4ID/91E3qxi0B6ShjK1irinniScBmpnai2t6NcTzhs/qWx6FDjNNYPjihvzg8R9vRnwglKPvdwjRqJNzvQ8WbZXUcM8WZJ+QkT2v4HIrrwD8Ffbu3YtOKOMgab7LTJm6u313QP0LAodz09/H2JQ+51EqnSI3uG1fcpaimh1TQOebVDuik6/Oy13KPtK4IWV5Z0JW/fB5aGoW4erKr9vbNvWT+qSrvXuUXZTIqBtTyL77Sy/TxrW/zjgwx3W704o3rGsy0qV33MBExuWv7byewKRSqZx6hXCaWRRZkx9Uvs5o6RJqXwvTLjeNqnDVYTTRF91KPtfQriot5Y3ps+0J2mGGgO6uJr24w21lO0TJe1HFH5GMYtenXpMIGISNiJumtWIwe2fEjdVXQZxIz6M8MNHkQriIIZmdjucmjn/mTFZYHs6iDHtLjtmXexr5sVxwieB3ylSfczUQ6orZJhxqIeB213iaWrwDUmDuIZPNxk5PIrudM3YinY5HiyTcOuefFwRKHo/kRm4CYNO9wvRU/t5GbuA6HXt0mX/YUllMTaMpDfUIDNwPUokevsRsK8bpMSo4sFm7Rupmd0GjnvRyE1087zG9r3ARpI2JWzsEPmumirAHxP5kFoR1y8h7OWLSvqo7bNryBjUNXz9tv9xgcp90uQ/HTRP1umSFiv1voK4z37aoDwMMLd7hUdsr1/GcijXdpWGMoAcsxhz/n975x41V1We8d8TEMLFK3JTlIgUVinEKEEFsigi1toqCIgYUVChWi9cq7RLSkWttkKxQIKVyCrhIqFQRC7SqAgYBJUChQgIRUOpYHXhDRAFJTz9Y+/JnG+Y7/vmzJw5Zybf+1tr1jdnnznnvJPMzHv23u9+no4Jqw2AdW0/WuL4V5DWAuxI+iJuCrzF9sopD0zHLiQpg+5M+87t26Ru6YOl30wfSLoDmJd7RHeT/LJXtPa5Am/woBmUxPtOsH1n3t6BVDp6HPAl9zBOLulOUi/zAlJp+Dcl3W77ZUMMvVscG5J0soq+6p/sp5eiJIsz2yUrkFSBt/sk1WW32J5W0LCT6FnUSHHCijQEtBVpMq/nCSu3fRdKO3DZXkaqVmp9GV5JGpL6B0nr2Z7SXasilpHumH5G6qpfn+PZlsEtOYNm2a6VKABs35VLpVd1DOdMxZkkie7bgRX55qqUnE0VOPlxHM8ASsJKfi1zyL+zSuZHZUzG3gyc6xJ+8IVrVy5oGD2LGsnDLK8EvusB7Dc7P4RAzx/CXAr5KtrzFruQFhzdYPtDZeLolzx01nJ2eyy3bUfSuRq2OU0wJCT9G6mU+cLcdBCpiOKdpHLcnq1uO87b8hgfOpJOtX20JtHLcu/VUOeRbghvo71A0S4hLinpbFLxxArSSvDlvf47aAiChpEsakRZ1KtVppknrG4tM8E9yIdQyXr0RaT1BTfmx3ds/7rsewmCTvKw6gdoqxDfQJrHeBzYsNfP2aDrEwZB0s62b9GAC+IkfZ80/zLQD6ySWsMbSIl3AfB124eXOH5X22WKVyYlhqHqpYoJq/n0/yE8lFR6F3cIQeXY/q2kzwFXumCKlek1UXRdn1BpoFNgu+WlsQlpkr8n8cAu3AFsAUyrUjtNPL9XksUxsAGpt9BzsgDenucqizwM3Gz7sjKxNOfnOjP5a+AhUrXI+4CrgL8teY7Wh7A0tldGogiGhaR9SD3e5Xl7nqTLpz7qaexm+xDgl06e3ruS7Hrr5k3Af0s6T9Ib8yjAtEi6Ir/n5wN3SfqqpMtbjzIBSHqDpKXAvcABpORZ9ru/Pqlg4N78mEuaKz1M0qllThQ9i5rQRMnh0hNWBVofwpuYKDncs7hYEAyJj5Hm5K4DsH1bH2WaVaxPGBjb7y4MAS0EzpDUyxBQJXLvmUNIcxXvG6CHMxfY3fZqAEn/QioqWUC7xLknIlnUhKuTHD5x0Fgkrd/54evWNkxyhcZnaMsxzKi1DWspgy5kg2rWJ1RCn0NADwKb++nKuQsoOSTlkq5+k/Bc0urxVqXhRiSlhNWSSn3fI1nUSxWSw1V4D3ybp5vJd2sbJicBb7L9/RqvGQyXQReyYbvl+X2JkvJr6fUJVSCpNam8J6mndBZtMb6pOJXkG97Jw3nfm3q49rdsL9BEza01f0veUJ0E3Cbpunz8HsCnc1Xk1SXOE9VQdTJIhUWXD9CaXfQu1rYFSY3zfODt+VhItdef9+CuXD0j6QaX8MkORp9BFrJJOs72Sfn5gbYvLuz7tO2PDinsyeJZRhoC+o8yPW5NYcfbT5l8FUjakjQ8CElu/cd9nSeSRT2oOpvEQWI4FHgXqaKqKM/9KLDU9pdqiKG1QOiPSZN1LdVWAOqIIRg9VJHHfdNIutf2H0yyb1J1347XTWnp67ZcTq8xvRDYmonrslaUOQfEMFRtVDVnIemlwAO2n5C0J2kC61zbv+ohhnOAcyQd4KTH1ATFbvhvSHehLUzyCg7GiMkWsLXocZhVkzzvtj10BphTu1ndPU4OJ2lc9cIttIedOjGwTY/nQdJnSMNpd9IW3zRpoV8pomdRI5JWkFRf+56zyKvA55NWcF9Fkvf+I9t/VuIc65NK8eYw8W6jloVPOYZB7TODEWGy4dUWPQ6zjlTPQtIP6GNOTclv5lLgd7STw3yS1Ph+7sM6eBAk3QPMraJ4JXoW9XJCBed4ykmEbz9gke1FeWV2GS4jTbjdQmEIqGYW8fQJ9W5twYhTUdHFwCrCFfPTfoovnAyvdlNyr2yJYpZW8JW0HnAwbRXgO4EL+vjRXwU8gwq+55EsaqSiL9Xv84rMQ2kP6Tyj5Dm2sv2nFcRSGlVknxmMDqrAr8WDyd5XRmFO7easddXXnJrta4Fr+4xhB5Ke0w20eyd7AsdL2tcFscYe+A2pGuobTHwfPWtUtYhkUQNVVDIVeDfJ0ORTtu/Li57OKxnSjZJ2sl1qUU5FrEeq+14XeGah/RF6Nz4KRosq/VqaZhTm1BYB77f99WKjpL2BxSQplF65nIlCgn0TcxYzEEl3AdsC95HuNvpx7Bs0hq1t31/X9YL6yQvRFtr+YNOxlKXJOTVJd09WNakOz/s6iZ5FjUh6cbf2MtVRku6ju3RyzxUSJAmDplkqqdv72KuJYIJqkPRy0hqeA0k3I+Na3dbknNqsSVQWZtPjb7aki2y/dbIhwn5uDCNZ1MtXCs9nAy8B7qE9idUL8zvOcSDJTKkMo9Cd/HDh+WxSdVYtngVBtSh5kSzMj5+RFrPJdpnhkpFgRObUziWtYP9gq/ctaQ5wOr0POR+V/1Y2RBjDUA2iZJH6gR7EyaY7TymbxMLdRqvS5CUkx70ySatyJN1k+5XTvzIYJSQ9RRKnO8z2D3LbqpK93ZEglwHvSZoX/Hxh16PAFbbvrSmOD5HsaDfMTY8B/2R7UR3X70b0LBrEySL1VWWOyQmmxSxST6PU/2On5EAraZU5x6B0rFKdRfIFf3adMQSVsT/wNuBaSctJTnm1L6SrAifP72+R1iZ8vME4FgOLJT0zbz9a5vguulJrdtGnYGckixrp6NbOIo1/ltVpOaXw/EmSX3EvAmeT0k/SqoDiKtUnSePbh9UcQ1ABtr8MfDmL0+0LHA1sluWwL7X9tUYDLElWW3hB03FA+SRROO6Z07+qHDEMVSOSPlbYbP3QX9KL0FrFcXRLWpvYfn2dcQRrL5KeS5pPO8j2a5uOpyw50b0QuJiJagtjM2FftR5dJIsxIo+n/tL2SklvJckN/xD4XEllzMaTlpKxzPtJ7wGSDPSZtn9fVwxBMBmSzu7SbNvvqTGGgX1nJF0GHDGIHt2ac0WyqI9BBNcknUESDZxNqqDamGRfuTswy/bBfcSzcb5uT/7IVSLpLNLK83Ny0zuB1YNO9gfB2kI3TayyOllV6NG1iDmLellFkuU+P28vBH5KkhSYjtfY3iHXWj8IbJbHVs8EVpYJQtKOpBK85+XtnwGH2r6jzHkGZBfbLytsXyPp9hqvHwSTImkr0rqKlufK9cBRth+o4dot35kN8rqVou/MhpMe2J0q9OiASBZ1s7vt4jqJKyTdbPuYHo59HMD245Lud/bUtW1JZYdulgDHZv0astT5ElJ9eV2slvRS2z/MMWwDrK7x+kEwFWcDF5DmXQDekdteV8O1X0/yndkK+Gyh/VGglAlUpx5da1U9UFqnLpJFvWwkaRvbqwCyrtNGPR67WZ6YVuE5eXvTsnG0EgWA7etyJUudfIRUarmK9B62JuleBcEosKnt4rzFUklH13Hhqn1nuqyq7+uckSzq5Rjguo4fyPf2eOwXaAvvFZ9DeUP7VZJOoL0a9B2kIbLasP0NJZ/m7XPTPVVo7gdBRfxc0juAZXl7IfDzmmO4UsnTfA4lfWeGsao+JrhrJhsPtUrZ7m7iBzKXNX4cWJCbrgdOtP3LGq69C/CjlgmMpENIUh/35xhKWUYGwTCQtDVpzmJXUlHKjcCRVVQVlYhhOW3fmTVDtLZPmfSg9rGVr6qPZFED8QPZRtKtwN62fyFpD9Jq3yOAecAf2g6Z8iAAJN1he8fpX9n12DeTVtXvTqqavBA4y/ZL+o4nksXwGZUfSElT6tr3U07XRwy3t6qgcjnwQ7ZPzNu32Z437BiCYDIk/d0Uu237kzXGsoTkhtm370xhVf1CYC+SSGFfq+ojWdTAqPxASnoI+BFpHPa7dOj3dFZODCmGO4B5TtawdwPvtb2ita/fO6kgqAJJf9WleSOSFM0mtjeuMZZKfWcGXVUfE9z1sI6kdW0/CbyWiZPaverTHzvVftufnWp/ZgtS6d9CUnXEV4BlLmfTOCjLgG/mtR2/JY2rImlb0vhsEDRGcT4gi/gdRarSu5CJumx1UKnvTJ6TXJIfpYlkUQ9V/EAOLAyW12YsB5bnifaFpOqsj2eVy6Fj+1NKfsBbAl9zu2s7izQ0FwSNkhWRjwUOJikMvKKO4o8ujNSwTwxD1YSkV9P+gXwst20HbGz71hrjWB/4c1KimEPy5/1X2w/WFUMQjCqSTiZJri8BzmhCCqcQy0j5zkSyGDOy3MdhJHe92a32XgTOJJ0L7AhcBVxYs7xHEIw8ueT0CZLAZiU+EFVRlVla39ePZDFeSLoYuJs05/AJUlf5+7aPmvJA1nwRWmJiI/VFCIJgeiR9r9O8rLZrR7IYLyT9l+2XS1ppe26W+r7e9qubji0IguoYNd+ZmOAeP1qigb/K6rE/ATZrMJ4gCIZDsajlSVL14sBaUf0SPYsxQ9LhpA/MTsBSkq/FCbbPbDKuIAiGQ5O+M0WiZzFGSJoFPJLL+FYAfeu8BEEw2oyI70w7nuhZjBfZ/2L+9K8MgmCckXQjcHyH78ynbdfpO7OGWU1cNBiIqyV9WNKLJD2v9Wg6qCAIKudpvjP07n9TOdGzGDMk3del2YNIDwdBMHpIuhS4lYm+Mzvb3q+ReCJZjBeSZtt+fLq2IAjGmyZ9Z7rGE8livJB0q+1XTNcWBEFQJVENNSZI2gJ4IbBB9tRtyYs/C9iwscCCIKiUUfCd6UYki/Hh9cC7gK2Aohz5o8BHmwgoCIKhsCtT+M40RQxDjRmSDrDd2CrOIAiGi6R1aPvOzKUZ35mnxxXJYrzIEuMHkOTF1/QMbX+iqZiCIBgOBd+Zk4HafGe6EcNQ48dlJMOkW0hSykEQrGV08Z05Hbi00ZiiZzFehE91EKzdjKrvTCSLMUPSEmCR7e81HUsQBNUzqr4zkSzGDEl3AdsC95GGoVofoLmNBhYEwVpNJIsxQ9LW3dpt3193LEEQzBxCSHDMyEnhRcBe+flviP/HIAiGTPQsxgxJHwPmA9vb3k7SC4CLbe/ecGhBEKzFxB3p+LEfsA95Asz2j5lovxgEQVA5kSzGj985dQcNIKkxffsgCGYOkSzGj4sknQk8R9JfAFcDX2g4piAI1nJizmIMkfQ64E9IZbNftf31hkMKgmAtJ5LFmCBpW2Bz2zd0tC8A/s/2D5uJLAiCmUAMQ40PpwKPdGl/OO8LgiAYGpEsxofNu0l85LY59YcTBMFMIpLF+PCcKfZtUFsUQRDMSCJZjA835+qnCUg6nCRXHgRBMDRigntMkLQ5Sc/+d7STw3xgPWA/2z9pKrYgCNZ+IlmMGZJeQ9K6B7jT9jVNxhMEwcwgkkUQBEEwLTFnEQRBEExLJIsgCIJgWiJZBDMGSZZ0SmH7w5JOnOaYfST9zTSv2VPSlZPs+x9Jz+8r4HT8Uklv6ff4us8brL1EsghmEk8A+5f58bZ9ue1/HGJMkyJp3SauGwTdiGQRzCSeBJYAx3TukLSppEsk/Wd+7J7b3yVpcX7+UknfkfQ9SX8v6deFU2ws6d8l3S3pi5JU2HdcPuamrPGFpDmSrpG0UtI3JL04ty+V9HlJ3wVOysfvIelGSatavQElTpZ0Rz73QT20L5Z0j6Srgc0q/HcNZgCRLIKZxhnAwZKe3dF+GvDPtncBDgDO6nLsacBptncCHujY93LgaGAHYBug6Fz4cD5mMW0dr0XAObbnAl8ETi+8fitgN9vH5u0tgQXAG4FWL2d/YB7wMmBv4GRJW07Rvh+wfY7vEGC3rv86QTAJkSyCGYXtR4BzgSM7du0NLJZ0G3A58CxJG3e8Zlfg4vz8go59N9l+wPZTwG1M1OtaVvi7a+FcrXOcR0oGLS62vbqw/WXbT9m+C9g8ty0AltlebfunwDeBXaZo36PQ/mMg1ucEpYgx0WAmcipwK3B2oW0W8GrbjxdfOHE0aUqeKDxfzcTvlid5PhmPTXHungMKgiqJnkUw47D9C+Ai4LBC89eAI1obkuZ1OfQ7pCEqgLeVuORBhb/fzs9vLJzjYOD6Eucjv/4gSetI2pTUc7hpivYVhfYtgdeUvF4ww4meRTBTOQX4UGH7SOAMSStJ34sVwF92HHM0cL6k44HlJC+RXnhuPu8TwMLcdgRwtqSPAA8B7y4Z/6WkoazbSb2V42z/RNJU7XsBdwH/SztpBUFPhNxHEPSIpA2B39q2pLcBC23v23RcQVAH0bMIgt7ZmTQJLuBXwHsajicIaiN6FkEQBMG0xAR3EARBMC2RLIIgCIJpiWQRBEEQTEskiyAIgmBaIlkEQRAE0/L/nmUyJy77ojQAAAAASUVORK5CYII=\n",
      "text/plain": [
       "<Figure size 432x288 with 1 Axes>"
      ]
     },
     "metadata": {
      "needs_background": "light"
     },
     "output_type": "display_data"
    }
   ],
   "source": [
    "greatestandleast = requests.head(10).append(requests.tail(10))\n",
    "greatestandleast.plot.bar()\n",
    "plt.title(\"the greatest 10 and least 10 neighborhoods\")\n",
    "plt.xlabel(\"Neighborhood\")\n",
    "plt.ylabel(\"Number of Requests\")"
   ]
  },
  {
   "cell_type": "code",
   "execution_count": 26,
   "metadata": {},
   "outputs": [
    {
     "data": {
      "text/plain": [
       "2"
      ]
     },
     "execution_count": 26,
     "metadata": {},
     "output_type": "execute_result"
    }
   ],
   "source": [
    "query_mask = filtered_pgh_311_data['NEIGHBORHOOD'] == \"Arlington Heights\"\n",
    "arlingtonheights = filtered_pgh_311_data[query_mask]\n",
    "arlingtonheights[\"REQUEST_TYPE\"].count()"
   ]
  },
  {
   "cell_type": "markdown",
   "metadata": {},
   "source": [
    "This query mask is to emphasize that Arlington Heights had only two requests, the least amount out of all the neighborhoods in the dataset "
   ]
  },
  {
   "cell_type": "markdown",
   "metadata": {},
   "source": [
    "# Conclusion"
   ]
  },
  {
   "cell_type": "markdown",
   "metadata": {},
   "source": [
    "As shown in the plot above, Arlington Heights has the least amount of 311 calls throughout the Pittsburgh neighborhoods. This is considered the \"best\" neighborhood since \"best\" is in terms of safety. Since a low amount of 311 calls/reports = quiet and quiet = safe. Since our group decided to do a ranking system 1-5 to find the safest neighborhood overall, with 5 the being safest, my rankings are as follows:\n",
    "\n",
    "5: Arlington Heights\n",
    "4: Mount Oliver Borough\n",
    "3: Chartiers City\n",
    "2: Northview Heights\n",
    "1: Ridgemont"
   ]
  },
  {
   "cell_type": "code",
   "execution_count": null,
   "metadata": {},
   "outputs": [],
   "source": []
  }
 ],
 "metadata": {
  "kernelspec": {
   "display_name": "Python 3",
   "language": "python",
   "name": "python3"
  },
  "language_info": {
   "codemirror_mode": {
    "name": "ipython",
    "version": 3
   },
   "file_extension": ".py",
   "mimetype": "text/x-python",
   "name": "python",
   "nbconvert_exporter": "python",
   "pygments_lexer": "ipython3",
   "version": "3.8.3"
  }
 },
 "nbformat": 4,
 "nbformat_minor": 4
}
{
 "cells": [
  {
   "cell_type": "markdown",
   "metadata": {},
   "source": [
    "# Introduction\n",
    "\n",
    "### Choosing this metric\n",
    "\n",
    "For my metric, I chose to the best neighborhood based on how many COVID-19 cases that neighborhood has recorded in the past month. In other words, the \"best\" neighborhood would have the least number of COVID-19 cases.\n",
    "\n",
    "The particular dataset I imported updated its COVID cases monthly, so I made sure to keep up to date with the correct data.\n",
    "\n",
    "I think this metric is very insightful as to the safety of each neighborhood/municipality throughout Pittsburgh because it is relevant to all of us today, since the COVID outbreak occured relatively recently. In addition, many people who are looking for homes think of safety as their number one priority, so residing in a neighborhood that is relatively safe is important to many homeowners and people.\n",
    "\n",
    "When searching through the datasets, I wanted to find a dataset that was relevant and pertained to many, if not all of us today. So, I actively searched for a dataset related to COVID-19 cases in the Pittsburgh Area. Eventually I came across a dataset that satisfied me, but there was one immediate issue upon opening it. Instead of by sectioning the different areas of Pittsburgh off by neighborhood, this dataset recorded COVID cases across the state of Pennsylvania by county. Although this information could be useful, it was not the dataset I was looking for. So, I found the next COVID-related dataset available on WPRDC, and found one that was more helpful. Now, this dataset sectioned the different areas of Pittsburgh off by neighborhoods, AND municipalities. Naturally, I consulted Google to see what the difference between neighborhood and municipality was. No matter how much I searched, I struggled to find the difference. So, I conducted my analysis with the assumption that neighborhood and municipalities were similar enough to the extent where I could utilize both."
   ]
  },
  {
   "cell_type": "markdown",
   "metadata": {},
   "source": [
    "## Importation"
   ]
  },
  {
   "cell_type": "code",
   "execution_count": 3,
   "metadata": {},
   "outputs": [
    {
     "data": {
      "text/plain": [
       "199     4\n",
       "91      5\n",
       "195     6\n",
       "41     10\n",
       "5      16\n",
       "185    21\n",
       "175    22\n",
       "163    25\n",
       "68     25\n",
       "208    28\n",
       "Name: cases, dtype: int64"
      ]
     },
     "execution_count": 3,
     "metadata": {},
     "output_type": "execute_result"
    }
   ],
   "source": [
    "import pandas as pd\n",
    "import numpy as np\n",
    "%matplotlib inline\n",
    "import matplotlib.pyplot as plt\n",
    "import geopandas as gp\n",
    "#initializing pandas, numpy, matplotlib, and geopandas\n",
    "\n",
    "\n",
    "#Doing best neighborhoods based on least number of Covid cases by neighborhood\n",
    "#fewest cases\n",
    "\n",
    "\n",
    "cases = pd.read_csv(\"covid-19.csv\")\n",
    "sorted_cases = cases[\"cases\"].sort_values(ascending = True)\n",
    "\n",
    "TopCases = sorted_cases.iloc[:10]\n",
    "topcase = []\n",
    "topcase.append(TopCases)\n",
    "\n",
    "TopCases"
   ]
  },
  {
   "cell_type": "markdown",
   "metadata": {},
   "source": [
    "\n",
    "The first column of numbers correlate with the order in which the neighborhood/municipalities are presented on the csv file. The second column indicates the number of cases associated with each neighborhood/municipality within the dataset. The output above showcases the 10 neighborhoods/municipalities with the least number of COVID cases."
   ]
  },
  {
   "cell_type": "code",
   "execution_count": 6,
   "metadata": {},
   "outputs": [
    {
     "data": {
      "text/plain": [
       "190    0\n",
       "68     0\n",
       "154    0\n",
       "26     0\n",
       "62     0\n",
       "      ..\n",
       "31     3\n",
       "192    3\n",
       "60     3\n",
       "54     3\n",
       "52     3\n",
       "Name: deaths, Length: 100, dtype: int64"
      ]
     },
     "execution_count": 6,
     "metadata": {},
     "output_type": "execute_result"
    }
   ],
   "source": [
    "#Doing best neighborhoods based on least number of COVID related deaths by neighborhood\n",
    "#fewest deaths\n",
    "sorted_deaths = cases[\"deaths\"].sort_values(ascending = True)\n",
    "\n",
    "Top_Ten_Deaths = sorted_deaths.iloc[:10]\n",
    "Top_Hundred_Deaths = sorted_deaths.iloc[:100]\n",
    "topDeath = []\n",
    "topDeath.append(Top_Hundred_Deaths)\n",
    "\n",
    "Top_Hundred_Deaths"
   ]
  },
  {
   "cell_type": "markdown",
   "metadata": {},
   "source": [
    "\n",
    "We will see later that safest neighborhood by deaths is not a great metric."
   ]
  },
  {
   "cell_type": "markdown",
   "metadata": {},
   "source": [
    "## Average Number of Cases per Neighborhood/Municipality"
   ]
  },
  {
   "cell_type": "code",
   "execution_count": 3,
   "metadata": {},
   "outputs": [
    {
     "name": "stdout",
     "output_type": "stream",
     "text": [
      "622.7692307692307\n"
     ]
    }
   ],
   "source": [
    "#Average Cases per Neighborhoods across Pittsburgh\n",
    "total_cases = cases[\"cases\"].sum()\n",
    "avg_cases = total_cases/cases[\"neighborhood_municipality\"].count()\n",
    "print(avg_cases)"
   ]
  },
  {
   "cell_type": "markdown",
   "metadata": {},
   "source": [
    "# Graphics"
   ]
  },
  {
   "cell_type": "code",
   "execution_count": 32,
   "metadata": {},
   "outputs": [
    {
     "data": {
      "text/plain": [
       "<matplotlib.axes._subplots.AxesSubplot at 0x7fcf47465a00>"
      ]
     },
     "execution_count": 32,
     "metadata": {},
     "output_type": "execute_result"
    },
    {
     "data": {
      "image/png": "iVBORw0KGgoAAAANSUhEUgAAAX0AAAD4CAYAAAAAczaOAAAABHNCSVQICAgIfAhkiAAAAAlwSFlzAAALEgAACxIB0t1+/AAAADh0RVh0U29mdHdhcmUAbWF0cGxvdGxpYiB2ZXJzaW9uMy4yLjIsIGh0dHA6Ly9tYXRwbG90bGliLm9yZy+WH4yJAAAgAElEQVR4nOy9ebwkR3kleiKztlt11759e291a+nWDgiEEDtICDAGw/AwY54NDMYPG2MPHjzDM+OxGRtjvLzxAh6YwcAYY2yBwWbHGFoIyWIR2pfuFt1qqffuuy9169aSmfH+iPwiI7MyqzKz6tYtdcX5/frXt/asrMgvTpzvfF8wzjk0NDQ0NAYDxkYfgIaGhoZG76CDvoaGhsYAQQd9DQ0NjQGCDvoaGhoaAwQd9DU0NDQGCJmNPoBW2Lx5M9+7d+9GH4aGhobGUwr33nvvLOd8Kuyxvg76e/fuxT333LPRh6GhoaHxlAJj7HjUY1re0dDQ0Bgg6KCvoaGhMUDQQV9DQ0NjgKCDvoaGhsYAQQd9DQ0NjQGCDvoaGhoaAwQd9DU0NDQGCDroa2gMGA4cOo9zS9WNPgyNDYIO+hoaA4Zf+bt78Q93n9jow9DYIOigr6ExQOCco2FzWI6z0YeisUHQQV9DY4BAG+U5esO8gYUO+hoaAwTHjfqO3iZ1YKGDvobGAEEyfB3zBxY66GtoDBA009fQQV9DY4CgNX0NHfQ1NAYImulr6KCvoTFAoGCvY/7gQgd9DY0BAsk6XEf9gYUO+hoaAwQu5Z0NPhCNDYMO+hoaAwRHJnJ11B9U6KCvoTFAcDTTH3jooK+hMUDwErk66g8qdNDX0BggcC3vDDx00NfQGCBoy6aGDvoaGgMER1fkDjx00NfQGCA4jtb0Bx066GtoDBC0pq+hg76GxgBBWzY1dNDX0Bgg6IZrGjroa2gMEGTvnY09DI0NROygzxgzGWP3M8a+5t6+mDH2I8bYUcbY5xhjOff+vHv7qPv4XuU93ufe/xhj7BXd/jIaGhqtwXVx1sAjCdN/N4BDyu0/BvDnnPPLACwAeLt7/9sBLLj3/7n7PDDGrgLwcwCuBvBKAB9ljJmdHb6GhkYSUKh3nA09DI0NRKygzxjbBeCnAXzCvc0A3ATgC+5TPg3gde7fr3Vvw338Zvf5rwVwK+e8xjl/AsBRADd040toaGjEg9b0NeIy/b8A8F4AxA8mASxyzi339ikAO92/dwI4CQDu40vu8+X9Ia/R0NDoAYjha/fO4KJt0GeMvRrANOf83h4cDxhj72CM3cMYu2dmZqYXH6mhMTDwGL6O+oOKOEz/+QB+hjH2JIBbIWSdvwQwzhjLuM/ZBeC0+/dpALsBwH18DMCcen/IayQ45x/nnF/POb9+amoq8RfS0NCIht4YXaNt0Oecv49zvotzvhciEXsb5/znAXwXwBvcp70VwJfdv7/i3ob7+G1cWAW+AuDnXHfPxQD2Abi7a99EQ0OjLbSmr5Fp/5RI/L8AbmWM/QGA+wF80r3/kwA+wxg7CmAeYqIA5/xRxtjnARwEYAF4F+fc7uDzNTQ0EkJX5GokCvqc89sB3O7+fQwh7hvOeRXAz0a8/oMAPpj0IDU0NLoDvTG6hq7I1dAYIHAt7ww8dNDX0BggeEx/Y49DY+Ogg76GxgBBJ3I1dNDX0Bgg6ESuhg76GhoDBK4TuQMPHfQ1NAYImulr6KDfAeqWblWo8dSCtzG6jvqDCh30U+LhU0u4+v3/grNLaxt9KBoaseHIfvobfCAaGwYd9FPi9OIaGjbHzEptow9FQyM29CYqGjropwTX2qjGUxC6tbKGDvopobVRjacitE9fQwf9lJAXj6ZMGk8heGRlY49DY+Ogg35KaOubRieYX63jS/c3bSex7tCavoYO+imhl8kaneDrD53Bb3zuAUwvV3v6ub3qvfN3PzyO2bI2OfQjdNBPCS8hpoO+RnLUbTFuZnocGHtBVmbLNfy3Lz2Cbz5ybt0+QyM9dNBPCU/T3+AD0XhKgnJBc+V6bz+3B0GfihZtW18c/Qgd9FNCyzsanYDGzdxqb5k+74G8Y9k639XP0EE/JbRlU6MT2PzCZfqWu/zV10Z/Qgf9lNBMX6MT0LCZ7XnQdz9/HT/DcvS10c/QQT8lJNPXsqVGCthS07/wErkNm5j+un2ERgfQQT8lHM1mNDqAp+n3lunzHhgQPE1fXxv9CB30U0IXZ2l0AmfDmL74fz2Ls6S8oy+OvoQO+imhE7kancDZME1//cmKpeWdvoYO+inBdSJXowPYimWzly0RekFWdCK3v6GDfkpoeUejE9D4qTYcVOp2zz5X9t5Zx8/Q8k5/Qwf9lKBiQz2wNdJAHTe99OrT566rpq/lnb6GDvopoX36Gp1A7VAw28Oq3F60Vm5o905fQwf9lNA7Z2l0AjUg9pTp94CsUA2CrYN+X0IH/ZTwirP0wNZIDjXozveQ6fOY47ZhO/jyA6dTyUDUhkHH/P6EDvopYWuHgkYHcDhHISsuv4VKo6efC7RP5P7bkVm8+9YHcOjsSuLPkPKOJkR9CR30U0LLOxqdwHaAnGm4f/festmOq9Qs4Siqp2iPbLtMX8s7/Qkd9FNCF2dpdALOObJu0O8lI46r6ZPtMs2ERExfXxr9CR30U0K7dzQ6ge14Qb+XjDhuUWEn8qVn2dTXRj9i4IN+w3bw2//8MM4urSV6HV2oWrfUSAOHA6bBxN8bIO+0+0hqmpaG6XeyStBYfwx80D85X8Fnf3QCP3h8LtHreMyLR0MjDA7nMAzAYL0dQzKRG5fpdxD09bXRn2gb9BljBcbY3YyxBxljjzLGfs+9/2LG2I8YY0cZY59jjOXc+/Pu7aPu43uV93qfe/9jjLFXrNeXSgI7JSvRrZU1OoHDOUzGYBqsx/KO//8oWB147Une6WVPIY34iMP0awBu4pw/HcAzALySMXYjgD8G8Oec88sALAB4u/v8twNYcO//c/d5YIxdBeDnAFwN4JUAPsoYM7v5ZdLATqnN60SuRiewHQ7DYDAYg+NwnFuq4g0f+z7m17m/fnxN35HHmRSNDqQhjfVH26DPBcruzaz7jwO4CcAX3Ps/DeB17t+vdW/Dffxmxhhz77+Vc17jnD8B4CiAG7ryLTqAx/STvU43XNPoBA7nMIjpOxyHzi3jnuMLeHym3P7FHX2u//8oENNPw2nsmPIO5xzlmpX8AzQ6QixNnzFmMsYeADAN4NsAHgewyDmnX+wUgJ3u3zsBnAQA9/ElAJPq/SGvUT/rHYyxexhj98zMzCT/RglBOwglXcZq945GJ3AcCHmHCXnH6VHyUx2vreSXtLInADScePLOdw5N44YPfgcr1d4Vp2nEDPqcc5tz/gwAuyDY+RXrdUCc849zzq/nnF8/NTW1Xh8jkdaF42j3jkYHsDkHY4BhCHmnk8RpEqhv3+qjOtP047323NIaKnUbK1XN9nuJRO4dzvkigO8CeC6AccZYxn1oF4DT7t+nAewGAPfxMQBz6v0hr9kwpE7kaveORgfgnMM0mHTvEIlY76Suyr5brVI7mYTiyjta+98YxHHvTDHGxt2/hwDcAuAQRPB/g/u0twL4svv3V9zbcB+/jYuR9hUAP+e6ey4GsA/A3d36ImmRtghFu3c0OoHtKJo+5zKn1Ft5J/p5cdl6GBoxi7N0/6qNQab9U7AdwKddp40B4POc868xxg4CuJUx9gcA7gfwSff5nwTwGcbYUQDzEI4dcM4fZYx9HsBBABaAd3HOe7dlUATSM30t72ikh8Phc++kdZGl+Vzv71ZMP717x4rZcE0XcW0M2gZ9zvlDAK4Luf8YQtw3nPMqgJ+NeK8PAvhg8sNcP6RdVmt5R6MTCPcOpHvHS+Su/+cSWjL9Dtw7cffIpYlFM/3eYuArcu2Ug1u7dzQ6ARVnGYzkHQr66xv1eWymn56FW0687RKtHk10Gn7ooM/TDW7JzHTQ1wjB0ekVHD63HPm4LM4yRCD2xuH6Hpca6FsF/W64d9rJO51MLBrpMfBBP60/Om5fco3BxB9+4zB+90uPRj7ucNF3x2QBeWfdNX1F3mnxvM5678STbeLKQBrdxcAH/bQDTydyNVphrW6jakX7FBzHtWySe6dH40l9e95iVWF1sBGKZPptXqqZ/sZg4IN+Wqavu2xqtIKq00c9brgVuY7Tu4rcXvj0GzGJFFk7tUTaWwx80JdaasKBpz3GGq1gO7wlIRDyjtd7x+6VvKOw+5aafky2Hoa4rpxeVSFr+KGDfsqBp907Gq2g6vRhcBxh2TQYg8MBm3v3ryf8idzo53XUe0cmcls/T/v0NwYDH/SdlK4J3VpZoxUcRaePetx03TsO72Ui1/u7VUO0TpKsVkzZxu6g6lcjPQY+6FOwTzq4ecrJQmMwYNmtmb7tcDDqsun0LpGrBvo47p1Otkts12VTTiz6GuopdNBPWW4ed9s5jcFEO6bPubBrGgYTz92A1sqtffq9cO/oRO5GQAf9lP30pQarB6xGCCwnhnvHCPPpr+9xxW2t3A2ffrsJzOrgMzTSQwf9lIzd23au64ekcQFAtWGGPu5aNg2jt/KOj+m3+KxOWiQQ028r7wxAa+WltQZmy7WNPgwfBj7op6/I1SxFIxp2G3lHFmcxIfXQOLLWeTyph9QqJndiSfaSwPGe16/yTrlm4UPfOIRaiyK7dvjA1w7iV//uvi4eVecY+KCfeo/clAlgjcGAZfOWY8rn0+e9bK2sJnLj+PQ7cO+07b3j+vn7lDj9+Il5/O87juGR09E9lNphsVLHQmV9N7tPioEP+mn99raWdzRawOG8bcWrQV02nY3ZRKWlpp+yESEQvyK335l+3M1gWqFdbmcjMPBBP22BiLRs9umA1dhY2IGL/fxyFfedWJC31X766gSx/kFf/bv1pASkG99x25X3e+8dOi6rg+y6mq/pFwx80E87uL0um/31g2r0B4IVuR+/4xh++TP3yttUnCV9+j1q6+Hz6ccpzkpVkRvPitnvXTa7cXy2wzuaNNYDAx/0nZSD20vkdv2QNC4ABBO5lbqNat1LCNoOwBgDozYMPfPph/8dhFe/kvwz4uYD0ubTeoVu/CaiB5MO+n0FvYmKxnrAtv3yjmU7vrHCOYdpAKbh2jt7JBfGLs7qIJEbV97pd59+N7qA2g5fd0dWUgx80HdSLuG0vKPRCnYgkRu8+GVrZcO/XWJP++mvk2WzEbc4q89bK0um34mm36bF9kZg4IN+aqav3TsaLRBM5DYCtx3FveNj+ussdSTtp5/0urAdruw1EVfe6c+LqBvuouA46AfooC/bMCR7nRNzYGsMJqifvteYz3EDokcWTCOE6ffSp9/io9ImMS0lyRVb3unTa6gbqy/L1kG/70AJq6QyTa92OtJ4aiJYx9EINCGTlk1GDdfc1623vBNzE5W0LFx1qrQvzurva6gbTN/R8k7/Ie3F5nXZ7PYRaTzV4SgSRzCwqf8bhuvecbBBidzo51kp3Ttq0G9fnJWuw22vELeyuOV7aHmn/5C2KEbvnKURBTtEN28EAgjn1IbBr/t2kjSMA3W4xtojN+H4bihLiXaXlN2BQ6gX6MbOXo4uzuo/pB3cQSanoUFQx0QTw1cYvRnSe6eXTH89NH36nlRp3AqddPLsBbohPxHT7yeXnw76KZm+reUdjQj4gr47QGQbYaWdsNwjV6ne7WVr5VaByE7Z9phWNDnTiL8xep9eRFET359+6zD++F8Ox3oP7zt299g6QWajD2CjkXbzCi3vaETBJ+9Q/xZllygKtkaIe6cXe+RmDAbLdRdFIbV7x72Qchmj7QQWlLz6DaTpB4urfvzEQuzzYiu/v2mY3T3AlBh4pp+2KlC3VtaIgjqWvIveu/jpvnCf/npr+qLnD7BO7h1HCfrtNP0+d+9EWTYtx4ldZettjtPdY+sEAx/001ovvS6bXT8kjac4gpW3gNLWwPGW+mITFX/vnfX36SNW0E/t3nHiyzv97tOPSuQmKbhSmX6/YODlnbSbV6TdZlHjwofKDOlap4vechw51nzunR4ZAxyF6UftoeIo0k9aeSefia/p9zvTDxK7ht1q+5nw9+ijmK+DftqBpytyNaKgMn0aH5Zy8XtBX+j6Nlc2Rl/n4ECaPv0dhjDLaVz45J0W34Vz3pXip/WE3EQlhOnHDfua6fch0iZkvfL6rh+SxlMcYZZNYsCqpk/99B2nt/30TcNo+Vlhxx8XlPzMtWH66tv2a5fNYD6GYDlOYqbfTxPbwAf9tJYqer6WdzSCCGtfrAZ1GjvM9en3ducsrjD98M8KW6nEBbWbaKfpq8y3X4lTVM6B+irFQT9KWG0TuYyx3Yyx7zLGDjLGHmWMvdu9fxNj7NuMsSPu/xPu/Ywx9mHG2FHG2EOMsWcq7/VW9/lHGGNvXb+vFR+ddBMEtLyj0QwrhCk3FPsfMVuTQW6i0isLMFcSuVEfZSfon9P02oB7h3OOuXKt6XlJ2jVsFKJiQ5LWCp3sNbxeiOPesQD8Juf8KgA3AngXY+wqAL8F4ADnfB+AA+5tAPgpAPvcf+8A8DFATBIA3g/gOQBuAPB+mig2Euk1/f77MTX6A04IU1ZlHgoEhivvAB5D7mUiN5rpK60UErJwasOQz4jQcvcT87jhDw/g9OJa4DPSTyy9Qiv3ThyNnqv1FxHfcWG1jk/ceaynikHboM85P8s5v8/9ewXAIQA7AbwWwKfdp30awOvcv18L4G+5wA8BjDPGtgN4BYBvc87nOecLAL4N4JVd/TYpQIQjbRuGPiUpGhsIf0AT/8ukoCLlkHtHfXy9d1niSiI3kumHWE7jQi3OAoBzy1XYTjPb7+QzeoWohmtxmb76lKjnf/vgefzB1w/h1MJa6OPrgUQ+fcbYXgDXAfgRgK2c87PuQ+cAbHX/3gngpPKyU+59UfcHP+MdjLF7GGP3zMzMJDm8VEjr09cVuRpRaNV7R8g74jGDMRgGMf1wp0i3EY/pp5deqFV51p3Napa43bCDgVNdTfTnNRTlLhJMv/0x+/MW4c+vWmLf5HoPExuxgz5jbBjAFwH8Bud8WX2Mi7VJV345zvnHOefXc86vn5qa6sZbtkRabV7vnLWx+OjtR/G1h85s9GGEIiyR21CqO+k+00CzvNPT4qzw5wR3+EqChvTpm+7tcLYc5RBaUzaP32hEVuTaji8nEQVVAYqaJGoNmhT7LOgzxrIQAf+znPN/cu8+78o2cP+fdu8/DWC38vJd7n1R928o0m+MjlSv0+gOPvfjk/jGw2fbP3EDEKZXq0w/2IYBAOpW75h+xiR5pz3TTyzvOJ5lEwAa7veyAkHNt9mK+xlHp1dwzX//Fo5OryT6zPVCp5p+HKZfc5l+w+ojTZ8xxgB8EsAhzvmfKQ99BQA5cN4K4MvK/W9xXTw3AlhyZaBvAXg5Y2zCTeC+3L1vQ9FpIldbNjcGDctpkgz6BU4gaKoJPXWDFVXeURuyrSc491YX0Uw/vZ1SavruxEKyRaMF06fzdWZR6P9nl6rJPnSdENVwLbamr5y76KAvntRLeSeOT//5AN4M4GHG2APuff8VwB8B+Dxj7O0AjgN4o/vYNwC8CsBRABUAbwMAzvk8Y+wDAH7sPu/3OefzXfkWHSC9T1/LOxuJus2b2GO/IBjQ1KBhOZ57RxRnifs99876HltiTT9pcZb7/HyW5B1yLTmhzwM8M0Wvktlx0cqnH2dy9jH9iOfXrd7LO22DPuf83wCwiIdvDnk+B/CuiPf6FIBPJTnA9Ub6nbPE//3qPLjQ0bD7l+kH9eqglEFjjjFPX2/0Ut5xK3KjPomON+O2iEgCS+mnDyRL5Mqg3ye/a5gKoLaPcBwuV2qhr+f+cRAGyfStPtP0L2SkSeQ6gUGg0XtYttNTdpQEvoud+/Vf21aKswxP3qHlfS8TuVFj11dglTKRKzV9yd5baPruZ9QjVgUbhTCmr56ORhtdP047C6np91si90JGqqAfMQg0eoeGHc82txHwyyPNSUt6WE3k9sqyyZVEbmTvHa4E/cSWzUDQt8LZe5hPn54b1P83CmE+/TjJ2bDHI4N+v7p3LmSkkXfUp2qffu/BOUe9j5l+MJEbdPOo7p1gUrWnls2I0ycDt2kkPh5ivyTvyERuC02/Wd7pj981rOGafwLoQtC3KZHbR+6dCx3eEi6+VOPE0OoGAbbD8Z2D53sucVkySPTnuW9O5PrZYbC1ctRr1wMO58pEE5HI9W15mOz9gxW5pFUHA2Qo0+8zTT9sVz3fBNDmOBMxfa3p9w7+PikxX6NcLINM9H94bA6/9Lf34NEzy+2f3EX0GyMMomUi11ec5bVhIKx7Itfx3DtRn6RKNKm3Swww/Wb3TrNMQmy3nVbeK4RtoqIG+q4wfa3p9x5xMuxBaHlHYLVm+f7vFaiQpV/lneZErj9QhBVnqY+vJzhHjOIsT6JJ497JqAnqGEzf6Vum35xnSdIoTj13kRW5G2DZHPigr5KKuAGcnpcx2EDLOxsls3g6cX+e+yZ5R7mg1a0IDYN5WxfS4+uu6aubqIQ/h44/ayZ371iOSBQbsv4gPJCrKwLZfnoDAmArqBvfENTftt1xxmkfXbe0pt9zpNkliLu/tWmwgZZ3aND3ejkeZQPsFwT16iDTl/JOCNNff00fsTdRSePesWxRB2AEegoFx0hY3qBfi7PU2J7WvdOO6Wuffg8RXIoneU22ze5AFzrkBd3DAQsoDKxL7Gh6pYp/eaR7fXzaFmdJeQcbEPS5/Mx2TF9l4XFhOY5g+kF5p8my6fXdp0Dabz79MDt3IveOau3Wmn7/wJfIja3pu/KOmbxi8UJCVG+S9UZd2ty6c6H84z2n8M7P3te1Do9BvdpfnOX4N1Fpknfav//MSg0v/JPb8PhMOfGx+fvpx2H6yd6/IZm+uB2dyBVvnM8YTW0Y+kW2C/fpJ9D04zB97dPvPdLs4KNq+pwPblUuFdH0WoPtdsKv2rDBObBcbXTl/fzmgOY+M2rDtaB7J84YPDG/ipPzazg6nTzoO5zDlInc8OfYSqfM5NsluoncQNFZVMM1teq332S7sC6bls+9E78iN5rp977h2sAHfcfhyJqtl7tB0MXSbq/RCx3WBjGzbgcHuuBWuhT0g6tHv2XTkcHANELknRiDiQJFLYWsFmtjdEVvT7NzlkjkBuWdaE3fDgZ9m+Ouo7N459/du6GEKjToK2OuHemIw/Tr/dha+UKHzbn0FMfV5+nHzBjJXnehYaP88qoM0I2gQBfccrU71tNgP3p/8s8bLywkkRtHYuwk+efw+Juo5FO4dxoOR9ZU5J2Ihms+pu+ej7q04nL86Il5fPORcz1lwEF4Pv2Umn5IAVoQ2rK5AbAdjqxbPZhU3qEVwqDq+jKR2+MLs27Fv/BivZ8t2NZKl4J+UyLXd9vxuXdUTZ+xeGOpnjLoc0WWVG8HQcebTeHTtx1HNJILyDtNDdfCLJvKczda3w/ugUBIq+nbIdcI51wH/Y2Aw7nczzO2ZVPLOwC85e1GyTvqMXT0fu4k0i15p6kVr0/e8SyAweKsrGnEyhF5QT9Z4lmtDxC3wz9HZeFJc1YiketNZlHuHXWHrWAbhobNI3fc6hWiWHqU1NPuPcLIibqK0ZbNHsJ2kss7HtMfbHmHBv1GJXKB7iTAGlLT7xLTDwQJ/05UHtM3DPiYfj4m+ain1PTVFYa47T32wMlF/Mat9/s2faH+OUkWU5btIGsaYNK9I17ctPuU1PTN0IZrG12AF9lkLaQldJz3CIsRaqCv2w4+fOAI3vCx76c63iQY6KDP3Ta3UqaJObq9RFyy111oaERc0Ov/uSrT7zzo19YxkWtzf+BSffrB3jtSZmzH9MmymjLoZ0JWqHcdncWXHjiDlZrlc+8Ayca3V5EbkHcCv5PMGyhMX50gNtrJExX0k2j6aqAPe646aTdsB4/PlPHk3Gqq402CgQ76ark5kITpi/8zZnImdCHBW46nvzBvvfsE/vI7RxJ+bnc1fZISusX0g22Dg4FCyixN8k48ElFPafPzZMnm8e45guympmlJVrJWhLwTtGz6agGoIlfRt2VSt4euFhV2BKNP4t5pt+2kP+hzrNXtVI6spBjsoK9sFgH4y61bIW5C7EKH1YWg/+2D5/HVh84kek2jy1pot+WdYD999Xgdx9tfNUzTBxIE/bRMP6ThGlWG1i1HBrx0TN9BxvDknWim71bkhiVyba5sqL5RTF/5zSI0fbvNsUUlgAm1hpeTadgO1hp2T6TSgQ769JslTeRKpt/G+tYO3zl4Hl9+4HS6F/cBiL11kkytWskHuk/e6Yp7R7xft4qzojZNoce4DPp+TV8y6zang443uaYv/g+zbFJlaN1yfNWyQDJ3WiPg07cixojK9Jv66TtO5I5bvUKwX1K7v2fLNbzyL+7AiblK6ONhTD+YyK027J7kMAY66Hs9dFq7GZpeRz79hLmAIP7m+0/if3/vWKrX9gOIvXWSTK01nMS9e9SOhN3Q9D33TvcSud7uVNwnbaiTgGptBBTy0WYcpi3Oak7kNss7dVsUj6nHxhN8jO345R1CWEUuTXoUEOuKGyxqx61eISpgR+n7T86u4vC5FTx2fiX0deFM36/przXsJpKwHhjsoB/Q9JO3YRCvSyvvrNSsvmkjmwbdaHxWs5zEk0YjoIV2ivWoyM0pAZw82gaDu4kK3Nv+4JjNJNT0k/r0ySoaksgleafWEExfBH3I7xAXDdtBRinOIoT13skYBkyDhTP9DQ76diD5TvAxfeU5YZNUsEgvCJpocxlDavrB91gP6KCP5IlcelrS9g1BlKuNp3TQ7wYbq1l24uClfl43zl99HRK5cvNxxQKZz5gi6Lu3jaB7J+Y4TJvI9W3TyIKavsr0HR9bT+reyZoMLLg5TFDesb0irqCm37B55OYrvQJp+lmT+eQ2VcdXdf+wQkWfdTeEnNBEO5LPuPJO5yvnONBBH2ncO97yHBA/bqVu4T/8n7vxxGx8y1W5ZvVNR8E06EZxVs1yEr/ez6b6M5FrukFT7aefzxq+7RINBl9wjLvi9Fh50uIsfwK5laZvKrtftbsubIfj8z8+CUtKQ4aUkAhN/YvaXBQAACAASURBVPQVGUj69JWCrH6Rd/IZM9Kxo05IYasvO2ICCL5mpJCR8k7wPdYDAx30aTDnE7p3gvKO43A8MbuK2x+bwf0nFmJ/frlqbWhvkU5BF0MngbfWSC7vqJp+teHg3bfej4Md7NPb6LK8Y3Ox+bjJmOiy6b5/3m0uZivauhoccyFB//C55abvlp7pi/+pj79f07fl/1KXZ/GY/n0nFvDeLz6Eu5+YR8N2kDVCtoEM6b2TMZlP3gn16W9UItfXEM67P0rTD2sbYSvnO+wc0upquJBB3Xa0vNMLeEw/2TK22fomAjgQf5a2HY7VenJpo5/Qjd47FGSSSAjq551dquLLD5zBD47NpT4GVd7phv1WJkIN6qevyDs8KO80+/TVYPzBrx/C7331Uf/xpizOou/GGANYwL2jMFXLZetGTHmH9khea9iyyyYLavohPn3T3WEruHOWaMPQ+djqBGrxWFSRlTohNeRv4q2+2rWopom2lBPyjmb6PUDHxVmGl6wruwM/7iBdrSd7fj/Ca8PQmbwj3iP+eVCTgmWXnXdyHlWGWW10/ntQ0DddvdqyhVMla7Lm4iyjtbyzWrNQCWzukt6nr3xuhKZfc336puG5fNpdFtUmachocu80+fRlEZcnfdRD5Z2N1fSDATvq77BuovSVo3YgI0ltpJCR8UO8hw766wbZQydpl02ybCqaJ/1orWx0dx6ZweFzYqlOK4OnctDvBhtLs4mEemGtJFxhhb+fI1l2NyQey+EyoFOXTXKqqBW6QXknm2kmH3XbaTq/nfbeIXlHHe2UH6i5gTujBO72FlJbHqvliHPZJO+EMn1vYgT8e+R6idw+YPoxfPo0JtVx7DF9s7W8k8/4Jvb6OlchD3TQD5abx7WmySIXpbJRBp8Wwet3vvQI/uq2owCgrAy60xN+I0DJubS6KyX+gGT77KrneKXWedCvWw42lXIAutNT31H0aodzWLbj3jZ8G6MzAz5ro9dwzX9swe/Wae8dmciNSERSe2SK220TyyrTD2yXSAhOXHZgL121BXVDmeg2StNvKJp+sDU2QV291EP2uqU/8xHyDp3z4ULGf79m+usHGvRZxV4X63W0QlAqG0nXbNUrZK1hy8lBXc49VZO5Vgi7SQKVqSZi+srrVrog7zRsB5tKed/7dQKbQ0nkco/VGmKMqUVSYfJO0AoYZPTB1VHdcnDT/7gdBw6db3lcxC0YE/9aafqqZbOd7FmVAY97TL9J3olm+oDYslJ9brf3QU4Kj+mb0T79EKbfCGH6UXtpS00/7w/6Wt5ZRzT33kmayPVeR0GcNuQIQ91y5PPKVVXDe4oy/Yi+KnHhaziVYEnbsB3JJGkSTduoinz0ky7T74ZtU24kQkzfEe2GPaYvnmc0yTtEPrz3qocUrwU1/ZVqA8dmVn3VoGFotmw2a/p1W7R+VgNyfKYvErnBSmMgZBMVV9OnycEX9DtowzCzUsOTCWzTUZCafmD3sKhGbGE5CJt7k2dUl03GRCJXRdIK9aQY7KAvtfm0iVyPCcXRlmuWI4O9L3HzFHXwyL4qKQtoaorTodVkGUTD5ii6F8pKh7kRulgnh7sZ9P16tXdbjBUad4aB8ERuIBg3yTsBTV/24mmThJaTjSGYfljDtVpD1E2oPv12QZ8CttD0eWhFbpDYBBO+1UCVtde2O9nv+kffPIx3fva+RK8Jg2T6WSOU6edMI8D0myU3y+HCoRWQ0gg1y0E+Y0jSKe/XTH/9QOMp6WYRweIszv0afRRqkUxfHMhipY5DZ9P7zXuNsIGeBGqQSpK8qtsOhnImAE+OSXsM9B02SabfBXnHTeSahvDpN2yOrMGQMQxYttpwzW/ZDPPp10Mqlr2Ga36LX7vVTsviLDmB2Kg2bBSyZmiPnjCQvLNWF+8R7tNv1vSzZrO8U8gaorVyyrE1vVLFUqWe6DVhkJq+u5sZBW2awDMm8+n7nnvHu89xWjP9uuUgnzHlZC8/WzP99UOw4Vpi945yka62ce9Q0pKCykqIpv+R247iDR/7/oZtEZcUsvdOaqavsrsk7h0HJTfoe7Ja2qAvjn1sKAvALzOkBRUekU/fJvbr2hPpUJvcOyHWYbX5GCEq2LcLkKpP32AAd/07nHOfZLRWtzGUNdtuoC6Px528Kw3xW5ghmn5YP30zRN4p5jIBqSfZ2FruUsGjumUk4MUKNd+hErwopm8ymiDCNf18xkDO9J+rDU/kMsY+xRibZow9oty3iTH2bcbYEff/Cfd+xhj7MGPsKGPsIcbYM5XXvNV9/hHG2FvX5+skQ6c+/awi75TbuEjohyzXRAGQyvTpNcdmylit24laOWwkOm2K5Zd34r+HZXMMdUveUWxz4pi6EDC4p9fbbnVpxmX6ahsGSqgSwnz61PUyzBNetx1fwK612TOXhje1f6C3VL9zzS0SKubM+PKOZPri/2yIeyds56yMK3kBntd/KGv6JpmkBGil2mgrc8UByUr5jCmPl45H/Jb+QB6WyHUcDtP021JV1BoOchmjmelvdNAH8DcAXhm477cAHOCc7wNwwL0NAD8FYJ/77x0APgaISQLA+wE8B8ANAN5PE8VGotMum6bScK1d8KGB6HDh4inXPBmBBsyphTUAwMGniMQT1Ss9LvyJ3GSWzaGs+M069enT7zVS6GLQdxuWGW6LAY/5U3EWl4E3rMvmXLmOu5+Y9wV7336q7t+ci9/Aa6EQU9MPFGfVAu+9VrcxlDNl4G4r77hje7UmjiNj+lcw5BQK+t2pPxHg1QkU3RUcga6NtbqNz//4ZFt78/Ka1RVNXNX0Ae8ceMft1/TDErnE9E0jiukLTb9Z3llfY0fboM85vwPAfODu1wL4tPv3pwG8Trn/b7nADwGMM8a2A3gFgG9zzuc55wsAvo3miaTnaFrCxQz6NPCySmvluEwfEHp+sAKPc96VoP+ezz2Abz16LvXrk6ChMM408Gn6CeUdSuTGKYprBfrcQtZExmBt2XIc2IEEnkiMGsgoxVkU7MJ67/zN95/AL3ziR6GBPvh3zXJi99cPFmeRJO1bcVkOKnXB9GO7d9zPXXPlnYzh77JZcNlycHOZjNLqgVYLzUFfvPdth6fx3i8+1NahtFxtoG45Hde+WIqmrx47SXWC6TeTFn9xltJ4LzLom7IoT97fB0w/DFs552fdv88B2Or+vRPASeV5p9z7ou5vAmPsHYyxexhj98zMzKQ8vHigiyDpXqBSk1WWv6tttGU1wK3ULJ9LpG47mC3XZe+NtM3DVmsW/un+07j9sfU9bwSvOKsL8k6CoN2wBUNSWXLaJTG9LmcayGeMrrRhcBz4GJ6tVKmSZZOCYph7Z65cR912sKKsBn27LNmOlKPU4q12XTcdRdNnym11bNYsB5W6hWIu43XZjOneoarSoHunkG2uP6DWyl4i15V3AkGfgi21LVlei3ZXVRu2T/rqBMHdw+gcENPPmCyC6ScJ+jby2WZNv+8TuVxMqV1bj3DOP845v55zfv3U1FS33jYUzfJOvNc5gQSww9s3XFMDXJDp1y0HJxfENmubh3OpHTy0UphfraV6fVJ0uolK1bdzUAKfvsWRddkWIa28Q6/LmgbyWbMrTN+ialNGPn03ULhM33G7cBJo8qJxSFXBQWIAQK4c1KAfl+l7mr5g4nTGg5p+teEI907MNgwy6JO8E2gkV8iKQK7+xuIzjNBErgoKonSMrdxV6naXncp0cg/fgApA0l2zpt8m6EdsopIzm+WdDU/kRuC8K9vA/X/avf80gN3K83a590Xdv6Focu8k7qevFGfV2zB9XxWphXLVkiuMhu3g5LwI+rdctRWz5TqmV6pJvw5OuO+xsNqdFsGtwJXukekrctP69B1kA1po2gI3yfQzgul3IwkoE7mG13At63rSLceB43AfE6a/aRxS8FpeU5h+gMFS6b6P6beZsHzyjqEwfeV1aw3hfinmTGm7bOvesfzunUxgExUK+uqKsGrZyGfM9kzfptWIOEaVLAWhrgI67VTp7YHgJnKbNH3m3zmL+lApejxtmxnU/wm1hsidkLxMv3+/Mv2vACAHzlsBfFm5/y2ui+dGAEuuDPQtAC9njE24CdyXu/dtKGQbhsASrh1obqDWysKRI+6LZvqKpl9roFyzpDe8YTuSpb/8qm0AgENnW2uXYaCJY74LPuV2oEHMWJcsmwl9+lmTyYsE6ITpe6u9fMboeiLX4YL5U6BwuAgGqqxDwZUu/rCdvIJB30s8K5JGokQuk2NW/c6LFTHRFHOKZbNtRW5A3gm4d4gtq+Ok5jJ9M8j0s+Gafi3knAShMv1Og77M95lBps+lE8vfLqNZVvJaTYSfw4prjSXyQqu39XbvZNo9gTH2DwBeAmAzY+wUhAvnjwB8njH2dgDHAbzRffo3ALwKwFEAFQBvAwDO+Txj7AMAfuw+7/c558HkcM/R1HAtZvDyKnn9zAxokcgNMP2VqoWJUg7nlquoWxynFirYPJzDZVuGAQDnlzth+usf9GlgDmVNVOq2YK9Bn14bqBp00kRuzjRknUTS16uoS6bPkM90R96xHbdXPvP66ReyTDJ9zuErXqLAlwss80ODfojFNGkilwU2UaHVTcZgMugPJUjkEkuXlk0zSt7xM/1C1oyRyPUz/ZZBf6178o7acA1QLJsROn2YT9+R7p1wpr/W8Af9Yi6D1bq97onctkGfc/6miIduDnkuB/CuiPf5FIBPJTq6dYbXcK05kfu/vvc47vjJDP7+/7mx+XWB3jvqYIu0bKqafs3Cat3C3s1F+ZqT82vYOVHEhMv+0wTuU25eYKFSTxWEk4AuCgr6DcdB3jDbvMqPoFUwyWdnTCbrJJK+3vdeFiVyTeSz3WH63sXuyTve1oCe1kug4BrUdlX9muQvdYs9cb8jOzy21/RJ3mG+hmtyr9ZCBktrHtOXXTZjtlYmpk+boxBkIten6furfj15xx+SiE3Td1OtzkEsh0ySaaFugAJ41fu220W0KZEbUpEbbLQXRLVho5Az5WRfyBrImcbGWzYvZAQ1fTXoHzq7jEcjXDRyY3Ri+u6FMupuexaGME2fOjtSInf3xBBKORNZk2GhklyXJ6bvcMiLd71A+ixpsGk09U4qcrOm4bO6pa/IdRO5Gdaxpn9yviL2inUcUZWqdNnMmGLfWMtxpE+fQJNz0LoXlpgMMn21IVt7Td/9vKB7R04kWamZD2UzseWdINMP7pwlNX03cnIuNqspZAy5MXyUT58mCpJ/yi2Y/orvfHW2Ygu6d4KafpxEriOf65eCCJW6jWLWlPUZQ+613w/FWRcsWrl3KnVbDuKT8xXMlj1HTLD3DjGMTaVcLHlnrlyD5XBMFEXpf8N2MLNSw9bRAhhjGC/msJhQl+ec4+T8GjYPi4lkvXV9uiiGQpJ0caFemEmDfq4L7p2T8xUZMIWm35m884/3nMR7v/gQ1uq2ZPqyn77BYJqiF48I+mHuHf/KLEzeUQM03aaJKjhh3fGTGfznf3xQ3pbbNLryDiTTF68bHfJY9lAugXtH2UQFEPUrqjuJAqeUatzPy2e9ZHE1Iuh7E1oMTT9BIvev7ziGh08tRT5uu8n2TJOmL5xZGcPwjdm6rMj1F2epuR0VnHMh7+Q8eWcoK5K6ervEdYT06YfsWFSpW3LXond+9l586BuH5WO2lHf8TH9TKddC3vHuJ0ZOAbpui9J36iezqZjDfEJ5h3z+z9g9BiBaHjo5X8Ejp6MHe1zQ9yx2wvQbjpQRkso7WTPo3kl2oRw8s4wX/sl3cd9xsZF9zjRQ6FDeocl/drUu5RyqqlULehwHPnmH/kyj6fuZvv/Yv/eTGXzh3lMyYFHgYYHWysSyR/JZ+VrVvRO3tTKB7KoEz73jzyGottAw907WZJJMyKDfyr0T07LJOceHvnkIt/74RORzGq6ME8xrtNX0VabPvVVBkOnXLJHbKWRVeUdMAJrpryPo3Ia1YSB9slK3MbtSx4yP6Yv/qSWzyvSjBhsxyKGsiQdOLgIArtg2AoA25Pb0zPFiVibU4oImkqftGgcAzEUE/f/vXx/Du2+9P9F7h0Fq+rnmJF1c1CxHDvR6zEmDgmgw6CdlR5QoP+b2ORKWTbOjoK9WZRtup0mbiyK2jOHJPXaA6RsRmr7PICCDiqe/02d5iVz/KkXdsBxQNX1qjeC33I4oOzipDddaEX3OuWT6BFGR690eCsg79HyfTz8kkTuUNeWKMo68E2ZxDUPNcuBw4OxStFnClo4ruh1w7wQ0/TB5R91bIKjuqCubINPv14rcCwKUrAnrsknSzlrdxmrdkhcQ4F08YUy/nbwzOZyTev01OwUrJ/2d+slMFHNYSCjPnFkUls9rd7Zm+rPlWuIJJQxS0w+wuCTwugzGX9KqGnxGkUMsh8e23AJehefMipjMPctmenlHDUhS3nG43AScdGCRZPdeFyzOIrSSdyTTt/2WTc45zi6JsUCTUKVu4fbHpnH7T0SlNk1IMpErN+j2M/047h3R9M1/X8Y0ZCdPQNX0/Uzf79MnUuRNPKV8ptmyGTOR22ryJkJH10wYvG6aUb13/ExfJnKVz7VbMH06BuHe8TR9kcjVQX/dQBNqxjB8zAdQmb4I+GrQ9zZGJ6YvBuJEDHln0pV0pkby2DpaAAAsSW90xn2fbOJELuUALp0Sls8oTX+x0mi5RI4LYvp0zGkSqeomEnFXCmrbhKzhH75JjoF+32k36OcyhnDvdJDIVQOSmshtON6euTbnTZq+59MPavrNrjDPveNq+g2P6TscuPuJeTz3Q7fh8ZmyN4ZrNj584Ag+fscx9/P8m6iEafqiDYP4u5WmHxZcKddC34ualtF3UJl+UN5RmX4xZ8pxFpfpe1ZW8fwTcxV8/p6TvufRtdya6dNv5t2W9xuG3BuB4DF97nsPU8nlqKDVl1qcNaTlnfUHDWbDQFP7U7pgFip10WZBCZT0u6pMP58xUMplRDFOyI9GwYS25bt864i79FOYvjvgKZGbpGkUsfdtYwUMZc1Ipr+01nAlgU7dDX4NNukOR4A4J2ITifiOBbqohHtHnH+yBCYJ+rSSo9xJ1mSdyzsBpm8wpZ++W5Er5B20bMNACEtMhlk21d+S2nKfWVyTY3a17m/74Wn64ra0bObDE7mtVlAUjFU5h64LCvqy4VoggBcyzYncIV/QzzRp+i0rcqsNbHZ3QKPz9Nm7j+O9X3goUHUs/l5aa6BSD38/2tmLjk/dJS7MvRNsdw1Q0Dfc2OLg9R+9Cx+7/XFxDHWa+Dx5p0CJXB301w80mGmDapXRrMnlvwgKYfJOVtH0h/MZr6Iy5Eer2zYyBpObdezfKvT8rGn4vNGASORaDk/EyBfXGii5rGFTKYfjcxW89wsPNhV50aqiFWOKA4/pu5p+Cm8xNZzKppB3yEEBAKMu602yLKZJnZA1Opd31N9LlQAatleRS62V1SDptWEIyDu1EMtmizYMgJfLKVe91ela3ZZtj8XnNbdWzrm9hwhDirOmJdN3ycyw4q+n34VWCkHLZjUskWuJc6Qms1WmT7/LchumT+YIOl/Ty2Ilp0pl6m9/ZjGc7UvHFU18MpB7TqyGryKXN/1tOxwmg/zdHzm9jAdOLrjnoFnTL5JlU/v01w80U1O3P5oEOOeouD8KWTXViyZo2SzXLAwXMl4vnZAfTbBaQy4/L98mZJicEvQ9pi+C2GKCHjqLlQbGi4LlbCrl8O1D5/H5e07h9sem5XMs25GBqVyz8ODJRZxuoWu2QiOg6TfSMH1F3onLbtQGaaSFjroTaTKm7wWBrNvrntowpG3L62P6hkckLJvLKlXORYGPz70TR9MPyDujSv9/vx24Ll+7Kpm+7WPIQt7xa/p5t/cQIOSZXMZjua2YvlrYRcgGmb6UdwJMP+v36WdNf55G1fRpomi1Sl2pWpga8WpfAMgeVmqSt6KcC8p/BOG1UAi4d+xon77aS4teQ/sAV+o26raDc66kpGr6psHwphsuwov2T7mmBs301w2yAZVkZeL+asNLTlGiT1Q+etopAN8AHc5nZHFNLaR5WM0Su+QQQ5NMP6MEfTeATrjBO0kyd7FSl6uIiVJOHv+TcxX5HJUlrVQtvPPv7sWff/snsT9DBS3Vg3a8MHz2R8fxq5+9t+l+6ieeS6Bjqq0zKEiOKqw3LlYVtkfvk8+a4Dx9oVc5yPRdyZDK7SmANGzH79MnTT+BZZNyKWobBgCYczusLlcb8jtWAjkpQ5GexHuIFRcFfSIfcbZLpGBME6/6Oi/oR8g7AZ9+0JE1lPPcO2qgVwmYCiHveDZowGP6arGiyvTPRjB94RBjTRKXp/V7DdcctwCvmPc72UTQh2+CoDzCmnIOAOBDr78WN14yibz26a8vaEBlDP9FoOp8qlWTLpxg7x1ABP286W+YpYI2Qd42WkAha2CfG/RzpiFZiJrIBZIVWC2uNeQKYVPRuwCPz3lbL6oDf6VqYaZci2Q6gChgef1H7wp9jJh9MYZl8/tH53DHT2YBAP98/ync4bpIpHsn5kA/fG4ZX3ngDAARqKlwhgJOkgRYJSzo06Sd4qKzbMf3niTnEPsv5TNyp7V6MOjLilx/IjdKM6ZjJdeTeu4oR1FWAv3iWsNnL6TeO2rDtXzGSyjSbxrHvUMB3M/0XXlHunf8/fSrliPvJymo2vAX3JkGQ14hA7S1IBDeXrlm2ag2HE/ecScjun5VwrOqXN9nopi+zSUZFMfu1+nVQE6/SSlgarC5f6MYOp6G7UQWo/Uikdu2986FDPrRDEZVcxT0vYt3dsUL+uWa5bJofyUvAJ+mH1aoRGzq527YjZuu2CJlnmyGYWVZDEIaAMT01arch04t4sxiFa+8Zlvod1ms1HG56/vfv20EeyaL2D1RxJOzFd9zCNMrVTRsLplQGO47sYCHTi2F9vGxgpp+i4E6W66hXLNgOxx/8Z0j2DUxhBftnxKygqvpxynu+us7nsAX7zsFQEgI1AZjVKlOjQtV3qHfTQb9hgMUYr8VgGb2abrJUppoS/mMDMKk8ROifPqEYs5sYvrUClotzgI8eUckKcUxzaz4f2Ov946n6dPkKz5PjE3S5FttLhSsEAYU9477P+0zG5R31MR51bJRyHj6Nq3k1NXB1HAepxfXQqtyKVe1aTgH02Co2zZqli0NDqq8Q0lUg0Uz/eVqA6OFrLdPcGBj9IzpNVGLKlSkHdRUcsi5+D2kvBMI+jqRu86QiVxlKQ54Sy8AvvYLxBCI+KgX7nAhIwdsKNN3Nb98xsTuTUV5f3A5CyjyjqLpf/S7j+P3vvpo5HdZWmtgbEi87ldfchkOvOfFuGzLMI7PrcpJSmX61Mp5eiU66J9brsJyuK9IiOD13qF2sNGBgc5huWphea0hJyK5XZzJYjF99TjUfvpkNUyyLFYn9pxk+qZ7XMmTuUH/uOEW9lBgGCl4vWwadrD3jmDfanAgqS4XyHnUlKAv7hfBjQI2MX11Mg/uzSA3UZGavi2L0wBPZlR3hotCGNOXidyAph904uQVy2alJkgRSaak76s+/UnXmRPm4Fl0x/ZEMYucKay36mSnjh2SvS7aVIxk+rPlOjYP5+Rqx/Exfb/3XpoaqDWy5ck7VJSn4uxSVU48Q9kQpq/lnfUDzd5mK6Zf9tgxMTXZZTMg7wT7oasgVhtE0K0ACLmCMT8zP7O05mMrKjjnbiJXYVumgb2TRazWbfkd1KB/wtX6l9Ya8sINggKHeg4IFITi9N4hR8lytYHlqoUzS2uoWbYi75g+drO01sDrP3pX0w5iK9UGdo4P4YaLN2H/1hEZIKR7J0GBmDqxU+KRfp808o7XqEycj+DuUaWcGvQd38rJZIJ0MOZVstJeC3nTX7wmg74pgn6tIeQdsluSpn9OcW0FV3MGQ0DTd6RcBHjkI457R2r6KtOPsmzK4ixPz6agWrcdTA3n5YSRyxhS6uCco2Z50k0Y0yeL8vhQDvmsmCRVQrPkY/ri9ZdtGY706s+Va5gs5ZsmPsvxXD227Wf6wyGavsH8TB8Q1eBBTZ+QpDo9LQY66MsGVAGmr2b3Z3zyjvihopi+Z9m0mxqmEasNQmX6dHGYrrVT1fTPLFaxWrdDZZTVuu1r4EbYs7kEwNP1fUx/0ZN9gst/QJwbsnvOlZsfD8o7UUvShu3IJfbZpSpsh4Nz0QPICzZ+n/69x+dx34lF3OP2xSGUaxYu3zaCz//yc7FzfEhh+q57J0kit6a6d0LknYQg7X7nxBAAyPJ7QimfkRd/3fJr+obr9AHEBFDIGvK8ZgM5j7prr2SMyRVAzXKUvIb4Xc4pwWwm8PuRT9/T9O1QTT/MvfMvj5zDgUPn5e0w944X9MXtQs5PDHw+feUa2jpWkBNwznVnWQ6XE91myfSbyQ8x/XGF6auTnVrzsFoXTqHdm4q+80TgnGN+tY5JVyoCVMumyvRdTT8kuU7PzSi/LeHsUhXVhg2DeWOOICS7zvd0aIWBDvpUJg3A595Rmb7KCCXTdzvwqRfucM6zbH7tobN4zh8e8ElDdLEGQRea2ocEoFYMDflaeq8wlkMTzLgr7xD2ToqgTw4eCr6mwXBy3lvWhm3NOF+py0Ed1vyNlrbt3Dvqa08rE82TsxVUGzby1HtHCdiPnBYMfz6wwlhx6yEI2Samn1LeyXRB3nF/l11K0PeRgry30XjDdvzFWcyzBhoGQymXkcFAMnrFsqnmICTTL/jTc+fbMn3mZ/pZT9Nvlne8137ktiP4qFtgBHhMX9X0s0F5J8D0qw0HBnM3W1HOw9aRgkzOZzMiUW/ZXtCnavawGhN5DRSzkunPuOPaNJhP3llzd6zaOlpAuWY1yUXLaxYsh2NyON+UyG3YXnuGYCI3uPOVFdD0mRvkzy2tyV2zWED6EYWKmumvGxYrDXmxqHuGViLkjrIi7wSZnGD64vZj51ZQsxwcClvFWAAAIABJREFUnS7LxymRGwQFruCG0BdtKuL+4wto2I7vAg6TeCiYjwWY/s7xIZgG8zH9Ys7EaCHj6zsSlsxVGdBsSNAPFmdFVeSqq4jTC95nPjm3GtmG4WG3C2jQslquWgFG6df0w2SZk/OVUN/9WsOWzNGzbKaXd6j+YfeEyNdQIpdQypvy4m/YgeIsZYIwGUMpn5GTaS5j+PqxkCQGiMluudoIDfqqWyfI9JsSuQGfvsf0xfPVRO7Cat1HZoi102/AmJfApe8U5tMvuAFPnRi3jeXlOcqaBrIGEysZ9zNI3gkr0KJrYKKYk3LY9EoNBhMTsXrdrNYslPIZbB0V7zcdKGCcdSWyyVKuqdOo6t7xNP3wRK7DuU/mGy1ksW2sgHPLNdlWOQidyF1nnFxY812k959YwKs/cqd07JQCP4qn6YslMlPO3nA+g5wpnk9B+oTikacAF4TaYU/Fm2/cgzNLVXzj4bO+AB22OQoN+PEhf9DPZQzsHB+SpfmLlQbGh7IYLmR8QSEsmauy/3B5xz/Qo3RItdvnKSXoH50ug3PBfIJM/1E36Ac7ha5UrQCj9DP94MVycr6CF/3pd/H1h882HVelbmP7mGDlzYnc9PIOMX0jyPQLGRlAgu4datkAiEBZzJlyrIj2EF4gWKjUZe6GurHWLMenqQdB55bG81rDlsVZf3PXEzg6XcZkKe8x/RwFcL+VGRArQHUiD7p31H5INLEFN0anrRLpPBG2jhZ87h2a1CnxOlrIIGuycE2/0kDWpHMn9kWYXq5hcjiP8WLO79N3A+7WEWHROh8gPeSACpN3LOqnb4rz5zhcFmOWgkxfqcQGxO+1bbSAc0trqNbDg37WNGQn2fXCQAf9U/MV30X65FwFj5xexiNnRNDZ7Fb3UVKNgj53dz5Sl6YjiqZPg+j4vOeRF8vykJnd9LMrwk1XbMElUyX89Z3HfMmmMCfN4hotbXNNj122ZRg/OS82WV9aa2B0KItht286VQOGyTvnlsR3YMy7CFQ0moqzwgOlOmFQ0M+Zhmwvnc/4WyvPlWs4437f+VU1uIiKxjA/uNSzA8H6yblVcA585+B5BLFWt7FjXFz0zZbNePLOgUPn8bc/eBKApzPvcklEMJE7nM9IrTtYnGUYakGTeK7H9P0ba8yu1CXjpR5NYUyfoCb3/9Mt+wEIxmww4JHTS/jvXz2I5146if/8isu94iyFgKjdJNfqwgtfqduylkW6d9yApxYsyoZrZGVW5J2Ce596DW0ZKcA0xCpEdWfRdVfImm4Abx6PS2t1jBdzMtdRsxzMlGuYGs5jbCjrWx1UahZKuQy2uA0Pg+OfxuxkyVt50PBWNX1ArKiifPoO98t8Y0OC6Z9dqsqCvSDoO6+nV39gg77jcJxaXJP2SXXwETOm5mjjQyI5RIlcysr75J18Vko1JAMdT8L0A0HfMBje9ry9eOT0sq+VgpqQIkimX2xme1fvGMXjM6uoNmz3wsjKC3RTKYfNw7lQeef8chWMCZkpTNOPW5ylSgHU8uHKHaM4fG4FOdPASy6fQl6Rdx5xt6gcLWR8kw2xOzW4TZRyKGQNmcCmi+2R00uYLdfk5HvnkVlfMpJzjtW6JZk+/W6FBPJO3XLwX//5YfzJvzwGx+EoVy0wBmx3JxJqXwyIQK72sqlZfveOocgcpsFQzCuafmAlNFuuSTIy7ib7xWTo/fY5ZZxNuRMEALzluXvxxIdehamRPAzmJSLf+8rLMTWSlysdlYCIPQHc3I4it826PamqFtk9DXn8BPqbNpBRLZt5yfS9c7ptTJy7rCGS+/S70G+fzxiYLOWaHHXVho2F1YZc6VLQn16pYstoHqOFDFYCFblDOVN+XrA/FcmZm4dznk/f8XR6teWy7XBvJUXuHYue64QG/fPLVZRrVmjQp/O4nhLPwAb9mXINdcvBbiXxRnhydhUG85hzMW+ilDd98o7J/BtFlPKm72IDvI1NAL8WqyKYPFNx85VbAQDffOScvC9M3qH7xobCg77tcBw+t+J6+bMycI4Xs9gyUgiVd84vVzFZEu2fZ1u4d8L2yP3Kg2fwpftPAxCrhHxG7EpFmv7Td4me///plv3Yt3XE59OnXb2ed+lmn6ZP8omayP3Z63fhW7/xIt8uUgDw5k/+CB8+cMRzH63WcVCxf9KuRVMjIlGXTSHvfOPhszi/LIrOTi+uyaZ7VGMh+umL55ZyGTDmNYgTiVzvvdT8kGkwDOdNyfTzpt+nT+wVEJOel0j1zsv2Ma+ybIurW1NCmCkTEYH61Xjyjp/p04Spdm6dKYtzW3NZe1bKUc3yDq161A1R8iFMnzT2jCnYOrHpssL0Nw/nJRNv2A5e9z/vwnu/8BAW1+ry3FPR2syKOFejQ9mmNgylnInhfAalnBki79Tk+fWqkgVR5C5795i+o2j6/pqV4KpgdCiLXRNFNGyO43OVSHkHSNY8MCkGNuifdAPyLpfpqxraQqWBYi4jf5RiLuOrqKQuiepEoco7hCDTDz4OeD9yUN4BgB3jQ7hkqoSa5WDPpDjOUHmnUsdQ1mzy/ALA1TtEgH30zJKr6edk/5+JYg5bRvKRQX/raB6TpVzoLlyW7bhuBC9Q0vn5xJ3H8JcHjgAQQWrzcB6jhawMXG993l785i378Y4XXQIAvkTusZlVbB3NY+/mEuZXvfbSHtP3JrZ8xsSeyZJSCS3K2xcqDTwxu4rzy1X52B1HZuTryLlTypliFReQd+49Po8b//BA0yYbn//xSXzDzQ984t+Oyd/s8LkVlGsWRvIZXLSpiLe/4GK8aP9mGTDofPuLswLuHZn0NDE2lPU0/QyTiclqw8ZK1ZIJaHWSH85nZJBVg/5kSQRSYqEECv6Mia6u9B5DWdP3erEngPhbHQfUfVYYFLwt/zKBFQx9b7XWgBK56jkZKWRk0My4EzFNJDSu8hkDk8Me0//7H53AkekyHnHHNhkZ8hkD1YaNuXIdm0dI3mnIsVSpW7KQautooYnpz6+KFXHWNHx7CtCklTW9ojLqoqqeY1/vHUURGB/KSpJ5cqESSvRaVfV3CwMb9ElfpkSuysoBwXaK7o8ynM9gOJ+RjINz7lu+i+dkkTfVZbFg4FQeHuXTJ8dP0L1DeOFlmwEAl2wuIWuySPdOmLQDiMTiaCGDR88sC6ZfzEpmPF7MYstoXlrbVJxbrmHbaAGTw7nQRG7d5mIDbEMk+z584Ahe/Ke3g3OOmZUanpxbRaVuiQtvOCeZ6HA+g0unhvHrN+/z9ZGnna9OzK9iz6YSJks5NGyvvTRVvKpMn0ATZ81ypBR1Yr6Cc0tV7J0s4uodo/jag2d9Fz0gKihfvH8K1100AcCbwH7w+BzOLVd9KywA+J+3H8XH7ziGuXINj5xexi+9UExah88uo1wVnVZNg+F3Xn0Vdk0UpTRACT41UKgTtDqWPvKm6/BrN+3zNH3T8+lT0CVmrv7mqsRCslUxZ8oJpxQ4bzRyJ0s5mTAt5TP43n95CV77jJ3esSmJXD/T9xqZjSjV6GrQp0kvYzCMl7Lyt6k1HCml0TmiDYUA6qDqbZJDYyCfNTFZEkx/tWZJYnFiroLZck3KO/mMidlyDZbDJeFo2Fyuiip1W17bW0bzTfLmXLku83i0OnOU5KpYHXqafpDp0w5mpOlTnmNsKCvlZLE9ajTTX8+mawMb9CXTd2deWRruXjilnCmZXDFnCqbvBgva41RdIg8XMr6GWfu2iD44J1zLYD2hpk94wb4pAMD28SGMFrKh8s5CpREq7QCC0V21YxQHDp13qxo9pi/cBEOYW603bSYxvVzFltECJkt50bAroDFatiMHM10Ys+Ua5lxLH+fCujpbFg4KYuijIQlHOdBtB8fnKrhosogJ96KbV1oFAwhNWKotbSkPcHphDWeXqtg6WsBbn7cXB88u47bDIjdCJfDFnIk/+/fPwNtfcDEAz7J50iUEagLYdjjOLK7h2ExZ7qt73UXj2DNZ9Jh+wEFDQY8CrhoQL50qyb8NZdV43UUT2Dk+5NP0ZWLSXZFRIndCSdznlTYKpFWX8hkfcVFBk8xmRfMHgC2jBd8KNp/1ZE01t0MOt7NLVewYG5IMNRMi75gGw/axIdncT3Xv0DnapgR9Ke+448tL5Aqmv1q38eMn5zG/WsdPX7sdlsMxW67LMZPLGHI1sHk4J+2ktEqu1G35m2wdLfiqlwE3b+KukOj4LIdLi6aq6at1BMT067bjmyDoXI8NZbFzfEh+TtjKnCYTremvA04uVDA1km868dfvFaxvKJeR1rWSK++oFbnUv4RQVJa4APCM3WKD8uPzq/IHbCXvhC31AODGSzZhOJ/B/i3DGA24EADBQB48tYhLtwxHfterd4zh/HINl06V8Mbrd8tE7kQxh6ftGgPnwIMnl+Tzzy1VMbdax6VTJWweFm2ag9s3UkIL8A/Qn5xfkUvTQ2dXJNMnh81oyOREAW652sD0Sg17NhVlEp2Sh62CPhXACDZck8d3+Nwyto4W8O+u24ndm4bwlweOwHa4tAAGJTX6/eiCvfvJeVn0c25ZNKhbrlq4160UvnTzMK7YNoJD55axUrOaA6t7fqg8X03e7neb4wHNhVwAZKKT9u6t244MtBSo1Ynez/QL7udmpIwRZPokW9CqIQqXbxXfDxB2UZHryso8z9nFKraNFbxe/AH3jnDjMOwYK8gNS6oN21d9Dni5BzrW4VxGTiBlmcg1ZT6D3F83X7lFvk72K1KuQ2L6gJf7qtQtSbJI3lFrOebcalz1PAWZvl/TF/erxVmW77mGPL5C1pS5izBJVyZyNdPvHI+eWfL1mDm1sCb1NRV73CrWYs6UvuZi3sSwksglyyZAiTdRbZkxDXn/092g//j0atMqQkWw9D2IkUIW3/svL8Ev3LinKSElvtcyZlZquPmKLaGvB4BbrtqK6y4ax9+87QaMF3OKvJPDdReJ47zvhNfy4IfH5gAAN14yiU0u45lb9S+BG3Z4joISsfQ+s+UatowUZLAOC/o08T0+LRj0RZNFubwmpl92WVqQTRNIAlHZaMPm2DqaR9Y08O6b9+OhU0v45c/cI+UqdRNuQARlChjjxSxsh+P2x0Qu4JQi/912eBpZk2HnxBCu2DaKJ2dXcXZxTa6gCBTQSrlmpk/7KQDA8y/b3PT7+Zi+q4dToCX3DjFbAMiZplypEGtWx3CTvOMSlqnh1kH/2l1jeOzcCqoN29W6c9g6UsDMSg2WLRwy28cK4fKOMpltHx/C+WXRhqOqyDv0uCrvfORN1+HdL9uHXMANR0wfAB48uQjGgBe48ifgrXzUIsjJ4ZycDJbdrUIbNpfnZctIHjXL8bni5so1+TlSklM0/YzB5GfMrNRCErmOb6MlmoNIjiNJWVs21xGLlTp+5q/uwq/9/f3SiXByoeLrdvkfb7oMv/j8i2XBRjFnSjZQymVQyimJXAc+O56/NYA4pTvGC7h6xyjuPDIje7nkW/zIUfIOIMrPM6aB0UKmSdM/cPg8GANevH8q8vU3XjKJf/7V58vvO+wGzoliFuPFHC6dKuE+pc/NDx6fw2ghgyu3j8rBf9fROR8bsmwuGYwKaqGQMw185cEzsByOVz99u2RbYUVEdA6OTot6gj2TJS/or/qZfpimD3jJ4GBNAQXANzxrF37/tVfjwOFp/NV3jwJozbResn8KW0by+OYjInF7Uiksu/f4AvZMlmAaDFduH4HDhcb94n3+3yCYyDUUjZtaZADAzz9nD/7bq6/yvVa6d5TeO7Nlr1IU8BfjqQ3TSNMv5TPyOw4HE7nu/+2Y/tN2jqFhczx2bgULlTomillsHslhtlzDTLkGh4vPk/KOMiYM5hXQ7RgruDJMDTVF3smaBt7/mqvwxut3y9ddvWMMO8aH5HuVax7Tn1SY/rbRAraMFnzFakAI06egX2143S1znrwDAOfdvJZlO1ioNGQCXM3DeEzfwIv3T2Eoa+If7j4Rksj1TxAkBdFx0HXYOpGrg35HODpdhu1wfOfQefyvOx5H3XJwemENe5Sg/56XX47ffc1Vcuk1lDXlzF3Kk7yjavridYwxH8OjH21TKYebr9yK+04sSHdA3gxh+rINQ3TQJ4y6LgQV3z08jWfsHpcXQxyolk0AeNaeCdx3YkEG9R8+MYcbLp6EaTA8bdcYrto+ig987SDe9Nc/lJ0vG4qm/4P33YQHfvcWAJCFbSSTveTyKVyxbVRq+aSv+s5BhoK+aFuxZ1NRTjZzyqYgas/3IGibubnVuq8waovCIN/y3L24ZHMJD50Sxxh0tAAeS9w1UcSrrt2O7z42g5VqAyfnK9KxZTscF7vN7G66Yit+99VX4cB7Xow3Pnu37708ecdfuHTJVCnye8jjCPTeadgOZst1jBS8wi3aU5XOYVDTH857jphSwChABCao6QdxrWuvfej0kmhCVspj83Aes+W6lGu2K43Ssoq8o7ZZoInozOIaqg1/futtz79Ynk8VdL7KAZ8+IORGYsz0WhrP9BsyJtg/jb3FSgOVhrupjSLvAF7bEdL36X61tbIayMeLOfxfz9qJLz1wRhZPFrNeIpcMHKV8Bvu2DOPSqZLM85HCMBRi3tCJ3C7h8RkRTK7YNoLP/OA4Ti5U4HBgb8hA26osjYtyaSw8vas1C//jXx/DqYWKryuiunSmwTxRzOFlV26Bw4FvPSpcIOG9d4jpt9/PZmwo62P6C6t1PHhqCTddHi3thGHflmFMFLNyED7zoglpczyzuIbjcxU899JJ9zxk8JVfez4+8NqrcfjcCl7/0e9jtlxDw+Hy2LePDWG8mMNkKScL225y5YpfftGlALyJJizhTIHi6EwZI4UMxotZDGVFK4J5uf1fc6JURc4UyU5ampOurcoGAHDl9lHJ2MLOOQXO7eMFvObp21G3HHzn0HmcXKhg60gBF7lE4RI3EZvLGPjFF1yMS6aacyoU/2h8ENPfp0g7UVCZcM4U2wZOr1R9cgxjTNaS5DKGHF+bSjlkTeZj+kF5J+gEisLO8SFMFLN45NQSFlYbmChlsXk4j5mVmgyU28YKchILFmeRLk9Fa9RhMiyJGQQx9nLAsknYtUkEz0s2i3NPDQepHcqmomijsGN8CIWsgYdOLcnNbmhlTRMGVa2TzXrv5qLv+1gOx613nxCf404ub3v+xahbDj7345PiczOG2zDNwVE35lw6NYy9m0s48Jsvked6l5R3muPBrokhGAw4cHi66bFu4YIM+svVBt712ftk75vHZ1aRyxh4zdN34OxSFQ+7TC8s6FNCqZj3+/QnSjk4HPjIbUfxw2PzPnlnRLmgaKBOlHK4ZscYtozkZe+XJL13wjBayGJ5zZKMnFg3WQ7j4pKpYdz/uy+Xy8xn7RGv/9ET8/i3I2Jbw+deMimfnzENvPm5e/GZX3wO1ho2bjs8jWMzZcm6CFtHC+BcnIO3PHcvvvjO58nJQyZyQwI3nbOfnC9jz2TR7SvPMFnKYd7dSEa4Y6InRlHVyyUbpeC8LSToE4oh55x+ox1jQ7hu9wR2jBXw1QfPihzQpiHsdeslLgkZO0GYQabv3r48RtAPuncA4PRiVer5BM+mKBK5xZxorbGplMP4UFYmcoOyGMlg7YI+YwzX7hoXTL8irIxTI3msNWxJpnaMDUl7pereUV1JOxSmr1bktkJGCfq0W1Ux501kFDxpAqZtRmnyo1VMIWviuZdM4vbHpqW8QyufqZE8to0WZC6KSAvJb7THwRfvO4WP3HYUb7x+F17mFk1eOjWMa3aOSglS3QPgcXfVelmIwYImqzBJd9dEEW941i585gfHcWqh0vR4N3BBBv3Hp8u488gMXv2RO/GDx+dwbKaMSzaXcIXrmPjXg4J5XzzZgulnFaafM/Hvn70b/+dtz5bvQYTGYMyv6buzfSkneoX/9NO249iMGEhhS/p2iVwVo0MZ2T8dAB5z2cn+bdHOnTi4bMsw9kwW8Y2Hz+LrD5/F7k1DuHJ7c2C6Zucoto8V8Mk7n8CjZ5bxqmu3+x4naWxqRDTvoskEQMtELgWymZUa9mzyfpNNwzmlpXSjZdAXrQpszLrOi90TRTDm9WAnXKG4ZsIuOgpGO8aHYBgMr71uJ25/bBoHzyxj90QRF7uskv5vBenTD+yIRkn+VlC7bNJK6MziWlPidUJl+hlTjsWPv/l6vOull0UmcmVSOIYs+Ow9Ezh8bhmz5Romijkpq3z3sWkMZU2MDgkjQ1ZpnQDArUJ2C5OKWRSyBp50O74WQlhuEBklkasSJjpmkkl+9lm78DuvvkpO8EQi1FXBSy7fgifnKjh4VgR39Xq7Zueo7Ox6fG4V+YzhIwsmYzi1sIYdYwV86PVP87mwnn+pSCTTBEctM45Ol7GplJO5KRVXbhPXUdSK7zdeth9gwF9850jbc5QGF2TQv+6iCXzt11+IiVIOH/jaQTw+s4pLp4alY+L2x2YwNpT1uR8Im9wq1Ysmi9gxPgTGxOw7nM/gpZdvwbP3bvI93zACmr5pYMJt/AQA7/upK/HvrhPFLmNDzZ8X3K2oFUgaIQfPY+dWBPNKoOeHgTGG1zxtB+46Oou7js7ip6/d0dTnm573siu34rHzKzAY8Oqn+4M+acnBQAtASeQ2B+5n792Ez73jRrz+mTvxhut3yfuv2DaK+0+I9tLlarMlUkVOMv0aJks5/PyNF+G3X3Wlj3kCHtM3WPjKS9oeXTnil15wMYo5kc/ZNTGEp+0aExvbt7DIErxErvjuF00Wced7X9oy6R48DrJsAmJSDJ5btQq1kDXkWHz67nFsGyt4ZoRA/oKIQzumDwBved5eTBSFdXdTKYcX7NuMjMFw/4lFbB8ryLEiNjb3zqlaaSxsm17H10JIoWIQUt6pWj45iII5rVS3jBbw9hdc7B1Hxs/0Ac/oQAV3RWUsXbNzDMdmV1GuWXhyroI9k0VfYKfv8LRd403W2ue57iFasVPzwMdnyr5aDBUTpRx+8L6b8cyIFfqO8SH89quuxKuftj308U5xQQZ9QFxgb75xDw6eXcaTc6u4ZKqEneNDGMqaqNTtUGkHEEH8jve+FL/wnD24dGoY9/63W2QyC/D897Qxyf6twz7JIJcxfEUzuYyBP3vj0/HNd78Qz7yomeFRQVeY1BAEBU7S9R87v4L9W4dDA3RSvObpO+BwoV22Gmy3XCWWts+/bDO2jPilE7odFkiI4UcVkT3nkkn82RufgZcq+YmXXbkVy1ULP35y3m2r3Irpuz79ch2bSnk8bde4rJhVsX2sgNFCRvbDCSKfMTCcz8hzPTmcx6+8WLzPrk1F/MzTd+D7v3VzKGEIIujTB+BzjLVC0L0DiMTkSwPWTtlkzDTxKy++FL/z034XEHXUDOY2gq9vhbGhLN7jdugkCyQFO5ocAXfjE7UNg+G3cG4fL+CJGWL6ceQdrzhLnaDJWbMrxHINeBOmyvT3bi5h72QR3/uJsOCqbdOv3SlqVQ6dXcbxuVVp2ybQBHnNzlEE8ey9E8iantWXmgcenS6HSjtx8dbn7cVLEubq4qJ99vApjFddux1/8PVD4Fzob4bBsG/rMB46tYSLJ6MvPnVABpdn1wUC9z/+yvN8t4u55sZrjDHfxKDC670TL5ELAPefWBQtk8+t4Gev393mVfFw+bYRXLFtBDXLwdU7wo8VEPbPF+7bLBO0Kjym3xz0n7F7HO+5ZT9esG9z02NReOG+zchlDHzn4DTKNUu2hA5DLmNgudpApW77LvYg6LcgxhnEUM6ULZcJb3/BJWjYHLdcuRWGq5fHQbAiNwlIl85lDFkr8cHXXdsUCGjyyWeN0NzO1tECbvvNl8gcB+GF+zbjziOzTVv5ReFNN1yEYs7Ey6/aBgB4xdVbccdPZrBt1Au8ogd+c3EWYfvYEO46KmpAYsk7ShsGNZexeTiHjMGa8jXyOEKYPgD8/muvwW2HpzFezOJSJfF+7U7XoXRqCcfnKpErsat3jjXdV8xl8MyLJnDE1fCzJsP55SoWKg3fZ/QTeh70GWOvBPCXAEwAn+Cc/9F6fdaO8SE886Jx3HdiUSZ79m8dEUE/hiYbhjBrmYr3v+bqpiVgKzzn4km86Ybd2Le1/fHccPEmPGP3OH7rnx7C2SWxZ+7+GEnBuPjYLzzLbSYXffy5jIHPvP05oY+pmn4QWdPAf7x5X6LjKeUzeP6lk/jXg+dkj5fo4zLx+Iy/JXYU3vCsXTh0diX0sV+/aV/TRvFDOVP2ok8CWZyVIuiT/JEzDdx8xRb84H03SdujirAq1CDCVrWf+g/PTuQFNw2G1z/Tk95uuWorfvfLj2L3Ju+YssrGJwDcTcG926+6dhv+7cgszi1XJUFoBTU/oDL9//s5F+GanWNN0p33XHHuglLYi/ZP4UUhAX3LaAFTI3l89cEzbnPD8Gv8mh3NQR8A3vn/t3d3MVbcZRzHvz/eBVbbXV3csgvFZReLDVB2oaBEtyFtWS5EDAgmai9sUQORJr2BEBPvvDBKYqI0GkmpqXJh24hJk9piE24QWVpKyzuoG8Atq6LyYlNEn17M/yyze3Z2DyxnZjvzfJKTc86csznPPvmf58w885+Zjua+s7hOnTTu5hHbI1jTr6ZUi76kscCPgYeB88BBSXvM7Fi1PvNL7U2c6b3a96vbGopraUrWrRqulXL/IGsDQ/lYzUS+98V5Fb130vix/PKJB3ni2S62v3oKgDkj3IkbN9wP2nBKLYRK+sSV6ry/gdeePwIMvq+g5J6PTGJf2HQfbk18qK2j+M7nkSr9SN3OPpfpd3+ItW2NLG2uY0w4d81gPj//HsZIiSfcS1I6qdntqq+ZxK+/ubTfVNXFs2r77SiPz96B6JiG/VvruXTtekVbS/H44m3BeY13Ma8xeWd4X3tnSuV5X9fe1HfQXtL3IGlcd8yp79sC27ZyLo/vOgjAbF/TB2AxcMbM/gReVTkdAAAE4klEQVQgaTewCqha0V+3qInVC6f3/fq3zaxl7BjdcnGOe+M7D1f1iLmhTJ4wjqe/0sbap/dz6uKViuZ8p6WlvoY1bY10tN65XuSatkY+2VDDP65eZ9Gs2sT3be28j0Pd/+R079Uh2ztp6phTz283Lau4jx83fuwYvr92/rDva6qdzLc6ylttaRjYTtq+bkG/56sXNpadNkRSxQcS1k2dwKeb62idVsM3Ple+fyZJ68druK/hw/32xQ3n28tb+P2JXo71XC5rhd2Kpc117N6wlL0nLibuc8iaBrtodNU+TFoDrDCzx8PzrwIPmtmm2Hs2ABsAZsyY0dbd3X3H47g6yMmxPmguXbvO8Z7LfGZ25T3yvPvrv97luQPdbF7eOuwRr84NdO7Sf3j56Dv9ZgJBdN7+2fVTWTzESsdoI+mQmbUP+tpoK/px7e3t1tXVlVp8zjmXB0MV/bRXhy4A8YZqY1jmnHMuBWkX/YNAi6RZkiYA64E9KcfgnHOFlWpj28xuSNoEvEw0ZXOnmR1NMwbnnCuy1PdmmtlLwEtpf65zzrkcn4bBOedcOS/6zjlXIF70nXOuQLzoO+dcgaR6cNatkvQ3YCSH5H4U+PsdCicvPCflPCflPCflPkg5mWlmg54udFQX/ZGS1JV0VFpReU7KeU7KeU7K5SUn3t5xzrkC8aLvnHMFkvei/9OsAxiFPCflPCflPCflcpGTXPf0nXPO9Zf3NX3nnHMxXvSdc65Acln0Ja2QdFLSGUlbso4nK5L+IuktSYcldYVltZJekXQ63N+5i8KOUpJ2SuqV9HZs2aB5UORHYewckbQwu8irJyEn35V0IYyXw5JWxl7bGnJyUtKj2URdXZKaJL0m6Ziko5I2h+W5Giu5K/qxi693AnOBL0uam21UmXrIzBbE5hdvAfaaWQuwNzzPu2eAFQOWJeWhE2gJtw3AjpRiTNszlOcEYHsYLwvCGXEJ35/1wKfC3/wkfM/y5gbwlJnNBZYAG8P/nquxkruiT+zi62Z2HShdfN1FVgG7wuNdwBcyjCUVZrYPuDRgcVIeVgHPWuQPwF2SGtKJND0JOUmyCthtZu+Z2Z+BM0Tfs1wxsx4zez08vgIcB6aTs7GSx6I/HTgXe34+LCsiA34n6VC44DzANDPrCY/fAaZlE1rmkvJQ9PGzKbQqdsZaf4XLiaR7gQeAA+RsrOSx6LublpnZQqLN0I2SPht/0aL5uoWfs+t56LMDaAYWAD3AD7INJxuSpgLPA0+a2eX4a3kYK3ks+n7x9cDMLoT7XuBFok3yi6VN0HDfm12EmUrKQ2HHj5ldNLP/mdn/gZ9xs4VTmJxIGk9U8J8zsxfC4lyNlTwWfb/4OiBpiqSa0mPgEeBtolw8Ft72GPCbbCLMXFIe9gBfCzMzlgD/jm3a59qAfvRqovECUU7WS5ooaRbRjss/ph1ftUkS8HPguJn9MPZSvsaKmeXuBqwETgFngW1Zx5NRDj4BvBluR0t5AOqIZiCcBl4FarOONYVc/IqoXfFfor7r15PyAIho9tdZ4C2gPev4U8zJL8L/fISooDXE3r8t5OQk0Jl1/FXKyTKi1s0R4HC4rczbWPHTMDjnXIHksb3jnHMugRd955wrEC/6zjlXIF70nXOuQLzoO+dcgXjRd865AvGi75xzBfI+1IFtRmls7LIAAAAASUVORK5CYII=\n",
      "text/plain": [
       "<Figure size 432x288 with 1 Axes>"
      ]
     },
     "metadata": {
      "needs_background": "light"
     },
     "output_type": "display_data"
    }
   ],
   "source": [
    "cases[\"cases\"].plot()"
   ]
  },
  {
   "cell_type": "markdown",
   "metadata": {},
   "source": [
    "### Safest Municipalities by COVID-19 Cases"
   ]
  },
  {
   "cell_type": "code",
   "execution_count": 24,
   "metadata": {},
   "outputs": [
    {
     "data": {
      "text/plain": [
       "Text(0, 0.5, 'Number of Cases')"
      ]
     },
     "execution_count": 24,
     "metadata": {},
     "output_type": "execute_result"
    },
    {
     "data": {
      "image/png": "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\n",
      "text/plain": [
       "<Figure size 432x288 with 1 Axes>"
      ]
     },
     "metadata": {
      "needs_background": "light"
     },
     "output_type": "display_data"
    }
   ],
   "source": [
    "cases[\"cases\"].sort_values(ascending = False).tail(10).plot.bar(x = \"neighborhood_municipality\",y = \"cases\", rot = 90)\n",
    "#The number of COVID Cases on the y-axis, related to the number associated with each neighborhood.\n",
    "plt.title(\"Top 10 Fewest COVID-19 Cases by Municipality\")\n",
    "plt.xlabel(\"Neighborhood Municipalities\")\n",
    "plt.ylabel(\"Number of Cases\")"
   ]
  },
  {
   "cell_type": "markdown",
   "metadata": {},
   "source": [
    "This graphical representation of the top 10 safest neighborhoods/municipalities by number of cases is not very pleasing to look at, specifically the X-axis being the index of the neighborhoods/municipalities rather than the name of the neighborhoods/municipalities themselves.\n",
    "\n",
    "So, I went through and looked up each of the 10 indices provided in the graphic above in the data file and manually entered the x-axis of the bar graph shown below, along with the exact number of cases associated with each neighborhood/municipality. This is not the most efficient method."
   ]
  },
  {
   "cell_type": "code",
   "execution_count": 17,
   "metadata": {},
   "outputs": [
    {
     "data": {
      "text/plain": [
       "Text(0, 0.5, 'Number of Cases')"
      ]
     },
     "execution_count": 17,
     "metadata": {},
     "output_type": "execute_result"
    },
    {
     "data": {
      "image/png": "iVBORw0KGgoAAAANSUhEUgAAAZAAAAF+CAYAAACs8Uw+AAAABHNCSVQICAgIfAhkiAAAAAlwSFlzAAALEgAACxIB0t1+/AAAADh0RVh0U29mdHdhcmUAbWF0cGxvdGxpYiB2ZXJzaW9uMy4yLjIsIGh0dHA6Ly9tYXRwbG90bGliLm9yZy+WH4yJAAAgAElEQVR4nO3dd7wcVf3/8deb0AmdiICE0PnRS0CadBUNCoI06YKgXxEQW1QUUFREQQVUDNJBVESaFEEkFKkJvQpSpBOkhU7C5/fHOZtMNnv37t1kZ/be+34+Hvdxd2d2Zz7b5jPnzCmKCMzMzPpqlqoDMDOz/skJxMzM2uIEYmZmbXECMTOztjiBmJlZW5xAzMysLU4gZh0gaYSkkDRrF8TyEUkPtfjYzSQ91WT96ZKOmomxhaTlZtb2muxnpsbdZgyXS9qrhcfdJ2mzmbC/vSXdULj/uqRlZnS7RR1NIDng2t/7kt4q3N9tJu1jJ0k3SnpT0tgG69eUND6vHy9pzSbbGivp7bq4N5gZcbarlS++koMk3SvpDUlPSTpP0mqFx2wo6Z+SJkp6VdIlklbO63aR9Lgk1W13VkkvSNqm/sBSeK8mSnotv7ejJc3RS6xjJD2Uvw97162bQ9IvJD0j6WVJv5E024y87oFA0hH5QLtTYdmsedmI3p4fEddHxIqdjLE/kvRtST/O3+2QdEHd+jXy8rEzY38R8YmIOKOFx60SETNln3XbHRoRj8LMS6gdTSA54KERMRT4L/CpwrJzZtJuXgJ+CRxdv0LS7MBFwNnAgsAZwEV5eU8OLMYdETfNpDg76VfAwcBBwELACsCFwCiAnASvJL0XiwNLA3cB/8pnJBcCCwCb1m13ayCAK3rY74ERMS+wGPA1YBfgsvpEVOcu4P+A2xusGw2MBFbNr2Ft4LAm22r6ugeYl4AjJQ2pOpCZISf/qmtARgGX5dsTgA0kLVxYvxfw79Kj6k8iopQ/4HFgq3x7DtJB/5n890tgjrxuM+Ap4DvAi/l5u7Ww/f2AsXXLPgY8Daiw7L/A1j1sYyywX4PlcwA/z899HjgJmCuvuxbYId/eiHTAHZXvbwncWdjO54EHgJeBvwNL5eUCfgG8ALwG3EM6iO4PvAe8C7wOXNIgtuWBycB6Td6b64HfNFh+OXBmvj0GOLVu/Z+BXxQ/l2bvFTAceBPYpoXP6wZg77pl44AdC/c/BzzZw/Nbed2jgDvye/okcERh3ZykE4v/Aa8AtwGL5nXzA6cAz+bvz1HAkLxuufyZv5q/n3/qYd8j8ndhf9J3/Fng63ndB/P7tHDh8WuTDmKzNdjWEcA5pOS7V142a97+iBa+o/Wf3dr5fZkInAf8CTiq7vf3tfx9fBbYp/Dc0/O2r8rPv5b8Pc7rN8zv5av5/4Z135kfAf8C3srvZQBfBB7On8Ovyb9X0gnuYcATOZYzgfkL2/s0cF9+3ljg/xXWrUU6SZmYX98fa68xr18wb3NI4TWfBHw5rx+SP/vvk48rhc901ka/A2Bv0vf656Tf+GPAJ3r6zQBfIB0PJgL3A2s3OFYeAfwlv4aJ+TWtUdjGaOA/hW18prBub+CGwv3I7/l0xxXgG8D5dd+744FfNfsdV3UG8F1gfWBNYA1gPaY90/wgsAiwBOksYIykdorgqwB3R343srvz8r44mnR2uybpA1iC9MWC9APaLN/eFHgU2KRw/1oASduSkuL2wDDSQf3c/LiP5eesQDp47QT8LyLGkA4cx0QqDX2qQWxbkg4OtzYKXNLcpB/1eQ1W/xn4aL59BvBZSXPl580PfCovb0lE/JeUBD7S6nMahVx3+0M5lnpNX3f2BrAnqXQ1CviSpO3yur1I7/WSwMKkg9hbed3pwCTSZ70W6fPZL6/7Iak0tyDwIeCEXl7P5qRk9zHgW5K2iojnSAeTnQqP2wP4Y0S818N2AvgecHgP1XrNvqNT5NL3Bfk1LkT6Dn6m7mEfJL03SwD7Ar+WtGBh/W6k92ER4E7SdxRJCwGXkg48CwPHAZfWndXvQTqAzUtKDADbAOsCq5Pek4/n5Xvnv82BZYChwIl5Xyvk2A8h/Z4uAy6RNHt+jRcCZ+XXeB6wQ91r/DhwdURMLiw7k/R9qa2/l5T8++LDwEOk9+YY4JRGJXJJO5KSw57AfKRk+L8etrltfg0LAX8ALix8B/5D+r3NDxwJnC1psWYB9nBcORvYWtICOb5ZSTUKZzbbVlUJZDfgBxHxQkRMIL3wPeoe872IeCciriV9KXeq30gLhpLOhIpeJX15e3K8pFfy3+35w98f+GpEvBQRE4Efk95cSAmiVvWzCfCTwv0pCYR0gPpJRDwQEZPyNtaUtBTpbGBeYCXS2dcDEfFsi69xYdJZYk8WIn3OjR7zLOmLTkT8i3TmWjuY7AT8OyLubDGOmmfyPttxBXCwpGGSPkiqmgKYu8Fje3vdRMTYiLgnIt6PiLtJB5zaZ/Ne3sZyETE5IsZHxGuSFgU+CRwSEW9ExAuk0uEuhectBSweEW9HxA00d2Tezj3AacCuefkZwO4AuVpqV9IBr9nruZhUStmvuLyF72jR+qTSy/ER8V5E/BWoT8LvkX6f70XEZaSz1OIJ3KURcV1EvEM6GdxA0pKkJP1wRJwVEZMi4lzgQdKJSM3pEXFfXl9LlkdHxCv5BOQaUhKEdJw4LiIejYjXgW8Du+SD2845jqvydn4OzEU6WVofmA34ZX4NfyGVhoqK1Ve19/dGYKF8sronvRw8e/BERJycE9MZpOrdRRs8bj/SAfy2SB6JiCcaPA5gfET8Jb/O40il5/VzzOdFxDP5O/4nUkluvb4GnY831wE75kVbAy9GxPhmz6sqgSzO1LMP8u3FC/dfjog3mqxv1euk7F40H6m415ODImKB/Lc26exmbmB8LbGQDnTD8uNvAlbIB541SV+6JSUtQvogr8uPWwr4VWEbL5HOsJeIiH+Szqx+DbyQLzTXx92T/5G+pD15GXi/h8csRqqGqSmege1Bez+gJUivrb4RxfAWnvsjUtXKncCNpLPI90iJrV5vrxtJH5Z0jaQJkl4lJfFF8uqzSNWIf8wX7Y/JZ3VLkQ4+zxY+q98BH8jP+ybpc7tVqbXM53t5TU8Wbhe/xxcBK0tamlQKfLWX0lTNYaSD9pyFZb19R4sWB56uK5U/WfeY/+WTnJo3SSdj0z0+H9hfytut/12T7y/RZF8Az/Wwr0bHiVlJB+Rp1kXE+3nbS9D4NU55bL728lEaX9s7CziQVOq5oMH63kx5LRHxZr45tMHjliSVHlpRfL/fJ1W3LQ4gaU9JdxY+91WZ+h3vqyknNfl/0xMaqC6BPEP6odYMZ9qi4oKS5mmyvlX3AavXFSFXz8tb9SKpamOVQmKZP1LDgNqXZDzpYu69EfEu6eB3KPCfiKgdoJ8EDihsY4GImCuf9RARx0fEOsDKpKqIb+Tn9TZc8tWkap6RjVbmRHwTU88sinbKz685C9gyX3Rfn1w10ap8FroOqXqOmLYxwn97e35EvBURB0bEEhGxDClJjM8/mnpNX3f2B+BiYMmImJ9Ux628r/ci4siIWJl01roNKXk+CbwDLFL4nOaLiFXy856LiC9ExOLAAcBv1LwZ6pKF21O+xxHxNqkKcXdSsu71x5qfdxXwCKkhQk3T72idZ4El6n4TSzZ4XDNTHi9pKKnEWbueuVTdY4eTriVMeQl92E+j48Qk0gnFNOvy61ky76vRayyewKxLKilMaLDPs0jv7WWFBFBTO6ktlog/2PKrmdaTwLItPrb4fs9Cqjp9JtdenExKeAtHxAKkardmjVhqGn0OF5KOl6uSfg+9/v6rSiDnAoflqopFSHW1Z9c95shcn/kR0otpVIePpCGS5iSdmcwiac5C/eBY0oXWg5SaiB6Yl/+z1UDzwetk4BeSPpD3uYSkjxcedi3pQ6xVV42tuw/p4PVtSavkbcyf60GRtG4+W56N9CV9m1RqgPRj6bHtdkQ8DPwGOFepOeLs+T3YRdLo/LDRwF5KTV7nlbSgUhO+DUjVh7VtPU66CHgucFWkuvpeSZpb0qaks+pbqasaqHvs7PnzEjBbjnWWvG4JSYsrWZ9c5z8Dr3te4KWIeFvSeqSL8rU4Npe0Wq4+eo1U0nk/F+WvBI6VNJ+kWSQtm18fknaU9KG8mZdJP8RGCa7me/n9WQXYh3QxtOZMUh3/p2kxgWTfJZWEau9FK9/RmptIv4kDlZoCb0vfqzw+KWljpWsNPwRujognSZ/7CpI+l7e9M+mE6G993H7NucBXJS2dE9WPSY0WJpGS7yhJW+bfzddIif/G/BonkX73s0navu41fpJULT6diHiMVM353QbrJpAS1O75uPN5Wk8C9X4PfF3SOvn7vlxOCI2sI2l7paq7Q0iv82ZgHtL3bwKApH1IJZBWTHdcySc1fyGdeN3ayklfSy2oZsYf07YsmJN0oe3Z/Hc8MGdM2wrku6Qzq/8CezTZ7t75TSz+nV5YvxaphPAWqQXDWk22NZbGrbDmJH15HyUdbB4gVXXV1n8873fTfH/VfH/nuu3sQWphVWsVdGpeviXp4v7r+TWfAwyNqa2N7iS1NLmwh7hFKgHdR6oCeJp0oFql8JiN8+t7Pe//UmDVJu9nfeybMX0rrLdJ1YETSVVP3619jr28x/Wf12Z53Sb5e/Im6UJk09Z3vb1u4LOkqouJpIPYicDZed2ueR9vkH5Mx5Nb15AuSP6W9D18Nb+2XfK6Y/J+XidVQezfQ2wjmLYV1nPANxs87mHg2l5e5xG1uAvLLmPaVlg9fkcbfHYj83fqddKJ2V9J1xyne2yD3+7pTG2F9Tqpinbpuu/Z+Py+jQc2bvb7yq9hucL905naImwW0snlk6SD5NnAgoXHfobU8uhV0snaKnWvsdbS7E9M29JsHDCyp+92XXzTtO4EPkFqXfUKcGze7zStsHp6ffWvn1Sl+lB+H+8lH5to3grrDnJrrbz+R6QqxBdJ10d6jKculobHlfz5BYWWd83+as3luoZSD8yzI+JDvT3WrL+T9E/gDxHx+wpjuAU4KSJOqyqGsihdq7yDdO2xuw5+DUg6gnTQ3723x86k/Q0nNXz4YES81tvjq+7IYzZoSVqX1CfjT709dibvd1NJH8zVTHuRrgv21Fl0oJkf+Fp/SB5ly1XJh5Kak/eaPCBdNzCzkkk6A9gOODhSs9syrUi6hjAPqcrrs9F6s/F+LSL+jXuXTyc3WnqeVOW7dcvPcyI2M7N2uArLzMza4gRiZmZt6RfXQBZZZJEYMWJE1WGYmfUr48ePfzEiGo1IMFP0iwQyYsQIxo0bV3UYZmb9iqSexteaKVyFZWZmbXECMTOztjiBmJlZW5xAzMysLU4gZmbWFicQMzNrixOImZm1xQnEzMza0i86EvZmxOiGk4v1yeNHj5oJkZiZDR4ugZiZWVucQMzMrC1OIGZm1hYnEDMza4sTiJmZtcUJxMzM2uIEYmZmbXECMTOztjiBmJlZW5xAzMysLU4gZmbWFicQMzNrixOImZm1xQnEzMza4gRiZmZtcQIxM7O2OIGYmVlbnEDMzKwtHUsgkpaUdI2k+yXdJ+ngvPwISU9LujP/fbJTMZiZWed0ck70ScDXIuJ2SfMC4yVdldf9IiJ+3sF9m5lZh3UsgUTEs8Cz+fZESQ8AS3Rqf2ZmVq5OlkCmkDQCWAu4BdgIOFDSnsA4Uinl5QbP2R/YH2D48OFlhDnDRoy+dIa38fjRo/p9DGY2OHT8IrqkocD5wCER8RrwW2BZYE1SCeXYRs+LiDERMTIiRg4bNqzTYZqZWR91NIFImo2UPM6JiL8CRMTzETE5It4HTgbW62QMZmbWGZ1shSXgFOCBiDiusHyxwsM+A9zbqRjMzKxzOnkNZCNgD+AeSXfmZd8BdpW0JhDA48ABHYzBzMw6pJOtsG4A1GDVZZ3ap5mZlcc90c3MrC1OIGZm1hYnEDMza4sTiJmZtcUJxMzM2uIEYmZmbXECMTOztjiBmJlZW5xAzMysLU4gZmbWFicQMzNrixOImZm1xQnEzMza4gRiZmZtcQIxM7O2OIGYmVlbnEDMzKwtnZzS1gaxEaMvneFtPH70qJkQiZl1iksgZmbWFicQMzNrixOImZm1xQnEzMza4gRiZmZtcQIxM7O2uBmvDVhuSmzWWS6BmJlZW5xAzMysLU4gZmbWlo4lEElLSrpG0v2S7pN0cF6+kKSrJD2c/y/YqRjMzKxzOlkCmQR8LSJWBtYHvixpZWA0cHVELA9cne+bmVk/02sCkXSMpPkkzSbpakkTJO3e2/Mi4tmIuD3fngg8ACwBbAuckR92BrBd++GbmVlVWimBfCwiXgO2AR4HlgO+0ZedSBoBrAXcAiwaEc/mVc8Bi/bwnP0ljZM0bsKECX3ZnZmZlaCVBFLrKzIKOC8iXu3LDiQNBc4HDsmJaIqICCAaPS8ixkTEyIgYOWzYsL7s0szMStBKAvmbpAeBdYCrJQ0D3m5l45JmIyWPcyLir3nx85IWy+sXA17oe9hmZla1XhNIRIwGNgRGRsR7wJuk6xhNSRJwCvBARBxXWHUxsFe+vRdwUV+DNjOz6rVyEX1u4P+A3+ZFiwMjW9j2RsAewBaS7sx/nwSOBj4q6WFgq3zfzMz6mVbGwjoNGE8qhQA8DZwH/K3ZkyLiBkA9rN6y1QDNzKw7tXINZNmIOAZ4DyAi3qTnxGBmZoNEKwnkXUlzkVtLSVoWeKejUZmZWddrpQrrcOAKYElJ55CubezdyaDMzKz79ZpAIuIqSbeThiMRcHBEvNjxyMzMrKu10gprI+DtiLgUWAD4jqSlOh6ZmZl1tVaugfwWeFPSGsChwH+AMzsalZmZdb1WEsikPOTItsCvI+LXwLydDcvMzLpdKxfRJ0r6NrA7sImkWYDZOhuWmZl1u1ZKIDuTmu3uGxHPAR8CftbRqMzMrOu10grrOeC4wv3/4msgZmaDXiutsNaXdJuk1yW9K2mypD4N6W5mZgNPK1VYJwK7Ag8DcwH7Ab/pZFBmZtb9WpoTPSIeAYZExOSIOA3YurNhmZlZt2ulFdabkmYH7pR0DPAsLSYeMzMbuFpJBHvkxx0IvAEsCezQyaDMzKz79VgCyVPXDouI+/Oit4EjJa0C+CK6mdkg16wEcgKwSIPlCwG/6kw4ZmbWXzRLIMtFxHX1CyPiemD1zoVkZmb9QbME0my8Kw9lYmY2yDVLII9I+mT9QkmfAB7tXEhmZtYfNGvGewhwqaSdgPF52UhgA2CbTgdmZmbdrccSSEQ8DKwGXAuMyH/XAqtHxL/LCM7MzLpX046EEfEOcFpJsZiZWT/iHuVmZtaWVoYyMbMZMGL0pTP0/MePHjWTIjGbuXosgUi6Ov//aXnhmJlZf9GsBLKYpA2BT0v6I6Diyoi4vaORmZlZV2uWQL4PfI80he1xdesC2KJTQZmZWffrMYFExF+Av0j6XkT8sK8blnQqqb/ICxGxal52BPAFYEJ+2Hci4rI+R21mZpVrZU70H0r6NLBJXjQ2Iv7WwrZPJ81mWD9/+i8i4ud9itLMzLpOK3Oi/wQ4GLg//x0s6ce9PS8PxPjSDEdoZmZdqZV+IKOAj0bEqRFxKmk62xkZyuRASXdLOlXSgj09SNL+ksZJGjdhwoSeHmZmZhVptSPhAoXb88/A/n4LLAusSZoa99ieHhgRYyJiZESMHDZs2Azs0szMOqGVjoQ/Ae6QdA2pKe8mwOh2dhYRz9duSzoZaOVaipmZdaFWLqKfK2kssG5e9K2IeK6dnUlaLCKezXc/A9zbznbMzKx6LQ1lkg/6F/dlw5LOBTYDFpH0FHA4sJmkNUn9SB4HDujLNs3MrHt0bCysiNi1weJTOrU/MzMrl0fjNTOztjRNIJKGSHqwrGDMzKz/aJpAImIy8JCk4SXFY2Zm/UQr10AWBO6TdCvwRm1hRHy6Y1GZmVnXayWBfK/jUZiZWb/TSj+QayUtBSwfEf+QNDcwpPOhmZlZN2tlMMUvAH8BfpcXLQFc2MmgzMys+7XSjPfLwEbAawAR8TDwgU4GZWZm3a+VBPJORLxbuyNpVlJPcjMzG8RaSSDXSvoOMJekjwLnAZd0NiwzM+t2rSSQ0aQpaO8hjV11GXBYJ4MyM7Pu10orrPclnQHcQqq6eigiXIVlZjbI9ZpAJI0CTgL+Q5oPZGlJB0TE5Z0OzszMulcrHQmPBTaPiEcAJC0LXAo4gZiZDWKtXAOZWEse2aPAxA7FY2Zm/USPJRBJ2+eb4yRdBvyZdA1kR+C2EmIzM7Mu1qwK61OF288Dm+bbE4C5OhaRmZn1Cz0mkIjYp8xAzMysf2mlFdbSwFeAEcXHezh3M7PBrZVWWBeS5jK/BHi/s+GYmVl/0UoCeTsiju94JGZm1q+0kkB+Jelw4ErgndrCiLi9Y1GZmVnXayWBrAbsAWzB1CqsyPfNzGyQaiWB7AgsUxzS3czMrJWe6PcCC3Q6EDMz619aKYEsADwo6TamvQbiZrxmZoNYKwnk8I5HYWZm/U4r84FcW0YgZmbWv/R6DUTSREmv5b+3JU2W9FoLzztV0guS7i0sW0jSVZIezv8XnNEXYGZm1eg1gUTEvBExX0TMRxpEcQfgNy1s+3Rg67plo4GrI2J54Op838zM+qFWWmFNEcmFwMdbeOx1wEt1i7cFzsi3zwC268v+zcyse7QymOL2hbuzACOBt9vc36IR8Wy+/RywaJP97g/sDzB8+PA2d2dmACNGXzrD23j86FEzIRIbSFpphVWcF2QS8DipJDFDIiIkRZP1Y4AxACNHjuzxcWZmVo1WWmHNzHlBnpe0WEQ8K2kx4IWZuG0zMytRsyltv9/keRERP2xjfxcDewFH5/8XtbENMzPrAs0uor/R4A9gX+BbvW1Y0rnATcCKkp6StC8pcXxU0sPAVvm+mZn1Q82mtD22dlvSvMDBwD7AH4Fje3pe4fm79rBqyz7GaGZmXajpNRBJCwGHAruRmt2uHREvlxGYmZl1t2bXQH4GbE9qCbVaRLxeWlRmZtb1ml0D+RqwOHAY8ExhOJOJrQxlYmZmA1uzayB96qVuZmaDi5OEmZm1xQnEzMza4gRiZmZtcQIxM7O2OIGYmVlbnEDMzKwtTiBmZtYWJxAzM2uLE4iZmbXFCcTMzNriBGJmZm1xAjEzs7Y4gZiZWVucQMzMrC1OIGZm1hYnEDMza4sTiJmZtcUJxMzM2uIEYmZmbXECMTOztsxadQBmNniMGH3pDD3/8aNHzaRIbGZwCcTMzNriBGJmZm1xAjEzs7ZUcg1E0uPARGAyMCkiRlYRh5mZta/Ki+ibR8SLFe7fzMxmgKuwzMysLVWVQAK4UlIAv4uIMfUPkLQ/sD/A8OHDSw7PzAaqGW1KDG5OXFNVCWTjiFgb+ATwZUmb1D8gIsZExMiIGDls2LDyIzQzs6YqSSAR8XT+/wJwAbBeFXGYmVn7Sk8gkuaRNG/tNvAx4N6y4zAzsxlTxTWQRYELJNX2/4eIuKKCOMzMbAaUnkAi4lFgjbL3a2ZmM5eb8ZqZWVucQMzMrC0ezt3MrAIDYWh7l0DMzKwtTiBmZtYWJxAzM2uLE4iZmbXFCcTMzNriBGJmZm1xAjEzs7Y4gZiZWVucQMzMrC1OIGZm1hYnEDMza4sTiJmZtcUJxMzM2uIEYmZmbXECMTOztjiBmJlZW5xAzMysLU4gZmbWFicQMzNrixOImZm1xQnEzMza4gRiZmZtcQIxM7O2OIGYmVlbnEDMzKwtlSQQSVtLekjSI5JGVxGDmZnNmNITiKQhwK+BTwArA7tKWrnsOMzMbMZUUQJZD3gkIh6NiHeBPwLbVhCHmZnNAEVEuTuUPgtsHRH75ft7AB+OiAPrHrc/sH++uyLw0AzuehHgxRncxozqhhigO+LohhigO+LohhigO+LohhigO+KYGTEsFRHDZkYwjczaqQ3PqIgYA4yZWduTNC4iRs6s7fXXGLoljm6IoVvi6IYYuiWOboihW+Lohhh6U0UV1tPAkoX7H8rLzMysH6kigdwGLC9paUmzA7sAF1cQh5mZzYDSq7AiYpKkA4G/A0OAUyPivhJ2PdOqw2ZAN8QA3RFHN8QA3RFHN8QA3RFHN8QA3RFHN8TQVOkX0c3MbGBwT3QzM2uLE4iZmbXFCcRKJWnuCvc9i6Sdqtq/2UAz4K6BSLoE6PFFRcSnSwynK0haFngqIt6RtBmwOnBmRLxSYgwbAr8HhkbEcElrAAdExP+VFUOOo/K29ZJ2BK6IiImSDgPWBo6KiNurjKtMkg5ttj4ijisrlkYkLQgsGRF3l7S/OYFtgI8AiwNvAfcCl5bUyKgtA7EE8nPgWOAx0odwcv57HfhPFQFJWkLShpI2qf2VHML5wGRJy5FadiwJ/KHkGH4BfBz4H0BE3AWU/T4A/EPS1yUtKWmh2l/JMXwvJ4+Nga2AU4DflhxD1ebNfyOBLwFL5L8vkhJq6SSNlTRf/j7cDpwsqeOJTNKRwL+ADYBbgN8BfwYmAUdLukrS6p2Oox0DrgRS0+hMs4qzT0k/BXYG7gcm58VRZklI0u0RsbakbwBvR8QJku6IiLVKjOGWiPhwcb+S7oqINcqKIe/zsQaLIyKWKTGGOyJiLUk/Ae6JiD+U/XnkOCYytbQ+OzAb8EZEzFdiDNcBoyJiYr4/L+msu/STi8Lnsh+p9HG4pLsjoqMHb0mjIuLSJus/AAyPiHGdjKMdXTuUyUwwj6RlIuJRAElLA/NUEMd2wIoR8U4F+655T9KuwF7Ap/Ky2UqO4clcjRWSZgMOBh4oOQYiYumy99nA05J+B3wU+KmkOaigNiAi5q3dliTSoKbrlxzGosC7hfvv5mVVmFXSYsBOwHfL2mmz5JHXvwC8UFI4fTKQE8hXgbGSHgUELAUcUEEcj5IO1lUmkH1IVQM/iojHcjI9q+QYvgj8ilRN8TRwJfDlsnYuaYuI+Kek7Rutj4i/lhUL6QC1NfDziHglH7S+UeL+pxOpKuJCSYcDZc7RcyZwq6QL8v3tgNNL3H/RD0gdnG+IiNskLQM8XNbOJa1A+h4sReHYHBFblBVDXw3YKiyAfGa3UgYxzF8AAB4rSURBVL77YBWlAEnnA2sAV1NIIhFxUNmxVCXPAXNmROxWYQxH5iqJ0xqsjoj4fImxnBURe/S2rIQ4isl0FtL1iE0jYoOS9i/SWHjDSBePAa6LiDvK2H+DeBaOiP9Vse+8/7uAk4DxTK3uJiLGVxVTbwZ6AtkQGMG02fzMkmPYq9HyiDijxBi2AX7I1DMbpRBKreu+AdgizwEzqNWuSRXuDyFdCyl1YrW6ZDoJeBw4OVeZlBXDPRGxWln7a0bSw8CdwGnA5VHywVHS+IhYp8x9zqgBm0AknQUsS/pCFC9el37mL2ku0kWwGZ3TpN39PwJsTzpIVfKBSzoT+H+kgTPfqC2vormmpFHAKsCchTh+UMJ+vw18B5gLeLO2mFTvPyYivt3pGLqNpDOAEyPiti6IRaRWcZ8H1iW1hDo9Iv7d4f3WWgEeRLrWcQHT1la81Mn9z4iBnEAeAFau6oBZiONTpKbFs0fE0pLWBH5Qciusa4AtI+L9svbZIIbDGy2PiCNLjuMkYG5gc1K/lM8Ct0bEviXG8JNuSBa578G+TJ9My6zOexBYDniCdGJRKx1X2mxV0ubA2aSGN3cBoyPipg7t6zFSazg1WF1qC8G+GsgJ5DzgoIh4tuI4xgNbAGMLzVfvjYhVS4xhXVIV1rVMe2ZTxdn/0Lzv18ved97/3RGxeuH/UFJ1xUd6ffLMjWMJpr9Yel3JMZwHPAh8jnQBeTfggYg4uMQYlmq0PCKeKCuGQiwLA7sDewDPk/rnXAysCZzXJS34uspAboW1CHC/pFuZ9qBZdk/09yLi1VQ6nqLsksCPSB0p5yS19y+dpFVJLb8WyvdfBPasoJftW/n/m5IWJ3VsXKzMACQdTZoHZ5q+QUCpCQRYLiJ2lLRtRJwh6Q/A9WUGEBFPKI1KUEvg1+dOplW4ifQd3S4iniosH5dLrh3VQwvBV0lVz27GW7Ijqg4gu0/S54AhkpYn1XPeWHIMi5dZ4unBGODQiLgGQGlIlZOBDUuO42+SFgB+RuptHKSqrDJ9hur7BgG8l/+/khP8c8AHygxA0sHAF4BaM+qzJY2JiBPKjCNbsacq74j4aQn735fUG/2afH8zUouspSX9ICLKbnrfqwFXhSVppYh4MN+eo/gjlbR+RNxccjxzkzolfYxUx/l34IcR8XaJMRwD/CMirixrnw1imK7XeRU90ev2PwcwZ0S8WvJ+Lwd2rKoarxDHfqRhblYntTwaCnw/Ijp+tl2I4W5gg4h4I9+fB7ipimsgkoYB32T6a0Kl9MOQ9HdSqfz5fH9RUj+ZXUnNm6s+CZzOQEwgU5pINmguOc39wSIPWTEPqSrvPappxnsB6Yy/dha1O7BORHympP037EBYU0ZHQkknkEo8SzDI+wbVSLoHWLd2QpUv7N9WRdNeSVcCfwK+Tur4uhcwISK+VdL+7y825c6twu6LiJVVwVA3rRiIVVjq4Xaj+50LoktGBZY0C7B1RPyrjP018XngSKZWVVyfl5XlU03WBVPj6qTaWEbjSRdnK5XPcH9MquL8hKSVSaWBU0oM4zTglrqe6GXuv2jhiDhF0sERcS1wraQymxePlfQ34Lx8f4e8bB6gtJGz+8IlkM7FsWmz9fkLWopuPXuxauWqtNOA70bEGpJmBe4o4+xf0tIR8Vi+vTawcV51fYU90W+OiPVzVdLxwDPAXyJi2RJj2IGp78W/gPOr7orQzEBMIC8AfySVNnbOt8n3d4qI0gdqkzQ7aUiVAB4quze2pJ+TWpj8tcKOhCuQqgZGUME4P0rzT7xaf3YtaV9g3oj4ZRlx5H3ew/Sl01dJJZSjoqThNCTdFhHratoRku+MiDVL2Pf4iFhH0tURsWWn99eKPGLD9aTpDk4A5gOOjIiOlxbzaAT3RcRKvT64iwzEKqzioHT1wx+XPhxy7vV8EmkuEpFaVBwQEZeXGMYBwKHAJElvU8E1EFKx/CRSi6fJvTy2E3aj8UizZ5G+F6UlEOBy0ntQm5NlF1LnxudIAwk2q26bmd7IfR8CUiMTUiIrwyySvgOsoAaTS1XRRyki/pZvvkrqaFrmvidLekjS8Ij4b5n7nhEDLoFEiWNMtehYYPOIeARAaXbAS0kHkVJEYdjuCk2KiConTZo1It6rXxgR76quk04JtqqrSr1HU+ds2b3EOA4lXYtZVtK/SIMa7ljSvnchXe+YlTSxVGUKjRsaKrFxw4KkZv+3Mu1wP107i+qASyBdaGIteWSPAhPLDkJpis7lmbZ5Ysc7rmnqOD+XSPo/qhvnZxZJi9aaSBbiq2LuiSGS1ouIW3MM6wJD8rpJJcZxH7ApsCKpVPoQ5c1LsnVE/DQ3te/4OGS9KNZMHAk0HHanBN+raL9tG3DXQLqNpN+Shqz4M+ksZ0fgv8A/oLTmo/uRJnD6EGlwyfVJbe07fv1BXTLOj6Q9SZ04v0ZqTgywDqlD4YllllxzwjiV1O9CwGvAfqQD+qiI+HNJcUzXqKSshia1ay3d1rTeDU76ZsCWQCRtVN90tdGyEsxJGlen1iprAmk01k9RXvPRg0mji94cEZtLWonUfLPjumX8oIg4U9IE0phPq5Le+/tIHefKvB5FpJFnV5M0f75fvO7Q8eQh6YOkvihzSVqLqcl9PtK1mDI8oDR8+uK5M+GU8Kh2MMXKzqjVBVMM99WATSCkVhT1ZzaNlnVUROxT5v568HZEvC2p1jv/QUkrlrHjfLb9ZEQ8l+/vSWrf/gRwRIlVWOREUWqyKJK0e0ScXX/RuHYJpsQLxx8H9iaVSIv7nEgabr7jImLXnMj+DnRtHX+ZojumGO6TAZdAJG1AGl9pWN0PdT6m1jOXGc8xwFGkQfyuIA0b8dWIOLvEMJ5SGv/pQuAqSS+TDuBl+B1pjgUkbQIcDXyFNMLpGNJw6oPFPPl/pReNc3XdGZJ2iIjzK4zjOVKP/ErVnfnPLem12irKb60IVDrFcJ8MuGsguQPfZqShCIpj+kwELomI0uY4zvHU6no/A2xDavlyXRljQKnB2F/5/ZkfuKKM/igqjHcl6dekoSGOyPdL6XNgPVNFk2sV9r888BNg5boYunYOjE5RxVMMt2PAlUAKQxCcHnlOgTycx9CIeK35szui9h6PIs0pUD+0eyf9hlxlJ+mmiNigzB7w2RBJs0bEJGBLYP/CugH3/WtF7lT5W2DRiFhV0urApyPiqJLjaDi5VpkxkHrCHw78IsexD+W1BOs2xf4/tSmGt60mlNYM5A/qJ5Lmy+PI3EuaG+QbvT2pA/6mNOvaOsDVSiN+ljUSbzFTzdnjozrrXFJCv4hUjXc9gKTlKK/TWlN5KI0ynQx8mzycekTcTeoXUbYNI2JP4OVIM0NuAKxQcgxzRcTVpNqQJ3LpdFTJMXSFiNin8PeFiPhRdOk8IDUDOYGsnEsc25EunC5NmmmsVBExmnRNZmTuyPYm5Z1VzCJpwdzbuHZ7odpfGQFExI9ITWdPBzYuDKUyC+laSDf4Usn7m7vWB6SgzP4fNfWTa71HyZNrAe/kGoKHJR2Yq3qHlhxDV5C0jKRLJE2Q9IKkiyR1dVXeQE4gs0majZRALs4H79Iu+Ej6ZuHulhExGSDSvAdl9WydnzTy6zhSI4Lb8/3aslJExM0RcUF+7bVl/46I25s9rywR8YWSd/liHpGgNoTIZ4Eqpl6un1zrcVKJsUwHk6rRDiKV0ncnDaM+GP2B1Ix7MWBx0vA/ZX8efTLgLqLXSDoI+BZwF6lIPBw4O0qa+1pdMiqwTavR4H1lD+iXzyrHkEqmLwOPAbtHxONlxdAgptIn11IaQPCnEfH1svbZzSTdXd//RRVPutabAXsRMyKOJw3JXPOEpDIHSOuKeUksUZqoaG5gkTysS7Hz3BJlxhIRjwJb5etzs0RE6UPb1EjakMIIyZKIiDNL2O+sETFJ0sa9P3pgK1QnXy5pNGkE8SCNJn5ZZYG1YMAmEPUwWQ7lTVYTPdxudN867wDgEFLVwHimJpDXgBPLCKC+A2FhOVD+CLSSzgKWJQ1vUxshOUjTqHbaraQWgndIuphUXVOs4ixjhIZuMZ5ph/s5oLAuSA0uutJArsKqbLKcvP/JpB+ESEOXvFlbRaoqmK2MOLpFbuP+U+ADpPegkk5akr4SESeUuc/CvouD9B1A6mQ5RW4JVWY8D5Aam5R+ENDU0YdPKyyuHUQjIsqcrdLaNJATSGWT5XSjXN+8KNNO5lTavAOSHgE+FREPlLXPuv13zZAqef+VD9on6TzgoIgo/QK+pKdIw6iI6QfbjLJLY91A0o6kDr4TJR1GKqH9MCqaobEVA7YKi2ony+kqkr5C6qz1PPB+XhykYVXK8nxVySPrtiFVqhy075K8/3lJ/aNuZdoh9ssYm2oIU0cjrjcwz2p7972IOC9fF9qK1DruJODD1YbVs4GcQL7G9JPlDKZxl4oOBlaMkqZKLSoMzzBO0p9I43EVD1Zl1XUPKZQydgbG5HGgzpd0Z0kxdIuLSaXR6+uWf4TymhM/W+aQKf1E7TrUKNL381JJpY5O0FcDLoFIOgS4kdSufZrJcqLBjHSDxJNUV/oqDs/wJvCxwv2yhrOHLhhSRdPOhb6cpg5jXvYQ5tsC346Ie+rie4nU8KSMhiZuiTi9pyX9Dvgo8NPctLqr++oNuARCGqL6l8BKwD3Av0gJ5Rmg1HruLvIoMFbSpUx79t/xeubIw9mrh/lZOr3/gtqQKi9S3ZAq25S0n94sWp88ACLiHkkjSoqhtH43/chOwNbAzyPiFUmLAVUMv9SygXwRfXbSaJYbkprvbgC8EhErVxpYBepa/0xRZqufRp0ny+5Qma+DLQZcWesVnwc2HNotveLLIOnhiFi+h3WPRMRyZcdkqVl1ROzR27JuMhBLIDVzkTqJzZ//niGVSAajvzY64yyDumh+lvqh7fOyf5cZQ5cYJ+kLEXFycaHS1MfjK4rJ0rD6U+SWk+tUFEtLBlwCkTSG9EFMBG4hVV8dFxEvVxpYtX6T61NPB84pc7gK0tScQ0nfteJESq8xeBs1VO0Q4AJJuzE1YYwkfVafqSyqQUrSt0kzQc6laSezepc0cnPXGnBVWJKuABYhDeF+I3ATcG8VnaW6Sa6q2QfYkdQL+PSIuLLE/S9Vm5/FukMe2mfVfPe+iPhnlfEMdpJ+EhFd2+u8kQGXQGDKfMKrkKpONiT9SF4CboqIhtcDBoNcJN6ONEbYa6SznO+U0ZRW0jU0aN8fEVt0et/dJjceOAJYilQyq7XC6uqhu62zumGgz74acFVYMGU+4XslvUJqYfMqqQXMeqQOdYOK0ox3+5Dal19F6hF+e54D4ibKaUpbHHF1TlIv8CrmwOgGpwBfJVUfTe7lsTbA5YE+56ELBvrsqwFXAsnDuNdKHu+RqrFqf/dExPtNnj4gSbqWdNA6LyLeqlu3R0ScVVFct0bEelXsu0qSbomIru1dbOWSdDBTB/p8prDqNeDkiChlsM92DMQEchy570cVY/xYY5p2BsRZSK1Ljo+IFSsKqTKSjia1QPsr0/bLGTRNiW16VQ702a4Bl0Bsqrqez9Osotyez0h6jKmD5k0iTaL0g4i4oawYukW+HlQvBuP1IANJW0TEPwvD/kyjm4e2H5DXQGyKbun5TEQsXXUM3SIiypzYzLrfpsA/mXbYn5oyh/vpM5dABoE8891bEfF+bs67EnB5mWODKc1P/yVgk7xoLPC7wTg+maT5SY05au/FtaTS2KAcLdpA0jBSq7xHIuKVquNpVVcP1GUzzXXAnJKWAK4E9iB1KizTb0nXPX6T/9bJywajU0kdXXfKf6+RJj+zQUjSvsB9wAnAg5LKGE5/pnAJZBAozP72FWCuiDim7Mm1JN0VEWv0tmwwaPTeD+bJzgY7SfcCm0fEBEnLkEaL2KDquFrhEsjgoDwm1W7ApXlZqeNQAZMlLVsIaBkGbx+It/KkQcCUjoVvNXm8DWzvRsQEgIh4FJij4nha5ovog8MhwLeBCyLivnzwbtQSqJO+AVwj6VFSS6ylSJ0bB6MvAmfmayEALwN7VRiPVetDko7v6X5EHFRBTC1xFdYgI2kW0vDlr/X64Jm/7zlIE3xBmuDrnWaPH6gkLR0Rj0maDyAiXqstqzo2K5+kpicPEXFGWbH0lRPIICDpD6Sz3snAbaQhEn4VET8rYd/rAk9GxHP5/p6kYUyeAI4oTDM7aPQwN8r4iOjqobvN6vkayOCwci5xbAdcDixNaolVht+RhqVG0ibA0cCZpPHJxpQUQ1eQtJKkHYD5JW1f+NubND6YDUKSTpa0ag/r5pH0+Tz0ftfxNZDBYbbcD2M74MSIeE9SWUXPIYVSxs7AmIg4Hzhf0p0lxdAtViR17lyAaTuNTQS+UElE1g1+DXxf0mqkaSgmkE4olifVFpwKnFNdeD1zAhkcfgc8DtwFXCdpKVLfgzIMkTRrREwizYO9f2HdoPr+RcRFwEWSNoiIm6qOx7pDRNwJ7CRpKGlir8VIrfIeiIiHKg2uF74GMkgVDuqd3s93gU8CLwLDgbUjIiQtB5wRERt1OoZuI+kEph+j7FVgXE4yZv2CE8ggUPXQGZLWJ51VXRkRb+RlK5Bagw26EWjztMsrAeflRTuQBpdcGHg0Ig6pKjazvnACGQQknU+qW601B9wDWCMiGo7+aZ0l6WZgo4iYnO/PClwPbEyas2blKuMza9WgqoMexJaNiB0K948chBewu8mCwFBStRWk2egWiojJkgZl3xjrn5xABoe3JG1cm3vDQ2dU7hjgTkljSb3yNwF+nEdN/keVgVn5JF1C43l7AIiIrh1c0VVYg4CkNUnVV/OTDlgvAXtFxN2VBjaISVoMqE3ne1tEPNPs8TZwSdo039we+CBwdr6/K/B8RHy1ksBa4AQyiNSGzgDeAHaJiK5sWz4Y5KH1l6JQCxAR11UXkVVN0riIGNnbsm7iKqwBLCeMLwNLABeRqke+DHwNuJsu7Zw00En6KalT5X3A+3lxkOZtscFrHknL5BF5kbQ06fpY13IJZACTdBFppNebSJ34PkCqwjo4d16yCkh6CFh9sA4maY1J2po0vE9xxOoDIuLvlQbWhBPIACbpnohYLd8eAjwLDI+It6uNbHCTdDmwY0S8XnUs1l3yiNUr5bsPdvtJhquwBrYp843nJqJPOXl0hTdJrbCuBqYcILp53gfrPElzA4cCS0XEFyQtL2nFiPhb1bH1xCWQAUzSZNIFc0hF4rlIBy8BERHz9fRc65ye5n/o5nkfrPMk/QkYD+wZEavmhHJjN0917ARiZtYFai2uJN0REWvlZXdFxBpVx9YTV2GZlUTSnyNiJ0n30KDjWESsXkFY1j3elTQX+bshaVkKVZzdyCUQs5JIWiwins3D6U8nIp4oOybrHpI+ChwGrAxcCWwE7B0RY6uMqxknEDOzLiFpYWB90nXKmyPixYpDasoJxKwkkiaSqifEtFVYbtRgQP8bocDXQMxKEhHzVh2Dda/+OEKBSyBmJcodOu+LiJV6fbANKv1xhIJZqg7AbDDJk0g9JGl41bFY13kUmK3qIPrCVVhm5VsQuE/SrUzt6NnV8z5YKfrdCAVOIGbl+17VAVhXujj/9Ru+BmJWMUkbA7tGxJerjsWsL1wCMauApLWAzwE7Ao8B51cbkVWlP49Q4ARiVhJJK5CmKd0VeBH4E6kWYPNKA7OqHZL/b1NpFG1wFZZZSSS9D1wP7BsRj+Rlj0bEMtVGZlWSdHtErC3prIjYo+p4+sIlELPybA/sAlwj6Qrgj6Re6Da4zS7pc8CGkravXxkRf60gppa4BGJWMknzANuSqrK2AM4ELoiIKysNzCqRG1HsBuzE9K2wIiI+X35UrXECMauQpAVJF9J3jogtq47HqiNp34g4peo4+sIJxMysC+SS6VeB4RGxv6Tlga6e0tZDmZiZdYdTgXeBDfP9p4Gjqgund04gZmbdYdmIOAZ4DyAi3qTLG1k4gZiZdYd+N6Wtm/GamXWHw4ErgCUlnUOe0rbSiHrhi+hmZl3CU9qamVnLJK3dbH1E3F5WLH3lBGJmViFJ1+SbcwIjgbtIJZDVgXERsUFVsfXGF9HNzCoUEZvnATWfBdaOiJERsQ6wFqkpb9dyAjEz6w4rRsQ9tTsRcS/w/yqMp1duhWVm1h3ulvR74Ox8fzfg7grj6ZWvgZiZdQFJcwJfAjbJi64DfhsRb1cXVXNOIGZm1hZXYZmZdQFJGwFHAEtRODZ384RjLoGYmXUBSQ+SRuMdD0yuLY+I/1UWVC9cAjEz6w6vRsTlVQfRFy6BmJl1AUlHA0OAv1IYRNE90c3MrKlCj/SiiIgtSg+mRU4gZmbWFl8DMTOrkKRD6xYF8CJwQ0Q8VkFILfNQJmZm1Zq37m8+0qCKl0vapcrAeuMqLDOzLiRpIeAfEdF0uPcquQRiZtaFIuIlPCe6mZn1laTNgZerjqMZX0Q3M6uQpHtIF86LFgKeAfYsP6LW+RqImVmFJC1VtyiA/0XEG1XE0xdOIGZm1hZfAzEzs7Y4gZiZWVucQKwlkkLSsYX7X5d0RC/P+bSk0b08ZjNJf+th3eOSFmkr4PT80yV9tt3nt7pdSbtI+q6kvfP7tFVh3XZ5WdtxSLqxl/U/KO6zj9veW9KJ+fYXJe1ZWL544XG/l7RyO/uwgcsJxFr1DrB9Xw7oEXFxRBzdwZh6JKnMFoafAK7It+8Bir2HdwXumpGNR8SGvaz/fkT8Y0b2kbdzUkScme/uDSxeWLdfRNw/o/uwgcUJxFo1CRhDmvBmGpKGSTpf0m35b6O8vHh2u6ykmyXdI+koSa8XNjFU0l8kPSjpHEnFzlPfzM+5VdJyeVsjJP1T0t2SrpY0PC8/XdJJkm4BjsnP30TSjZIerZUClPxM0r152zu3sPxESQ9J+gfwgcJrF7AmUBty+3pgPUmzSRoKLAfcWXj8lFKVpJGSxubbR0g6VdLYHOtBhee8Xrj9rRzbXXn472lKRHn7xzR4zz4l6RZJd0j6h6RFG3yOR+SS5WdJQ2mcI+lOSXPluEbmx31M0k2Sbpd0Xn6dSDpa0v35c/l5/fZt4HECsb74NbCbpPnrlv8K+EVErAvsAPy+wXN/BfwqIlYDnqpbtxZwCLAysAywUWHdq/k5JwK/zMtOAM6IiNWBc4DjC4//ELBhRNQGqFsM2BjYBqiVhrYnHfTXALYCfiZpsSbLPwOsmOPbEyiWCNYC7oqpzRkD+AfwcWBb4OIG70VPVsrPWw84XNJsxZWSPpG3+eGIWIOpSbJeo/fsBmD9iFgL+CPwzZ6CiIi/AOOA3SJizYh4qxDDIsBhwFZ5iI1xwKGSFia9T6vkz+WoPrxu66ecQKxlEfEacCZwUN2qrYATJd1JOmDOVzsrLdgAOC/f/kPdulsj4qmIeJ90tj6isO7cwv8NCtuqbeMsUoKoOS8iJhfuXxgR7+fql9pZ98bAuRExOSKeB64F1m2yfJPC8meAfxa2vzVQP4vcH0nVWLsU4m/FpRHxTkS8CLxQiLdmK+C0iHgTpgx10Uij9+xDwN+VOq19A1ilD3EVrU9KpP/Kn/depDm8XwXeBk6RtD3wZpvbt37EPdGtr35Jqq45rbBsFtLZ7dvFB05bE9XUO4Xbk5n2exk93O5Jfeer4rY7Ma7Qx0ilriki4lZJqwFvRsS/696HSUw9cZuzblvN3oe+aPSenQAcFxEXS9oMOKLNbQu4KiJ2nW6FtB6wJfBZ4ECgaydCspnDJRDrk3zW+2dg38LiK4Gv1O5IWrPBU29m6oG2L0NU71z4f1O+fWNhG7uRrjv0xfXAzpKGSBpGKmHc2mT5dYXliwGbA+SqvFkj4n8N9jEa+E6D5Y8D6+TbOzRY38xVwD6S5s77X6iHxzV6z+YHns6392phXxNJQ4vXuxnYqHBtZR5JK+QS5/wRcRnpOtkaLezD+jmXQKwdx5LOMGsOAn4t6W7Sd+o64It1zzkEOFvSd0ktll5tcV8L5u2+Q2rRBClZnSbpG8AEYJ8+xn8BqWrnLtIZ+jcj4jlJzZZvAdwP/JepB+WPkq53TCci6qu1ao4kVfP8EBjbl6Aj4oqcnMdJehe4jMZJqtF7dgRwnqSXSVVwS/eyu9OBkyS9xdRqMCJigqS9gXMlzZEXH0ZKOBdJmpNUSqmfJMkGIA9lYqXIZ81vRUQoTZKza0RsW3VcM0LS74HfR8TNVcdSI+lxYGS+jmLWUS6BWFnWIV1oF/AK8PmK45lhEbFf1TGYVcklEDMza4svopuZWVucQMzMrC1OIGZm1hYnEDMza4sTiJmZtcUJxMzM2vL/ATyoQnOW9LYGAAAAAElFTkSuQmCC\n",
      "text/plain": [
       "<Figure size 432x288 with 1 Axes>"
      ]
     },
     "metadata": {
      "needs_background": "light"
     },
     "output_type": "display_data"
    }
   ],
   "source": [
    "pd.Series([28, 25, 25, 22,21,16,10,6, 5, 4]   #Manually entered these values with \n",
    "          , index=[\"West End\", \"Esplen\",\"Rosslyn Farms\",\"South Shore\",\"St. Clair\",\n",
    "                   \"Arlington Heights\", \"Chateau\",\"Trafford\",\"Hays\",\"Undefined (Pittsburgh)\"]).plot.bar()\n",
    "plt.title(\"Top 10 Fewest COVID-19 Cases by Neighborhood/Municipality\")\n",
    "plt.xlabel(\"Neighborhood/Municipalities\")\n",
    "plt.ylabel(\"Number of Cases\")"
   ]
  },
  {
   "cell_type": "markdown",
   "metadata": {},
   "source": [
    "Here, we can observe that each of the top 10 safest neighborhoods/municipalities by number of COVID-19 cases barely reaches 30. However, the Undefined areas of Pittsburgh, or communities that do not belong to a particular neighborhood/municipality, have the fewest cases. Because we don't exactly know where \"undefined\" is, we must rule it out and resort to looking at the next safest neighborhood by COVID-cases, which is Hays. Hays boasts having only 5 cases in the past month. While it is close between Trafford and Hays, with 6 cases and 5 cases on record respectively, Hays takes the cake in having the fewest number of cases."
   ]
  },
  {
   "cell_type": "markdown",
   "metadata": {},
   "source": [
    "### Safest Municipalities by COVID-19-related Deaths"
   ]
  },
  {
   "cell_type": "code",
   "execution_count": 11,
   "metadata": {},
   "outputs": [
    {
     "data": {
      "text/plain": [
       "Text(0, 0.5, 'Amount of Deaths')"
      ]
     },
     "execution_count": 11,
     "metadata": {},
     "output_type": "execute_result"
    },
    {
     "data": {
      "image/png": "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\n",
      "text/plain": [
       "<Figure size 432x288 with 1 Axes>"
      ]
     },
     "metadata": {
      "needs_background": "light"
     },
     "output_type": "display_data"
    }
   ],
   "source": [
    "Top_Hundred_Deaths.plot.bar(x = \"neighborhood_municipality\",y = \"cases\", rot = 90)  \n",
    "#This graph represents the Top 100 deaths, sorted by least to highest number of deaths related to COVID.\n",
    "plt.title(\"Lowest COVID-19 Deaths by Municipality\")\n",
    "plt.xlabel(\"Neighborhood/Municipalities\")\n",
    "plt.ylabel(\"Amount of Deaths\")"
   ]
  },
  {
   "cell_type": "markdown",
   "metadata": {},
   "source": [
    "As seen here, there is a tie between the top 10 safest neighborhoods/municipalities by COVID-19 deaths. Unfortunately, this submetric will not be a helpful way in portraying the safest neighborhoods/municipalities, at least for this dataset."
   ]
  },
  {
   "cell_type": "markdown",
   "metadata": {},
   "source": [
    "### Heatmap of COVID-19 Cases in Pittsburgh Neighborhoods/Municipalities"
   ]
  },
  {
   "cell_type": "code",
   "execution_count": 5,
   "metadata": {},
   "outputs": [
    {
     "data": {
      "text/plain": [
       "neighborhood_municipality\n",
       "Penn Hills                        4588\n",
       "Bethel Park                       3698\n",
       "Monroeville                       3568\n",
       "Ross                              3546\n",
       "Plum                              3196\n",
       "                                  ... \n",
       "Arlington Heights (Pittsburgh)      16\n",
       "Chateau (Pittsburgh)                10\n",
       "Trafford                             6\n",
       "Haysville                            5\n",
       "Undefined (Pittsburgh)               4\n",
       "Name: cases, Length: 221, dtype: int64"
      ]
     },
     "execution_count": 5,
     "metadata": {},
     "output_type": "execute_result"
    }
   ],
   "source": [
    "num_cases = cases.groupby(\"neighborhood_municipality\").sum()[\"cases\"]\n",
    "num_cases.sort_values(ascending = False)"
   ]
  },
  {
   "cell_type": "code",
   "execution_count": 7,
   "metadata": {},
   "outputs": [],
   "source": [
    "neighborhoods = gp.read_file(\"Neighborhoods/Neighborhoods_.shp\") # read in the shapefile"
   ]
  },
  {
   "cell_type": "code",
   "execution_count": 8,
   "metadata": {},
   "outputs": [
    {
     "data": {
      "text/html": [
       "<div>\n",
       "<style scoped>\n",
       "    .dataframe tbody tr th:only-of-type {\n",
       "        vertical-align: middle;\n",
       "    }\n",
       "\n",
       "    .dataframe tbody tr th {\n",
       "        vertical-align: top;\n",
       "    }\n",
       "\n",
       "    .dataframe thead th {\n",
       "        text-align: right;\n",
       "    }\n",
       "</style>\n",
       "<table border=\"1\" class=\"dataframe\">\n",
       "  <thead>\n",
       "    <tr style=\"text-align: right;\">\n",
       "      <th></th>\n",
       "      <th>hood</th>\n",
       "      <th>cases</th>\n",
       "      <th>geometry</th>\n",
       "    </tr>\n",
       "  </thead>\n",
       "  <tbody>\n",
       "    <tr>\n",
       "      <th>0</th>\n",
       "      <td>Central Oakland</td>\n",
       "      <td>NaN</td>\n",
       "      <td>POLYGON ((-79.95304 40.44203, -79.95302 40.442...</td>\n",
       "    </tr>\n",
       "    <tr>\n",
       "      <th>1</th>\n",
       "      <td>North Oakland</td>\n",
       "      <td>NaN</td>\n",
       "      <td>POLYGON ((-79.95455 40.45882, -79.95427 40.458...</td>\n",
       "    </tr>\n",
       "    <tr>\n",
       "      <th>2</th>\n",
       "      <td>West Oakland</td>\n",
       "      <td>NaN</td>\n",
       "      <td>POLYGON ((-79.96230 40.44294, -79.96220 40.442...</td>\n",
       "    </tr>\n",
       "    <tr>\n",
       "      <th>3</th>\n",
       "      <td>Crawford-Roberts</td>\n",
       "      <td>NaN</td>\n",
       "      <td>POLYGON ((-79.98275 40.44641, -79.98273 40.446...</td>\n",
       "    </tr>\n",
       "    <tr>\n",
       "      <th>4</th>\n",
       "      <td>Strip District</td>\n",
       "      <td>NaN</td>\n",
       "      <td>POLYGON ((-79.97494 40.45629, -79.97484 40.456...</td>\n",
       "    </tr>\n",
       "    <tr>\n",
       "      <th>5</th>\n",
       "      <td>Central Business District</td>\n",
       "      <td>NaN</td>\n",
       "      <td>POLYGON ((-79.99238 40.44484, -79.99233 40.444...</td>\n",
       "    </tr>\n",
       "    <tr>\n",
       "      <th>6</th>\n",
       "      <td>Spring Hill-City View</td>\n",
       "      <td>NaN</td>\n",
       "      <td>POLYGON ((-79.99761 40.47460, -79.99761 40.474...</td>\n",
       "    </tr>\n",
       "    <tr>\n",
       "      <th>7</th>\n",
       "      <td>Perry South</td>\n",
       "      <td>NaN</td>\n",
       "      <td>POLYGON ((-80.01456 40.47727, -80.01462 40.477...</td>\n",
       "    </tr>\n",
       "    <tr>\n",
       "      <th>8</th>\n",
       "      <td>Summer Hill</td>\n",
       "      <td>NaN</td>\n",
       "      <td>POLYGON ((-80.01087 40.50097, -80.01073 40.499...</td>\n",
       "    </tr>\n",
       "    <tr>\n",
       "      <th>9</th>\n",
       "      <td>Northview Heights</td>\n",
       "      <td>NaN</td>\n",
       "      <td>POLYGON ((-80.00327 40.48271, -80.00326 40.482...</td>\n",
       "    </tr>\n",
       "  </tbody>\n",
       "</table>\n",
       "</div>"
      ],
      "text/plain": [
       "                        hood  cases  \\\n",
       "0            Central Oakland    NaN   \n",
       "1              North Oakland    NaN   \n",
       "2               West Oakland    NaN   \n",
       "3           Crawford-Roberts    NaN   \n",
       "4             Strip District    NaN   \n",
       "5  Central Business District    NaN   \n",
       "6      Spring Hill-City View    NaN   \n",
       "7                Perry South    NaN   \n",
       "8                Summer Hill    NaN   \n",
       "9          Northview Heights    NaN   \n",
       "\n",
       "                                            geometry  \n",
       "0  POLYGON ((-79.95304 40.44203, -79.95302 40.442...  \n",
       "1  POLYGON ((-79.95455 40.45882, -79.95427 40.458...  \n",
       "2  POLYGON ((-79.96230 40.44294, -79.96220 40.442...  \n",
       "3  POLYGON ((-79.98275 40.44641, -79.98273 40.446...  \n",
       "4  POLYGON ((-79.97494 40.45629, -79.97484 40.456...  \n",
       "5  POLYGON ((-79.99238 40.44484, -79.99233 40.444...  \n",
       "6  POLYGON ((-79.99761 40.47460, -79.99761 40.474...  \n",
       "7  POLYGON ((-80.01456 40.47727, -80.01462 40.477...  \n",
       "8  POLYGON ((-80.01087 40.50097, -80.01073 40.499...  \n",
       "9  POLYGON ((-80.00327 40.48271, -80.00326 40.482...  "
      ]
     },
     "execution_count": 8,
     "metadata": {},
     "output_type": "execute_result"
    }
   ],
   "source": [
    "#Merging the two dataframes\n",
    "case_map = neighborhoods.merge(num_cases, how='left', left_on='hood', right_on='neighborhood_municipality')\n",
    "# look at the head to confirm it merged correctly\n",
    "case_map[['hood','cases','geometry']].head(10)\n"
   ]
  },
  {
   "cell_type": "markdown",
   "metadata": {},
   "source": [
    "### Is there correlation between Covid-19 Cases and Deaths?\n",
    "\n",
    "Something that I noticed while creating these two graphics above while using the sub-metrics of COVID-19 cases is that the neighborhoods/municipalities with higher cases also had higher rates of death. "
   ]
  },
  {
   "cell_type": "code",
   "execution_count": 10,
   "metadata": {},
   "outputs": [
    {
     "data": {
      "text/plain": [
       "<matplotlib.axes._subplots.AxesSubplot at 0x7fee40bf7cd0>"
      ]
     },
     "execution_count": 10,
     "metadata": {},
     "output_type": "execute_result"
    },
    {
     "data": {
      "image/png": "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\n",
      "text/plain": [
       "<Figure size 432x288 with 1 Axes>"
      ]
     },
     "metadata": {
      "needs_background": "light"
     },
     "output_type": "display_data"
    }
   ],
   "source": [
    "cases.plot(kind='scatter', x='cases', y='deaths', title= \"COVID Cases vs. Deaths\")"
   ]
  },
  {
   "cell_type": "markdown",
   "metadata": {},
   "source": [
    "There seems to be somewhat of a moderately strong positive correlation between the two variables, cases & deaths."
   ]
  },
  {
   "cell_type": "code",
   "execution_count": 20,
   "metadata": {},
   "outputs": [
    {
     "data": {
      "text/plain": [
       "<matplotlib.axes._subplots.AxesSubplot at 0x7fee3e3471c0>"
      ]
     },
     "execution_count": 20,
     "metadata": {},
     "output_type": "execute_result"
    },
    {
     "data": {
      "image/png": "iVBORw0KGgoAAAANSUhEUgAAAX4AAAEWCAYAAABhffzLAAAABHNCSVQICAgIfAhkiAAAAAlwSFlzAAALEgAACxIB0t1+/AAAADh0RVh0U29mdHdhcmUAbWF0cGxvdGxpYiB2ZXJzaW9uMy4yLjIsIGh0dHA6Ly9tYXRwbG90bGliLm9yZy+WH4yJAAAfsUlEQVR4nO3de5QdZZnv8e+vO51OSAK5EkMCBgkXwQkRWwRhPAKC94AG8E5EXDlnRufo8UJwxjWDZ8ERwgyOo4xz4qBEuUNAWOINEWHkOIEGQgigJiAZEnIjJJCEpNNJP+ePepvsdHp37zRde+/u+n3W2mtXvXV7qnr3s2u/9dZbigjMzKw4GmodgJmZVZcTv5lZwTjxm5kVjBO/mVnBOPGbmRWME7+ZWcE48ZtZxSRdI+mSWsdhr40Tv/VK0scltUraImm1pJ9LOrlk+tGS7pT0kqTNku6V9PY07QRJWyWN7Ga9j0r6vKSpkkLSkFR+jaQdaV2bJS2V9E1JB/QS5xGSbpH0QopliaQvSWrs72NSDyRdLKm95Dj9SdJ3JU3qp/V/WtLv+mNdVl+c+K1Hkr4E/DPwf4CJwCHAvwJnpumHAQ8AjwOHAgcBtwO/knRiRPwnsBI4u8t63wQcDdxQZtPzImIUMAE4HzgBeEDSiDJxHgYsAp4D/iIiDgDOAVqAUX3a+YHhpnScxgIfAl4HPNxfyd8GqYjwy69uX8ABwBbgnB7m+THws27Kvwfcn4b/FvhNl+nzgNvT8FQggCFp/Brgki7zjwJWA58vE8e1wF297M8twBrgJeB+4JiSae8DngQ2A6uAr5RM+wCwGNgE/D9gesm0uWn+zcAfgdO62e7b0nYbS8o+BCxJw8cDrcDLwFrgygr/PhcD13YpawQeA/6xwvgvAp5O8T8JfCiVvxHYDuxKn4FNJX+bq4C70jKLgMPSNAHfAtalfXkceFOtP8d+dfPZqXUAftXvC3gPsLMzIZeZZw1wfjflp6SkMRw4OK3n4DStgexXwFlpvNfEn8p/RHaGW3EcXeb5TPoCaSb7FbO4ZNpq4C/T8BjguDT85pTI3paS6mzg2bSOI8l+YRxUsh+Hldn208DpJeO3ABel4d8Dn0rDI4ETKvz77JX4U/n/Bhb1Fn+afg7Zr7QG4CPAVmBSmvZp4Hdd1n0NsIHsy2oIcB1wY5r2buBhYHT6Enhj57r8qq+Xq3qsJ+OAFyJiZw/zjCdLml2tJksmYyPiOeC3wKfStNPIEudd+xjP82RVGuVi7S6OV0XEDyJic0S0kSXNY0uuG7QDR0vaPyI2RsQjqXwO8H8jYlFE7IqIBUAbWdXTrrQfR0tqiohnI+LpMpu/AfgYgKRRZL8wOqu52oFpksZHxJbIqsdei9Lj1FP8RMQtEfF8RHRExE3AMrKk3pPbI+LB9Lm4DphRsh+jgKMARcRTEdHj38Rqw4nferIBGN950bWMF4Du6pMnAR3AxjS+gN2J/1NkZ4nt+xjPZODFHmItW68tqVHSZZKelvQy2VkvZF9cALPIkvEKSfdJOjGVvx74sqRNnS+yXzAHRcRy4ItkXyLrJN0o6aAyIVwPfFhSM/Bh4JGIWJGmXQAcAfxB0kOSPtDTQahA6XEqGz+ApPMkLS6Z9qaSY1LOmpLhV8h+pRARvwG+S1YVtE7SfEn7v8Z9sRw48VtPfk92dnhWD/P8mqy6oKtzgd9HxCtp/DZgiqRTyBLfgn0JJLUKehfwHz3EMauHVXyc7IL0u8iuXUztXDVARDwUEWcCBwI/AW5O058DLo2I0SWv/SLihrTc9RFxMlmCDeDy7jYeEU8CK4D3pliuL5m2LCI+lrZ9OXBruYvYvZHUAHyQ3cepbPySXg98H/g8MC4iRgNLO49J2p99EhH/EhFvIbtwfwTw1b7sh+XLid/KioiXgL8HrpJ0lqT9JDVJeq+keWm2bwBvl3SppLGSRkn6G+A8sgufnevaCtwK/BBYERGtlcQgqVnSW8iS8ca0fHf+IcVxhaTXpWWnSbpW0miyKog2sl8G+5G1UurcxlBJn5B0QPoV8jLZrxXIEuP/kPQ2ZUZIen/azyMlnZrO4rcD20qW6871wBeAd5DV8Xdu/5OSJkREB9kFWHpZz14kDZH0RrLqo9cBV/YWPzCCLLmvT+s4n+yMv9Nasi/roRXG8Na0nSayawXb93U/rEpqfZHBr/p/AZ8ga3Wylexn/l3A20umvwn4KVnC3EJWn39yN+t5J1mimdulfCp7X9zdQdZqZAvwBNmZ8Ohe4jySLKFuIGu58xhZVUwjWXXEHWmdK8i+mAKYBgwFfkH2xfIy8FBp/GQXuR8iS8qr0zZGAdOBB9M6X0zH4KAe4juELBHe1aX8WrILsJ37elbJtC2ki87drO9isnr1Lelvs4ysqe3kLvN1G3+admmK/QWyL4v7gM+maUPT3/pFsms9nX+bS0rW/U5gZRo+DViS4nmBrP5/ZK0/v37t/VL6g5mZWUG4qsfMrGCc+M3MCsaJ38ysYJz4zcwKpqcbc+rG+PHjY+rUqbUOw8xsQHn44YdfiIgJXcsHROKfOnUqra0VNfs2M7NE0oruyl3VY2ZWME78ZmYF48RvZlYwTvxmZgXjxG9mVjBO/GZmdWjDljYee24TG7a09fu6B0RzTjOzIrlj8SrmLlxCU0MD7R0dzJs1nZkzJvfb+n3Gb2ZWRzZsaWPuwiVsb+9gc9tOtrd3cOHCJf165u/Eb2ZWR1Zu3EZTw56puamhgZUbt/XbNpz4zczqyJQxw2nv2PPBZe0dHUwZM7zftuHEb2ZWR8aNbGberOkMa2pgVPMQhjU1MG/WdMaNbO63bfjirplZnZk5YzInTRvPyo3bmDJmeL8mfXDiNzOrS+NGNvd7wu/kqh4zs4Jx4jczKxgnfjOzgskt8Us6UtLiktfLkr4oaaykuyUtS+9j8orBzMz2llvij4g/RsSMiJgBvAV4BbgduAi4JyIOB+5J42ZmViXVquo5DXg6IlYAZwILUvkC4KwqxWBmZlQv8X8UuCENT4yI1Wl4DTCxuwUkzZHUKql1/fr11YjRzKwQck/8koYCM4Fbuk6LiACiu+UiYn5EtEREy4QJez0k3szM+qgaZ/zvBR6JiLVpfK2kSQDpfV0VYjAzs6Qaif9j7K7mAbgTmJ2GZwN3VCEGMzNLck38kkYApwO3lRRfBpwuaRnwrjRuZmZVkmtfPRGxFRjXpWwDWSsfMzOrAd+5a2ZWME78ZmYF48RvZlYwTvxmZgXjxG9mVjBO/GZmBePEb2ZWME78ZmYF48RvZlYwTvxmZgXjxG9mVjBO/GZmBePEb2ZWME78ZmYF48RvZlYwTvxmZgXjxG9mVjB5P3pxtKRbJf1B0lOSTpQ0VtLdkpal9zF5xmBmZnvK+4z/28AvIuIo4FjgKeAi4J6IOBy4J42bmfWLDVvaeOy5TWzY0lbrUOpWbs/clXQA8A7g0wARsQPYIelM4J1ptgXAb4G5ecVhZsVxx+JVzF24hKaGBto7Opg3azozZ0yudVh1J88z/kOB9cAPJT0q6d8ljQAmRsTqNM8aYGKOMZhZQWzY0sbchUvY3t7B5radbG/v4MKFS3zm3408E/8Q4DjgexHxZmArXap1IiKA6G5hSXMktUpqXb9+fY5hmtlgsHLjNpoa9kxpTQ0NrNy4rUYR1a88E/9KYGVELErjt5J9EayVNAkgva/rbuGImB8RLRHRMmHChBzDNLPBYMqY4bR3dOxR1t7RwZQxw2sUUf3KLfFHxBrgOUlHpqLTgCeBO4HZqWw2cEdeMZhZcYwb2cy8WdMZ1tTAqOYhDGtqYN6s6Ywb2Vzr0OpObhd3k78BrpM0FHgGOJ/sy+ZmSRcAK4Bzc47BzApi5ozJnDRtPCs3bmPKmOFO+mXkmvgjYjHQ0s2k0/LcrpkV17iRzU74vfCdu2ZmBePEb2ZWME78ZmYF48RvZlYwTvxmZgXjxG9mVjBO/GZmBePEb2ZWME78ZmYF48RvZlYwTvxmZgXjxG9mVjBO/GZmBePEb2ZWME78ZmYF48RvZlYwTvxmZgXjxG9mVjC5PnpR0rPAZmAXsDMiWiSNBW4CpgLPAudGxMY84zAzs92qccZ/SkTMiIjOZ+9eBNwTEYcD96RxMzOrklpU9ZwJLEjDC4CzahCDmVlh5Z34A/iVpIclzUllEyNidRpeA0zsbkFJcyS1Smpdv359zmGamRVHrnX8wMkRsUrSgcDdkv5QOjEiQlJ0t2BEzAfmA7S0tHQ7j5mZ7btcz/gjYlV6XwfcDhwPrJU0CSC9r8szBjMz21NuiV/SCEmjOoeBM4ClwJ3A7DTbbOCOvGIwM7O95VnVMxG4XVLndq6PiF9Iegi4WdIFwArg3BxjMDOzLnJL/BHxDHBsN+UbgNPy2q6ZmfXMd+6amRWME7+ZWcE48ZuZFYwTv5lZwTjxm5kVjBO/mVnBOPGbmRWME7+ZWcE48ZuZFYwTv5lZwTjxm5kVjBO/mVnBOPGbmRWME7+ZWcE48ZuZFUxFiV/SSekpWkj6pKQrJb0+39DMzCwPlZ7xfw94RdKxwJeBp4Ef5RaVmZnlptLEvzMiAjgT+G5EXAWMyi8sMzPLS6WJf7OkrwGfBO6S1AA0VbKgpEZJj0r6aRo/VNIiScsl3SRpaN9CNzOzvqg08X8EaAMuiIg1wBTgigqX/QLwVMn45cC3ImIasBG4oML1mJlZP6go8UfEmoi4MiL+I43/V0T0WscvaQrwfuDf07iAU4Fb0ywLgLP6EriZmfVNpa16PixpmaSXJL0sabOklytY9J+BC4GOND4O2BQRO9P4SmBymW3OkdQqqXX9+vWVhGlmZhWotKpnHjAzIg6IiP0jYlRE7N/TApI+AKyLiIf7ElhEzI+IlohomTBhQl9WYWZm3RhS4XxrI+Kp3mfbw0nATEnvA4YB+wPfBkZLGpLO+qcAq/ZxvWZm9hr0mPglfTgNtkq6CfgJ2UVeACLitnLLRsTXgK+l9bwT+EpEfELSLcDZwI3AbOCO17IDZma2b3o74/9gyfArwBkl4wGUTfw9mAvcKOkS4FHg6j6sw8zM+qjHxB8R50PWZUNEPFA6TdJJlW4kIn4L/DYNPwMcv6+BmplZ/6j04u53KiwzM7M611sd/4nA24EJkr5UMml/oDHPwMzMLB+91fEPBUam+Ur75nmZ7AKtmZkNML3V8d8H3CfpmohYUaWYzMwsR5W2439F0hXAMWRt8gGIiFNzicrMzHJT6cXd64A/AIcC3wCeBR7KKSYzM8tRpYl/XERcDbRHxH0R8RmyztbMzGyAqbSqpz29r5b0fuB5YGw+IZmZWZ4qTfyXSDqA7LGL3yFrzvm/covKzMxyU1Hij4ifpsGXgFPyC8fMzPJWaX/8R0i6R9LSND5d0tfzDc3MzPJQ6cXd75P1tNkOEBFLgI/mFZSZmeWn0sS/X0Q82KVsZ7dzmplZXas08b8g6TCyrpiRdDawOreozMwsN5W26vkcMB84StIq4M/AJ3KLyszMctNb75ylPXL+DLiX7FfCVmAWcGV+oZmZWR56O+Pv7JHzSOCtZI9JFPApoGudv5mZDQC99c75DQBJ9wPHRcTmNH4xcFfu0ZmZWb+r9OLuRGBHyfiOVFaWpGGSHpT0mKQnJHV+iRwqaZGk5ZJukjS0b6GbmVlfVJr4fwQ8KOnidLa/CLiml2XagFMj4lhgBvAeSScAlwPfiohpwEbggr4EbmZmfVNR4o+IS4HzyRL1RuD8iPhmL8tERGxJo03pFWS9et6ayhcAZ/UhbjMz66NKm3MSEY8Aj+zLyiU1Ag8D04CrgKeBTRHRefPXSmBymWXnAHMADjnkkH3ZrJmZ9aDSqp4+iYhdETEDmAIcDxy1D8vOj4iWiGiZMGFCbjGamRVNrom/U0RsIrsH4ERgtKTOXxpTgFXViMHMzDK5JX5JEySNTsPDgdOBp8i+AM5Os80muzfAzMyqpOI6/j6YBCxI9fwNwM0R8VNJTwI3SroEeBS4OscYzMysi9wSf+q6+c3dlD9DVt9vZmY1UJU6fjMzqx9O/GZmBePEb2ZWME78ZmYF48RvZlYwTvxmZgXjxG9mVjBO/GZmBePEb2ZWME78ZmYF48RvZlYwTvxmZgXjxG9mVjBO/GZmBePEb2ZWME78NbRhSxuPPbeJDVvaah2KmRVInk/gsh7csXgVcxcuoamhgfaODubNms7MGZNrHZaZFUCez9w9WNK9kp6U9ISkL6TysZLulrQsvY/JK4Z6tWFLG3MXLmF7eweb23ayvb2DCxcu8Zm/mVVFnlU9O4EvR8TRwAnA5yQdDVwE3BMRhwP3pPFCWblxG00Nex76poYGVm7cVqOIzKxIckv8EbE6Ih5Jw5uBp4DJwJnAgjTbAuCsvGKoV1PGDKe9o2OPsvaODqaMGV6jiMysSKpycVfSVLIHry8CJkbE6jRpDTCxzDJzJLVKal2/fn01wqyacSObmTdrOsOaGhjVPIRhTQ3MmzWdcSObax2amRWAIiLfDUgjgfuASyPiNkmbImJ0yfSNEdFjPX9LS0u0trbmGmctbNjSxsqN25gyZriTvpn1O0kPR0RL1/JcW/VIagIWAtdFxG2peK2kSRGxWtIkYF2eMdSzcSObnfDNrOrybNUj4GrgqYi4smTSncDsNDwbuCOvGMzMbG95nvGfBHwKeFzS4lT2t8BlwM2SLgBWAOfmGIOZmXWRW+KPiN8BKjP5tLy2a2ZmPXOXDVVU1C4airrfZvXKXTZUSVG7aCjqfpvVM5/xV0FRu2go6n6b1Tsn/iooahcNRd1vs3rnxF8FRe2ioaj7bVbvnPiroKhdNBR1v83qXe5dNvSHwdJlQ1G7aCjqfpvVWk26bLA9FbWLhqLut1m9clWPmVnBOPGbmRWME/8A4Dtfzaw/uY6/zvnOVzPrbz7jr2O+89XM8uDEX8d856uZ5cGJv475zlczy4MTfx3zna9mlgdf3C1Rj3eYzpwxmZOmja+7uMxs4HLiT+q59YzvfDWz/pTnw9Z/IGmdpKUlZWMl3S1pWXofk9f290UtWs/Usm2+7wswK7Y8z/ivAb4L/Kik7CLgnoi4TNJFaXxujjFUpLP1zHZ2X0jtbD2Tx5l2LX9d1PMvGzOrjtzO+CPifuDFLsVnAgvS8ALgrLy2vy+q2Xqmlm3zfV+AmUH1W/VMjIjVaXgNMLHcjJLmSGqV1Lp+/fpcg6pm65lats33fQFmBjW8uBsRIanswwAiYj4wH7L++POOp1qtZ2rZNt/3BZgZVP+Mf62kSQDpfV2Vt9+jcSObOfbg0bm2oKll23zfF2BmUP0z/juB2cBl6f2OKm+/LlSzbX7XexN8X4CZ5Zb4Jd0AvBMYL2kl8A9kCf9mSRcAK4Bz89p+vatG2/xyLXh8X4BZseWW+CPiY2UmnZbXNouo3N3GpS14OpupXrhwCSdNG++kb1ZwvnN3AOupTX65ljp53ZtgZgOHO2kboHprkz9iaCPb2/dswbO9vYMRQxtrEa6Z1REnfgZmFwa9tcnfumMXzY3aY3pzo9i6Y1fVYjSz+lT4qp6B2oVBb23yp4wZjhoEu3bfAqEGuc2+mRX7jH8gd2HQW5t8t9k3s3IKfcbfW+ds9dg/f6ne2uS7zb6ZdafQib+n6pKBUgXUW5t8t9k3s64KXdXTWR3SPETs19RI8xAxb9Z0gAFbBWRm1ptCJ36A7NKnQOkd92JpZoNboRN/58Xdtp0dvLJjF207szP7EUMb3YulmQ1ahU785c7st+7Y5RYxZjZo+eJumTP7Yw8e7RYxZjYoFfqMv5K28Hn3z29mVm2D+oy/knb4M2dM5uhJ+7P4uU3MOHg0Y0YM5f4/rQeCYw46wEm/Cur9fgmzwWbQJv5K2+GXzretfScdAR2pl4OmRvFP5xxbl+33B4uBcr+E2WAyKBN/T33RA6+eXW7cuoOv3vIYO3bFHnfvdmrfFXz11iUcPWl/nn9pGy9v2wkE+w9v8q+BfuBnBpjVxqBM/OW6Yrhu0X/xr79dnk3buYuOjijtw6xbEfDub9/Pri7fC/418Nr11mWGmeVjUF7c7a61zo5du7jq3uWv3o3bvqv3pJ8t17FX0ofdvwZ8N2/f9dbDqJnloyaJX9J7JP1R0nJJF/X3+ru21hnaKE454kCGNKj3hUs0KjuzLzu9Qb6b9zVwD6JmtVH1qh5JjcBVwOnASuAhSXdGxJP9uZ3Onim//pOl/HzpGn7x5Np9Wn5oo7j+s2/jE1c/SGfHDl3t6gifnb5G7kHUrPpqccZ/PLA8Ip6JiB3AjcCZeWxo49Yd/Hzpmr3K9xvayJAyez5iaCPDmhr4x3OOpeXQcVxx9vRuz/qbGsUVZ/vstD/4fgmz6qrFxd3JwHMl4yuBt3WdSdIcYA7AIYcc0qcNLX5uU7flnz35UFqmjuGvr3uELW27H0U4ormRb3zwGE456sBXk1DnGekTz7/kVj1mNijUbaueiJgPzAdoaWmp4DLs3mYcPLrb8pnHHsSYEUPZ2bHnand1xB5Jv9O4kc2844gD+xKCmVndqUVVzyrg4JLxKams302bOIrzTtzz18J5Jx7CtImjfGHRzApLEX06me77BqUhwJ+A08gS/kPAxyPiiXLLtLS0RGtra5+3uXzt5le7ZJg2cdQe09xdgJkNVpIejoiWruVVr+qJiJ2SPg/8EmgEftBT0u8P0yaO2ivhd/KjCc2saGpSxx8RPwN+Vottm5kV3aC8c9fMzMpz4jczKxgnfjOzgnHiNzMrmKo35+wLSeuBFX1YdDzwQj+H098cY/8ZCHE6xv4zEOKsdYyvj4gJXQsHROLvK0mt3bVhrSeOsf8MhDgdY/8ZCHHWa4yu6jEzKxgnfjOzghnsiX9+rQOogGPsPwMhTsfYfwZCnHUZ46Cu4zczs70N9jN+MzPrwonfzKxgBmXiz/th7vsYy7OSHpe0WFJrKhsr6W5Jy9L7mFQuSf+S4l4i6bgc4/qBpHWSlpaU7XNckman+ZdJml2FGC+WtCodz8WS3lcy7Wspxj9KendJeW6fB0kHS7pX0pOSnpD0hVReb8eyXJx1czwlDZP0oKTHUozfSOWHSlqUtneTpKGpvDmNL0/Tp/YWe44xXiPpzyXHcUYqr8nfu1cRMaheZF09Pw28ARgKPAYcXcN4ngXGdymbB1yUhi8CLk/D7wN+Dgg4AViUY1zvAI4DlvY1LmAs8Ex6H5OGx+Qc48XAV7qZ9+j0t24GDk2fgca8Pw/AJOC4NDyK7FkTR9fhsSwXZ90cz3RMRqbhJmBROkY3Ax9N5f8G/FUa/mvg39LwR4Gbeoo95xivAc7uZv6a/L17ew3GM/6qPcz9NTgTWJCGFwBnlZT/KDL/CYyWNCmPACLifuDF1xjXu4G7I+LFiNgI3A28J+cYyzkTuDEi2iLiz8Byss9Crp+HiFgdEY+k4c3AU2TPla63Y1kuznKqfjzTMdmSRpvSK4BTgVtTeddj2XmMbwVOk6QeYs8zxnJq8vfuzWBM/N09zL2nD3jeAviVpIeVPUAeYGJErE7Da4CJabjWse9rXLWK9/PpZ/MPOqtQ6iHGVNXwZrKzwLo9ll3ihDo6npIaJS0G1pElw6eBTRGxs5vtvRpLmv4SMK7aMUZE53G8NB3Hb0nqfLpTzf/e3RmMib/enBwRxwHvBT4n6R2lEyP73Vd3bWrrNS7ge8BhwAxgNfBPtQ0nI2kksBD4YkS8XDqtno5lN3HW1fGMiF0RMYPsWdzHA0fVMp7udI1R0puAr5HF+lay6pu5NQyxV4Mx8VftYe6ViIhV6X0dcDvZh3ltZxVOel+XZq917PsaV9XjjYi16R+vA/g+u3/C1yxGSU1kyfS6iLgtFdfdsewuzno8nimuTcC9wIlk1SOdTwss3d6rsaTpBwAbahDje1JVWkREG/BD6uQ4ljMYE/9DwOGpJcBQsos+d9YiEEkjJI3qHAbOAJameDqv4s8G7kjDdwLnpZYAJwAvlVQXVMO+xvVL4AxJY1IVwRmpLDddrnl8iOx4dsb40dTS41DgcOBBcv48pDrlq4GnIuLKkkl1dSzLxVlPx1PSBEmj0/Bw4HSyaxH3Amen2boey85jfDbwm/TrqlzsecX4h5IveZFdgyg9jnXxv7OHal1FruaL7Er6n8jqB/+uhnG8gax1wWPAE52xkNVD3gMsA34NjI3dLQauSnE/DrTkGNsNZD/t28nqFy/oS1zAZ8guni0Hzq9CjD9OMSwh+6eaVDL/36UY/wi8txqfB+BksmqcJcDi9HpfHR7LcnHWzfEEpgOPpliWAn9f8n/0YDoutwDNqXxYGl+epr+ht9hzjPE36TguBa5ld8ufmvy9e3u5ywYzs4IZjFU9ZmbWAyd+M7OCceI3MysYJ34zs4Jx4jczKxgnfjOzgnHiNzMrGCd+sxKSzksdbT0m6ceSPqisr/dHJf1a0sQ0338r6Xv90ZI7tL8q6aG0js6+2kdIuiutc6mkj9RyH82G9D6LWTFIOgb4OvD2iHhB0liyu11PiIiQ9FngQuDLwFeAz0XEA6njs+2SziDrHuB4sjs270yd8k0Ano+I96ftHFD1nTMr4TN+s91OBW6JiBcAIuJFss6zfinpceCrwDFp3geAKyX9T2B0ZN0Cn5FejwKPkPXWeDjZrfqnS7pc0l9GxEvV3Cmzrpz4zXr2HeC7EfEXwH8n6x+GiLgM+CwwHHhA0lFkZ/nfjIgZ6TUtIq6OiD+RPUnsceASSX9fkz0xS5z4zXb7DXCOpHGQPTeXrKvfzu5yX30uqqTDIuLxiLicrMfKo8h6V/xMqvpB0mRJB0o6CHglIq4FriD7EjCrGdfxmyUR8YSkS4H7JO0iq7K5GLhF0kayL4ZD0+xflHQK0EHW8+rPI6JN0huB32e987IF+CQwDbhCUgdZT6N/VcXdMtuLe+c0MysYV/WYmRWME7+ZWcE48ZuZFYwTv5lZwTjxm5kVjBO/mVnBOPGbmRXM/wc/m8CTj/NlAAAAAABJRU5ErkJggg==\n",
      "text/plain": [
       "<Figure size 432x288 with 1 Axes>"
      ]
     },
     "metadata": {
      "needs_background": "light"
     },
     "output_type": "display_data"
    }
   ],
   "source": [
    "cases.iloc[:30].plot(kind='scatter', x='cases', y='deaths', title= \"COVID Cases vs. Deaths\")"
   ]
  },
  {
   "cell_type": "markdown",
   "metadata": {},
   "source": [
    "The scatter plot shown here is a simplified version of the scatterplot above, showcasing the first 30 datapoints in the database."
   ]
  },
  {
   "cell_type": "markdown",
   "metadata": {},
   "source": [
    "# Analysis"
   ]
  },
  {
   "cell_type": "markdown",
   "metadata": {},
   "source": [
    "To give weighting to the metric of safest neighborhood/municipality by COVID-19 case, our group decided to rank our top 5 neighborhoods/municipalities by awarding them points based on their placing on the \"podium\". For my dataset, Hays was awarded 5 points, Trafford awarded 4 points, Chateau awarded 3 points, Arlington Heights was awarded 2 points, and St. Clair was awarded 1 points.\n",
    "\n",
    "The Standings are presented as stands:\n",
    "\n",
    "Hays: 5 points\n",
    "\n",
    "Trafford: 4 points\n",
    "\n",
    "Chateau: 3 points\n",
    "\n",
    "Arlington Heights: 2 points\n",
    "\n",
    "St. Clair: 1 point"
   ]
  },
  {
   "cell_type": "code",
   "execution_count": null,
   "metadata": {},
   "outputs": [],
   "source": []
  }
 ],
 "metadata": {
  "kernelspec": {
   "display_name": "Python 3",
   "language": "python",
   "name": "python3"
  },
  "language_info": {
   "codemirror_mode": {
    "name": "ipython",
    "version": 3
   },
   "file_extension": ".py",
   "mimetype": "text/x-python",
   "name": "python",
   "nbconvert_exporter": "python",
   "pygments_lexer": "ipython3",
   "version": "3.8.3"
  }
 },
 "nbformat": 4,
 "nbformat_minor": 4
}

