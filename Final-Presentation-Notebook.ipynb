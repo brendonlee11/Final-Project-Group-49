{
 "cells": [
  {
   "cell_type": "markdown",
   "metadata": {},
   "source": [
    "As I searched through the many datasets provided by WPRDC, I came across 311 data. I found this to be the most interesting to me as it is mobile requests made by people in the neighborhoods of Pittsburgh. Not only was I interested in finding out what type of 311 calls were made but what neighborhoods had the most and least. I specifically looked at the neighborhoods and the amount of requests made. Overall, this helped me find the safest neighborhood in Pittsburgh in terms of quieteness, since a neighborhood with a low amount of 311 requests is a quieter neighborhood than one with more requests. "
   ]
  },
  {
   "cell_type": "markdown",
   "metadata": {},
   "source": [
    "Import"
   ]
  },
  {
   "cell_type": "code",
   "execution_count": 8,
   "metadata": {},
   "outputs": [],
   "source": [
    "import pandas as pd\n",
    "import numpy as np\n",
    "import geopandas as gpd\n",
    "%matplotlib inline\n",
    "import matplotlib.pyplot as plt"
   ]
  },
  {
   "cell_type": "markdown",
   "metadata": {},
   "source": [
    "# 311 Dataset"
   ]
  },
  {
   "cell_type": "markdown",
   "metadata": {},
   "source": [
    "311 service requests in Pittsburgh. Requests are collected from the following: phone calls, tweets, emails, a form on the City website, and through the 311 mobile application"
   ]
  },
  {
   "cell_type": "code",
   "execution_count": 9,
   "metadata": {},
   "outputs": [
    {
     "data": {
      "text/html": [
       "<div>\n",
       "<style scoped>\n",
       "    .dataframe tbody tr th:only-of-type {\n",
       "        vertical-align: middle;\n",
       "    }\n",
       "\n",
       "    .dataframe tbody tr th {\n",
       "        vertical-align: top;\n",
       "    }\n",
       "\n",
       "    .dataframe thead th {\n",
       "        text-align: right;\n",
       "    }\n",
       "</style>\n",
       "<table border=\"1\" class=\"dataframe\">\n",
       "  <thead>\n",
       "    <tr style=\"text-align: right;\">\n",
       "      <th></th>\n",
       "      <th>CREATED_ON</th>\n",
       "      <th>REQUEST_TYPE</th>\n",
       "      <th>REQUEST_ORIGIN</th>\n",
       "      <th>STATUS</th>\n",
       "      <th>DEPARTMENT</th>\n",
       "      <th>NEIGHBORHOOD</th>\n",
       "      <th>COUNCIL_DISTRICT</th>\n",
       "      <th>WARD</th>\n",
       "      <th>TRACT</th>\n",
       "      <th>PUBLIC_WORKS_DIVISION</th>\n",
       "      <th>PLI_DIVISION</th>\n",
       "      <th>POLICE_ZONE</th>\n",
       "      <th>FIRE_ZONE</th>\n",
       "      <th>X</th>\n",
       "      <th>Y</th>\n",
       "      <th>GEO_ACCURACY</th>\n",
       "    </tr>\n",
       "    <tr>\n",
       "      <th>REQUEST_ID</th>\n",
       "      <th></th>\n",
       "      <th></th>\n",
       "      <th></th>\n",
       "      <th></th>\n",
       "      <th></th>\n",
       "      <th></th>\n",
       "      <th></th>\n",
       "      <th></th>\n",
       "      <th></th>\n",
       "      <th></th>\n",
       "      <th></th>\n",
       "      <th></th>\n",
       "      <th></th>\n",
       "      <th></th>\n",
       "      <th></th>\n",
       "      <th></th>\n",
       "    </tr>\n",
       "  </thead>\n",
       "  <tbody>\n",
       "    <tr>\n",
       "      <th>203364.0</th>\n",
       "      <td>2017-12-15T14:53:00</td>\n",
       "      <td>Street Obstruction/Closure</td>\n",
       "      <td>Call Center</td>\n",
       "      <td>1</td>\n",
       "      <td>DOMI - Permits</td>\n",
       "      <td>Central Northside</td>\n",
       "      <td>1.0</td>\n",
       "      <td>22.0</td>\n",
       "      <td>4.200322e+10</td>\n",
       "      <td>1.0</td>\n",
       "      <td>22.0</td>\n",
       "      <td>1.0</td>\n",
       "      <td>1-7</td>\n",
       "      <td>-80.016716</td>\n",
       "      <td>40.454144</td>\n",
       "      <td>EXACT</td>\n",
       "    </tr>\n",
       "    <tr>\n",
       "      <th>200800.0</th>\n",
       "      <td>2017-11-29T09:54:00</td>\n",
       "      <td>Graffiti</td>\n",
       "      <td>Control Panel</td>\n",
       "      <td>1</td>\n",
       "      <td>Police - Zones 1-6</td>\n",
       "      <td>South Side Flats</td>\n",
       "      <td>3.0</td>\n",
       "      <td>16.0</td>\n",
       "      <td>4.200316e+10</td>\n",
       "      <td>3.0</td>\n",
       "      <td>16.0</td>\n",
       "      <td>3.0</td>\n",
       "      <td>4-24</td>\n",
       "      <td>-79.969952</td>\n",
       "      <td>40.429243</td>\n",
       "      <td>APPROXIMATE</td>\n",
       "    </tr>\n",
       "    <tr>\n",
       "      <th>201310.0</th>\n",
       "      <td>2017-12-01T13:23:00</td>\n",
       "      <td>Litter</td>\n",
       "      <td>Call Center</td>\n",
       "      <td>1</td>\n",
       "      <td>DPW - Street Maintenance</td>\n",
       "      <td>Troy Hill</td>\n",
       "      <td>1.0</td>\n",
       "      <td>24.0</td>\n",
       "      <td>4.200324e+10</td>\n",
       "      <td>1.0</td>\n",
       "      <td>24.0</td>\n",
       "      <td>1.0</td>\n",
       "      <td>1-2</td>\n",
       "      <td>-79.985859</td>\n",
       "      <td>40.459716</td>\n",
       "      <td>EXACT</td>\n",
       "    </tr>\n",
       "    <tr>\n",
       "      <th>200171.0</th>\n",
       "      <td>2017-11-22T14:54:00</td>\n",
       "      <td>Water Main Break</td>\n",
       "      <td>Call Center</td>\n",
       "      <td>1</td>\n",
       "      <td>Pittsburgh Water and Sewer Authority</td>\n",
       "      <td>Banksville</td>\n",
       "      <td>2.0</td>\n",
       "      <td>20.0</td>\n",
       "      <td>4.200320e+10</td>\n",
       "      <td>5.0</td>\n",
       "      <td>20.0</td>\n",
       "      <td>6.0</td>\n",
       "      <td>4-9</td>\n",
       "      <td>-80.034210</td>\n",
       "      <td>40.406969</td>\n",
       "      <td>EXACT</td>\n",
       "    </tr>\n",
       "    <tr>\n",
       "      <th>193043.0</th>\n",
       "      <td>2017-10-12T12:46:00</td>\n",
       "      <td>Guide Rail</td>\n",
       "      <td>Call Center</td>\n",
       "      <td>1</td>\n",
       "      <td>DPW - Construction Division</td>\n",
       "      <td>East Hills</td>\n",
       "      <td>9.0</td>\n",
       "      <td>13.0</td>\n",
       "      <td>4.200313e+10</td>\n",
       "      <td>2.0</td>\n",
       "      <td>13.0</td>\n",
       "      <td>5.0</td>\n",
       "      <td>3-19</td>\n",
       "      <td>-79.876582</td>\n",
       "      <td>40.451226</td>\n",
       "      <td>EXACT</td>\n",
       "    </tr>\n",
       "    <tr>\n",
       "      <th>...</th>\n",
       "      <td>...</td>\n",
       "      <td>...</td>\n",
       "      <td>...</td>\n",
       "      <td>...</td>\n",
       "      <td>...</td>\n",
       "      <td>...</td>\n",
       "      <td>...</td>\n",
       "      <td>...</td>\n",
       "      <td>...</td>\n",
       "      <td>...</td>\n",
       "      <td>...</td>\n",
       "      <td>...</td>\n",
       "      <td>...</td>\n",
       "      <td>...</td>\n",
       "      <td>...</td>\n",
       "      <td>...</td>\n",
       "    </tr>\n",
       "    <tr>\n",
       "      <th>585669.0</th>\n",
       "      <td>2021-12-07T16:54:00</td>\n",
       "      <td>City Facility</td>\n",
       "      <td>Call Center</td>\n",
       "      <td>0</td>\n",
       "      <td>DPW - Facilities</td>\n",
       "      <td>Brighton Heights</td>\n",
       "      <td>1.0</td>\n",
       "      <td>27.0</td>\n",
       "      <td>4.200327e+10</td>\n",
       "      <td>1.0</td>\n",
       "      <td>27.0</td>\n",
       "      <td>1.0</td>\n",
       "      <td>1-14</td>\n",
       "      <td>-80.035896</td>\n",
       "      <td>40.479149</td>\n",
       "      <td>EXACT</td>\n",
       "    </tr>\n",
       "    <tr>\n",
       "      <th>585670.0</th>\n",
       "      <td>2021-12-07T16:57:00</td>\n",
       "      <td>Question</td>\n",
       "      <td>Call Center</td>\n",
       "      <td>1</td>\n",
       "      <td>311</td>\n",
       "      <td>NaN</td>\n",
       "      <td>NaN</td>\n",
       "      <td>NaN</td>\n",
       "      <td>NaN</td>\n",
       "      <td>NaN</td>\n",
       "      <td>NaN</td>\n",
       "      <td>NaN</td>\n",
       "      <td>NaN</td>\n",
       "      <td>NaN</td>\n",
       "      <td>NaN</td>\n",
       "      <td>OUT_OF_BOUNDS</td>\n",
       "    </tr>\n",
       "    <tr>\n",
       "      <th>585671.0</th>\n",
       "      <td>2021-12-07T17:02:00</td>\n",
       "      <td>Weeds/Debris</td>\n",
       "      <td>Call Center</td>\n",
       "      <td>0</td>\n",
       "      <td>Permits, Licenses and Inspections</td>\n",
       "      <td>Swisshelm Park</td>\n",
       "      <td>5.0</td>\n",
       "      <td>14.0</td>\n",
       "      <td>4.200314e+10</td>\n",
       "      <td>3.0</td>\n",
       "      <td>14.0</td>\n",
       "      <td>4.0</td>\n",
       "      <td>2-19</td>\n",
       "      <td>-79.898695</td>\n",
       "      <td>40.420577</td>\n",
       "      <td>EXACT</td>\n",
       "    </tr>\n",
       "    <tr>\n",
       "      <th>585672.0</th>\n",
       "      <td>2021-12-07T17:04:00</td>\n",
       "      <td>Fence</td>\n",
       "      <td>Call Center</td>\n",
       "      <td>0</td>\n",
       "      <td>DOMI - Construction</td>\n",
       "      <td>Brookline</td>\n",
       "      <td>4.0</td>\n",
       "      <td>19.0</td>\n",
       "      <td>4.200319e+10</td>\n",
       "      <td>5.0</td>\n",
       "      <td>19.0</td>\n",
       "      <td>6.0</td>\n",
       "      <td>4-26</td>\n",
       "      <td>-80.026374</td>\n",
       "      <td>40.397909</td>\n",
       "      <td>EXACT</td>\n",
       "    </tr>\n",
       "    <tr>\n",
       "      <th>585673.0</th>\n",
       "      <td>2021-12-07T17:05:00</td>\n",
       "      <td>Abandoned Vehicle (parked on street)</td>\n",
       "      <td>Call Center</td>\n",
       "      <td>0</td>\n",
       "      <td>Police - AVU</td>\n",
       "      <td>East Hills</td>\n",
       "      <td>9.0</td>\n",
       "      <td>13.0</td>\n",
       "      <td>4.200313e+10</td>\n",
       "      <td>2.0</td>\n",
       "      <td>13.0</td>\n",
       "      <td>5.0</td>\n",
       "      <td>3-19</td>\n",
       "      <td>-79.871421</td>\n",
       "      <td>40.453169</td>\n",
       "      <td>APPROXIMATE</td>\n",
       "    </tr>\n",
       "  </tbody>\n",
       "</table>\n",
       "<p>567690 rows × 16 columns</p>\n",
       "</div>"
      ],
      "text/plain": [
       "                     CREATED_ON                          REQUEST_TYPE  \\\n",
       "REQUEST_ID                                                              \n",
       "203364.0    2017-12-15T14:53:00            Street Obstruction/Closure   \n",
       "200800.0    2017-11-29T09:54:00                              Graffiti   \n",
       "201310.0    2017-12-01T13:23:00                                Litter   \n",
       "200171.0    2017-11-22T14:54:00                      Water Main Break   \n",
       "193043.0    2017-10-12T12:46:00                            Guide Rail   \n",
       "...                         ...                                   ...   \n",
       "585669.0    2021-12-07T16:54:00                         City Facility   \n",
       "585670.0    2021-12-07T16:57:00                              Question   \n",
       "585671.0    2021-12-07T17:02:00                          Weeds/Debris   \n",
       "585672.0    2021-12-07T17:04:00                                 Fence   \n",
       "585673.0    2021-12-07T17:05:00  Abandoned Vehicle (parked on street)   \n",
       "\n",
       "           REQUEST_ORIGIN  STATUS                            DEPARTMENT  \\\n",
       "REQUEST_ID                                                                \n",
       "203364.0      Call Center       1                        DOMI - Permits   \n",
       "200800.0    Control Panel       1                    Police - Zones 1-6   \n",
       "201310.0      Call Center       1              DPW - Street Maintenance   \n",
       "200171.0      Call Center       1  Pittsburgh Water and Sewer Authority   \n",
       "193043.0      Call Center       1           DPW - Construction Division   \n",
       "...                   ...     ...                                   ...   \n",
       "585669.0      Call Center       0                      DPW - Facilities   \n",
       "585670.0      Call Center       1                                   311   \n",
       "585671.0      Call Center       0     Permits, Licenses and Inspections   \n",
       "585672.0      Call Center       0                   DOMI - Construction   \n",
       "585673.0      Call Center       0                          Police - AVU   \n",
       "\n",
       "                 NEIGHBORHOOD  COUNCIL_DISTRICT  WARD         TRACT  \\\n",
       "REQUEST_ID                                                            \n",
       "203364.0    Central Northside               1.0  22.0  4.200322e+10   \n",
       "200800.0     South Side Flats               3.0  16.0  4.200316e+10   \n",
       "201310.0            Troy Hill               1.0  24.0  4.200324e+10   \n",
       "200171.0           Banksville               2.0  20.0  4.200320e+10   \n",
       "193043.0           East Hills               9.0  13.0  4.200313e+10   \n",
       "...                       ...               ...   ...           ...   \n",
       "585669.0     Brighton Heights               1.0  27.0  4.200327e+10   \n",
       "585670.0                  NaN               NaN   NaN           NaN   \n",
       "585671.0       Swisshelm Park               5.0  14.0  4.200314e+10   \n",
       "585672.0            Brookline               4.0  19.0  4.200319e+10   \n",
       "585673.0           East Hills               9.0  13.0  4.200313e+10   \n",
       "\n",
       "            PUBLIC_WORKS_DIVISION  PLI_DIVISION  POLICE_ZONE FIRE_ZONE  \\\n",
       "REQUEST_ID                                                               \n",
       "203364.0                      1.0          22.0          1.0       1-7   \n",
       "200800.0                      3.0          16.0          3.0      4-24   \n",
       "201310.0                      1.0          24.0          1.0       1-2   \n",
       "200171.0                      5.0          20.0          6.0       4-9   \n",
       "193043.0                      2.0          13.0          5.0      3-19   \n",
       "...                           ...           ...          ...       ...   \n",
       "585669.0                      1.0          27.0          1.0      1-14   \n",
       "585670.0                      NaN           NaN          NaN       NaN   \n",
       "585671.0                      3.0          14.0          4.0      2-19   \n",
       "585672.0                      5.0          19.0          6.0      4-26   \n",
       "585673.0                      2.0          13.0          5.0      3-19   \n",
       "\n",
       "                    X          Y   GEO_ACCURACY  \n",
       "REQUEST_ID                                       \n",
       "203364.0   -80.016716  40.454144          EXACT  \n",
       "200800.0   -79.969952  40.429243    APPROXIMATE  \n",
       "201310.0   -79.985859  40.459716          EXACT  \n",
       "200171.0   -80.034210  40.406969          EXACT  \n",
       "193043.0   -79.876582  40.451226          EXACT  \n",
       "...               ...        ...            ...  \n",
       "585669.0   -80.035896  40.479149          EXACT  \n",
       "585670.0          NaN        NaN  OUT_OF_BOUNDS  \n",
       "585671.0   -79.898695  40.420577          EXACT  \n",
       "585672.0   -80.026374  40.397909          EXACT  \n",
       "585673.0   -79.871421  40.453169    APPROXIMATE  \n",
       "\n",
       "[567690 rows x 16 columns]"
      ]
     },
     "execution_count": 9,
     "metadata": {},
     "output_type": "execute_result"
    }
   ],
   "source": [
    "# importing data\n",
    "pgh_311_data = pd.read_csv('https://data.wprdc.org/datastore/dump/76fda9d0-69be-4dd5-8108-0de7907fc5a4', index_col = \"REQUEST_ID\")\n",
    "pgh_311_data"
   ]
  },
  {
   "cell_type": "markdown",
   "metadata": {},
   "source": [
    "# Neighborhood with the most 311 call requests"
   ]
  },
  {
   "cell_type": "code",
   "execution_count": 14,
   "metadata": {},
   "outputs": [
    {
     "data": {
      "text/plain": [
       "Brookline               22791\n",
       "Carrick                 21773\n",
       "Squirrel Hill South     18925\n",
       "South Side Slopes       18522\n",
       "South Side Flats        16852\n",
       "                        ...  \n",
       "East Carnegie             533\n",
       "Northview Heights         527\n",
       "Glen Hazel                370\n",
       "Arlington Heights         113\n",
       "Mount Oliver Borough       61\n",
       "Name: NEIGHBORHOOD, Length: 91, dtype: int64"
      ]
     },
     "execution_count": 14,
     "metadata": {},
     "output_type": "execute_result"
    }
   ],
   "source": [
    "pgh_311_data['NEIGHBORHOOD'].value_counts().sort_values(ascending = False)"
   ]
  },
  {
   "cell_type": "markdown",
   "metadata": {},
   "source": [
    "Since we want the most up to date information on the status of the 311 requests where 0 = new, according to the Data Dictionary, we will filter out the dataset"
   ]
  },
  {
   "cell_type": "code",
   "execution_count": 15,
   "metadata": {},
   "outputs": [
    {
     "data": {
      "text/html": [
       "<div>\n",
       "<style scoped>\n",
       "    .dataframe tbody tr th:only-of-type {\n",
       "        vertical-align: middle;\n",
       "    }\n",
       "\n",
       "    .dataframe tbody tr th {\n",
       "        vertical-align: top;\n",
       "    }\n",
       "\n",
       "    .dataframe thead th {\n",
       "        text-align: right;\n",
       "    }\n",
       "</style>\n",
       "<table border=\"1\" class=\"dataframe\">\n",
       "  <thead>\n",
       "    <tr style=\"text-align: right;\">\n",
       "      <th></th>\n",
       "      <th>CREATED_ON</th>\n",
       "      <th>REQUEST_TYPE</th>\n",
       "      <th>REQUEST_ORIGIN</th>\n",
       "      <th>STATUS</th>\n",
       "      <th>DEPARTMENT</th>\n",
       "      <th>NEIGHBORHOOD</th>\n",
       "      <th>COUNCIL_DISTRICT</th>\n",
       "      <th>WARD</th>\n",
       "      <th>TRACT</th>\n",
       "      <th>PUBLIC_WORKS_DIVISION</th>\n",
       "      <th>PLI_DIVISION</th>\n",
       "      <th>POLICE_ZONE</th>\n",
       "      <th>FIRE_ZONE</th>\n",
       "      <th>X</th>\n",
       "      <th>Y</th>\n",
       "      <th>GEO_ACCURACY</th>\n",
       "    </tr>\n",
       "    <tr>\n",
       "      <th>REQUEST_ID</th>\n",
       "      <th></th>\n",
       "      <th></th>\n",
       "      <th></th>\n",
       "      <th></th>\n",
       "      <th></th>\n",
       "      <th></th>\n",
       "      <th></th>\n",
       "      <th></th>\n",
       "      <th></th>\n",
       "      <th></th>\n",
       "      <th></th>\n",
       "      <th></th>\n",
       "      <th></th>\n",
       "      <th></th>\n",
       "      <th></th>\n",
       "      <th></th>\n",
       "    </tr>\n",
       "  </thead>\n",
       "  <tbody>\n",
       "    <tr>\n",
       "      <th>179176.0</th>\n",
       "      <td>2017-08-14T14:00:00</td>\n",
       "      <td>Neighborhood Issues</td>\n",
       "      <td>Control Panel</td>\n",
       "      <td>0</td>\n",
       "      <td>NaN</td>\n",
       "      <td>Middle Hill</td>\n",
       "      <td>6.0</td>\n",
       "      <td>5.0</td>\n",
       "      <td>4.200305e+10</td>\n",
       "      <td>3.0</td>\n",
       "      <td>5.0</td>\n",
       "      <td>2.0</td>\n",
       "      <td>2-1</td>\n",
       "      <td>-79.977726</td>\n",
       "      <td>40.446142</td>\n",
       "      <td>APPROXIMATE</td>\n",
       "    </tr>\n",
       "    <tr>\n",
       "      <th>182748.0</th>\n",
       "      <td>2017-08-28T12:49:00</td>\n",
       "      <td>Abandoned Vehicle (parked on street)</td>\n",
       "      <td>Control Panel</td>\n",
       "      <td>0</td>\n",
       "      <td>Police - AVU</td>\n",
       "      <td>Brighton Heights</td>\n",
       "      <td>1.0</td>\n",
       "      <td>27.0</td>\n",
       "      <td>4.200327e+10</td>\n",
       "      <td>1.0</td>\n",
       "      <td>27.0</td>\n",
       "      <td>1.0</td>\n",
       "      <td>1-14</td>\n",
       "      <td>-80.029944</td>\n",
       "      <td>40.486596</td>\n",
       "      <td>APPROXIMATE</td>\n",
       "    </tr>\n",
       "    <tr>\n",
       "      <th>184662.0</th>\n",
       "      <td>2017-09-05T13:49:00</td>\n",
       "      <td>Abandoned Vehicle (parked on street)</td>\n",
       "      <td>Call Center</td>\n",
       "      <td>0</td>\n",
       "      <td>Police - AVU</td>\n",
       "      <td>Marshall-Shadeland</td>\n",
       "      <td>1.0</td>\n",
       "      <td>27.0</td>\n",
       "      <td>4.200327e+10</td>\n",
       "      <td>1.0</td>\n",
       "      <td>27.0</td>\n",
       "      <td>1.0</td>\n",
       "      <td>1-14</td>\n",
       "      <td>-80.027634</td>\n",
       "      <td>40.470334</td>\n",
       "      <td>APPROXIMATE</td>\n",
       "    </tr>\n",
       "    <tr>\n",
       "      <th>167825.0</th>\n",
       "      <td>2017-07-06T15:26:00</td>\n",
       "      <td>Illegal Dumping</td>\n",
       "      <td>Control Panel</td>\n",
       "      <td>0</td>\n",
       "      <td>DOMI - Permits</td>\n",
       "      <td>East Allegheny</td>\n",
       "      <td>1.0</td>\n",
       "      <td>23.0</td>\n",
       "      <td>4.200356e+10</td>\n",
       "      <td>1.0</td>\n",
       "      <td>23.0</td>\n",
       "      <td>1.0</td>\n",
       "      <td>1-20</td>\n",
       "      <td>-79.997763</td>\n",
       "      <td>40.452695</td>\n",
       "      <td>APPROXIMATE</td>\n",
       "    </tr>\n",
       "    <tr>\n",
       "      <th>170189.0</th>\n",
       "      <td>2017-07-14T15:37:00</td>\n",
       "      <td>Mayor's Office</td>\n",
       "      <td>Call Center</td>\n",
       "      <td>0</td>\n",
       "      <td>311</td>\n",
       "      <td>Bloomfield</td>\n",
       "      <td>7.0</td>\n",
       "      <td>8.0</td>\n",
       "      <td>4.200308e+10</td>\n",
       "      <td>2.0</td>\n",
       "      <td>8.0</td>\n",
       "      <td>5.0</td>\n",
       "      <td>2-23</td>\n",
       "      <td>-79.948119</td>\n",
       "      <td>40.455066</td>\n",
       "      <td>APPROXIMATE</td>\n",
       "    </tr>\n",
       "    <tr>\n",
       "      <th>...</th>\n",
       "      <td>...</td>\n",
       "      <td>...</td>\n",
       "      <td>...</td>\n",
       "      <td>...</td>\n",
       "      <td>...</td>\n",
       "      <td>...</td>\n",
       "      <td>...</td>\n",
       "      <td>...</td>\n",
       "      <td>...</td>\n",
       "      <td>...</td>\n",
       "      <td>...</td>\n",
       "      <td>...</td>\n",
       "      <td>...</td>\n",
       "      <td>...</td>\n",
       "      <td>...</td>\n",
       "      <td>...</td>\n",
       "    </tr>\n",
       "    <tr>\n",
       "      <th>585668.0</th>\n",
       "      <td>2021-12-07T16:43:00</td>\n",
       "      <td>Misconduct/City Employee</td>\n",
       "      <td>Call Center</td>\n",
       "      <td>0</td>\n",
       "      <td>OMI</td>\n",
       "      <td>Brookline</td>\n",
       "      <td>4.0</td>\n",
       "      <td>32.0</td>\n",
       "      <td>4.200332e+10</td>\n",
       "      <td>5.0</td>\n",
       "      <td>32.0</td>\n",
       "      <td>6.0</td>\n",
       "      <td>4-25</td>\n",
       "      <td>-80.002462</td>\n",
       "      <td>40.398879</td>\n",
       "      <td>APPROXIMATE</td>\n",
       "    </tr>\n",
       "    <tr>\n",
       "      <th>585669.0</th>\n",
       "      <td>2021-12-07T16:54:00</td>\n",
       "      <td>City Facility</td>\n",
       "      <td>Call Center</td>\n",
       "      <td>0</td>\n",
       "      <td>DPW - Facilities</td>\n",
       "      <td>Brighton Heights</td>\n",
       "      <td>1.0</td>\n",
       "      <td>27.0</td>\n",
       "      <td>4.200327e+10</td>\n",
       "      <td>1.0</td>\n",
       "      <td>27.0</td>\n",
       "      <td>1.0</td>\n",
       "      <td>1-14</td>\n",
       "      <td>-80.035896</td>\n",
       "      <td>40.479149</td>\n",
       "      <td>EXACT</td>\n",
       "    </tr>\n",
       "    <tr>\n",
       "      <th>585671.0</th>\n",
       "      <td>2021-12-07T17:02:00</td>\n",
       "      <td>Weeds/Debris</td>\n",
       "      <td>Call Center</td>\n",
       "      <td>0</td>\n",
       "      <td>Permits, Licenses and Inspections</td>\n",
       "      <td>Swisshelm Park</td>\n",
       "      <td>5.0</td>\n",
       "      <td>14.0</td>\n",
       "      <td>4.200314e+10</td>\n",
       "      <td>3.0</td>\n",
       "      <td>14.0</td>\n",
       "      <td>4.0</td>\n",
       "      <td>2-19</td>\n",
       "      <td>-79.898695</td>\n",
       "      <td>40.420577</td>\n",
       "      <td>EXACT</td>\n",
       "    </tr>\n",
       "    <tr>\n",
       "      <th>585672.0</th>\n",
       "      <td>2021-12-07T17:04:00</td>\n",
       "      <td>Fence</td>\n",
       "      <td>Call Center</td>\n",
       "      <td>0</td>\n",
       "      <td>DOMI - Construction</td>\n",
       "      <td>Brookline</td>\n",
       "      <td>4.0</td>\n",
       "      <td>19.0</td>\n",
       "      <td>4.200319e+10</td>\n",
       "      <td>5.0</td>\n",
       "      <td>19.0</td>\n",
       "      <td>6.0</td>\n",
       "      <td>4-26</td>\n",
       "      <td>-80.026374</td>\n",
       "      <td>40.397909</td>\n",
       "      <td>EXACT</td>\n",
       "    </tr>\n",
       "    <tr>\n",
       "      <th>585673.0</th>\n",
       "      <td>2021-12-07T17:05:00</td>\n",
       "      <td>Abandoned Vehicle (parked on street)</td>\n",
       "      <td>Call Center</td>\n",
       "      <td>0</td>\n",
       "      <td>Police - AVU</td>\n",
       "      <td>East Hills</td>\n",
       "      <td>9.0</td>\n",
       "      <td>13.0</td>\n",
       "      <td>4.200313e+10</td>\n",
       "      <td>2.0</td>\n",
       "      <td>13.0</td>\n",
       "      <td>5.0</td>\n",
       "      <td>3-19</td>\n",
       "      <td>-79.871421</td>\n",
       "      <td>40.453169</td>\n",
       "      <td>APPROXIMATE</td>\n",
       "    </tr>\n",
       "  </tbody>\n",
       "</table>\n",
       "<p>31945 rows × 16 columns</p>\n",
       "</div>"
      ],
      "text/plain": [
       "                     CREATED_ON                          REQUEST_TYPE  \\\n",
       "REQUEST_ID                                                              \n",
       "179176.0    2017-08-14T14:00:00                   Neighborhood Issues   \n",
       "182748.0    2017-08-28T12:49:00  Abandoned Vehicle (parked on street)   \n",
       "184662.0    2017-09-05T13:49:00  Abandoned Vehicle (parked on street)   \n",
       "167825.0    2017-07-06T15:26:00                       Illegal Dumping   \n",
       "170189.0    2017-07-14T15:37:00                        Mayor's Office   \n",
       "...                         ...                                   ...   \n",
       "585668.0    2021-12-07T16:43:00              Misconduct/City Employee   \n",
       "585669.0    2021-12-07T16:54:00                         City Facility   \n",
       "585671.0    2021-12-07T17:02:00                          Weeds/Debris   \n",
       "585672.0    2021-12-07T17:04:00                                 Fence   \n",
       "585673.0    2021-12-07T17:05:00  Abandoned Vehicle (parked on street)   \n",
       "\n",
       "           REQUEST_ORIGIN  STATUS                         DEPARTMENT  \\\n",
       "REQUEST_ID                                                             \n",
       "179176.0    Control Panel       0                                NaN   \n",
       "182748.0    Control Panel       0                       Police - AVU   \n",
       "184662.0      Call Center       0                       Police - AVU   \n",
       "167825.0    Control Panel       0                     DOMI - Permits   \n",
       "170189.0      Call Center       0                                311   \n",
       "...                   ...     ...                                ...   \n",
       "585668.0      Call Center       0                                OMI   \n",
       "585669.0      Call Center       0                   DPW - Facilities   \n",
       "585671.0      Call Center       0  Permits, Licenses and Inspections   \n",
       "585672.0      Call Center       0                DOMI - Construction   \n",
       "585673.0      Call Center       0                       Police - AVU   \n",
       "\n",
       "                  NEIGHBORHOOD  COUNCIL_DISTRICT  WARD         TRACT  \\\n",
       "REQUEST_ID                                                             \n",
       "179176.0           Middle Hill               6.0   5.0  4.200305e+10   \n",
       "182748.0      Brighton Heights               1.0  27.0  4.200327e+10   \n",
       "184662.0    Marshall-Shadeland               1.0  27.0  4.200327e+10   \n",
       "167825.0        East Allegheny               1.0  23.0  4.200356e+10   \n",
       "170189.0            Bloomfield               7.0   8.0  4.200308e+10   \n",
       "...                        ...               ...   ...           ...   \n",
       "585668.0             Brookline               4.0  32.0  4.200332e+10   \n",
       "585669.0      Brighton Heights               1.0  27.0  4.200327e+10   \n",
       "585671.0        Swisshelm Park               5.0  14.0  4.200314e+10   \n",
       "585672.0             Brookline               4.0  19.0  4.200319e+10   \n",
       "585673.0            East Hills               9.0  13.0  4.200313e+10   \n",
       "\n",
       "            PUBLIC_WORKS_DIVISION  PLI_DIVISION  POLICE_ZONE FIRE_ZONE  \\\n",
       "REQUEST_ID                                                               \n",
       "179176.0                      3.0           5.0          2.0       2-1   \n",
       "182748.0                      1.0          27.0          1.0      1-14   \n",
       "184662.0                      1.0          27.0          1.0      1-14   \n",
       "167825.0                      1.0          23.0          1.0      1-20   \n",
       "170189.0                      2.0           8.0          5.0      2-23   \n",
       "...                           ...           ...          ...       ...   \n",
       "585668.0                      5.0          32.0          6.0      4-25   \n",
       "585669.0                      1.0          27.0          1.0      1-14   \n",
       "585671.0                      3.0          14.0          4.0      2-19   \n",
       "585672.0                      5.0          19.0          6.0      4-26   \n",
       "585673.0                      2.0          13.0          5.0      3-19   \n",
       "\n",
       "                    X          Y GEO_ACCURACY  \n",
       "REQUEST_ID                                     \n",
       "179176.0   -79.977726  40.446142  APPROXIMATE  \n",
       "182748.0   -80.029944  40.486596  APPROXIMATE  \n",
       "184662.0   -80.027634  40.470334  APPROXIMATE  \n",
       "167825.0   -79.997763  40.452695  APPROXIMATE  \n",
       "170189.0   -79.948119  40.455066  APPROXIMATE  \n",
       "...               ...        ...          ...  \n",
       "585668.0   -80.002462  40.398879  APPROXIMATE  \n",
       "585669.0   -80.035896  40.479149        EXACT  \n",
       "585671.0   -79.898695  40.420577        EXACT  \n",
       "585672.0   -80.026374  40.397909        EXACT  \n",
       "585673.0   -79.871421  40.453169  APPROXIMATE  \n",
       "\n",
       "[31945 rows x 16 columns]"
      ]
     },
     "execution_count": 15,
     "metadata": {},
     "output_type": "execute_result"
    }
   ],
   "source": [
    "filtered_pgh_311_data = pgh_311_data[pgh_311_data.STATUS == 0]\n",
    "filtered_pgh_311_data"
   ]
  },
  {
   "cell_type": "markdown",
   "metadata": {},
   "source": [
    "Then we will find the neighborhoods with the most requests as of recently"
   ]
  },
  {
   "cell_type": "code",
   "execution_count": 16,
   "metadata": {},
   "outputs": [
    {
     "data": {
      "text/plain": [
       "Carrick                      1290\n",
       "Brookline                    1205\n",
       "Squirrel Hill South           982\n",
       "Central Business District     859\n",
       "Mount Washington              833\n",
       "                             ... \n",
       "Ridgemont                      26\n",
       "Northview Heights              25\n",
       "Chartiers City                 17\n",
       "Mount Oliver Borough            3\n",
       "Arlington Heights               2\n",
       "Name: NEIGHBORHOOD, Length: 91, dtype: int64"
      ]
     },
     "execution_count": 16,
     "metadata": {},
     "output_type": "execute_result"
    }
   ],
   "source": [
    "requests = filtered_pgh_311_data['NEIGHBORHOOD'].value_counts().sort_values(ascending = False)\n",
    "requests"
   ]
  },
  {
   "cell_type": "markdown",
   "metadata": {},
   "source": [
    "# Plot all Neighborhoods and their Request Count"
   ]
  },
  {
   "cell_type": "code",
   "execution_count": 27,
   "metadata": {},
   "outputs": [
    {
     "data": {
      "text/plain": [
       "<matplotlib.axes._subplots.AxesSubplot at 0x7f3f769a0e80>"
      ]
     },
     "execution_count": 27,
     "metadata": {},
     "output_type": "execute_result"
    },
    {
     "data": {
      "image/png": "[encoded data removed]",
      "text/plain": [
       "<Figure size 432x288 with 1 Axes>"
      ]
     },
     "metadata": {
      "needs_background": "light"
     },
     "output_type": "display_data"
    }
   ],
   "source": [
    "requests.plot.bar()"
   ]
  },
  {
   "cell_type": "markdown",
   "metadata": {},
   "source": [
    "This graph is disorganized so now we will filter it out by looking at the greatest and least ten neighborhoods regarding 311 request counts"
   ]
  },
  {
   "cell_type": "markdown",
   "metadata": {},
   "source": [
    "# The 10 neighborhoods with the greatest number of calls"
   ]
  },
  {
   "cell_type": "code",
   "execution_count": 21,
   "metadata": {},
   "outputs": [
    {
     "data": {
      "text/plain": [
       "Text(0, 0.5, 'Number of Requests')"
      ]
     },
     "execution_count": 21,
     "metadata": {},
     "output_type": "execute_result"
    },
    {
     "data": {
      "image/png": "[encoded data removed]",
      "text/plain": [
       "<Figure size 432x288 with 1 Axes>"
      ]
     },
     "metadata": {
      "needs_background": "light"
     },
     "output_type": "display_data"
    }
   ],
   "source": [
    "requests.head(10).plot.bar()\n",
    "plt.title(\"Top 10 Neighborhoods with the Greatest Number of Calls\")\n",
    "plt.xlabel(\"Neighborhood\")\n",
    "plt.ylabel(\"Number of Requests\")"
   ]
  },
  {
   "cell_type": "markdown",
   "metadata": {},
   "source": [
    "# The 10 neighborhoods with the least number of calls"
   ]
  },
  {
   "cell_type": "code",
   "execution_count": 22,
   "metadata": {},
   "outputs": [
    {
     "data": {
      "text/plain": [
       "Text(0, 0.5, 'Number of Requests')"
      ]
     },
     "execution_count": 22,
     "metadata": {},
     "output_type": "execute_result"
    },
    {
     "data": {
      "image/png": "[encoded data removed]",
      "text/plain": [
       "<Figure size 432x288 with 1 Axes>"
      ]
     },
     "metadata": {
      "needs_background": "light"
     },
     "output_type": "display_data"
    }
   ],
   "source": [
    "requests.tail(10).plot.bar()\n",
    "plt.title(\"Top 10 Neighborhoods with the Least Number of Calls\")\n",
    "plt.xlabel(\"Neighborhood\")\n",
    "plt.ylabel(\"Number of Requests\")"
   ]
  },
  {
   "cell_type": "markdown",
   "metadata": {},
   "source": [
    "# Comparison"
   ]
  },
  {
   "cell_type": "markdown",
   "metadata": {},
   "source": [
    "Comparing the greatest and least 10 neighborhoods"
   ]
  },
  {
   "cell_type": "code",
   "execution_count": 25,
   "metadata": {},
   "outputs": [
    {
     "data": {
      "text/plain": [
       "Text(0, 0.5, 'Number of Requests')"
      ]
     },
     "execution_count": 25,
     "metadata": {},
     "output_type": "execute_result"
    },
    {
     "data": {
      "image/png": "[encoded data removed]",
      "text/plain": [
       "<Figure size 432x288 with 1 Axes>"
      ]
     },
     "metadata": {
      "needs_background": "light"
     },
     "output_type": "display_data"
    }
   ],
   "source": [
    "greatestandleast = requests.head(10).append(requests.tail(10))\n",
    "greatestandleast.plot.bar()\n",
    "plt.title(\"the greatest 10 and least 10 neighborhoods\")\n",
    "plt.xlabel(\"Neighborhood\")\n",
    "plt.ylabel(\"Number of Requests\")"
   ]
  },
  {
   "cell_type": "code",
   "execution_count": 26,
   "metadata": {},
   "outputs": [
    {
     "data": {
      "text/plain": [
       "2"
      ]
     },
     "execution_count": 26,
     "metadata": {},
     "output_type": "execute_result"
    }
   ],
   "source": [
    "query_mask = filtered_pgh_311_data['NEIGHBORHOOD'] == \"Arlington Heights\"\n",
    "arlingtonheights = filtered_pgh_311_data[query_mask]\n",
    "arlingtonheights[\"REQUEST_TYPE\"].count()"
   ]
  },
  {
   "cell_type": "markdown",
   "metadata": {},
   "source": [
    "This query mask is to emphasize that Arlington Heights had only two requests, the least amount out of all the neighborhoods in the dataset "
   ]
  },
  {
   "cell_type": "markdown",
   "metadata": {},
   "source": [
    "# Conclusion"
   ]
  },
  {
   "cell_type": "markdown",
   "metadata": {},
   "source": [
    "As shown in the plot above, Arlington Heights has the least amount of 311 calls throughout the Pittsburgh neighborhoods. This is considered the \"best\" neighborhood since \"best\" is in terms of safety. Since a low amount of 311 calls/reports = quiet and quiet = safe. Since our group decided to do a ranking system 1-5 to find the safest neighborhood overall, with 5 the being safest, my rankings are as follows:\n",
    "\n",
    "5: Arlington Heights\n",
    "4: Mount Oliver Borough\n",
    "3: Chartiers City\n",
    "2: Northview Heights\n",
    "1: Ridgemont"
   ]
  },
  {
   "cell_type": "code",
   "execution_count": null,
   "metadata": {},
   "outputs": [],
   "source": []
  }
 ],
 "metadata": {
  "kernelspec": {
   "display_name": "Python 3",
   "language": "python",
   "name": "python3"
  },
  "language_info": {
   "codemirror_mode": {
    "name": "ipython",
    "version": 3
   },
   "file_extension": ".py",
   "mimetype": "text/x-python",
   "name": "python",
   "nbconvert_exporter": "python",
   "pygments_lexer": "ipython3",
   "version": "3.8.3"
  }
 },
 "nbformat": 4,
 "nbformat_minor": 4
}
